{
 "cells": [
  {
   "cell_type": "markdown",
   "metadata": {},
   "source": [
    "![ieseg logo](./img/ieseg.png)\n",
    "\n",
    "#### MBD 2019-2020 - Stephanie Beyer Diaz\n",
    "# Statistical & Machine Learning Approaches for Marketing\n",
    "\n",
    "## Assignment 5, Session 6"
   ]
  },
  {
   "cell_type": "markdown",
   "metadata": {},
   "source": [
    "**1. Import all required libraries and datasets**"
   ]
  },
  {
   "cell_type": "code",
   "execution_count": 1,
   "metadata": {},
   "outputs": [
    {
     "name": "stderr",
     "output_type": "stream",
     "text": [
      "Warning message:\n",
      "\"package 'mlr' was built under R version 3.6.2\"Loading required package: ParamHelpers\n",
      "Warning message:\n",
      "\"package 'ParamHelpers' was built under R version 3.6.2\"'mlr' is in maintenance mode since July 2019. Future development\n",
      "efforts will go into its successor 'mlr3' (<https://mlr3.mlr-org.com>).\n",
      "Warning message:\n",
      "\"package 'caret' was built under R version 3.6.2\"Loading required package: lattice\n",
      "Warning message:\n",
      "\"package 'lattice' was built under R version 3.6.2\"Loading required package: ggplot2\n",
      "\n",
      "Attaching package: 'caret'\n",
      "\n",
      "The following object is masked from 'package:mlr':\n",
      "\n",
      "    train\n",
      "\n",
      "Warning message:\n",
      "\"package 'ISLR' was built under R version 3.6.2\"Warning message:\n",
      "\"package 'MASS' was built under R version 3.6.2\"Warning message:\n",
      "\"package 'e1071' was built under R version 3.6.2\"\n",
      "Attaching package: 'e1071'\n",
      "\n",
      "The following object is masked from 'package:mlr':\n",
      "\n",
      "    impute\n",
      "\n"
     ]
    }
   ],
   "source": [
    "# Set environment params\n",
    "Sys.setenv(LANG='en')  # English\n",
    "\n",
    "# Import libraries\n",
    "library(data.table)  # Data manipulate\n",
    "library(mlr)         # ML toolkit\n",
    "library(caret)       # ML toolkit\n",
    "library(ggplot2)     # Visualization\n",
    "\n",
    "# Import data\n",
    "library(ISLR)      # Data from the course book\n",
    "library(MASS)      # Boston housing dataset\n",
    "library(datasets)  # US crime dataset\n",
    "\n",
    "# Resize plot\n",
    "library(repr)  # String and binary representations\n",
    "#options(repr.plot.width=4, repr.plot.height=4)\n",
    "\n",
    "library(e1071)"
   ]
  },
  {
   "cell_type": "markdown",
   "metadata": {},
   "source": [
    "**Exercise 3 (p.414, Chap.10)**<br><br>\n",
    "*In this problem, you will perform K-means clustering manually, with\n",
    "K = 2, on a small example with n = 6 observations and p = 2\n",
    "features.*<br><br>\n",
    "*(a) Plot the observations.*"
   ]
  },
  {
   "cell_type": "code",
   "execution_count": 21,
   "metadata": {},
   "outputs": [
    {
     "data": {
      "image/png": "[encoded data removed]",
      "text/plain": [
       "plot without title"
      ]
     },
     "metadata": {},
     "output_type": "display_data"
    }
   ],
   "source": [
    "X1 <- c(1,1,0,5,6,4)\n",
    "X2 <- c(4,3,4,1,2,0)\n",
    "\n",
    "plot(X1, X2, pch=16, col='blue')"
   ]
  },
  {
   "cell_type": "markdown",
   "metadata": {},
   "source": [
    "*(b) Randomly assign a cluster label to each observation. You can\n",
    "use the sample() command in R to do this. Report the cluster\n",
    "labels for each observation.*"
   ]
  },
  {
   "cell_type": "code",
   "execution_count": 35,
   "metadata": {},
   "outputs": [
    {
     "data": {
      "text/html": [
       "<ol class=list-inline>\n",
       "\t<li>2</li>\n",
       "\t<li>1</li>\n",
       "\t<li>1</li>\n",
       "\t<li>2</li>\n",
       "\t<li>1</li>\n",
       "\t<li>2</li>\n",
       "</ol>\n"
      ],
      "text/latex": [
       "\\begin{enumerate*}\n",
       "\\item 2\n",
       "\\item 1\n",
       "\\item 1\n",
       "\\item 2\n",
       "\\item 1\n",
       "\\item 2\n",
       "\\end{enumerate*}\n"
      ],
      "text/markdown": [
       "1. 2\n",
       "2. 1\n",
       "3. 1\n",
       "4. 2\n",
       "5. 1\n",
       "6. 2\n",
       "\n",
       "\n"
      ],
      "text/plain": [
       "[1] 2 1 1 2 1 2"
      ]
     },
     "metadata": {},
     "output_type": "display_data"
    },
    {
     "data": {
      "image/png": "[encoded data removed]",
      "text/plain": [
       "plot without title"
      ]
     },
     "metadata": {},
     "output_type": "display_data"
    }
   ],
   "source": [
    "set.seed(7)\n",
    "labels <- sample(2, length(X1), replace = T)\n",
    "labels\n",
    "\n",
    "plot(X1, X2, col = (labels), pch = 16)\n",
    "\n",
    "#Cluster 1 (X1, X2): (1, 4), (4, 0), (5, 1) #red\n",
    "#Cluster 2 (X1, X2): (0, 4), (1, 3), (6, 2) #black"
   ]
  },
  {
   "cell_type": "markdown",
   "metadata": {},
   "source": [
    "*(c) Compute the centroid for each cluster.*"
   ]
  },
  {
   "cell_type": "code",
   "execution_count": 54,
   "metadata": {},
   "outputs": [
    {
     "data": {
      "image/png": "[encoded data removed]",
      "text/plain": [
       "plot without title"
      ]
     },
     "metadata": {},
     "output_type": "display_data"
    }
   ],
   "source": [
    "centroid1 <- c(mean(X1[labels == 1]), mean(X2[labels == 1]))\n",
    "centroid2 <- c(mean(X1[labels == 2]), mean(X2[labels == 2]))\n",
    "\n",
    "plot(X1, X2, col=(labels), pch = 16)\n",
    "points(centroid1[1], centroid1[2], col = 1, pch = 'C')\n",
    "points(centroid2[1], centroid2[2], col = 2, pch = 'C')"
   ]
  },
  {
   "cell_type": "markdown",
   "metadata": {},
   "source": [
    "*(d) Assign each observation to the centroid to which it is closest, in\n",
    "terms of Euclidean distance. Report the cluster labels for each\n",
    "observation.*"
   ]
  },
  {
   "cell_type": "code",
   "execution_count": 77,
   "metadata": {},
   "outputs": [
    {
     "data": {
      "image/png": "[encoded data removed]",
      "text/plain": [
       "plot without title"
      ]
     },
     "metadata": {},
     "output_type": "display_data"
    }
   ],
   "source": [
    "# defining euclidean distance as a function\n",
    "eucdist <- function(X, C){sqrt((X[1] - C[1])^2 + (X[2] - C[2])^2)}\n",
    "\n",
    "# initiating empty list to append cluster labels\n",
    "labels <- c()\n",
    "\n",
    "# loop to label according to smallest euclidean distance to centroids 1 and 2\n",
    "for (i in 1:length(X1)){\n",
    "    X <- cbind(X1[i], X2[i])\n",
    "    if (eucdist(X,centroid1) < eucdist(X,centroid2)){\n",
    "        labels <- rbind(labels,1)\n",
    "    } else{\n",
    "        labels <- rbind(labels,2)\n",
    "    }\n",
    "}\n",
    "\n",
    "plot(X1, X2, col = (labels), pch = 16)\n",
    "points(centroid1[1], centroid1[2], col = 1, pch = 'C')\n",
    "points(centroid2[1], centroid2[2], col = 2, pch = 'C')"
   ]
  },
  {
   "cell_type": "markdown",
   "metadata": {},
   "source": [
    "*(e) Repeat (c) and (d) until the answers obtained stop changing.*"
   ]
  },
  {
   "cell_type": "code",
   "execution_count": null,
   "metadata": {},
   "outputs": [],
   "source": []
  },
  {
   "cell_type": "markdown",
   "metadata": {},
   "source": [
    "*(f) In your plot from (a), color the observations according to the\n",
    "cluster labels obtained.*"
   ]
  },
  {
   "cell_type": "code",
   "execution_count": null,
   "metadata": {},
   "outputs": [],
   "source": []
  },
  {
   "cell_type": "markdown",
   "metadata": {},
   "source": [
    "**Exercise 8 (p.416, Chap.10)**<br><br>\n",
    "*In Section 10.2.3, a formula for calculating PVE was given in Equation\n",
    "10.8. We also saw that the PVE can be obtained using the sdev\n",
    "output of the prcomp() function.\n",
    "On the USArrests data, calculate PVE in two ways:<br><br>\n",
    "(a) Using the sdev output of the prcomp() function, as was done in\n",
    "Section 10.2.3.*"
   ]
  },
  {
   "cell_type": "code",
   "execution_count": null,
   "metadata": {},
   "outputs": [],
   "source": []
  },
  {
   "cell_type": "markdown",
   "metadata": {},
   "source": [
    "*(b) By applying Equation 10.8 directly. That is, use the prcomp()\n",
    "function to compute the principal component loadings. Then,\n",
    "use those loadings in Equation 10.8 to obtain the PVE.\n",
    "These two approaches should give the same results.*<br><br>\n",
    "*Hint: You will only obtain the same results in (a) and (b) if the same\n",
    "data is used in both cases. For instance, if in (a) you performed\n",
    "prcomp() using centered and scaled variables, then you must center\n",
    "and scale the variables before applying Equation 10.3 in (b).*"
   ]
  },
  {
   "cell_type": "code",
   "execution_count": null,
   "metadata": {},
   "outputs": [],
   "source": []
  },
  {
   "cell_type": "markdown",
   "metadata": {},
   "source": [
    "**Exercise 9 (p.416, Chap.10)**<br><br>\n",
    "*Consider the USArrests data. We will now perform hierarchical clustering\n",
    "on the states.*<br><br>\n",
    "*(a) Using hierarchical clustering with complete linkage and\n",
    "Euclidean distance, cluster the states.*"
   ]
  },
  {
   "cell_type": "code",
   "execution_count": null,
   "metadata": {},
   "outputs": [],
   "source": []
  },
  {
   "cell_type": "markdown",
   "metadata": {},
   "source": [
    "*(b) Cut the dendrogram at a height that results in three distinct\n",
    "clusters. Which states belong to which clusters?*"
   ]
  },
  {
   "cell_type": "code",
   "execution_count": null,
   "metadata": {},
   "outputs": [],
   "source": []
  },
  {
   "cell_type": "markdown",
   "metadata": {},
   "source": [
    "*(c) Hierarchically cluster the states using complete linkage and Euclidean\n",
    "distance, after scaling the variables to have standard deviation\n",
    "one.*"
   ]
  },
  {
   "cell_type": "code",
   "execution_count": null,
   "metadata": {},
   "outputs": [],
   "source": []
  },
  {
   "cell_type": "markdown",
   "metadata": {},
   "source": [
    "*(d) What effect does scaling the variables have on the hierarchical\n",
    "clustering obtained? In your opinion, should the variables be\n",
    "scaled before the inter-observation dissimilarities are computed?\n",
    "Provide a justification for your answer.*"
   ]
  },
  {
   "cell_type": "code",
   "execution_count": null,
   "metadata": {},
   "outputs": [],
   "source": []
  },
  {
   "cell_type": "markdown",
   "metadata": {},
   "source": [
    "**Exercise 10 (p.417, Chap.10)**<br><br>\n",
    "*In this problem, you will generate simulated data, and then perform\n",
    "PCA and K-means clustering on the data.<br><br>\n",
    "(a) Generate a simulated data set with 20 observations in each of\n",
    "three classes (i.e. 60 observations total), and 50 variables.<br><br>\n",
    "Hint: There are a number of functions in R that you can use to\n",
    "generate data. One example is the rnorm() function; runif() is\n",
    "another option. Be sure to add a mean shift to the observations\n",
    "in each class so that there are three distinct classes.*"
   ]
  },
  {
   "cell_type": "code",
   "execution_count": null,
   "metadata": {},
   "outputs": [],
   "source": []
  },
  {
   "cell_type": "markdown",
   "metadata": {},
   "source": [
    "*(b) Perform PCA on the 60 observations and plot the first two principal\n",
    "component score vectors. Use a different color to indicate\n",
    "the observations in each of the three classes. If the three classes\n",
    "appear separated in this plot, then continue on to part (c). If\n",
    "not, then return to part (a) and modify the simulation so that\n",
    "there is greater separation between the three classes. Do not\n",
    "continue to part (c) until the three classes show at least some\n",
    "separation in the first two principal component score vectors.*"
   ]
  },
  {
   "cell_type": "code",
   "execution_count": null,
   "metadata": {},
   "outputs": [],
   "source": []
  },
  {
   "cell_type": "markdown",
   "metadata": {},
   "source": [
    "*(c) Perform K-means clustering of the observations with K = 3.\n",
    "How well do the clusters that you obtained in K-means clustering\n",
    "compare to the true class labels?<br><br>\n",
    "Hint: You can use the table() function in R to compare the true\n",
    "class labels to the class labels obtained by clustering. Be careful\n",
    "how you interpret the results: K-means clustering will arbitrarily\n",
    "number the clusters, so you cannot simply check whether the true\n",
    "class labels and clustering labels are the same.*"
   ]
  },
  {
   "cell_type": "code",
   "execution_count": null,
   "metadata": {},
   "outputs": [],
   "source": []
  },
  {
   "cell_type": "markdown",
   "metadata": {},
   "source": [
    "*(d) Perform K-means clustering with K = 2. Describe your results.*"
   ]
  },
  {
   "cell_type": "code",
   "execution_count": null,
   "metadata": {},
   "outputs": [],
   "source": []
  },
  {
   "cell_type": "markdown",
   "metadata": {},
   "source": [
    "*(e) Now perform K-means clustering with K = 4, and describe your\n",
    "results.*"
   ]
  },
  {
   "cell_type": "code",
   "execution_count": null,
   "metadata": {},
   "outputs": [],
   "source": []
  },
  {
   "cell_type": "markdown",
   "metadata": {},
   "source": [
    "*(f) Now perform K-means clustering with K = 3 on the first two\n",
    "principal component score vectors, rather than on the raw data.\n",
    "That is, perform K-means clustering on the 60 × 2 matrix of\n",
    "which the first column is the first principal component score\n",
    "vector, and the second column is the second principal component\n",
    "score vector. Comment on the results.*"
   ]
  },
  {
   "cell_type": "code",
   "execution_count": null,
   "metadata": {},
   "outputs": [],
   "source": []
  },
  {
   "cell_type": "markdown",
   "metadata": {},
   "source": [
    "*(g) Using the scale() function, perform K-means clustering with\n",
    "K = 3 on the data after scaling each variable to have standard\n",
    "deviation one. How do these results compare to those obtained\n",
    "in (b)? Explain.*"
   ]
  },
  {
   "cell_type": "code",
   "execution_count": null,
   "metadata": {},
   "outputs": [],
   "source": []
  }
 ],
 "metadata": {
  "kernelspec": {
   "display_name": "R",
   "language": "R",
   "name": "ir"
  },
  "language_info": {
   "codemirror_mode": "r",
   "file_extension": ".r",
   "mimetype": "text/x-r-source",
   "name": "R",
   "pygments_lexer": "r",
   "version": "3.6.1"
  }
 },
 "nbformat": 4,
 "nbformat_minor": 2
}
