{
 "cells": [
  {
   "cell_type": "markdown",
   "metadata": {},
   "source": [
    "![ieseg logo](./img/ieseg.png)\n",
    "\n",
    "#### MBD 2019-2020 - Stephanie Beyer Diaz\n",
    "# Statistical & Machine Learning Approaches for Marketing\n",
    "\n",
    "## Homework 2\n",
    "\n",
    "### Chapter 4"
   ]
  },
  {
   "cell_type": "code",
   "execution_count": 3,
   "metadata": {},
   "outputs": [],
   "source": [
    "library(ISLR)\n",
    "library(class)"
   ]
  },
  {
   "cell_type": "code",
   "execution_count": 4,
   "metadata": {},
   "outputs": [
    {
     "data": {
      "text/html": [
       "'Probability: 37.75 %'"
      ],
      "text/latex": [
       "'Probability: 37.75 \\%'"
      ],
      "text/markdown": [
       "'Probability: 37.75 %'"
      ],
      "text/plain": [
       "[1] \"Probability: 37.75 %\""
      ]
     },
     "metadata": {},
     "output_type": "display_data"
    },
    {
     "data": {
      "text/html": [
       "'120 hours'"
      ],
      "text/latex": [
       "'120 hours'"
      ],
      "text/markdown": [
       "'120 hours'"
      ],
      "text/plain": [
       "[1] \"120 hours\""
      ]
     },
     "metadata": {},
     "output_type": "display_data"
    }
   ],
   "source": [
    "#Exercise 6 (p. 170, Chap. 4)\n",
    "B0 <- -6\n",
    "B1 <- 0.05\n",
    "B2 <- 1\n",
    "\n",
    "#a.\n",
    "hours <- 40\n",
    "GPA <- 3.5\n",
    "\n",
    "odds <- exp(B0 + B1*hours + B2*GPA)\n",
    "Pr_y <- odds/(1+odds)\n",
    "paste(\"Probability:\",round(Pr_y*100,2),\"%\")\n",
    "\n",
    "\n",
    "#b.\n",
    "Pr_y <- 0.5\n",
    "hours <- log(Pr_y/(1 - Pr_y))\n",
    "hours <- (hours - B0)/B1\n",
    "paste(hours, \"hours\")"
   ]
  },
  {
   "cell_type": "code",
   "execution_count": 5,
   "metadata": {},
   "outputs": [],
   "source": [
    "#Exercise 8 (p. 170, Chap. 4)\n",
    "\n",
    "# Logistic Regression: 20% train set error rate, 30% test set error rate\n",
    "# KNN (k=1): average of 18% error rate\n",
    "\n",
    "#For KNN with K=1, the training error rate is 0% because its nearest neighbor will be the response itself. \n",
    "#This means KNN has a test error rate of 36%, so logistic regression has a lower test error rate of 30% and is chosen."
   ]
  },
  {
   "cell_type": "code",
   "execution_count": 6,
   "metadata": {},
   "outputs": [
    {
     "data": {
      "text/html": [
       "'27% of people will default on credit card payment'"
      ],
      "text/latex": [
       "'27\\% of people will default on credit card payment'"
      ],
      "text/markdown": [
       "'27% of people will default on credit card payment'"
      ],
      "text/plain": [
       "[1] \"27% of people will default on credit card payment\""
      ]
     },
     "metadata": {},
     "output_type": "display_data"
    },
    {
     "data": {
      "text/html": [
       "'Odds that she will default are of 19%'"
      ],
      "text/latex": [
       "'Odds that she will default are of 19\\%'"
      ],
      "text/markdown": [
       "'Odds that she will default are of 19%'"
      ],
      "text/plain": [
       "[1] \"Odds that she will default are of 19%\""
      ]
     },
     "metadata": {},
     "output_type": "display_data"
    }
   ],
   "source": [
    "#Exercise 9 (p. 170, Chap. 4)\n",
    "\n",
    "#a.\n",
    "odds = 0.37\n",
    "pr = odds/(1+odds)\n",
    "paste0(round(pr*100),\"% of people will default on credit card payment\")\n",
    "\n",
    "#b. \n",
    "pr = 0.16\n",
    "odds = pr/(1 - pr)\n",
    "paste0(\"Odds that she will default are of \",round(odds*100),\"%\")"
   ]
  },
  {
   "cell_type": "code",
   "execution_count": 7,
   "metadata": {},
   "outputs": [
    {
     "data": {
      "text/html": [
       "<table>\n",
       "<thead><tr><th scope=col>Year</th><th scope=col>Lag1</th><th scope=col>Lag2</th><th scope=col>Lag3</th><th scope=col>Lag4</th><th scope=col>Lag5</th><th scope=col>Volume</th><th scope=col>Today</th><th scope=col>Direction</th></tr></thead>\n",
       "<tbody>\n",
       "\t<tr><td>1990     </td><td> 0.816   </td><td> 1.572   </td><td>-3.936   </td><td>-0.229   </td><td>-3.484   </td><td>0.1549760</td><td>-0.270   </td><td>Down     </td></tr>\n",
       "\t<tr><td>1990     </td><td>-0.270   </td><td> 0.816   </td><td> 1.572   </td><td>-3.936   </td><td>-0.229   </td><td>0.1485740</td><td>-2.576   </td><td>Down     </td></tr>\n",
       "\t<tr><td>1990     </td><td>-2.576   </td><td>-0.270   </td><td> 0.816   </td><td> 1.572   </td><td>-3.936   </td><td>0.1598375</td><td> 3.514   </td><td>Up       </td></tr>\n",
       "\t<tr><td>1990     </td><td> 3.514   </td><td>-2.576   </td><td>-0.270   </td><td> 0.816   </td><td> 1.572   </td><td>0.1616300</td><td> 0.712   </td><td>Up       </td></tr>\n",
       "\t<tr><td>1990     </td><td> 0.712   </td><td> 3.514   </td><td>-2.576   </td><td>-0.270   </td><td> 0.816   </td><td>0.1537280</td><td> 1.178   </td><td>Up       </td></tr>\n",
       "\t<tr><td>1990     </td><td> 1.178   </td><td> 0.712   </td><td> 3.514   </td><td>-2.576   </td><td>-0.270   </td><td>0.1544440</td><td>-1.372   </td><td>Down     </td></tr>\n",
       "</tbody>\n",
       "</table>\n"
      ],
      "text/latex": [
       "\\begin{tabular}{r|lllllllll}\n",
       " Year & Lag1 & Lag2 & Lag3 & Lag4 & Lag5 & Volume & Today & Direction\\\\\n",
       "\\hline\n",
       "\t 1990      &  0.816    &  1.572    & -3.936    & -0.229    & -3.484    & 0.1549760 & -0.270    & Down     \\\\\n",
       "\t 1990      & -0.270    &  0.816    &  1.572    & -3.936    & -0.229    & 0.1485740 & -2.576    & Down     \\\\\n",
       "\t 1990      & -2.576    & -0.270    &  0.816    &  1.572    & -3.936    & 0.1598375 &  3.514    & Up       \\\\\n",
       "\t 1990      &  3.514    & -2.576    & -0.270    &  0.816    &  1.572    & 0.1616300 &  0.712    & Up       \\\\\n",
       "\t 1990      &  0.712    &  3.514    & -2.576    & -0.270    &  0.816    & 0.1537280 &  1.178    & Up       \\\\\n",
       "\t 1990      &  1.178    &  0.712    &  3.514    & -2.576    & -0.270    & 0.1544440 & -1.372    & Down     \\\\\n",
       "\\end{tabular}\n"
      ],
      "text/markdown": [
       "\n",
       "| Year | Lag1 | Lag2 | Lag3 | Lag4 | Lag5 | Volume | Today | Direction |\n",
       "|---|---|---|---|---|---|---|---|---|\n",
       "| 1990      |  0.816    |  1.572    | -3.936    | -0.229    | -3.484    | 0.1549760 | -0.270    | Down      |\n",
       "| 1990      | -0.270    |  0.816    |  1.572    | -3.936    | -0.229    | 0.1485740 | -2.576    | Down      |\n",
       "| 1990      | -2.576    | -0.270    |  0.816    |  1.572    | -3.936    | 0.1598375 |  3.514    | Up        |\n",
       "| 1990      |  3.514    | -2.576    | -0.270    |  0.816    |  1.572    | 0.1616300 |  0.712    | Up        |\n",
       "| 1990      |  0.712    |  3.514    | -2.576    | -0.270    |  0.816    | 0.1537280 |  1.178    | Up        |\n",
       "| 1990      |  1.178    |  0.712    |  3.514    | -2.576    | -0.270    | 0.1544440 | -1.372    | Down      |\n",
       "\n"
      ],
      "text/plain": [
       "  Year Lag1   Lag2   Lag3   Lag4   Lag5   Volume    Today  Direction\n",
       "1 1990  0.816  1.572 -3.936 -0.229 -3.484 0.1549760 -0.270 Down     \n",
       "2 1990 -0.270  0.816  1.572 -3.936 -0.229 0.1485740 -2.576 Down     \n",
       "3 1990 -2.576 -0.270  0.816  1.572 -3.936 0.1598375  3.514 Up       \n",
       "4 1990  3.514 -2.576 -0.270  0.816  1.572 0.1616300  0.712 Up       \n",
       "5 1990  0.712  3.514 -2.576 -0.270  0.816 0.1537280  1.178 Up       \n",
       "6 1990  1.178  0.712  3.514 -2.576 -0.270 0.1544440 -1.372 Down     "
      ]
     },
     "metadata": {},
     "output_type": "display_data"
    }
   ],
   "source": [
    "#Exercise 10 (p. 171, Chap. 4) \n",
    "weekly <- ISLR::Weekly\n",
    "head(weekly)"
   ]
  },
  {
   "cell_type": "code",
   "execution_count": 8,
   "metadata": {},
   "outputs": [
    {
     "data": {
      "text/plain": [
       "      Year           Lag1               Lag2               Lag3         \n",
       " Min.   :1990   Min.   :-18.1950   Min.   :-18.1950   Min.   :-18.1950  \n",
       " 1st Qu.:1995   1st Qu.: -1.1540   1st Qu.: -1.1540   1st Qu.: -1.1580  \n",
       " Median :2000   Median :  0.2410   Median :  0.2410   Median :  0.2410  \n",
       " Mean   :2000   Mean   :  0.1506   Mean   :  0.1511   Mean   :  0.1472  \n",
       " 3rd Qu.:2005   3rd Qu.:  1.4050   3rd Qu.:  1.4090   3rd Qu.:  1.4090  \n",
       " Max.   :2010   Max.   : 12.0260   Max.   : 12.0260   Max.   : 12.0260  \n",
       "      Lag4               Lag5              Volume            Today         \n",
       " Min.   :-18.1950   Min.   :-18.1950   Min.   :0.08747   Min.   :-18.1950  \n",
       " 1st Qu.: -1.1580   1st Qu.: -1.1660   1st Qu.:0.33202   1st Qu.: -1.1540  \n",
       " Median :  0.2380   Median :  0.2340   Median :1.00268   Median :  0.2410  \n",
       " Mean   :  0.1458   Mean   :  0.1399   Mean   :1.57462   Mean   :  0.1499  \n",
       " 3rd Qu.:  1.4090   3rd Qu.:  1.4050   3rd Qu.:2.05373   3rd Qu.:  1.4050  \n",
       " Max.   : 12.0260   Max.   : 12.0260   Max.   :9.32821   Max.   : 12.0260  \n",
       " Direction \n",
       " Down:484  \n",
       " Up  :605  \n",
       "           \n",
       "           \n",
       "           \n",
       "           "
      ]
     },
     "metadata": {},
     "output_type": "display_data"
    },
    {
     "data": {
      "image/png": "[encoded data removed]",
      "text/plain": [
       "plot without title"
      ]
     },
     "metadata": {},
     "output_type": "display_data"
    }
   ],
   "source": [
    "#a. There is a clear pattern between Year and Volume, with Volume increasing in time\n",
    "summary(weekly)\n",
    "pairs(weekly)"
   ]
  },
  {
   "cell_type": "code",
   "execution_count": 9,
   "metadata": {},
   "outputs": [
    {
     "data": {
      "text/html": [
       "<table>\n",
       "<thead><tr><th></th><th scope=col>Year</th><th scope=col>Lag1</th><th scope=col>Lag2</th><th scope=col>Lag3</th><th scope=col>Lag4</th><th scope=col>Lag5</th><th scope=col>Volume</th><th scope=col>Today</th><th scope=col>Direction</th></tr></thead>\n",
       "<tbody>\n",
       "\t<tr><th scope=row>Year</th><td> 1.00000000 </td><td>-0.032289274</td><td>-0.03339001 </td><td>-0.03000649 </td><td>-0.031127923</td><td>-0.030519101</td><td> 0.84194162 </td><td>-0.032459894</td><td>-0.02220025 </td></tr>\n",
       "\t<tr><th scope=row>Lag1</th><td>-0.03228927 </td><td> 1.000000000</td><td>-0.07485305 </td><td> 0.05863568 </td><td>-0.071273876</td><td>-0.008183096</td><td>-0.06495131 </td><td>-0.075031842</td><td>-0.05000380 </td></tr>\n",
       "\t<tr><th scope=row>Lag2</th><td>-0.03339001 </td><td>-0.074853051</td><td> 1.00000000 </td><td>-0.07572091 </td><td> 0.058381535</td><td>-0.072499482</td><td>-0.08551314 </td><td> 0.059166717</td><td> 0.07269634 </td></tr>\n",
       "\t<tr><th scope=row>Lag3</th><td>-0.03000649 </td><td> 0.058635682</td><td>-0.07572091 </td><td> 1.00000000 </td><td>-0.075395865</td><td> 0.060657175</td><td>-0.06928771 </td><td>-0.071243639</td><td>-0.02291281 </td></tr>\n",
       "\t<tr><th scope=row>Lag4</th><td>-0.03112792 </td><td>-0.071273876</td><td> 0.05838153 </td><td>-0.07539587 </td><td> 1.000000000</td><td>-0.075675027</td><td>-0.06107462 </td><td>-0.007825873</td><td>-0.02054946 </td></tr>\n",
       "\t<tr><th scope=row>Lag5</th><td>-0.03051910 </td><td>-0.008183096</td><td>-0.07249948 </td><td> 0.06065717 </td><td>-0.075675027</td><td> 1.000000000</td><td>-0.05851741 </td><td> 0.011012698</td><td>-0.01816827 </td></tr>\n",
       "\t<tr><th scope=row>Volume</th><td> 0.84194162 </td><td>-0.064951313</td><td>-0.08551314 </td><td>-0.06928771 </td><td>-0.061074617</td><td>-0.058517414</td><td> 1.00000000 </td><td>-0.033077783</td><td>-0.01799521 </td></tr>\n",
       "\t<tr><th scope=row>Today</th><td>-0.03245989 </td><td>-0.075031842</td><td> 0.05916672 </td><td>-0.07124364 </td><td>-0.007825873</td><td> 0.011012698</td><td>-0.03307778 </td><td> 1.000000000</td><td> 0.72002470 </td></tr>\n",
       "\t<tr><th scope=row>Direction</th><td>-0.02220025 </td><td>-0.050003804</td><td> 0.07269634 </td><td>-0.02291281 </td><td>-0.020549456</td><td>-0.018168272</td><td>-0.01799521 </td><td> 0.720024704</td><td> 1.00000000 </td></tr>\n",
       "</tbody>\n",
       "</table>\n"
      ],
      "text/latex": [
       "\\begin{tabular}{r|lllllllll}\n",
       "  & Year & Lag1 & Lag2 & Lag3 & Lag4 & Lag5 & Volume & Today & Direction\\\\\n",
       "\\hline\n",
       "\tYear &  1.00000000  & -0.032289274 & -0.03339001  & -0.03000649  & -0.031127923 & -0.030519101 &  0.84194162  & -0.032459894 & -0.02220025 \\\\\n",
       "\tLag1 & -0.03228927  &  1.000000000 & -0.07485305  &  0.05863568  & -0.071273876 & -0.008183096 & -0.06495131  & -0.075031842 & -0.05000380 \\\\\n",
       "\tLag2 & -0.03339001  & -0.074853051 &  1.00000000  & -0.07572091  &  0.058381535 & -0.072499482 & -0.08551314  &  0.059166717 &  0.07269634 \\\\\n",
       "\tLag3 & -0.03000649  &  0.058635682 & -0.07572091  &  1.00000000  & -0.075395865 &  0.060657175 & -0.06928771  & -0.071243639 & -0.02291281 \\\\\n",
       "\tLag4 & -0.03112792  & -0.071273876 &  0.05838153  & -0.07539587  &  1.000000000 & -0.075675027 & -0.06107462  & -0.007825873 & -0.02054946 \\\\\n",
       "\tLag5 & -0.03051910  & -0.008183096 & -0.07249948  &  0.06065717  & -0.075675027 &  1.000000000 & -0.05851741  &  0.011012698 & -0.01816827 \\\\\n",
       "\tVolume &  0.84194162  & -0.064951313 & -0.08551314  & -0.06928771  & -0.061074617 & -0.058517414 &  1.00000000  & -0.033077783 & -0.01799521 \\\\\n",
       "\tToday & -0.03245989  & -0.075031842 &  0.05916672  & -0.07124364  & -0.007825873 &  0.011012698 & -0.03307778  &  1.000000000 &  0.72002470 \\\\\n",
       "\tDirection & -0.02220025  & -0.050003804 &  0.07269634  & -0.02291281  & -0.020549456 & -0.018168272 & -0.01799521  &  0.720024704 &  1.00000000 \\\\\n",
       "\\end{tabular}\n"
      ],
      "text/markdown": [
       "\n",
       "| <!--/--> | Year | Lag1 | Lag2 | Lag3 | Lag4 | Lag5 | Volume | Today | Direction |\n",
       "|---|---|---|---|---|---|---|---|---|---|\n",
       "| Year |  1.00000000  | -0.032289274 | -0.03339001  | -0.03000649  | -0.031127923 | -0.030519101 |  0.84194162  | -0.032459894 | -0.02220025  |\n",
       "| Lag1 | -0.03228927  |  1.000000000 | -0.07485305  |  0.05863568  | -0.071273876 | -0.008183096 | -0.06495131  | -0.075031842 | -0.05000380  |\n",
       "| Lag2 | -0.03339001  | -0.074853051 |  1.00000000  | -0.07572091  |  0.058381535 | -0.072499482 | -0.08551314  |  0.059166717 |  0.07269634  |\n",
       "| Lag3 | -0.03000649  |  0.058635682 | -0.07572091  |  1.00000000  | -0.075395865 |  0.060657175 | -0.06928771  | -0.071243639 | -0.02291281  |\n",
       "| Lag4 | -0.03112792  | -0.071273876 |  0.05838153  | -0.07539587  |  1.000000000 | -0.075675027 | -0.06107462  | -0.007825873 | -0.02054946  |\n",
       "| Lag5 | -0.03051910  | -0.008183096 | -0.07249948  |  0.06065717  | -0.075675027 |  1.000000000 | -0.05851741  |  0.011012698 | -0.01816827  |\n",
       "| Volume |  0.84194162  | -0.064951313 | -0.08551314  | -0.06928771  | -0.061074617 | -0.058517414 |  1.00000000  | -0.033077783 | -0.01799521  |\n",
       "| Today | -0.03245989  | -0.075031842 |  0.05916672  | -0.07124364  | -0.007825873 |  0.011012698 | -0.03307778  |  1.000000000 |  0.72002470  |\n",
       "| Direction | -0.02220025  | -0.050003804 |  0.07269634  | -0.02291281  | -0.020549456 | -0.018168272 | -0.01799521  |  0.720024704 |  1.00000000  |\n",
       "\n"
      ],
      "text/plain": [
       "          Year        Lag1         Lag2        Lag3        Lag4        \n",
       "Year       1.00000000 -0.032289274 -0.03339001 -0.03000649 -0.031127923\n",
       "Lag1      -0.03228927  1.000000000 -0.07485305  0.05863568 -0.071273876\n",
       "Lag2      -0.03339001 -0.074853051  1.00000000 -0.07572091  0.058381535\n",
       "Lag3      -0.03000649  0.058635682 -0.07572091  1.00000000 -0.075395865\n",
       "Lag4      -0.03112792 -0.071273876  0.05838153 -0.07539587  1.000000000\n",
       "Lag5      -0.03051910 -0.008183096 -0.07249948  0.06065717 -0.075675027\n",
       "Volume     0.84194162 -0.064951313 -0.08551314 -0.06928771 -0.061074617\n",
       "Today     -0.03245989 -0.075031842  0.05916672 -0.07124364 -0.007825873\n",
       "Direction -0.02220025 -0.050003804  0.07269634 -0.02291281 -0.020549456\n",
       "          Lag5         Volume      Today        Direction  \n",
       "Year      -0.030519101  0.84194162 -0.032459894 -0.02220025\n",
       "Lag1      -0.008183096 -0.06495131 -0.075031842 -0.05000380\n",
       "Lag2      -0.072499482 -0.08551314  0.059166717  0.07269634\n",
       "Lag3       0.060657175 -0.06928771 -0.071243639 -0.02291281\n",
       "Lag4      -0.075675027 -0.06107462 -0.007825873 -0.02054946\n",
       "Lag5       1.000000000 -0.05851741  0.011012698 -0.01816827\n",
       "Volume    -0.058517414  1.00000000 -0.033077783 -0.01799521\n",
       "Today      0.011012698 -0.03307778  1.000000000  0.72002470\n",
       "Direction -0.018168272 -0.01799521  0.720024704  1.00000000"
      ]
     },
     "metadata": {},
     "output_type": "display_data"
    },
    {
     "data": {
      "text/html": [
       "<table>\n",
       "<thead><tr><th scope=col>Year</th><th scope=col>Lag1</th><th scope=col>Lag2</th><th scope=col>Lag3</th><th scope=col>Lag4</th><th scope=col>Lag5</th><th scope=col>Volume</th><th scope=col>Today</th><th scope=col>Direction</th></tr></thead>\n",
       "<tbody>\n",
       "\t<tr><td>1990     </td><td> 0.816   </td><td> 1.572   </td><td>-3.936   </td><td>-0.229   </td><td>-3.484   </td><td>0.1549760</td><td>-0.270   </td><td>0        </td></tr>\n",
       "\t<tr><td>1990     </td><td>-0.270   </td><td> 0.816   </td><td> 1.572   </td><td>-3.936   </td><td>-0.229   </td><td>0.1485740</td><td>-2.576   </td><td>0        </td></tr>\n",
       "\t<tr><td>1990     </td><td>-2.576   </td><td>-0.270   </td><td> 0.816   </td><td> 1.572   </td><td>-3.936   </td><td>0.1598375</td><td> 3.514   </td><td>1        </td></tr>\n",
       "\t<tr><td>1990     </td><td> 3.514   </td><td>-2.576   </td><td>-0.270   </td><td> 0.816   </td><td> 1.572   </td><td>0.1616300</td><td> 0.712   </td><td>1        </td></tr>\n",
       "\t<tr><td>1990     </td><td> 0.712   </td><td> 3.514   </td><td>-2.576   </td><td>-0.270   </td><td> 0.816   </td><td>0.1537280</td><td> 1.178   </td><td>1        </td></tr>\n",
       "\t<tr><td>1990     </td><td> 1.178   </td><td> 0.712   </td><td> 3.514   </td><td>-2.576   </td><td>-0.270   </td><td>0.1544440</td><td>-1.372   </td><td>0        </td></tr>\n",
       "</tbody>\n",
       "</table>\n"
      ],
      "text/latex": [
       "\\begin{tabular}{r|lllllllll}\n",
       " Year & Lag1 & Lag2 & Lag3 & Lag4 & Lag5 & Volume & Today & Direction\\\\\n",
       "\\hline\n",
       "\t 1990      &  0.816    &  1.572    & -3.936    & -0.229    & -3.484    & 0.1549760 & -0.270    & 0        \\\\\n",
       "\t 1990      & -0.270    &  0.816    &  1.572    & -3.936    & -0.229    & 0.1485740 & -2.576    & 0        \\\\\n",
       "\t 1990      & -2.576    & -0.270    &  0.816    &  1.572    & -3.936    & 0.1598375 &  3.514    & 1        \\\\\n",
       "\t 1990      &  3.514    & -2.576    & -0.270    &  0.816    &  1.572    & 0.1616300 &  0.712    & 1        \\\\\n",
       "\t 1990      &  0.712    &  3.514    & -2.576    & -0.270    &  0.816    & 0.1537280 &  1.178    & 1        \\\\\n",
       "\t 1990      &  1.178    &  0.712    &  3.514    & -2.576    & -0.270    & 0.1544440 & -1.372    & 0        \\\\\n",
       "\\end{tabular}\n"
      ],
      "text/markdown": [
       "\n",
       "| Year | Lag1 | Lag2 | Lag3 | Lag4 | Lag5 | Volume | Today | Direction |\n",
       "|---|---|---|---|---|---|---|---|---|\n",
       "| 1990      |  0.816    |  1.572    | -3.936    | -0.229    | -3.484    | 0.1549760 | -0.270    | 0         |\n",
       "| 1990      | -0.270    |  0.816    |  1.572    | -3.936    | -0.229    | 0.1485740 | -2.576    | 0         |\n",
       "| 1990      | -2.576    | -0.270    |  0.816    |  1.572    | -3.936    | 0.1598375 |  3.514    | 1         |\n",
       "| 1990      |  3.514    | -2.576    | -0.270    |  0.816    |  1.572    | 0.1616300 |  0.712    | 1         |\n",
       "| 1990      |  0.712    |  3.514    | -2.576    | -0.270    |  0.816    | 0.1537280 |  1.178    | 1         |\n",
       "| 1990      |  1.178    |  0.712    |  3.514    | -2.576    | -0.270    | 0.1544440 | -1.372    | 0         |\n",
       "\n"
      ],
      "text/plain": [
       "  Year Lag1   Lag2   Lag3   Lag4   Lag5   Volume    Today  Direction\n",
       "1 1990  0.816  1.572 -3.936 -0.229 -3.484 0.1549760 -0.270 0        \n",
       "2 1990 -0.270  0.816  1.572 -3.936 -0.229 0.1485740 -2.576 0        \n",
       "3 1990 -2.576 -0.270  0.816  1.572 -3.936 0.1598375  3.514 1        \n",
       "4 1990  3.514 -2.576 -0.270  0.816  1.572 0.1616300  0.712 1        \n",
       "5 1990  0.712  3.514 -2.576 -0.270  0.816 0.1537280  1.178 1        \n",
       "6 1990  1.178  0.712  3.514 -2.576 -0.270 0.1544440 -1.372 0        "
      ]
     },
     "metadata": {},
     "output_type": "display_data"
    }
   ],
   "source": [
    "#Looking at correlation to explore variables\n",
    "weekly$Direction <- ifelse(weekly$Direction=='Up',1,0)\n",
    "cor(weekly)\n",
    "head(weekly)"
   ]
  },
  {
   "cell_type": "code",
   "execution_count": 10,
   "metadata": {},
   "outputs": [
    {
     "data": {
      "text/plain": [
       "\n",
       "Call:\n",
       "glm(formula = Direction ~ Lag1 + Lag2 + Lag3 + Lag4 + Lag5 + \n",
       "    Volume, family = binomial, data = weekly)\n",
       "\n",
       "Deviance Residuals: \n",
       "    Min       1Q   Median       3Q      Max  \n",
       "-1.6949  -1.2565   0.9913   1.0849   1.4579  \n",
       "\n",
       "Coefficients:\n",
       "            Estimate Std. Error z value Pr(>|z|)   \n",
       "(Intercept)  0.26686    0.08593   3.106   0.0019 **\n",
       "Lag1        -0.04127    0.02641  -1.563   0.1181   \n",
       "Lag2         0.05844    0.02686   2.175   0.0296 * \n",
       "Lag3        -0.01606    0.02666  -0.602   0.5469   \n",
       "Lag4        -0.02779    0.02646  -1.050   0.2937   \n",
       "Lag5        -0.01447    0.02638  -0.549   0.5833   \n",
       "Volume      -0.02274    0.03690  -0.616   0.5377   \n",
       "---\n",
       "Signif. codes:  0 '***' 0.001 '**' 0.01 '*' 0.05 '.' 0.1 ' ' 1\n",
       "\n",
       "(Dispersion parameter for binomial family taken to be 1)\n",
       "\n",
       "    Null deviance: 1496.2  on 1088  degrees of freedom\n",
       "Residual deviance: 1486.4  on 1082  degrees of freedom\n",
       "AIC: 1500.4\n",
       "\n",
       "Number of Fisher Scoring iterations: 4\n"
      ]
     },
     "metadata": {},
     "output_type": "display_data"
    }
   ],
   "source": [
    "#b. Lag2 is the only statistically significant variable\n",
    "fit.glm <- glm(Direction ~ #Today + # commented because \"glm.fit: algorithm did not converge\"\n",
    "               Lag1 + Lag2 + Lag3 + Lag4 + Lag5 + Volume, data = weekly, family = binomial)\n",
    "summary(fit.glm)"
   ]
  },
  {
   "cell_type": "code",
   "execution_count": 11,
   "metadata": {},
   "outputs": [
    {
     "data": {
      "text/plain": [
       "        \n",
       "pred.glm   0   1\n",
       "       0  54  48\n",
       "       1 430 557"
      ]
     },
     "metadata": {},
     "output_type": "display_data"
    },
    {
     "data": {
      "text/html": [
       "'56.11 % of correct predictions on training data'"
      ],
      "text/latex": [
       "'56.11 \\% of correct predictions on training data'"
      ],
      "text/markdown": [
       "'56.11 % of correct predictions on training data'"
      ],
      "text/plain": [
       "[1] \"56.11 % of correct predictions on training data\""
      ]
     },
     "metadata": {},
     "output_type": "display_data"
    },
    {
     "data": {
      "text/html": [
       "'43.89 % of training error rate'"
      ],
      "text/latex": [
       "'43.89 \\% of training error rate'"
      ],
      "text/markdown": [
       "'43.89 % of training error rate'"
      ],
      "text/plain": [
       "[1] \"43.89 % of training error rate\""
      ]
     },
     "metadata": {},
     "output_type": "display_data"
    }
   ],
   "source": [
    "#c. \n",
    "threshold <- 0.5\n",
    "probs <- predict(fit.glm, type = \"response\")\n",
    "count <- length(probs)\n",
    "pred.glm <- rep(0, count)\n",
    "pred.glm[probs > threshold] <- 1\n",
    "table(pred.glm, weekly$Direction)\n",
    "\n",
    "paste(round((54+557)/count*100,2),\"% of correct predictions on training data\")\n",
    "paste(100-round((54+557)/count*100,2),\"% of training error rate\")"
   ]
  },
  {
   "cell_type": "code",
   "execution_count": 12,
   "metadata": {},
   "outputs": [
    {
     "data": {
      "text/plain": [
       "\n",
       "Call:\n",
       "glm(formula = Direction ~ Lag2, family = binomial, data = weekly, \n",
       "    subset = train)\n",
       "\n",
       "Deviance Residuals: \n",
       "   Min      1Q  Median      3Q     Max  \n",
       "-1.536  -1.264   1.021   1.091   1.368  \n",
       "\n",
       "Coefficients:\n",
       "            Estimate Std. Error z value Pr(>|z|)   \n",
       "(Intercept)  0.20326    0.06428   3.162  0.00157 **\n",
       "Lag2         0.05810    0.02870   2.024  0.04298 * \n",
       "---\n",
       "Signif. codes:  0 '***' 0.001 '**' 0.01 '*' 0.05 '.' 0.1 ' ' 1\n",
       "\n",
       "(Dispersion parameter for binomial family taken to be 1)\n",
       "\n",
       "    Null deviance: 1354.7  on 984  degrees of freedom\n",
       "Residual deviance: 1350.5  on 983  degrees of freedom\n",
       "AIC: 1354.5\n",
       "\n",
       "Number of Fisher Scoring iterations: 4\n"
      ]
     },
     "metadata": {},
     "output_type": "display_data"
    },
    {
     "data": {
      "text/plain": [
       "         direction_test\n",
       "pred.glm2  0  1\n",
       "        0  9  5\n",
       "        1 34 56"
      ]
     },
     "metadata": {},
     "output_type": "display_data"
    },
    {
     "data": {
      "text/html": [
       "'Correct predictions on test set: 62.5 %'"
      ],
      "text/latex": [
       "'Correct predictions on test set: 62.5 \\%'"
      ],
      "text/markdown": [
       "'Correct predictions on test set: 62.5 %'"
      ],
      "text/plain": [
       "[1] \"Correct predictions on test set: 62.5 %\""
      ]
     },
     "metadata": {},
     "output_type": "display_data"
    },
    {
     "data": {
      "text/html": [
       "'Test error rate: 37.5 %'"
      ],
      "text/latex": [
       "'Test error rate: 37.5 \\%'"
      ],
      "text/markdown": [
       "'Test error rate: 37.5 %'"
      ],
      "text/plain": [
       "[1] \"Test error rate: 37.5 %\""
      ]
     },
     "metadata": {},
     "output_type": "display_data"
    }
   ],
   "source": [
    "#d.\n",
    "train <- (weekly$Year < 2009)\n",
    "weekly_test <- weekly[!train, ]\n",
    "direction_test <- weekly$Direction[!train]\n",
    "fit.glm2 <- glm(Direction ~ Lag2, data = weekly, family = binomial, subset = train)\n",
    "summary(fit.glm2)\n",
    "\n",
    "probs2 <- predict(fit.glm2, weekly_test, type = \"response\")\n",
    "pred.glm2 <- rep(0, length(probs2))\n",
    "pred.glm2[probs2 > 0.5] <- 1\n",
    "table(pred.glm2, direction_test)\n",
    "\n",
    "paste(\"Correct predictions on test set:\",round((9+56)/length(probs2)*100,2),\"%\")\n",
    "paste(\"Test error rate:\",100-round((9+56)/length(probs2)*100,2),\"%\")"
   ]
  },
  {
   "cell_type": "code",
   "execution_count": 13,
   "metadata": {},
   "outputs": [
    {
     "name": "stderr",
     "output_type": "stream",
     "text": [
      "Warning message:\n",
      "\"package 'MASS' was built under R version 3.6.2\""
     ]
    },
    {
     "data": {
      "text/plain": [
       "Call:\n",
       "lda(Direction ~ Lag2, data = weekly, subset = train)\n",
       "\n",
       "Prior probabilities of groups:\n",
       "        0         1 \n",
       "0.4477157 0.5522843 \n",
       "\n",
       "Group means:\n",
       "         Lag2\n",
       "0 -0.03568254\n",
       "1  0.26036581\n",
       "\n",
       "Coefficients of linear discriminants:\n",
       "           LD1\n",
       "Lag2 0.4414162"
      ]
     },
     "metadata": {},
     "output_type": "display_data"
    },
    {
     "data": {
      "text/plain": [
       "   direction_test\n",
       "     0  1\n",
       "  0  9  5\n",
       "  1 34 56"
      ]
     },
     "metadata": {},
     "output_type": "display_data"
    }
   ],
   "source": [
    "#e.\n",
    "library(MASS)\n",
    "fit.lda <- lda(Direction ~ Lag2, data = weekly, subset = train)\n",
    "fit.lda\n",
    "\n",
    "pred.lda <- predict(fit.lda, weekly_test)\n",
    "table(pred.lda$class, direction_test)"
   ]
  },
  {
   "cell_type": "code",
   "execution_count": 14,
   "metadata": {},
   "outputs": [
    {
     "data": {
      "text/plain": [
       "Call:\n",
       "qda(Direction ~ Lag2, data = weekly, subset = train)\n",
       "\n",
       "Prior probabilities of groups:\n",
       "        0         1 \n",
       "0.4477157 0.5522843 \n",
       "\n",
       "Group means:\n",
       "         Lag2\n",
       "0 -0.03568254\n",
       "1  0.26036581"
      ]
     },
     "metadata": {},
     "output_type": "display_data"
    },
    {
     "data": {
      "text/plain": [
       "   direction_test\n",
       "     0  1\n",
       "  0  0  0\n",
       "  1 43 61"
      ]
     },
     "metadata": {},
     "output_type": "display_data"
    }
   ],
   "source": [
    "#f. When the market goes up, the model is right 100% of the time vs right 0% of the time when the market goes down\n",
    "fit.qda <- qda(Direction ~ Lag2, data = weekly, subset = train)\n",
    "fit.qda\n",
    "\n",
    "pred.qda <- predict(fit.qda, weekly_test)\n",
    "table(pred.qda$class, direction_test)"
   ]
  },
  {
   "cell_type": "code",
   "execution_count": 15,
   "metadata": {},
   "outputs": [
    {
     "data": {
      "text/plain": [
       "        direction_test\n",
       "pred.knn  0  1\n",
       "       0 21 30\n",
       "       1 22 31"
      ]
     },
     "metadata": {},
     "output_type": "display_data"
    }
   ],
   "source": [
    "#g. around 50% accuracy and error rate\n",
    "library(class)\n",
    "train_x <- as.matrix(weekly$Lag2[train])\n",
    "test_x <- as.matrix(weekly$Lag2[!train])\n",
    "train_direction <- weekly$Direction[train]\n",
    "set.seed(1)\n",
    "pred.knn <- knn(train_x, test_x, train_direction, k = 1)\n",
    "table(pred.knn, direction_test)"
   ]
  },
  {
   "cell_type": "code",
   "execution_count": 16,
   "metadata": {},
   "outputs": [],
   "source": [
    "#h. LDA and logistic regression have the smallest error rates, followed by QDA and KNN."
   ]
  },
  {
   "cell_type": "code",
   "execution_count": 22,
   "metadata": {},
   "outputs": [
    {
     "name": "stdout",
     "output_type": "stream",
     "text": [
      "[1] \"k: 3 , Lag1\"\n",
      "        \n",
      "knn.pred  0  1\n",
      "       0 19 23\n",
      "       1 24 38\n",
      "[1] \"k: 3 , Lag2\"\n",
      "        \n",
      "knn.pred  0  1\n",
      "       0 19 23\n",
      "       1 24 38\n",
      "[1] \"k: 3 , Lag3\"\n",
      "        \n",
      "knn.pred  0  1\n",
      "       0 19 23\n",
      "       1 24 38\n",
      "[1] \"k: 3 , Lag4\"\n",
      "        \n",
      "knn.pred  0  1\n",
      "       0 19 23\n",
      "       1 24 38\n",
      "[1] \"k: 3 , Lag5\"\n",
      "        \n",
      "knn.pred  0  1\n",
      "       0 19 23\n",
      "       1 24 38\n",
      "[1] \"k: 5 , Lag1\"\n",
      "        \n",
      "knn.pred  0  1\n",
      "       0 19 23\n",
      "       1 24 38\n",
      "[1] \"k: 5 , Lag2\"\n",
      "        \n",
      "knn.pred  0  1\n",
      "       0 19 23\n",
      "       1 24 38\n",
      "[1] \"k: 5 , Lag3\"\n",
      "        \n",
      "knn.pred  0  1\n",
      "       0 19 23\n",
      "       1 24 38\n",
      "[1] \"k: 5 , Lag4\"\n",
      "        \n",
      "knn.pred  0  1\n",
      "       0 19 23\n",
      "       1 24 38\n",
      "[1] \"k: 5 , Lag5\"\n",
      "        \n",
      "knn.pred  0  1\n",
      "       0 19 23\n",
      "       1 24 38\n",
      "[1] \"k: 10 , Lag1\"\n",
      "        \n",
      "knn.pred  0  1\n",
      "       0 19 23\n",
      "       1 24 38\n",
      "[1] \"k: 10 , Lag2\"\n",
      "        \n",
      "knn.pred  0  1\n",
      "       0 19 23\n",
      "       1 24 38\n",
      "[1] \"k: 10 , Lag3\"\n",
      "        \n",
      "knn.pred  0  1\n",
      "       0 19 23\n",
      "       1 24 38\n",
      "[1] \"k: 10 , Lag4\"\n",
      "        \n",
      "knn.pred  0  1\n",
      "       0 19 23\n",
      "       1 24 38\n",
      "[1] \"k: 10 , Lag5\"\n",
      "        \n",
      "knn.pred  0  1\n",
      "       0 19 23\n",
      "       1 24 38\n",
      "[1] \"k: 15 , Lag1\"\n",
      "        \n",
      "knn.pred  0  1\n",
      "       0 19 23\n",
      "       1 24 38\n",
      "[1] \"k: 15 , Lag2\"\n",
      "        \n",
      "knn.pred  0  1\n",
      "       0 19 23\n",
      "       1 24 38\n",
      "[1] \"k: 15 , Lag3\"\n",
      "        \n",
      "knn.pred  0  1\n",
      "       0 19 23\n",
      "       1 24 38\n",
      "[1] \"k: 15 , Lag4\"\n",
      "        \n",
      "knn.pred  0  1\n",
      "       0 19 23\n",
      "       1 24 38\n",
      "[1] \"k: 15 , Lag5\"\n",
      "        \n",
      "knn.pred  0  1\n",
      "       0 19 23\n",
      "       1 24 38\n"
     ]
    }
   ],
   "source": [
    "#i.\n",
    "train <- (weekly$Year < 2009)\n",
    "weekly_test <- weekly[!train, ]\n",
    "weekly_train <- weekly[train, ]\n",
    "\n",
    "train_Direction <- as.matrix(weekly_train$Direction)\n",
    "set.seed(1245)\n",
    "k_vals <- c(3,5,10,15)\n",
    "preds <- c(\"Lag1\",\"Lag2\",\"Lag3\",\"Lag4\",\"Lag5\")\n",
    "for (i in k_vals){\n",
    "    for (p in preds){\n",
    "        train_X <- as.matrix(weekly_train[,preds])\n",
    "        test_X <- as.matrix(weekly_test[,preds])\n",
    "        knn.pred <- knn(train_X,test_X,train_Direction,k=5)\n",
    "        print(paste(\"k:\",i,\",\",p))\n",
    "        print(table(knn.pred,weekly_test$Direction))}\n",
    "}"
   ]
  },
  {
   "cell_type": "code",
   "execution_count": 115,
   "metadata": {},
   "outputs": [
    {
     "name": "stderr",
     "output_type": "stream",
     "text": [
      "The following objects are masked from Auto (pos = 3):\n",
      "\n",
      "    acceleration, cylinders, displacement, horsepower, mpg, name,\n",
      "    origin, weight, year\n",
      "\n"
     ]
    }
   ],
   "source": [
    "#Exercise 11 (p. 171, Chap. 4)\n",
    "#a.\n",
    "attach(Auto)\n",
    "mpg01 <- rep(0, length(mpg))\n",
    "mpg01[mpg > median(mpg)] <- 1\n",
    "Auto <- data.frame(Auto, mpg01)"
   ]
  },
  {
   "cell_type": "code",
   "execution_count": 121,
   "metadata": {},
   "outputs": [
    {
     "data": {
      "image/png": "[encoded data removed]",
      "text/plain": [
       "plot without title"
      ]
     },
     "metadata": {},
     "output_type": "display_data"
    }
   ],
   "source": [
    "pairs(Auto)"
   ]
  },
  {
   "cell_type": "code",
   "execution_count": 136,
   "metadata": {},
   "outputs": [
    {
     "data": {
      "image/png": "[encoded data removed]",
      "text/plain": [
       "Plot with title \"weight vs mpg01\""
      ]
     },
     "metadata": {},
     "output_type": "display_data"
    },
    {
     "data": {
      "image/png": "[encoded data removed]",
      "text/plain": [
       "Plot with title \"displacement vs mpg01\""
      ]
     },
     "metadata": {},
     "output_type": "display_data"
    },
    {
     "data": {
      "image/png": "[encoded data removed]",
      "text/plain": [
       "Plot with title \"horsepower vs mpg01\""
      ]
     },
     "metadata": {},
     "output_type": "display_data"
    },
    {
     "data": {
      "image/png": "[encoded data removed]",
      "text/plain": [
       "Plot with title \"origin vs mpg01\""
      ]
     },
     "metadata": {},
     "output_type": "display_data"
    },
    {
     "data": {
      "image/png": "[encoded data removed]",
      "text/plain": [
       "Plot with title \"cylinders vs mpg01\""
      ]
     },
     "metadata": {},
     "output_type": "display_data"
    },
    {
     "data": {
      "image/png": "[encoded data removed]",
      "text/plain": [
       "Plot with title \"acceleration vs mpg01\""
      ]
     },
     "metadata": {},
     "output_type": "display_data"
    }
   ],
   "source": [
    "#Pair plots show a clearer association with “weight”, “displacement”, “horsepower”.\n",
    "#“origin”, “cylinders” and “acceleration” may also be useful\n",
    "vars <- c(\"weight\",\"displacement\",\"horsepower\",\"origin\",\"cylinders\",\"acceleration\")\n",
    "for (i in vars)\n",
    "    {     boxplot(Auto[[i]] ~ mpg01, data = Auto, main = paste0(i,\" vs mpg01\"))}"
   ]
  },
  {
   "cell_type": "code",
   "execution_count": 144,
   "metadata": {},
   "outputs": [
    {
     "data": {
      "text/html": [
       "'10 10'"
      ],
      "text/latex": [
       "'10 10'"
      ],
      "text/markdown": [
       "'10 10'"
      ],
      "text/plain": [
       "[1] \"10 10\""
      ]
     },
     "metadata": {},
     "output_type": "display_data"
    }
   ],
   "source": [
    "#c.\n",
    "train <- (Auto$year %% 2 == 0) #splitting more or less in half\n",
    "a_train <- Auto[train, ]\n",
    "a_test <- Auto[!train, ]\n",
    "mpg01_test <- Auto$mpg01[!train]"
   ]
  },
  {
   "cell_type": "code",
   "execution_count": 159,
   "metadata": {},
   "outputs": [
    {
     "data": {
      "text/plain": [
       "Call:\n",
       "lda(mpg01 ~ cylinders + weight + displacement + horsepower + \n",
       "    acceleration, data = Auto, subset = train)\n",
       "\n",
       "Prior probabilities of groups:\n",
       "        0         1 \n",
       "0.4571429 0.5428571 \n",
       "\n",
       "Group means:\n",
       "  cylinders   weight displacement horsepower acceleration\n",
       "0  6.812500 3604.823     271.7396  133.14583     14.47500\n",
       "1  4.070175 2314.763     111.6623   77.92105     16.62895\n",
       "\n",
       "Coefficients of linear discriminants:\n",
       "                       LD1\n",
       "cylinders    -0.6825609783\n",
       "weight       -0.0010554398\n",
       "displacement  0.0001619815\n",
       "horsepower    0.0038925740\n",
       "acceleration -0.0273265018"
      ]
     },
     "metadata": {},
     "output_type": "display_data"
    },
    {
     "name": "stdout",
     "output_type": "stream",
     "text": [
      "   mpg01_test\n",
      "     0  1\n",
      "  0 86  8\n",
      "  1 14 74\n"
     ]
    },
    {
     "data": {
      "text/html": [
       "'Accuracy: 87.91%'"
      ],
      "text/latex": [
       "'Accuracy: 87.91\\%'"
      ],
      "text/markdown": [
       "'Accuracy: 87.91%'"
      ],
      "text/plain": [
       "[1] \"Accuracy: 87.91%\""
      ]
     },
     "metadata": {},
     "output_type": "display_data"
    },
    {
     "data": {
      "text/html": [
       "'Test Error rate: 12.09%'"
      ],
      "text/latex": [
       "'Test Error rate: 12.09\\%'"
      ],
      "text/markdown": [
       "'Test Error rate: 12.09%'"
      ],
      "text/plain": [
       "[1] \"Test Error rate: 12.09%\""
      ]
     },
     "metadata": {},
     "output_type": "display_data"
    }
   ],
   "source": [
    "#d.\n",
    "fit.lda <- lda(mpg01 ~ cylinders + weight + displacement + horsepower + acceleration, data = Auto, subset = train)\n",
    "fit.lda\n",
    "\n",
    "lda_pred <- predict(fit.lda, newdata = a_test)\n",
    "print(table(lda_pred$class,mpg01_test))\n",
    "\n",
    "acc <- mean(lda_pred$class == mpg01_test)\n",
    "error_rate <- 1 - acc\n",
    "\n",
    "paste0(\"Accuracy: \",round(acc*100,2),\"%\")\n",
    "paste0(\"Test Error rate: \" ,round(error_rate*100,2),\"%\")"
   ]
  },
  {
   "cell_type": "code",
   "execution_count": 162,
   "metadata": {},
   "outputs": [
    {
     "data": {
      "text/plain": [
       "Call:\n",
       "qda(mpg01 ~ cylinders + weight + displacement + horsepower + \n",
       "    acceleration, data = Auto, subset = train)\n",
       "\n",
       "Prior probabilities of groups:\n",
       "        0         1 \n",
       "0.4571429 0.5428571 \n",
       "\n",
       "Group means:\n",
       "  cylinders   weight displacement horsepower acceleration\n",
       "0  6.812500 3604.823     271.7396  133.14583     14.47500\n",
       "1  4.070175 2314.763     111.6623   77.92105     16.62895"
      ]
     },
     "metadata": {},
     "output_type": "display_data"
    },
    {
     "data": {
      "text/plain": [
       "   mpg01_test\n",
       "     0  1\n",
       "  0 88 12\n",
       "  1 12 70"
      ]
     },
     "metadata": {},
     "output_type": "display_data"
    },
    {
     "data": {
      "text/html": [
       "'Test error rate: 13.19%'"
      ],
      "text/latex": [
       "'Test error rate: 13.19\\%'"
      ],
      "text/markdown": [
       "'Test error rate: 13.19%'"
      ],
      "text/plain": [
       "[1] \"Test error rate: 13.19%\""
      ]
     },
     "metadata": {},
     "output_type": "display_data"
    }
   ],
   "source": [
    "#e.\n",
    "fit.qda <- qda(mpg01 ~ cylinders + weight + displacement + horsepower + acceleration, data = Auto, subset = train)\n",
    "fit.qda\n",
    "\n",
    "pred.qda <- predict(fit.qda, a_test)\n",
    "table(pred.qda$class, mpg01_test)\n",
    "\n",
    "error <- mean(pred.qda$class != mpg01_test)\n",
    "paste0(\"Test error rate: \",round(error*100,2),\"%\")"
   ]
  },
  {
   "cell_type": "code",
   "execution_count": 163,
   "metadata": {},
   "outputs": [
    {
     "data": {
      "text/plain": [
       "\n",
       "Call:\n",
       "glm(formula = mpg01 ~ cylinders + weight + displacement + horsepower + \n",
       "    acceleration, family = binomial, data = Auto, subset = train)\n",
       "\n",
       "Deviance Residuals: \n",
       "    Min       1Q   Median       3Q      Max  \n",
       "-2.6447  -0.0300   0.1093   0.2772   2.4968  \n",
       "\n",
       "Coefficients:\n",
       "               Estimate Std. Error z value Pr(>|z|)    \n",
       "(Intercept)  21.5252507  5.2710952   4.084 4.43e-05 ***\n",
       "cylinders    -1.0514731  0.6606828  -1.591   0.1115    \n",
       "weight       -0.0018981  0.0014644  -1.296   0.1949    \n",
       "displacement -0.0009795  0.0155812  -0.063   0.9499    \n",
       "horsepower   -0.0759966  0.0355423  -2.138   0.0325 *  \n",
       "acceleration -0.2253047  0.2140185  -1.053   0.2925    \n",
       "---\n",
       "Signif. codes:  0 '***' 0.001 '**' 0.01 '*' 0.05 '.' 0.1 ' ' 1\n",
       "\n",
       "(Dispersion parameter for binomial family taken to be 1)\n",
       "\n",
       "    Null deviance: 289.577  on 209  degrees of freedom\n",
       "Residual deviance:  82.141  on 204  degrees of freedom\n",
       "AIC: 94.141\n",
       "\n",
       "Number of Fisher Scoring iterations: 8\n"
      ]
     },
     "metadata": {},
     "output_type": "display_data"
    },
    {
     "data": {
      "text/plain": [
       "        mpg01_test\n",
       "pred.glm  0  1\n",
       "       0 89 11\n",
       "       1 11 71"
      ]
     },
     "metadata": {},
     "output_type": "display_data"
    },
    {
     "data": {
      "text/html": [
       "'Test error rate: 12.09%'"
      ],
      "text/latex": [
       "'Test error rate: 12.09\\%'"
      ],
      "text/markdown": [
       "'Test error rate: 12.09%'"
      ],
      "text/plain": [
       "[1] \"Test error rate: 12.09%\""
      ]
     },
     "metadata": {},
     "output_type": "display_data"
    }
   ],
   "source": [
    "#f.\n",
    "fit.glm <- glm(mpg01 ~ cylinders + weight + displacement + horsepower + acceleration, \n",
    "               data = Auto, family = binomial, subset = train)\n",
    "summary(fit.glm)\n",
    "\n",
    "probs <- predict(fit.glm, a_test, type = \"response\")\n",
    "pred.glm <- rep(0, length(probs))\n",
    "pred.glm[probs > 0.5] <- 1\n",
    "table(pred.glm, mpg01_test)\n",
    "\n",
    "error <- mean(pred.glm != mpg01_test)\n",
    "paste0(\"Test error rate: \",round(error*100,2),\"%\")"
   ]
  },
  {
   "cell_type": "code",
   "execution_count": 182,
   "metadata": {},
   "outputs": [
    {
     "name": "stdout",
     "output_type": "stream",
     "text": [
      "[1] \"Test error rate: 15.38% for k=1\"\n",
      "[1] \"Test error rate: 14.84% for k=5\"\n",
      "[1] \"Test error rate: 15.38% for k=10\"\n",
      "[1] \"Test error rate: 15.93% for k=15\"\n",
      "[1] \"Test error rate: 14.29% for k=25\"\n",
      "[1] \"Test error rate: 14.84% for k=50\"\n",
      "[1] \"Test error rate: 14.29% for k=100\"\n",
      "[1] \"Test error rate: 18.68% for k=150\"\n",
      "[1] \"Test error rate: 54.95% for k=200\"\n"
     ]
    }
   ],
   "source": [
    "#g.\n",
    "train_X <- Auto[train,c(\"cylinders\", \"weight\", \"displacement\", \"horsepower\", \"acceleration\")]\n",
    "test_X <- Auto[!train,c(\"cylinders\", \"weight\", \"displacement\", \"horsepower\", \"acceleration\")]\n",
    "train_mpg01 <- Auto$mpg01[train]\n",
    "set.seed(1)\n",
    "for (k in c(1,5,10,15,25,50,100,150,200))\n",
    "    {pred.knn <- knn(train_X, test_X, train_mpg01, k = k)\n",
    "    table(pred.knn, mpg01_test)\n",
    "    error <- mean(pred.knn != mpg01_test)\n",
    "    print(paste0(\"Test error rate: \",round(error*100,2),\"% for k=\",k))\n",
    "    }\n",
    "#k=25 may be preferable because of simplicity"
   ]
  }
 ],
 "metadata": {
  "kernelspec": {
   "display_name": "R",
   "language": "R",
   "name": "ir"
  },
  "language_info": {
   "codemirror_mode": "r",
   "file_extension": ".r",
   "mimetype": "text/x-r-source",
   "name": "R",
   "pygments_lexer": "r",
   "version": "3.6.1"
  }
 },
 "nbformat": 4,
 "nbformat_minor": 2
}
