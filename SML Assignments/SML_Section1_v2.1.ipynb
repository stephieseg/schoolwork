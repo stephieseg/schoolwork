{
 "cells": [
  {
   "cell_type": "markdown",
   "metadata": {},
   "source": [
    "![ieseg logo](./img/ieseg.png)\n",
    "\n",
    "#### MBD 2019-2020 - Stephanie Beyer Diaz\n",
    "# Statistical & Machine Learning Approaches for Marketing\n",
    "\n",
    "## Section 1: Introduction & Linear Regression"
   ]
  },
  {
   "cell_type": "markdown",
   "metadata": {},
   "source": [
    "**1. Import all required libraries and datasets**"
   ]
  },
  {
   "cell_type": "code",
   "execution_count": 2,
   "metadata": {},
   "outputs": [
    {
     "name": "stderr",
     "output_type": "stream",
     "text": [
      "Warning message:\n",
      "\"package 'mlr' was built under R version 3.6.2\"Loading required package: ParamHelpers\n",
      "Warning message:\n",
      "\"package 'ParamHelpers' was built under R version 3.6.2\"'mlr' is in maintenance mode since July 2019. Future development\n",
      "efforts will go into its successor 'mlr3' (<https://mlr3.mlr-org.com>).\n",
      "Warning message:\n",
      "\"package 'caret' was built under R version 3.6.2\"Loading required package: lattice\n",
      "Warning message:\n",
      "\"package 'lattice' was built under R version 3.6.2\"Loading required package: ggplot2\n",
      "\n",
      "Attaching package: 'caret'\n",
      "\n",
      "The following object is masked from 'package:mlr':\n",
      "\n",
      "    train\n",
      "\n",
      "Warning message:\n",
      "\"package 'ISLR' was built under R version 3.6.2\"Warning message:\n",
      "\"package 'MASS' was built under R version 3.6.2\""
     ]
    },
    {
     "data": {
      "text/html": [
       "'R version 3.6.1 (2019-07-05)'"
      ],
      "text/latex": [
       "'R version 3.6.1 (2019-07-05)'"
      ],
      "text/markdown": [
       "'R version 3.6.1 (2019-07-05)'"
      ],
      "text/plain": [
       "[1] \"R version 3.6.1 (2019-07-05)\""
      ]
     },
     "metadata": {},
     "output_type": "display_data"
    }
   ],
   "source": [
    "# Set environment params\n",
    "Sys.setenv(LANG='en')  # English\n",
    "\n",
    "# Import libraries\n",
    "library(data.table)  # Data manipulate\n",
    "library(mlr)         # ML toolkit\n",
    "library(caret)       # ML toolkit\n",
    "library(ggplot2)     # Visualization\n",
    "\n",
    "# Import data\n",
    "library(ISLR)      # Data from the course book\n",
    "library(MASS)      # Boston housing dataset\n",
    "library(datasets)  # US crime dataset\n",
    "\n",
    "# Resize plot\n",
    "library(repr)  # String and binary representations\n",
    "#options(repr.plot.width=4, repr.plot.height=4)\n",
    "\n",
    "R.version.string"
   ]
  },
  {
   "cell_type": "code",
   "execution_count": 3,
   "metadata": {},
   "outputs": [],
   "source": [
    "# Install missing packages\n",
    "# install.packages(\"ISLR\")"
   ]
  },
  {
   "cell_type": "markdown",
   "metadata": {},
   "source": [
    "**2. Simulate Bias-Variance trade-off**  \n",
    "\n",
    "Source: https://daviddalpiaz.github.io/r4sl/biasvariance-tradeoff.html"
   ]
  },
  {
   "cell_type": "code",
   "execution_count": 4,
   "metadata": {},
   "outputs": [
    {
     "data": {
      "image/png": "[encoded data removed]",
      "text/plain": [
       "Plot with title \"The true underlying function f(X)\""
      ]
     },
     "metadata": {},
     "output_type": "display_data"
    }
   ],
   "source": [
    "# The true underlying function\n",
    "f <- function(x) {\n",
    "  x ^ 2\n",
    "}\n",
    "\n",
    "# Plot the underlying function\n",
    "options(repr.plot.width=4, repr.plot.height=4)  # Set plot size\n",
    "op <- par(cex = 0.8)  # Set font size\n",
    "\n",
    "plot(f, type='l', col='red',\n",
    "     main=\"The true underlying function f(X)\",\n",
    "     ylab=\"f(X)\", xlab=\"x\")"
   ]
  },
  {
   "cell_type": "code",
   "execution_count": 5,
   "metadata": {},
   "outputs": [],
   "source": [
    "# Function to generate simulation data from true function f\n",
    "get_sim_data <- function(f, sample_size=100) {\n",
    "  x <- runif(n=sample_size, min=0, max=1)  # Generate a list of x values\n",
    "  eps <- rnorm(n=sample_size, mean=0, sd=0.75)  # Generate random errors\n",
    "  y <- f(x) + eps\n",
    "  data.frame(x, y)\n",
    "}"
   ]
  },
  {
   "cell_type": "code",
   "execution_count": 6,
   "metadata": {},
   "outputs": [],
   "source": [
    "# Generate simulation data\n",
    "set.seed(1)\n",
    "n_sims <- 250  # Number of simulations\n",
    "n_models <- 4  # Number of models\n",
    "x <- data.frame(x=0.90)  # Fixed point at which we make predictions [test]\n",
    "predictions <- matrix(0, nrow=n_sims, ncol=n_models)  # Blank matrix"
   ]
  },
  {
   "cell_type": "code",
   "execution_count": 7,
   "metadata": {},
   "outputs": [],
   "source": [
    "# Run the simulation\n",
    "for (sim in 1:n_sims) {\n",
    "  # Simulate new, random, training data\n",
    "  sim_data <- get_sim_data(f)\n",
    "\n",
    "  # Fit different models\n",
    "  fit_0 <- lm(y ~ 1,                 data=sim_data)  # Simple linear regression\n",
    "  fit_1 <- lm(y ~ poly(x, degree=1), data=sim_data)  # Polynomial regression (degree = 1)\n",
    "  fit_2 <- lm(y ~ poly(x, degree=2), data=sim_data)  # Polynomial regression (degree = 2)\n",
    "  fit_9 <- lm(y ~ poly(x, degree=9), data=sim_data)  # Polynomial regression (degree = 9)\n",
    "\n",
    "  # Get predictions\n",
    "  predictions[sim, 1] <- predict(fit_0, x)\n",
    "  predictions[sim, 2] <- predict(fit_1, x)\n",
    "  predictions[sim, 3] <- predict(fit_2, x)\n",
    "  predictions[sim, 4] <- predict(fit_9, x)\n",
    "}"
   ]
  },
  {
   "cell_type": "code",
   "execution_count": 8,
   "metadata": {},
   "outputs": [
    {
     "data": {
      "text/html": [
       "<table>\n",
       "<tbody>\n",
       "\t<tr><td>0.3258666</td><td>0.8026078</td><td>0.8740580</td><td>0.8400974</td></tr>\n",
       "\t<tr><td>0.3584500</td><td>0.8086247</td><td>0.9290869</td><td>0.9553229</td></tr>\n",
       "\t<tr><td>0.2988305</td><td>0.8882596</td><td>1.0523587</td><td>1.0652415</td></tr>\n",
       "\t<tr><td>0.2934798</td><td>0.6446183</td><td>0.6913260</td><td>0.6451949</td></tr>\n",
       "\t<tr><td>0.2466116</td><td>0.6604834</td><td>0.7793907</td><td>0.7260935</td></tr>\n",
       "\t<tr><td>0.3835104</td><td>0.6651398</td><td>0.6850260</td><td>0.5974535</td></tr>\n",
       "</tbody>\n",
       "</table>\n"
      ],
      "text/latex": [
       "\\begin{tabular}{llll}\n",
       "\t 0.3258666 & 0.8026078 & 0.8740580 & 0.8400974\\\\\n",
       "\t 0.3584500 & 0.8086247 & 0.9290869 & 0.9553229\\\\\n",
       "\t 0.2988305 & 0.8882596 & 1.0523587 & 1.0652415\\\\\n",
       "\t 0.2934798 & 0.6446183 & 0.6913260 & 0.6451949\\\\\n",
       "\t 0.2466116 & 0.6604834 & 0.7793907 & 0.7260935\\\\\n",
       "\t 0.3835104 & 0.6651398 & 0.6850260 & 0.5974535\\\\\n",
       "\\end{tabular}\n"
      ],
      "text/markdown": [
       "\n",
       "| 0.3258666 | 0.8026078 | 0.8740580 | 0.8400974 |\n",
       "| 0.3584500 | 0.8086247 | 0.9290869 | 0.9553229 |\n",
       "| 0.2988305 | 0.8882596 | 1.0523587 | 1.0652415 |\n",
       "| 0.2934798 | 0.6446183 | 0.6913260 | 0.6451949 |\n",
       "| 0.2466116 | 0.6604834 | 0.7793907 | 0.7260935 |\n",
       "| 0.3835104 | 0.6651398 | 0.6850260 | 0.5974535 |\n",
       "\n"
      ],
      "text/plain": [
       "     [,1]      [,2]      [,3]      [,4]     \n",
       "[1,] 0.3258666 0.8026078 0.8740580 0.8400974\n",
       "[2,] 0.3584500 0.8086247 0.9290869 0.9553229\n",
       "[3,] 0.2988305 0.8882596 1.0523587 1.0652415\n",
       "[4,] 0.2934798 0.6446183 0.6913260 0.6451949\n",
       "[5,] 0.2466116 0.6604834 0.7793907 0.7260935\n",
       "[6,] 0.3835104 0.6651398 0.6850260 0.5974535"
      ]
     },
     "metadata": {},
     "output_type": "display_data"
    }
   ],
   "source": [
    "# Prediction results of 4 models\n",
    "head(predictions)"
   ]
  },
  {
   "cell_type": "code",
   "execution_count": 9,
   "metadata": {},
   "outputs": [],
   "source": [
    "# Function to calculate mse, bias, variance\n",
    "get_mse <- function(truth, estimate) {\n",
    "  mean((estimate - truth) ^ 2)\n",
    "}\n",
    "\n",
    "get_bias <- function(estimate, truth) {\n",
    "  mean(estimate) - truth\n",
    "}\n",
    "\n",
    "get_var <- function(estimate) {\n",
    "  mean((estimate - mean(estimate)) ^ 2)\n",
    "}"
   ]
  },
  {
   "cell_type": "code",
   "execution_count": 10,
   "metadata": {},
   "outputs": [],
   "source": [
    "# Run the simulate\n",
    "bias <- apply(predictions, 2, get_bias, truth=f(x=0.90))\n",
    "variance <- apply(predictions, 2, get_var)\n",
    "mse <- apply(predictions, 2, get_mse, truth=f(x=0.90))"
   ]
  },
  {
   "cell_type": "code",
   "execution_count": 11,
   "metadata": {},
   "outputs": [
    {
     "data": {
      "text/html": [
       "<table>\n",
       "<thead><tr><th scope=col>degree</th><th scope=col>mse</th><th scope=col>bias_squared</th><th scope=col>variance</th></tr></thead>\n",
       "<tbody>\n",
       "\t<tr><td>0           </td><td>0.23093518  </td><td>0.2249205068</td><td>0.006014669 </td></tr>\n",
       "\t<tr><td>1           </td><td>0.02248629  </td><td>0.0041071112</td><td>0.018379178 </td></tr>\n",
       "\t<tr><td>2           </td><td>0.02417563  </td><td>0.0003348458</td><td>0.023840782 </td></tr>\n",
       "\t<tr><td>9           </td><td>0.06371456  </td><td>0.0001312804</td><td>0.063583280 </td></tr>\n",
       "</tbody>\n",
       "</table>\n"
      ],
      "text/latex": [
       "\\begin{tabular}{r|llll}\n",
       " degree & mse & bias\\_squared & variance\\\\\n",
       "\\hline\n",
       "\t 0            & 0.23093518   & 0.2249205068 & 0.006014669 \\\\\n",
       "\t 1            & 0.02248629   & 0.0041071112 & 0.018379178 \\\\\n",
       "\t 2            & 0.02417563   & 0.0003348458 & 0.023840782 \\\\\n",
       "\t 9            & 0.06371456   & 0.0001312804 & 0.063583280 \\\\\n",
       "\\end{tabular}\n"
      ],
      "text/markdown": [
       "\n",
       "| degree | mse | bias_squared | variance |\n",
       "|---|---|---|---|\n",
       "| 0            | 0.23093518   | 0.2249205068 | 0.006014669  |\n",
       "| 1            | 0.02248629   | 0.0041071112 | 0.018379178  |\n",
       "| 2            | 0.02417563   | 0.0003348458 | 0.023840782  |\n",
       "| 9            | 0.06371456   | 0.0001312804 | 0.063583280  |\n",
       "\n"
      ],
      "text/plain": [
       "  degree mse        bias_squared variance   \n",
       "1 0      0.23093518 0.2249205068 0.006014669\n",
       "2 1      0.02248629 0.0041071112 0.018379178\n",
       "3 2      0.02417563 0.0003348458 0.023840782\n",
       "4 9      0.06371456 0.0001312804 0.063583280"
      ]
     },
     "metadata": {},
     "output_type": "display_data"
    }
   ],
   "source": [
    "# Prepare the data for plotting\n",
    "bvto <- data.frame(degree=c(0, 1, 2, 9), mse=mse, bias_squared=bias^2, variance=variance)\n",
    "bvto"
   ]
  },
  {
   "cell_type": "code",
   "execution_count": 12,
   "metadata": {},
   "outputs": [
    {
     "data": {
      "image/png": "[encoded data removed]",
      "text/plain": [
       "Plot with title \"Bias-Variance Trade-off\""
      ]
     },
     "metadata": {},
     "output_type": "display_data"
    }
   ],
   "source": [
    "# Plot the Bias-Variance Trade-off\n",
    "options(repr.plot.width=4, repr.plot.height=4)  # Set plot size\n",
    "op <- par(cex = 0.8)  # Set font size\n",
    "\n",
    "plot(bvto$degree, bvto$mse, type='l', col='red', ylim=c(0, 0.25),\n",
    "     main=\"Bias-Variance Trade-off\",\n",
    "     ylab=\"\", xlab=\"Flexibility\",\n",
    "     xaxt=\"n\")  # MSE\n",
    "lines(bvto$degree, bvto$bias_squared, col='blue', type=\"l\", lty=2)  # Bias\n",
    "lines(bvto$degree, bvto$variance, col='green', type=\"l\", lty=2)  # Variance\n",
    "\n",
    "op <- par(cex = 0.8)  # Set font size\n",
    "axis(side=1, at=c(0, 1, 2, 9), las=2)  # Add x tickers\n",
    "legend(\"topright\", legend=c(\"MSE\", \"Bias\", \"Variance\"),\n",
    "       col=c(\"red\", \"blue\", \"green\"), lty=c(1, 2, 2), cex=0.8,\n",
    "       x.intersp=7, y.intersp=2, adj=0.5, inset=0.01)"
   ]
  },
  {
   "cell_type": "markdown",
   "metadata": {},
   "source": [
    "**3. Simple Linear Regression**"
   ]
  },
  {
   "cell_type": "code",
   "execution_count": 13,
   "metadata": {},
   "outputs": [
    {
     "data": {
      "text/html": [
       "<table>\n",
       "<thead><tr><th scope=col>TV</th><th scope=col>radio</th><th scope=col>newspaper</th><th scope=col>sales</th></tr></thead>\n",
       "<tbody>\n",
       "\t<tr><td>230.1</td><td>37.8 </td><td>69.2 </td><td>22.1 </td></tr>\n",
       "\t<tr><td> 44.5</td><td>39.3 </td><td>45.1 </td><td>10.4 </td></tr>\n",
       "\t<tr><td> 17.2</td><td>45.9 </td><td>69.3 </td><td> 9.3 </td></tr>\n",
       "\t<tr><td>151.5</td><td>41.3 </td><td>58.5 </td><td>18.5 </td></tr>\n",
       "\t<tr><td>180.8</td><td>10.8 </td><td>58.4 </td><td>12.9 </td></tr>\n",
       "\t<tr><td>  8.7</td><td>48.9 </td><td>75.0 </td><td> 7.2 </td></tr>\n",
       "</tbody>\n",
       "</table>\n"
      ],
      "text/latex": [
       "\\begin{tabular}{r|llll}\n",
       " TV & radio & newspaper & sales\\\\\n",
       "\\hline\n",
       "\t 230.1 & 37.8  & 69.2  & 22.1 \\\\\n",
       "\t  44.5 & 39.3  & 45.1  & 10.4 \\\\\n",
       "\t  17.2 & 45.9  & 69.3  &  9.3 \\\\\n",
       "\t 151.5 & 41.3  & 58.5  & 18.5 \\\\\n",
       "\t 180.8 & 10.8  & 58.4  & 12.9 \\\\\n",
       "\t   8.7 & 48.9  & 75.0  &  7.2 \\\\\n",
       "\\end{tabular}\n"
      ],
      "text/markdown": [
       "\n",
       "| TV | radio | newspaper | sales |\n",
       "|---|---|---|---|\n",
       "| 230.1 | 37.8  | 69.2  | 22.1  |\n",
       "|  44.5 | 39.3  | 45.1  | 10.4  |\n",
       "|  17.2 | 45.9  | 69.3  |  9.3  |\n",
       "| 151.5 | 41.3  | 58.5  | 18.5  |\n",
       "| 180.8 | 10.8  | 58.4  | 12.9  |\n",
       "|   8.7 | 48.9  | 75.0  |  7.2  |\n",
       "\n"
      ],
      "text/plain": [
       "  TV    radio newspaper sales\n",
       "1 230.1 37.8  69.2      22.1 \n",
       "2  44.5 39.3  45.1      10.4 \n",
       "3  17.2 45.9  69.3       9.3 \n",
       "4 151.5 41.3  58.5      18.5 \n",
       "5 180.8 10.8  58.4      12.9 \n",
       "6   8.7 48.9  75.0       7.2 "
      ]
     },
     "metadata": {},
     "output_type": "display_data"
    }
   ],
   "source": [
    "# Import Advertising data\n",
    "adv <- read.csv('./data/Advertising.csv', row.names=1)\n",
    "head(adv)"
   ]
  },
  {
   "cell_type": "code",
   "execution_count": 14,
   "metadata": {},
   "outputs": [
    {
     "data": {
      "image/png": "[encoded data removed]",
      "text/plain": [
       "plot without title"
      ]
     },
     "metadata": {},
     "output_type": "display_data"
    }
   ],
   "source": [
    "# Plot the data\n",
    "options(repr.plot.width=8, repr.plot.height=4)  # Set plot size\n",
    "par(mfrow=c(1, 3))  # Set the plot regions\n",
    "\n",
    "plot(adv$TV, adv$sales, ylab=\"Sales\", xlab=\"TV\")\n",
    "abline(lm(sales ~ TV, data=adv), col='red')\n",
    "\n",
    "plot(adv$radio, adv$sales, ylab=\"Sales\", xlab=\"Radio\")\n",
    "abline(lm(sales ~ radio, data=adv), col='red')\n",
    "\n",
    "plot(adv$newspaper, adv$sales, ylab=\"Sales\", xlab=\"Newspaper\")\n",
    "abline(lm(sales ~ newspaper, data=adv), col='red')\n",
    "\n",
    "mtext(\"Sales and Advertising Budget Data\", side=3, line=-2.5, outer=TRUE)"
   ]
  },
  {
   "cell_type": "markdown",
   "metadata": {},
   "source": [
    "**Estimation of the parameters by least squares**"
   ]
  },
  {
   "cell_type": "code",
   "execution_count": 15,
   "metadata": {
    "scrolled": false
   },
   "outputs": [
    {
     "data": {
      "image/png": "[encoded data removed]",
      "text/plain": [
       "plot without title"
      ]
     },
     "metadata": {},
     "output_type": "display_data"
    }
   ],
   "source": [
    "# Plot Sales ~ TV\n",
    "options(repr.plot.width=6, repr.plot.height=4.5)  # Set plot size\n",
    "\n",
    "plot(adv$TV, adv$sales, pch=21, cex=0.8, bg='red',\n",
    "     xlab='TV', ylab='Sales')\n",
    "abline(lm(sales ~ TV, data=adv), col='blue')"
   ]
  },
  {
   "cell_type": "markdown",
   "metadata": {},
   "source": [
    "**Exercise 1:** Calculate B0, B1 for Sales ~ f(TV)"
   ]
  },
  {
   "cell_type": "code",
   "execution_count": 16,
   "metadata": {},
   "outputs": [
    {
     "name": "stdout",
     "output_type": "stream",
     "text": [
      "[1] 7.032594\n",
      "[1] 0.04753664\n"
     ]
    }
   ],
   "source": [
    "avg_x <- mean(adv$TV)\n",
    "avg_y <- mean(adv$sales)\n",
    "\n",
    "B1 <- sum((adv$TV-avg_x)*(adv$sales-avg_y))/sum((adv$TV-avg_x)^2)\n",
    "B0 <- avg_y - B1 * avg_x\n",
    "\n",
    "print(B0)\n",
    "print(B1)"
   ]
  },
  {
   "cell_type": "code",
   "execution_count": 17,
   "metadata": {},
   "outputs": [
    {
     "data": {
      "text/plain": [
       "\n",
       "Call:\n",
       "lm(formula = sales ~ TV, data = adv)\n",
       "\n",
       "Residuals:\n",
       "    Min      1Q  Median      3Q     Max \n",
       "-8.3860 -1.9545 -0.1913  2.0671  7.2124 \n",
       "\n",
       "Coefficients:\n",
       "            Estimate Std. Error t value Pr(>|t|)    \n",
       "(Intercept) 7.032594   0.457843   15.36   <2e-16 ***\n",
       "TV          0.047537   0.002691   17.67   <2e-16 ***\n",
       "---\n",
       "Signif. codes:  0 '***' 0.001 '**' 0.01 '*' 0.05 '.' 0.1 ' ' 1\n",
       "\n",
       "Residual standard error: 3.259 on 198 degrees of freedom\n",
       "Multiple R-squared:  0.6119,\tAdjusted R-squared:  0.6099 \n",
       "F-statistic: 312.1 on 1 and 198 DF,  p-value: < 2.2e-16\n"
      ]
     },
     "metadata": {},
     "output_type": "display_data"
    }
   ],
   "source": [
    "# Check B0, B1 by lm function\n",
    "md <- lm(sales ~ TV, data=adv)\n",
    "summary(md)"
   ]
  },
  {
   "cell_type": "markdown",
   "metadata": {},
   "source": [
    "**Exercise 2:** Calculate B0, B1 for Sales ~ f(Radio)"
   ]
  },
  {
   "cell_type": "code",
   "execution_count": 18,
   "metadata": {},
   "outputs": [
    {
     "name": "stdout",
     "output_type": "stream",
     "text": [
      "[1] 9.311638\n",
      "[1] 0.2024958\n"
     ]
    }
   ],
   "source": [
    "avg_radio <-  mean(adv$radio)\n",
    "\n",
    "#using avg_y from Exercise 1\n",
    "B1_2 <- sum((adv$radio-avg_radio)*(adv$sales-avg_y))/sum((adv$radio-avg_radio)^2)\n",
    "B0_2 <- avg_y - B1_2 * avg_radio \n",
    "\n",
    "print(B0_2)\n",
    "print(B1_2)"
   ]
  },
  {
   "cell_type": "code",
   "execution_count": 19,
   "metadata": {},
   "outputs": [
    {
     "data": {
      "text/plain": [
       "\n",
       "Call:\n",
       "lm(formula = sales ~ radio, data = adv)\n",
       "\n",
       "Residuals:\n",
       "     Min       1Q   Median       3Q      Max \n",
       "-15.7305  -2.1324   0.7707   2.7775   8.1810 \n",
       "\n",
       "Coefficients:\n",
       "            Estimate Std. Error t value Pr(>|t|)    \n",
       "(Intercept)  9.31164    0.56290  16.542   <2e-16 ***\n",
       "radio        0.20250    0.02041   9.921   <2e-16 ***\n",
       "---\n",
       "Signif. codes:  0 '***' 0.001 '**' 0.01 '*' 0.05 '.' 0.1 ' ' 1\n",
       "\n",
       "Residual standard error: 4.275 on 198 degrees of freedom\n",
       "Multiple R-squared:  0.332,\tAdjusted R-squared:  0.3287 \n",
       "F-statistic: 98.42 on 1 and 198 DF,  p-value: < 2.2e-16\n"
      ]
     },
     "metadata": {},
     "output_type": "display_data"
    }
   ],
   "source": [
    "# Check B0, B1 by lm function\n",
    "summary(lm(sales ~ radio, data=adv))"
   ]
  },
  {
   "cell_type": "markdown",
   "metadata": {},
   "source": [
    "**Exercise 3:** Calculate the 95% confidence interval of B0, B1 for model Sales ~ f(TV)?"
   ]
  },
  {
   "cell_type": "code",
   "execution_count": 20,
   "metadata": {},
   "outputs": [
    {
     "name": "stdout",
     "output_type": "stream",
     "text": [
      "[1] \"Confidence Interval for B0: [ 6.11690766858074 , 7.94827942967465 ]\"\n",
      "[1] \"Confidence Interval for B1: [ 0.042155426057426 , 0.0529178548086135 ]\"\n",
      "[1] \"Manual CI for B0: [ 6.11690766858074 , 7.94827942967465 ]\"\n",
      "[1] \"Manual CI for B1: [ 0.042155426057426 , 0.0529178548086135 ]\"\n"
     ]
    }
   ],
   "source": [
    "#using: β1 ± 2 · SE(β1)\n",
    "md <- lm(sales ~ TV, data=adv)\n",
    "SE <- summary(md)$coefficients[,2]\n",
    "\n",
    "print(paste(\"Confidence Interval for B0: [\",B0 - 2*SE[1],\",\",B0 + 2*SE[1],\"]\"))\n",
    "print(paste(\"Confidence Interval for B1: [\",B1 - 2*SE[2],\",\",B1 + 2*SE[2],\"]\"))\n",
    "\n",
    "                     \n",
    "#Manual SE calculation:\n",
    "n <- nrow(adv)\n",
    "RSS <- sum((adv$sales-md$fitted.values)^2) #same as sum((adv$sales - B0 - B1*adv$TV)**2)\n",
    "RSE <- sqrt(RSS/(n-2))\n",
    "avg_tv <- mean(adv$TV)\n",
    "SE_2 <- sqrt(RSE^2*(1/n + (avg_tv^2)/sum((adv$TV - avg_tv)^2)))\n",
    "SE_2[2] <- sqrt(RSE^2/sum((adv$TV - avg_tv)^2))\n",
    "\n",
    "print(paste(\"Manual CI for B0: [\",B0 - 2*SE_2[1],\",\",B0 + 2*SE_2[1],\"]\"))\n",
    "print(paste(\"Manual CI for B1: [\",B1 - 2*SE_2[2],\",\",B1 + 2*SE_2[2],\"]\"))\n"
   ]
  },
  {
   "cell_type": "code",
   "execution_count": 21,
   "metadata": {},
   "outputs": [
    {
     "data": {
      "text/plain": [
       "\n",
       "Call:\n",
       "lm(formula = sales ~ TV, data = adv)\n",
       "\n",
       "Residuals:\n",
       "    Min      1Q  Median      3Q     Max \n",
       "-8.3860 -1.9545 -0.1913  2.0671  7.2124 \n",
       "\n",
       "Coefficients:\n",
       "            Estimate Std. Error t value Pr(>|t|)    \n",
       "(Intercept) 7.032594   0.457843   15.36   <2e-16 ***\n",
       "TV          0.047537   0.002691   17.67   <2e-16 ***\n",
       "---\n",
       "Signif. codes:  0 '***' 0.001 '**' 0.01 '*' 0.05 '.' 0.1 ' ' 1\n",
       "\n",
       "Residual standard error: 3.259 on 198 degrees of freedom\n",
       "Multiple R-squared:  0.6119,\tAdjusted R-squared:  0.6099 \n",
       "F-statistic: 312.1 on 1 and 198 DF,  p-value: < 2.2e-16\n"
      ]
     },
     "metadata": {},
     "output_type": "display_data"
    }
   ],
   "source": [
    "# Double check with the lm function\n",
    "md <- lm(sales ~ TV, data=adv)\n",
    "summary(md)"
   ]
  },
  {
   "cell_type": "markdown",
   "metadata": {},
   "source": [
    "**Exercise 4:** Calculate the t-statistic and p-value for predictors radio and newspaper."
   ]
  },
  {
   "cell_type": "markdown",
   "metadata": {},
   "source": [
    "Calculate t-statistic for Sales ~ f(Radio)"
   ]
  },
  {
   "cell_type": "code",
   "execution_count": 22,
   "metadata": {
    "scrolled": true
   },
   "outputs": [
    {
     "data": {
      "text/plain": [
       "\n",
       "Call:\n",
       "lm(formula = sales ~ radio, data = adv)\n",
       "\n",
       "Residuals:\n",
       "     Min       1Q   Median       3Q      Max \n",
       "-15.7305  -2.1324   0.7707   2.7775   8.1810 \n",
       "\n",
       "Coefficients:\n",
       "            Estimate Std. Error t value Pr(>|t|)    \n",
       "(Intercept)  9.31164    0.56290  16.542   <2e-16 ***\n",
       "radio        0.20250    0.02041   9.921   <2e-16 ***\n",
       "---\n",
       "Signif. codes:  0 '***' 0.001 '**' 0.01 '*' 0.05 '.' 0.1 ' ' 1\n",
       "\n",
       "Residual standard error: 4.275 on 198 degrees of freedom\n",
       "Multiple R-squared:  0.332,\tAdjusted R-squared:  0.3287 \n",
       "F-statistic: 98.42 on 1 and 198 DF,  p-value: < 2.2e-16\n"
      ]
     },
     "metadata": {},
     "output_type": "display_data"
    }
   ],
   "source": [
    "# Show the model of Sales ~ f(Radio)\n",
    "md <- lm(sales ~ radio, data=adv)\n",
    "summary(md)"
   ]
  },
  {
   "cell_type": "code",
   "execution_count": 23,
   "metadata": {},
   "outputs": [
    {
     "name": "stdout",
     "output_type": "stream",
     "text": [
      "[1] \"B0 t-statistic: 16.5422453112582\"\n",
      "[1] \"B1 t-statistic: 9.92076547282496\"\n"
     ]
    }
   ],
   "source": [
    "md <- lm(sales ~ radio, data=adv)\n",
    "\n",
    "#t: (B1-0)/SE\n",
    "#Manual SE calculation: using B values from exercise 2\n",
    "n <- nrow(adv)\n",
    "fitted <- (adv$sales - B0_2 - B1_2*adv$radio)**2\n",
    "RSS <- sum(fitted)\n",
    "RSE <- sqrt(RSS/(n-2))\n",
    "\n",
    "SE_m <- sqrt(RSE^2*(1/n + (avg_radio^2)/sum((adv$radio - avg_radio)^2)))\n",
    "SE_m[2] <- sqrt(RSE^2/sum((adv$radio - avg_radio)^2))\n",
    "\n",
    "# #using B values from exercise 2\n",
    "t_B0 <- B0_2/SE_m[1]\n",
    "t_B1 <- B1_2/SE_m[2]\n",
    "\n",
    "print(paste(\"B0 t-statistic:\",t_B0))\n",
    "print(paste(\"B1 t-statistic:\",t_B1))"
   ]
  },
  {
   "cell_type": "markdown",
   "metadata": {},
   "source": [
    "Calculate t-statistic for Sales ~ f(Newspaper)"
   ]
  },
  {
   "cell_type": "code",
   "execution_count": 24,
   "metadata": {},
   "outputs": [
    {
     "data": {
      "text/plain": [
       "\n",
       "Call:\n",
       "lm(formula = sales ~ newspaper, data = adv)\n",
       "\n",
       "Residuals:\n",
       "     Min       1Q   Median       3Q      Max \n",
       "-11.2272  -3.3873  -0.8392   3.5059  12.7751 \n",
       "\n",
       "Coefficients:\n",
       "            Estimate Std. Error t value Pr(>|t|)    \n",
       "(Intercept) 12.35141    0.62142   19.88  < 2e-16 ***\n",
       "newspaper    0.05469    0.01658    3.30  0.00115 ** \n",
       "---\n",
       "Signif. codes:  0 '***' 0.001 '**' 0.01 '*' 0.05 '.' 0.1 ' ' 1\n",
       "\n",
       "Residual standard error: 5.092 on 198 degrees of freedom\n",
       "Multiple R-squared:  0.05212,\tAdjusted R-squared:  0.04733 \n",
       "F-statistic: 10.89 on 1 and 198 DF,  p-value: 0.001148\n"
      ]
     },
     "metadata": {},
     "output_type": "display_data"
    }
   ],
   "source": [
    "# Show the model of Sales ~ f(Newspaper)\n",
    "md_np <- lm(sales ~ newspaper, data=adv)\n",
    "summary(md_np)"
   ]
  },
  {
   "cell_type": "code",
   "execution_count": 25,
   "metadata": {},
   "outputs": [
    {
     "name": "stdout",
     "output_type": "stream",
     "text": [
      "[1] \"B0 t-statistic: 19.8760956202489\"\n",
      "[1] \"B1 t-statistic: 3.29959074363342\"\n"
     ]
    }
   ],
   "source": [
    "avg_np <-  mean(adv$newspaper)\n",
    "\n",
    "#using avg_y from Exercise 1\n",
    "B1_n <- sum((adv$newspaper-avg_np)*(adv$sales-avg_y))/sum((adv$newspaper-avg_np)^2)\n",
    "B0_n <- avg_y - B1_n * avg_np\n",
    "\n",
    "n <- nrow(adv)\n",
    "fitted <- (adv$sales - B0_n - B1_n*adv$newspaper)**2\n",
    "RSS <- sum(fitted)\n",
    "RSE <- sqrt(RSS/(n-2))\n",
    "\n",
    "SE_n <- sqrt(RSE^2*(1/n + (avg_np^2)/sum((adv$newspaper - avg_np)^2)))\n",
    "SE_n[2] <- sqrt(RSE^2/sum((adv$newspaper - avg_np)^2))\n",
    "\n",
    "t_B0n <- B0_n/SE_n[1]\n",
    "t_B1n <- B1_n/SE_n[2]\n",
    "\n",
    "print(paste(\"B0 t-statistic:\",t_B0n))\n",
    "print(paste(\"B1 t-statistic:\",t_B1n))"
   ]
  },
  {
   "cell_type": "markdown",
   "metadata": {},
   "source": [
    "**Exercise 5:** Calculate the RSE and R-squared for predictors radio and newspaper."
   ]
  },
  {
   "cell_type": "markdown",
   "metadata": {},
   "source": [
    "Calculate the RSE and R-squared for Sales ~ f(Radio)"
   ]
  },
  {
   "cell_type": "code",
   "execution_count": 26,
   "metadata": {},
   "outputs": [
    {
     "data": {
      "text/plain": [
       "\n",
       "Call:\n",
       "lm(formula = sales ~ radio, data = adv)\n",
       "\n",
       "Residuals:\n",
       "     Min       1Q   Median       3Q      Max \n",
       "-15.7305  -2.1324   0.7707   2.7775   8.1810 \n",
       "\n",
       "Coefficients:\n",
       "            Estimate Std. Error t value Pr(>|t|)    \n",
       "(Intercept)  9.31164    0.56290  16.542   <2e-16 ***\n",
       "radio        0.20250    0.02041   9.921   <2e-16 ***\n",
       "---\n",
       "Signif. codes:  0 '***' 0.001 '**' 0.01 '*' 0.05 '.' 0.1 ' ' 1\n",
       "\n",
       "Residual standard error: 4.275 on 198 degrees of freedom\n",
       "Multiple R-squared:  0.332,\tAdjusted R-squared:  0.3287 \n",
       "F-statistic: 98.42 on 1 and 198 DF,  p-value: < 2.2e-16\n"
      ]
     },
     "metadata": {},
     "output_type": "display_data"
    }
   ],
   "source": [
    "# Show the model of Sales ~ f(Radio)\n",
    "md <- lm(sales ~ radio, data=adv)\n",
    "summary(md)"
   ]
  },
  {
   "cell_type": "code",
   "execution_count": 27,
   "metadata": {},
   "outputs": [
    {
     "name": "stdout",
     "output_type": "stream",
     "text": [
      "RSE: 4.27494435490106 \n",
      "R2: 0.332032455445295"
     ]
    }
   ],
   "source": [
    "#RSE: sqrt(1/(n-2)*sum(yi-ypred)^2)\n",
    "n <- nrow(adv)\n",
    "rse <- sqrt(sum((adv$sales-md$fitted.values)^2)/(n-2))\n",
    "\n",
    "#R2: \n",
    "rss <- rse^2*(n-2)\n",
    "tss <- sum((adv$sales-avg_y)^2)\n",
    "r2 <- 1 - rss/tss\n",
    "\n",
    "cat(paste(\"RSE:\",rse,\"\\nR2:\",r2))"
   ]
  },
  {
   "cell_type": "markdown",
   "metadata": {},
   "source": [
    "Calculate the RSE and R-squared for Sales ~ f(Newspaper)"
   ]
  },
  {
   "cell_type": "code",
   "execution_count": 28,
   "metadata": {},
   "outputs": [
    {
     "data": {
      "text/plain": [
       "\n",
       "Call:\n",
       "lm(formula = sales ~ newspaper, data = adv)\n",
       "\n",
       "Residuals:\n",
       "     Min       1Q   Median       3Q      Max \n",
       "-11.2272  -3.3873  -0.8392   3.5059  12.7751 \n",
       "\n",
       "Coefficients:\n",
       "            Estimate Std. Error t value Pr(>|t|)    \n",
       "(Intercept) 12.35141    0.62142   19.88  < 2e-16 ***\n",
       "newspaper    0.05469    0.01658    3.30  0.00115 ** \n",
       "---\n",
       "Signif. codes:  0 '***' 0.001 '**' 0.01 '*' 0.05 '.' 0.1 ' ' 1\n",
       "\n",
       "Residual standard error: 5.092 on 198 degrees of freedom\n",
       "Multiple R-squared:  0.05212,\tAdjusted R-squared:  0.04733 \n",
       "F-statistic: 10.89 on 1 and 198 DF,  p-value: 0.001148\n"
      ]
     },
     "metadata": {},
     "output_type": "display_data"
    }
   ],
   "source": [
    "# Show the model of Sales ~ f(Newspaper)\n",
    "md <- lm(sales ~ newspaper, data=adv)\n",
    "summary(md)"
   ]
  },
  {
   "cell_type": "code",
   "execution_count": 29,
   "metadata": {},
   "outputs": [
    {
     "name": "stdout",
     "output_type": "stream",
     "text": [
      "RSE: 5.09248036652019 \n",
      "R2: 0.0521204454443052"
     ]
    }
   ],
   "source": [
    "#RSE: sqrt(1/(n-2)*sum(yi-ypred)^2)\n",
    "n <- nrow(adv)\n",
    "rse <- sqrt(sum((adv$sales-md$fitted.values)^2)/(n-2))\n",
    "\n",
    "#R2: \n",
    "rss <- rse^2*(n-2)\n",
    "tss <- sum((adv$sales-avg_y)^2)\n",
    "r2 <- 1 - rss/tss\n",
    "\n",
    "cat(paste(\"RSE:\",rse,\"\\nR2:\",r2))"
   ]
  },
  {
   "cell_type": "markdown",
   "metadata": {},
   "source": [
    "**4. Multiple Linear Regression**"
   ]
  },
  {
   "cell_type": "code",
   "execution_count": 30,
   "metadata": {},
   "outputs": [
    {
     "data": {
      "text/html": [
       "<table>\n",
       "<thead><tr><th scope=col>TV</th><th scope=col>radio</th><th scope=col>newspaper</th><th scope=col>sales</th></tr></thead>\n",
       "<tbody>\n",
       "\t<tr><td>230.1</td><td>37.8 </td><td>69.2 </td><td>22.1 </td></tr>\n",
       "\t<tr><td> 44.5</td><td>39.3 </td><td>45.1 </td><td>10.4 </td></tr>\n",
       "\t<tr><td> 17.2</td><td>45.9 </td><td>69.3 </td><td> 9.3 </td></tr>\n",
       "\t<tr><td>151.5</td><td>41.3 </td><td>58.5 </td><td>18.5 </td></tr>\n",
       "\t<tr><td>180.8</td><td>10.8 </td><td>58.4 </td><td>12.9 </td></tr>\n",
       "\t<tr><td>  8.7</td><td>48.9 </td><td>75.0 </td><td> 7.2 </td></tr>\n",
       "</tbody>\n",
       "</table>\n"
      ],
      "text/latex": [
       "\\begin{tabular}{r|llll}\n",
       " TV & radio & newspaper & sales\\\\\n",
       "\\hline\n",
       "\t 230.1 & 37.8  & 69.2  & 22.1 \\\\\n",
       "\t  44.5 & 39.3  & 45.1  & 10.4 \\\\\n",
       "\t  17.2 & 45.9  & 69.3  &  9.3 \\\\\n",
       "\t 151.5 & 41.3  & 58.5  & 18.5 \\\\\n",
       "\t 180.8 & 10.8  & 58.4  & 12.9 \\\\\n",
       "\t   8.7 & 48.9  & 75.0  &  7.2 \\\\\n",
       "\\end{tabular}\n"
      ],
      "text/markdown": [
       "\n",
       "| TV | radio | newspaper | sales |\n",
       "|---|---|---|---|\n",
       "| 230.1 | 37.8  | 69.2  | 22.1  |\n",
       "|  44.5 | 39.3  | 45.1  | 10.4  |\n",
       "|  17.2 | 45.9  | 69.3  |  9.3  |\n",
       "| 151.5 | 41.3  | 58.5  | 18.5  |\n",
       "| 180.8 | 10.8  | 58.4  | 12.9  |\n",
       "|   8.7 | 48.9  | 75.0  |  7.2  |\n",
       "\n"
      ],
      "text/plain": [
       "  TV    radio newspaper sales\n",
       "1 230.1 37.8  69.2      22.1 \n",
       "2  44.5 39.3  45.1      10.4 \n",
       "3  17.2 45.9  69.3       9.3 \n",
       "4 151.5 41.3  58.5      18.5 \n",
       "5 180.8 10.8  58.4      12.9 \n",
       "6   8.7 48.9  75.0       7.2 "
      ]
     },
     "metadata": {},
     "output_type": "display_data"
    },
    {
     "name": "stdout",
     "output_type": "stream",
     "text": [
      "'data.frame':\t200 obs. of  4 variables:\n",
      " $ TV       : num  230.1 44.5 17.2 151.5 180.8 ...\n",
      " $ radio    : num  37.8 39.3 45.9 41.3 10.8 48.9 32.8 19.6 2.1 2.6 ...\n",
      " $ newspaper: num  69.2 45.1 69.3 58.5 58.4 75 23.5 11.6 1 21.2 ...\n",
      " $ sales    : num  22.1 10.4 9.3 18.5 12.9 7.2 11.8 13.2 4.8 10.6 ...\n"
     ]
    }
   ],
   "source": [
    "# Import Advertising data\n",
    "adv <- read.csv('./data/Advertising.csv', row.names=1)\n",
    "head(adv)\n",
    "str(adv)"
   ]
  },
  {
   "cell_type": "markdown",
   "metadata": {},
   "source": [
    "**Exercise 6:** Use the matrix formula to estimate the parameters of multilinear regression model."
   ]
  },
  {
   "cell_type": "code",
   "execution_count": 31,
   "metadata": {},
   "outputs": [],
   "source": [
    "y <- as.matrix(adv$sales)\n",
    "x <- as.matrix(cbind(1,adv[,1:3]))"
   ]
  },
  {
   "cell_type": "code",
   "execution_count": 32,
   "metadata": {},
   "outputs": [
    {
     "data": {
      "text/html": [
       "<table>\n",
       "<tbody>\n",
       "\t<tr><th scope=row>1</th><td> 2.938889369</td></tr>\n",
       "\t<tr><th scope=row>TV</th><td> 0.045764645</td></tr>\n",
       "\t<tr><th scope=row>radio</th><td> 0.188530017</td></tr>\n",
       "\t<tr><th scope=row>newspaper</th><td>-0.001037493</td></tr>\n",
       "</tbody>\n",
       "</table>\n"
      ],
      "text/latex": [
       "\\begin{tabular}{r|l}\n",
       "\t1 &  2.938889369\\\\\n",
       "\tTV &  0.045764645\\\\\n",
       "\tradio &  0.188530017\\\\\n",
       "\tnewspaper & -0.001037493\\\\\n",
       "\\end{tabular}\n"
      ],
      "text/markdown": [
       "\n",
       "| 1 |  2.938889369 |\n",
       "| TV |  0.045764645 |\n",
       "| radio |  0.188530017 |\n",
       "| newspaper | -0.001037493 |\n",
       "\n"
      ],
      "text/plain": [
       "          [,1]        \n",
       "1          2.938889369\n",
       "TV         0.045764645\n",
       "radio      0.188530017\n",
       "newspaper -0.001037493"
      ]
     },
     "metadata": {},
     "output_type": "display_data"
    }
   ],
   "source": [
    "#solve: inverse matrix\n",
    "solve(t(x) %*% x) %*% t(x) %*% y"
   ]
  },
  {
   "cell_type": "code",
   "execution_count": 33,
   "metadata": {},
   "outputs": [
    {
     "data": {
      "text/plain": [
       "\n",
       "Call:\n",
       "lm(formula = sales ~ ., data = adv)\n",
       "\n",
       "Residuals:\n",
       "    Min      1Q  Median      3Q     Max \n",
       "-8.8277 -0.8908  0.2418  1.1893  2.8292 \n",
       "\n",
       "Coefficients:\n",
       "             Estimate Std. Error t value Pr(>|t|)    \n",
       "(Intercept)  2.938889   0.311908   9.422   <2e-16 ***\n",
       "TV           0.045765   0.001395  32.809   <2e-16 ***\n",
       "radio        0.188530   0.008611  21.893   <2e-16 ***\n",
       "newspaper   -0.001037   0.005871  -0.177     0.86    \n",
       "---\n",
       "Signif. codes:  0 '***' 0.001 '**' 0.01 '*' 0.05 '.' 0.1 ' ' 1\n",
       "\n",
       "Residual standard error: 1.686 on 196 degrees of freedom\n",
       "Multiple R-squared:  0.8972,\tAdjusted R-squared:  0.8956 \n",
       "F-statistic: 570.3 on 3 and 196 DF,  p-value: < 2.2e-16\n"
      ]
     },
     "metadata": {},
     "output_type": "display_data"
    }
   ],
   "source": [
    "# Compare with the function of R\n",
    "md <- lm(sales ~ ., data=adv)\n",
    "summary(md)"
   ]
  },
  {
   "cell_type": "markdown",
   "metadata": {},
   "source": [
    "## Lab: \n",
    "\n",
    "1. Construct your own Multiple Linear Regression model on Credit data.\n",
    "\n",
    "2. Linear Regression with Interactions term on Advertising data.\n",
    "\n",
    "3. Polynomial regression on Auto data."
   ]
  },
  {
   "cell_type": "markdown",
   "metadata": {},
   "source": [
    "**1. Construct your own Multiple Linear Regression model on Credit data: Predict customer balance**"
   ]
  },
  {
   "cell_type": "code",
   "execution_count": 34,
   "metadata": {},
   "outputs": [
    {
     "data": {
      "text/html": [
       "<table>\n",
       "<thead><tr><th scope=col>Income</th><th scope=col>Limit</th><th scope=col>Rating</th><th scope=col>Cards</th><th scope=col>Age</th><th scope=col>Education</th><th scope=col>Gender</th><th scope=col>Student</th><th scope=col>Married</th><th scope=col>Ethnicity</th><th scope=col>Balance</th></tr></thead>\n",
       "<tbody>\n",
       "\t<tr><td> 14.891  </td><td>3606     </td><td>283      </td><td>2        </td><td>34       </td><td>11       </td><td> Male    </td><td>No       </td><td>Yes      </td><td>Caucasian</td><td> 333     </td></tr>\n",
       "\t<tr><td>106.025  </td><td>6645     </td><td>483      </td><td>3        </td><td>82       </td><td>15       </td><td>Female   </td><td>Yes      </td><td>Yes      </td><td>Asian    </td><td> 903     </td></tr>\n",
       "\t<tr><td>104.593  </td><td>7075     </td><td>514      </td><td>4        </td><td>71       </td><td>11       </td><td> Male    </td><td>No       </td><td>No       </td><td>Asian    </td><td> 580     </td></tr>\n",
       "\t<tr><td>148.924  </td><td>9504     </td><td>681      </td><td>3        </td><td>36       </td><td>11       </td><td>Female   </td><td>No       </td><td>No       </td><td>Asian    </td><td> 964     </td></tr>\n",
       "\t<tr><td> 55.882  </td><td>4897     </td><td>357      </td><td>2        </td><td>68       </td><td>16       </td><td> Male    </td><td>No       </td><td>Yes      </td><td>Caucasian</td><td> 331     </td></tr>\n",
       "\t<tr><td> 80.180  </td><td>8047     </td><td>569      </td><td>4        </td><td>77       </td><td>10       </td><td> Male    </td><td>No       </td><td>No       </td><td>Caucasian</td><td>1151     </td></tr>\n",
       "</tbody>\n",
       "</table>\n"
      ],
      "text/latex": [
       "\\begin{tabular}{r|lllllllllll}\n",
       " Income & Limit & Rating & Cards & Age & Education & Gender & Student & Married & Ethnicity & Balance\\\\\n",
       "\\hline\n",
       "\t  14.891   & 3606      & 283       & 2         & 34        & 11        &  Male     & No        & Yes       & Caucasian &  333     \\\\\n",
       "\t 106.025   & 6645      & 483       & 3         & 82        & 15        & Female    & Yes       & Yes       & Asian     &  903     \\\\\n",
       "\t 104.593   & 7075      & 514       & 4         & 71        & 11        &  Male     & No        & No        & Asian     &  580     \\\\\n",
       "\t 148.924   & 9504      & 681       & 3         & 36        & 11        & Female    & No        & No        & Asian     &  964     \\\\\n",
       "\t  55.882   & 4897      & 357       & 2         & 68        & 16        &  Male     & No        & Yes       & Caucasian &  331     \\\\\n",
       "\t  80.180   & 8047      & 569       & 4         & 77        & 10        &  Male     & No        & No        & Caucasian & 1151     \\\\\n",
       "\\end{tabular}\n"
      ],
      "text/markdown": [
       "\n",
       "| Income | Limit | Rating | Cards | Age | Education | Gender | Student | Married | Ethnicity | Balance |\n",
       "|---|---|---|---|---|---|---|---|---|---|---|\n",
       "|  14.891   | 3606      | 283       | 2         | 34        | 11        |  Male     | No        | Yes       | Caucasian |  333      |\n",
       "| 106.025   | 6645      | 483       | 3         | 82        | 15        | Female    | Yes       | Yes       | Asian     |  903      |\n",
       "| 104.593   | 7075      | 514       | 4         | 71        | 11        |  Male     | No        | No        | Asian     |  580      |\n",
       "| 148.924   | 9504      | 681       | 3         | 36        | 11        | Female    | No        | No        | Asian     |  964      |\n",
       "|  55.882   | 4897      | 357       | 2         | 68        | 16        |  Male     | No        | Yes       | Caucasian |  331      |\n",
       "|  80.180   | 8047      | 569       | 4         | 77        | 10        |  Male     | No        | No        | Caucasian | 1151      |\n",
       "\n"
      ],
      "text/plain": [
       "  Income  Limit Rating Cards Age Education Gender Student Married Ethnicity\n",
       "1  14.891 3606  283    2     34  11         Male  No      Yes     Caucasian\n",
       "2 106.025 6645  483    3     82  15        Female Yes     Yes     Asian    \n",
       "3 104.593 7075  514    4     71  11         Male  No      No      Asian    \n",
       "4 148.924 9504  681    3     36  11        Female No      No      Asian    \n",
       "5  55.882 4897  357    2     68  16         Male  No      Yes     Caucasian\n",
       "6  80.180 8047  569    4     77  10         Male  No      No      Caucasian\n",
       "  Balance\n",
       "1  333   \n",
       "2  903   \n",
       "3  580   \n",
       "4  964   \n",
       "5  331   \n",
       "6 1151   "
      ]
     },
     "metadata": {},
     "output_type": "display_data"
    }
   ],
   "source": [
    "# Import data\n",
    "credit <- read.csv('./data/Credit.csv', row.names=1)\n",
    "head(credit)"
   ]
  },
  {
   "cell_type": "markdown",
   "metadata": {},
   "source": [
    "Using the matrix formula to manually estimate the multiple linear regression model with 3 predictors Age, Rating, Limit."
   ]
  },
  {
   "cell_type": "code",
   "execution_count": 35,
   "metadata": {},
   "outputs": [
    {
     "data": {
      "text/html": [
       "<table>\n",
       "<tbody>\n",
       "\t<tr><th scope=row>1</th><td>-259.51751854</td></tr>\n",
       "\t<tr><th scope=row>Age</th><td>  -2.34575164</td></tr>\n",
       "\t<tr><th scope=row>Rating</th><td>   2.31045954</td></tr>\n",
       "\t<tr><th scope=row>Limit</th><td>   0.01901346</td></tr>\n",
       "</tbody>\n",
       "</table>\n"
      ],
      "text/latex": [
       "\\begin{tabular}{r|l}\n",
       "\t1 & -259.51751854\\\\\n",
       "\tAge &   -2.34575164\\\\\n",
       "\tRating &    2.31045954\\\\\n",
       "\tLimit &    0.01901346\\\\\n",
       "\\end{tabular}\n"
      ],
      "text/markdown": [
       "\n",
       "| 1 | -259.51751854 |\n",
       "| Age |   -2.34575164 |\n",
       "| Rating |    2.31045954 |\n",
       "| Limit |    0.01901346 |\n",
       "\n"
      ],
      "text/plain": [
       "       [,1]         \n",
       "1      -259.51751854\n",
       "Age      -2.34575164\n",
       "Rating    2.31045954\n",
       "Limit     0.01901346"
      ]
     },
     "metadata": {},
     "output_type": "display_data"
    }
   ],
   "source": [
    "y <- as.matrix(credit$Balance)\n",
    "x <- as.matrix(cbind(1,credit[,c(\"Age\",\"Rating\",\"Limit\")]))\n",
    "\n",
    "#solve: inverse matrix\n",
    "solve(t(x) %*% x) %*% t(x) %*% y"
   ]
  },
  {
   "cell_type": "code",
   "execution_count": 36,
   "metadata": {},
   "outputs": [
    {
     "data": {
      "text/plain": [
       "\n",
       "Call:\n",
       "lm(formula = Balance ~ Age + Rating + Limit, data = credit)\n",
       "\n",
       "Residuals:\n",
       "    Min      1Q  Median      3Q     Max \n",
       "-729.67 -135.82   -8.58  127.29  827.65 \n",
       "\n",
       "Coefficients:\n",
       "              Estimate Std. Error t value Pr(>|t|)    \n",
       "(Intercept) -259.51752   55.88219  -4.644 4.66e-06 ***\n",
       "Age           -2.34575    0.66861  -3.508 0.000503 ***\n",
       "Rating         2.31046    0.93953   2.459 0.014352 *  \n",
       "Limit          0.01901    0.06296   0.302 0.762830    \n",
       "---\n",
       "Signif. codes:  0 '***' 0.001 '**' 0.01 '*' 0.05 '.' 0.1 ' ' 1\n",
       "\n",
       "Residual standard error: 229.1 on 396 degrees of freedom\n",
       "Multiple R-squared:  0.7536,\tAdjusted R-squared:  0.7517 \n",
       "F-statistic: 403.7 on 3 and 396 DF,  p-value: < 2.2e-16\n"
      ]
     },
     "metadata": {},
     "output_type": "display_data"
    }
   ],
   "source": [
    "# Compare with function of R\n",
    "md_full <- lm(Balance ~ Age + Rating + Limit, data=credit)\n",
    "summary(md_full)"
   ]
  },
  {
   "cell_type": "markdown",
   "metadata": {},
   "source": [
    "**2. Linear Regression with Interactions term on Advertising data: Predict sales**"
   ]
  },
  {
   "cell_type": "code",
   "execution_count": 37,
   "metadata": {},
   "outputs": [
    {
     "data": {
      "text/html": [
       "<table>\n",
       "<thead><tr><th scope=col>TV</th><th scope=col>radio</th><th scope=col>newspaper</th><th scope=col>sales</th></tr></thead>\n",
       "<tbody>\n",
       "\t<tr><td>230.1</td><td>37.8 </td><td>69.2 </td><td>22.1 </td></tr>\n",
       "\t<tr><td> 44.5</td><td>39.3 </td><td>45.1 </td><td>10.4 </td></tr>\n",
       "\t<tr><td> 17.2</td><td>45.9 </td><td>69.3 </td><td> 9.3 </td></tr>\n",
       "\t<tr><td>151.5</td><td>41.3 </td><td>58.5 </td><td>18.5 </td></tr>\n",
       "\t<tr><td>180.8</td><td>10.8 </td><td>58.4 </td><td>12.9 </td></tr>\n",
       "\t<tr><td>  8.7</td><td>48.9 </td><td>75.0 </td><td> 7.2 </td></tr>\n",
       "</tbody>\n",
       "</table>\n"
      ],
      "text/latex": [
       "\\begin{tabular}{r|llll}\n",
       " TV & radio & newspaper & sales\\\\\n",
       "\\hline\n",
       "\t 230.1 & 37.8  & 69.2  & 22.1 \\\\\n",
       "\t  44.5 & 39.3  & 45.1  & 10.4 \\\\\n",
       "\t  17.2 & 45.9  & 69.3  &  9.3 \\\\\n",
       "\t 151.5 & 41.3  & 58.5  & 18.5 \\\\\n",
       "\t 180.8 & 10.8  & 58.4  & 12.9 \\\\\n",
       "\t   8.7 & 48.9  & 75.0  &  7.2 \\\\\n",
       "\\end{tabular}\n"
      ],
      "text/markdown": [
       "\n",
       "| TV | radio | newspaper | sales |\n",
       "|---|---|---|---|\n",
       "| 230.1 | 37.8  | 69.2  | 22.1  |\n",
       "|  44.5 | 39.3  | 45.1  | 10.4  |\n",
       "|  17.2 | 45.9  | 69.3  |  9.3  |\n",
       "| 151.5 | 41.3  | 58.5  | 18.5  |\n",
       "| 180.8 | 10.8  | 58.4  | 12.9  |\n",
       "|   8.7 | 48.9  | 75.0  |  7.2  |\n",
       "\n"
      ],
      "text/plain": [
       "  TV    radio newspaper sales\n",
       "1 230.1 37.8  69.2      22.1 \n",
       "2  44.5 39.3  45.1      10.4 \n",
       "3  17.2 45.9  69.3       9.3 \n",
       "4 151.5 41.3  58.5      18.5 \n",
       "5 180.8 10.8  58.4      12.9 \n",
       "6   8.7 48.9  75.0       7.2 "
      ]
     },
     "metadata": {},
     "output_type": "display_data"
    }
   ],
   "source": [
    "# Read Advertising data\n",
    "adv <- read.csv('./data/Advertising.csv', row.names=1)\n",
    "head(adv)"
   ]
  },
  {
   "cell_type": "code",
   "execution_count": 38,
   "metadata": {},
   "outputs": [
    {
     "data": {
      "text/plain": [
       "\n",
       "Call:\n",
       "lm(formula = sales ~ ., data = adv)\n",
       "\n",
       "Residuals:\n",
       "    Min      1Q  Median      3Q     Max \n",
       "-8.8277 -0.8908  0.2418  1.1893  2.8292 \n",
       "\n",
       "Coefficients:\n",
       "             Estimate Std. Error t value Pr(>|t|)    \n",
       "(Intercept)  2.938889   0.311908   9.422   <2e-16 ***\n",
       "TV           0.045765   0.001395  32.809   <2e-16 ***\n",
       "radio        0.188530   0.008611  21.893   <2e-16 ***\n",
       "newspaper   -0.001037   0.005871  -0.177     0.86    \n",
       "---\n",
       "Signif. codes:  0 '***' 0.001 '**' 0.01 '*' 0.05 '.' 0.1 ' ' 1\n",
       "\n",
       "Residual standard error: 1.686 on 196 degrees of freedom\n",
       "Multiple R-squared:  0.8972,\tAdjusted R-squared:  0.8956 \n",
       "F-statistic: 570.3 on 3 and 196 DF,  p-value: < 2.2e-16\n"
      ]
     },
     "metadata": {},
     "output_type": "display_data"
    }
   ],
   "source": [
    "md <- lm(sales ~., data=adv)\n",
    "summary(md)"
   ]
  },
  {
   "cell_type": "code",
   "execution_count": 39,
   "metadata": {},
   "outputs": [
    {
     "data": {
      "text/plain": [
       "\n",
       "Call:\n",
       "lm(formula = sales ~ TV + radio + TV * newspaper, data = adv)\n",
       "\n",
       "Coefficients:\n",
       " (Intercept)            TV         radio     newspaper  TV:newspaper  \n",
       "   3.8730824     0.0392940     0.1901312    -0.0320450     0.0002017  \n"
      ]
     },
     "metadata": {},
     "output_type": "display_data"
    },
    {
     "data": {
      "text/plain": [
       "\n",
       "Call:\n",
       "lm(formula = sales ~ ., data = adv)\n",
       "\n",
       "Residuals:\n",
       "    Min      1Q  Median      3Q     Max \n",
       "-8.8277 -0.8908  0.2418  1.1893  2.8292 \n",
       "\n",
       "Coefficients:\n",
       "             Estimate Std. Error t value Pr(>|t|)    \n",
       "(Intercept)  2.938889   0.311908   9.422   <2e-16 ***\n",
       "TV           0.045765   0.001395  32.809   <2e-16 ***\n",
       "radio        0.188530   0.008611  21.893   <2e-16 ***\n",
       "newspaper   -0.001037   0.005871  -0.177     0.86    \n",
       "---\n",
       "Signif. codes:  0 '***' 0.001 '**' 0.01 '*' 0.05 '.' 0.1 ' ' 1\n",
       "\n",
       "Residual standard error: 1.686 on 196 degrees of freedom\n",
       "Multiple R-squared:  0.8972,\tAdjusted R-squared:  0.8956 \n",
       "F-statistic: 570.3 on 3 and 196 DF,  p-value: < 2.2e-16\n"
      ]
     },
     "metadata": {},
     "output_type": "display_data"
    }
   ],
   "source": [
    "lm(sales ~ TV + radio + TV * newspaper, data=adv) #*: interaction\n",
    "summary(md)"
   ]
  },
  {
   "cell_type": "markdown",
   "metadata": {},
   "source": [
    "**3. Polynomial regression on Auto data: Predict miles per gallon of the car (mpg)**"
   ]
  },
  {
   "cell_type": "code",
   "execution_count": 40,
   "metadata": {},
   "outputs": [
    {
     "name": "stderr",
     "output_type": "stream",
     "text": [
      "Warning message in eval(expr, envir, enclos):\n",
      "\"NAs introduced by coercion\""
     ]
    },
    {
     "data": {
      "text/html": [
       "<table>\n",
       "<thead><tr><th scope=col>mpg</th><th scope=col>cylinders</th><th scope=col>displacement</th><th scope=col>horsepower</th><th scope=col>weight</th><th scope=col>acceleration</th><th scope=col>year</th><th scope=col>origin</th><th scope=col>name</th></tr></thead>\n",
       "<tbody>\n",
       "\t<tr><td>18                       </td><td>8                        </td><td>307                      </td><td>130                      </td><td>3504                     </td><td>12.0                     </td><td>70                       </td><td>1                        </td><td>chevrolet chevelle malibu</td></tr>\n",
       "\t<tr><td>15                       </td><td>8                        </td><td>350                      </td><td>165                      </td><td>3693                     </td><td>11.5                     </td><td>70                       </td><td>1                        </td><td>buick skylark 320        </td></tr>\n",
       "\t<tr><td>18                       </td><td>8                        </td><td>318                      </td><td>150                      </td><td>3436                     </td><td>11.0                     </td><td>70                       </td><td>1                        </td><td>plymouth satellite       </td></tr>\n",
       "\t<tr><td>16                       </td><td>8                        </td><td>304                      </td><td>150                      </td><td>3433                     </td><td>12.0                     </td><td>70                       </td><td>1                        </td><td>amc rebel sst            </td></tr>\n",
       "\t<tr><td>17                       </td><td>8                        </td><td>302                      </td><td>140                      </td><td>3449                     </td><td>10.5                     </td><td>70                       </td><td>1                        </td><td>ford torino              </td></tr>\n",
       "\t<tr><td>15                       </td><td>8                        </td><td>429                      </td><td>198                      </td><td>4341                     </td><td>10.0                     </td><td>70                       </td><td>1                        </td><td>ford galaxie 500         </td></tr>\n",
       "</tbody>\n",
       "</table>\n"
      ],
      "text/latex": [
       "\\begin{tabular}{r|lllllllll}\n",
       " mpg & cylinders & displacement & horsepower & weight & acceleration & year & origin & name\\\\\n",
       "\\hline\n",
       "\t 18                        & 8                         & 307                       & 130                       & 3504                      & 12.0                      & 70                        & 1                         & chevrolet chevelle malibu\\\\\n",
       "\t 15                        & 8                         & 350                       & 165                       & 3693                      & 11.5                      & 70                        & 1                         & buick skylark 320        \\\\\n",
       "\t 18                        & 8                         & 318                       & 150                       & 3436                      & 11.0                      & 70                        & 1                         & plymouth satellite       \\\\\n",
       "\t 16                        & 8                         & 304                       & 150                       & 3433                      & 12.0                      & 70                        & 1                         & amc rebel sst            \\\\\n",
       "\t 17                        & 8                         & 302                       & 140                       & 3449                      & 10.5                      & 70                        & 1                         & ford torino              \\\\\n",
       "\t 15                        & 8                         & 429                       & 198                       & 4341                      & 10.0                      & 70                        & 1                         & ford galaxie 500         \\\\\n",
       "\\end{tabular}\n"
      ],
      "text/markdown": [
       "\n",
       "| mpg | cylinders | displacement | horsepower | weight | acceleration | year | origin | name |\n",
       "|---|---|---|---|---|---|---|---|---|\n",
       "| 18                        | 8                         | 307                       | 130                       | 3504                      | 12.0                      | 70                        | 1                         | chevrolet chevelle malibu |\n",
       "| 15                        | 8                         | 350                       | 165                       | 3693                      | 11.5                      | 70                        | 1                         | buick skylark 320         |\n",
       "| 18                        | 8                         | 318                       | 150                       | 3436                      | 11.0                      | 70                        | 1                         | plymouth satellite        |\n",
       "| 16                        | 8                         | 304                       | 150                       | 3433                      | 12.0                      | 70                        | 1                         | amc rebel sst             |\n",
       "| 17                        | 8                         | 302                       | 140                       | 3449                      | 10.5                      | 70                        | 1                         | ford torino               |\n",
       "| 15                        | 8                         | 429                       | 198                       | 4341                      | 10.0                      | 70                        | 1                         | ford galaxie 500          |\n",
       "\n"
      ],
      "text/plain": [
       "  mpg cylinders displacement horsepower weight acceleration year origin\n",
       "1 18  8         307          130        3504   12.0         70   1     \n",
       "2 15  8         350          165        3693   11.5         70   1     \n",
       "3 18  8         318          150        3436   11.0         70   1     \n",
       "4 16  8         304          150        3433   12.0         70   1     \n",
       "5 17  8         302          140        3449   10.5         70   1     \n",
       "6 15  8         429          198        4341   10.0         70   1     \n",
       "  name                     \n",
       "1 chevrolet chevelle malibu\n",
       "2 buick skylark 320        \n",
       "3 plymouth satellite       \n",
       "4 amc rebel sst            \n",
       "5 ford torino              \n",
       "6 ford galaxie 500         "
      ]
     },
     "metadata": {},
     "output_type": "display_data"
    },
    {
     "name": "stdout",
     "output_type": "stream",
     "text": [
      "Classes 'data.table' and 'data.frame':\t397 obs. of  9 variables:\n",
      " $ mpg         : num  18 15 18 16 17 15 14 14 14 15 ...\n",
      " $ cylinders   : int  8 8 8 8 8 8 8 8 8 8 ...\n",
      " $ displacement: num  307 350 318 304 302 429 454 440 455 390 ...\n",
      " $ horsepower  : num  130 165 150 150 140 198 220 215 225 190 ...\n",
      " $ weight      : int  3504 3693 3436 3433 3449 4341 4354 4312 4425 3850 ...\n",
      " $ acceleration: num  12 11.5 11 12 10.5 10 9 8.5 10 8.5 ...\n",
      " $ year        : int  70 70 70 70 70 70 70 70 70 70 ...\n",
      " $ origin      : int  1 1 1 1 1 1 1 1 1 1 ...\n",
      " $ name        : chr  \"chevrolet chevelle malibu\" \"buick skylark 320\" \"plymouth satellite\" \"amc rebel sst\" ...\n",
      " - attr(*, \".internal.selfref\")=<externalptr> \n"
     ]
    }
   ],
   "source": [
    "# Import data\n",
    "auto <- fread('./data/Auto.csv')\n",
    "auto$horsepower <- as.numeric(auto$horsepower)  # Correct data format\n",
    "head(auto)\n",
    "str(auto)"
   ]
  },
  {
   "cell_type": "markdown",
   "metadata": {},
   "source": [
    "# Book Exercises"
   ]
  },
  {
   "cell_type": "markdown",
   "metadata": {},
   "source": [
    "### Exercise 2 (p.52, Chap.2)\n",
    "a. This would be a regression problem as CEO salary is a quantitative output. We are interested in inference as the goal is to understand which factors affect CEO salary rather than predicting the amount. n=500, p=4 (profit, number of employees, industry and CEO salary).\n",
    "\n",
    "b. Classification problem, as success or failure is a binary qualitative variable. It is a predictive problem as the product has not yet been launched. n=20, p=13 (price, budget, competition price, and 10 other variables)\n",
    "\n",
    "c. Predictive regression problem as the output would be quantitative. n=52 (number of weeks), p=4 (% changes)"
   ]
  },
  {
   "cell_type": "markdown",
   "metadata": {},
   "source": [
    "### Exercise 10 (p.56, Chap.2)"
   ]
  },
  {
   "cell_type": "code",
   "execution_count": 41,
   "metadata": {},
   "outputs": [
    {
     "name": "stderr",
     "output_type": "stream",
     "text": [
      "Your code contains a unicode char which cannot be displayed in your\n",
      "current locale and R will silently convert it to an escaped form when the\n",
      "R kernel executes this code. This can lead to subtle errors if you use\n",
      "such chars to do comparisons. For more information, please see\n",
      "https://github.com/IRkernel/repr/wiki/Problems-with-unicode-on-windows"
     ]
    },
    {
     "data": {
      "text/html": [
       "<table>\n",
       "<thead><tr><th scope=col>crim</th><th scope=col>zn</th><th scope=col>indus</th><th scope=col>chas</th><th scope=col>nox</th><th scope=col>rm</th><th scope=col>age</th><th scope=col>dis</th><th scope=col>rad</th><th scope=col>tax</th><th scope=col>ptratio</th><th scope=col>black</th><th scope=col>lstat</th><th scope=col>medv</th></tr></thead>\n",
       "<tbody>\n",
       "\t<tr><td>0.00632</td><td>18     </td><td>2.31   </td><td>0      </td><td>0.538  </td><td>6.575  </td><td>65.2   </td><td>4.0900 </td><td>1      </td><td>296    </td><td>15.3   </td><td>396.90 </td><td>4.98   </td><td>24.0   </td></tr>\n",
       "\t<tr><td>0.02731</td><td> 0     </td><td>7.07   </td><td>0      </td><td>0.469  </td><td>6.421  </td><td>78.9   </td><td>4.9671 </td><td>2      </td><td>242    </td><td>17.8   </td><td>396.90 </td><td>9.14   </td><td>21.6   </td></tr>\n",
       "\t<tr><td>0.02729</td><td> 0     </td><td>7.07   </td><td>0      </td><td>0.469  </td><td>7.185  </td><td>61.1   </td><td>4.9671 </td><td>2      </td><td>242    </td><td>17.8   </td><td>392.83 </td><td>4.03   </td><td>34.7   </td></tr>\n",
       "\t<tr><td>0.03237</td><td> 0     </td><td>2.18   </td><td>0      </td><td>0.458  </td><td>6.998  </td><td>45.8   </td><td>6.0622 </td><td>3      </td><td>222    </td><td>18.7   </td><td>394.63 </td><td>2.94   </td><td>33.4   </td></tr>\n",
       "\t<tr><td>0.06905</td><td> 0     </td><td>2.18   </td><td>0      </td><td>0.458  </td><td>7.147  </td><td>54.2   </td><td>6.0622 </td><td>3      </td><td>222    </td><td>18.7   </td><td>396.90 </td><td>5.33   </td><td>36.2   </td></tr>\n",
       "\t<tr><td>0.02985</td><td> 0     </td><td>2.18   </td><td>0      </td><td>0.458  </td><td>6.430  </td><td>58.7   </td><td>6.0622 </td><td>3      </td><td>222    </td><td>18.7   </td><td>394.12 </td><td>5.21   </td><td>28.7   </td></tr>\n",
       "</tbody>\n",
       "</table>\n"
      ],
      "text/latex": [
       "\\begin{tabular}{r|llllllllllllll}\n",
       " crim & zn & indus & chas & nox & rm & age & dis & rad & tax & ptratio & black & lstat & medv\\\\\n",
       "\\hline\n",
       "\t 0.00632 & 18      & 2.31    & 0       & 0.538   & 6.575   & 65.2    & 4.0900  & 1       & 296     & 15.3    & 396.90  & 4.98    & 24.0   \\\\\n",
       "\t 0.02731 &  0      & 7.07    & 0       & 0.469   & 6.421   & 78.9    & 4.9671  & 2       & 242     & 17.8    & 396.90  & 9.14    & 21.6   \\\\\n",
       "\t 0.02729 &  0      & 7.07    & 0       & 0.469   & 7.185   & 61.1    & 4.9671  & 2       & 242     & 17.8    & 392.83  & 4.03    & 34.7   \\\\\n",
       "\t 0.03237 &  0      & 2.18    & 0       & 0.458   & 6.998   & 45.8    & 6.0622  & 3       & 222     & 18.7    & 394.63  & 2.94    & 33.4   \\\\\n",
       "\t 0.06905 &  0      & 2.18    & 0       & 0.458   & 7.147   & 54.2    & 6.0622  & 3       & 222     & 18.7    & 396.90  & 5.33    & 36.2   \\\\\n",
       "\t 0.02985 &  0      & 2.18    & 0       & 0.458   & 6.430   & 58.7    & 6.0622  & 3       & 222     & 18.7    & 394.12  & 5.21    & 28.7   \\\\\n",
       "\\end{tabular}\n"
      ],
      "text/markdown": [
       "\n",
       "| crim | zn | indus | chas | nox | rm | age | dis | rad | tax | ptratio | black | lstat | medv |\n",
       "|---|---|---|---|---|---|---|---|---|---|---|---|---|---|\n",
       "| 0.00632 | 18      | 2.31    | 0       | 0.538   | 6.575   | 65.2    | 4.0900  | 1       | 296     | 15.3    | 396.90  | 4.98    | 24.0    |\n",
       "| 0.02731 |  0      | 7.07    | 0       | 0.469   | 6.421   | 78.9    | 4.9671  | 2       | 242     | 17.8    | 396.90  | 9.14    | 21.6    |\n",
       "| 0.02729 |  0      | 7.07    | 0       | 0.469   | 7.185   | 61.1    | 4.9671  | 2       | 242     | 17.8    | 392.83  | 4.03    | 34.7    |\n",
       "| 0.03237 |  0      | 2.18    | 0       | 0.458   | 6.998   | 45.8    | 6.0622  | 3       | 222     | 18.7    | 394.63  | 2.94    | 33.4    |\n",
       "| 0.06905 |  0      | 2.18    | 0       | 0.458   | 7.147   | 54.2    | 6.0622  | 3       | 222     | 18.7    | 396.90  | 5.33    | 36.2    |\n",
       "| 0.02985 |  0      | 2.18    | 0       | 0.458   | 6.430   | 58.7    | 6.0622  | 3       | 222     | 18.7    | 394.12  | 5.21    | 28.7    |\n",
       "\n"
      ],
      "text/plain": [
       "  crim    zn indus chas nox   rm    age  dis    rad tax ptratio black  lstat\n",
       "1 0.00632 18 2.31  0    0.538 6.575 65.2 4.0900 1   296 15.3    396.90 4.98 \n",
       "2 0.02731  0 7.07  0    0.469 6.421 78.9 4.9671 2   242 17.8    396.90 9.14 \n",
       "3 0.02729  0 7.07  0    0.469 7.185 61.1 4.9671 2   242 17.8    392.83 4.03 \n",
       "4 0.03237  0 2.18  0    0.458 6.998 45.8 6.0622 3   222 18.7    394.63 2.94 \n",
       "5 0.06905  0 2.18  0    0.458 7.147 54.2 6.0622 3   222 18.7    396.90 5.33 \n",
       "6 0.02985  0 2.18  0    0.458 6.430 58.7 6.0622 3   222 18.7    394.12 5.21 \n",
       "  medv\n",
       "1 24.0\n",
       "2 21.6\n",
       "3 34.7\n",
       "4 33.4\n",
       "5 36.2\n",
       "6 28.7"
      ]
     },
     "metadata": {},
     "output_type": "display_data"
    }
   ],
   "source": [
    "#a.\n",
    "library(MASS)\n",
    "\n",
    "head(Boston)\n",
    "\n",
    "?Boston\n",
    "\n",
    "#The Boston data frame has 506 rows and 14 columns\n",
    "\n",
    "#This data frame contains the following columns:\n",
    "# crim: per capita crime rate by town.\n",
    "# zn: proportion of residential land zoned for lots over 25,000 sq.ft.\n",
    "# indus: proportion of non-retail business acres per town.\n",
    "# chas: Charles River dummy variable (= 1 if tract bounds river; 0 otherwise).\n",
    "# nox: nitrogen oxides concentration (parts per 10 million).\n",
    "# rm: average number of rooms per dwelling.\n",
    "# age: proportion of owner-occupied units built prior to 1940.\n",
    "# dis: weighted mean of distances to five Boston employment centres.\n",
    "# rad: index of accessibility to radial highways.\n",
    "# tax: full-value property-tax rate per $10,000.\n",
    "# ptratio: pupil-teacher ratio by town.\n",
    "# black: 1000(𝐵𝑘−0.63)2 where 𝐵𝑘 is the proportion of blacks by town.\n",
    "# lstat: lower status of the population (percent).\n",
    "# medv: median value of owner-occupied homes in $1000s."
   ]
  },
  {
   "cell_type": "code",
   "execution_count": 52,
   "metadata": {},
   "outputs": [
    {
     "data": {
      "image/png": "[encoded data removed]",
      "text/plain": [
       "plot without title"
      ]
     },
     "metadata": {},
     "output_type": "display_data"
    }
   ],
   "source": [
    "#b.\n",
    "pairs(~nox+age+dis+lstat,Boston,panel=panel.smooth)\n",
    "\n",
    "#nox x age: positive relationship (higher age, higher nox concentration), possibly exponential growth\n",
    "#nox x dis: is negative relationship (higher distance, lower nox), possibly exponential decay\n",
    "#nox x lstat: weak positive relationship (higher nox, higher lstat %), seems to be linear\n",
    "#age x dis: negative relationship (higher age, lower distance), linear\n",
    "#age x lstat: positive relationship (higher age, higher lstat), possibly log growth\n",
    "#dis x lstat: negative relationship, possible exponential decay"
   ]
  },
  {
   "cell_type": "code",
   "execution_count": 56,
   "metadata": {},
   "outputs": [
    {
     "data": {
      "image/png": "[encoded data removed]",
      "text/plain": [
       "plot without title"
      ]
     },
     "metadata": {},
     "output_type": "display_data"
    }
   ],
   "source": [
    "#c.\n",
    "# more crime closer to employment centres, lower median house value, higher lstat, lower nox and rm\n",
    "pairs(~crim+rm+nox+lstat+medv+dis,panel=panel.smooth,\n",
    "      Boston)"
   ]
  },
  {
   "cell_type": "code",
   "execution_count": 61,
   "metadata": {},
   "outputs": [
    {
     "data": {
      "text/plain": [
       "      crim               tax           ptratio     \n",
       " Min.   : 0.00632   Min.   :187.0   Min.   :12.60  \n",
       " 1st Qu.: 0.08204   1st Qu.:279.0   1st Qu.:17.40  \n",
       " Median : 0.25651   Median :330.0   Median :19.05  \n",
       " Mean   : 3.61352   Mean   :408.2   Mean   :18.46  \n",
       " 3rd Qu.: 3.67708   3rd Qu.:666.0   3rd Qu.:20.20  \n",
       " Max.   :88.97620   Max.   :711.0   Max.   :22.00  "
      ]
     },
     "metadata": {},
     "output_type": "display_data"
    },
    {
     "data": {
      "image/png": "[encoded data removed]",
      "text/plain": [
       "Plot with title \"Histogram of Boston$crim\""
      ]
     },
     "metadata": {},
     "output_type": "display_data"
    },
    {
     "data": {
      "image/png": "[encoded data removed]",
      "text/plain": [
       "Plot with title \"Histogram of Boston$tax\""
      ]
     },
     "metadata": {},
     "output_type": "display_data"
    },
    {
     "data": {
      "image/png": "[encoded data removed]",
      "text/plain": [
       "Plot with title \"Histogram of Boston$ptratio\""
      ]
     },
     "metadata": {},
     "output_type": "display_data"
    }
   ],
   "source": [
    "#d. particularly high crime rates:\n",
    "summary(Boston[,c(\"crim\", \"tax\", \"ptratio\")])\n",
    "\n",
    "#Crim\n",
    "hist(Boston$crim)\n",
    "#Difference betweet 3rd quartile and max value shows outliers. This means there are subsurbs with a much higher crime rate\n",
    "\n",
    "#Tax\n",
    "hist(Boston$tax)\n",
    "#Histogram shows a jump to very high tax rates (around 700)\n",
    "\n",
    "#Ptratio\n",
    "hist(Boston$ptratio)\n",
    "# The ptratio has a range of ~10 (from 12.6 to 22) with a mean of ~18.5. \n",
    "#Suburbs with ratio over 20 may have a very high number of students per teacher."
   ]
  },
  {
   "cell_type": "code",
   "execution_count": 75,
   "metadata": {},
   "outputs": [
    {
     "data": {
      "text/html": [
       "35"
      ],
      "text/latex": [
       "35"
      ],
      "text/markdown": [
       "35"
      ],
      "text/plain": [
       "[1] 35"
      ]
     },
     "metadata": {},
     "output_type": "display_data"
    },
    {
     "data": {
      "text/html": [
       "19.05"
      ],
      "text/latex": [
       "19.05"
      ],
      "text/markdown": [
       "19.05"
      ],
      "text/plain": [
       "[1] 19.05"
      ]
     },
     "metadata": {},
     "output_type": "display_data"
    },
    {
     "data": {
      "text/html": [
       "<table>\n",
       "<thead><tr><th></th><th scope=col>crim</th><th scope=col>zn</th><th scope=col>indus</th><th scope=col>chas</th><th scope=col>nox</th><th scope=col>rm</th><th scope=col>age</th><th scope=col>dis</th><th scope=col>rad</th><th scope=col>tax</th><th scope=col>ptratio</th><th scope=col>black</th><th scope=col>lstat</th><th scope=col>medv</th></tr></thead>\n",
       "<tbody>\n",
       "\t<tr><th scope=row>399</th><td>38.3518</td><td>0      </td><td>18.1   </td><td>0      </td><td>0.693  </td><td>5.453  </td><td>100    </td><td>1.4896 </td><td>24     </td><td>666    </td><td>20.2   </td><td>396.90 </td><td>30.59  </td><td>5      </td></tr>\n",
       "\t<tr><th scope=row>406</th><td>67.9208</td><td>0      </td><td>18.1   </td><td>0      </td><td>0.693  </td><td>5.683  </td><td>100    </td><td>1.4254 </td><td>24     </td><td>666    </td><td>20.2   </td><td>384.97 </td><td>22.98  </td><td>5      </td></tr>\n",
       "</tbody>\n",
       "</table>\n"
      ],
      "text/latex": [
       "\\begin{tabular}{r|llllllllllllll}\n",
       "  & crim & zn & indus & chas & nox & rm & age & dis & rad & tax & ptratio & black & lstat & medv\\\\\n",
       "\\hline\n",
       "\t399 & 38.3518 & 0       & 18.1    & 0       & 0.693   & 5.453   & 100     & 1.4896  & 24      & 666     & 20.2    & 396.90  & 30.59   & 5      \\\\\n",
       "\t406 & 67.9208 & 0       & 18.1    & 0       & 0.693   & 5.683   & 100     & 1.4254  & 24      & 666     & 20.2    & 384.97  & 22.98   & 5      \\\\\n",
       "\\end{tabular}\n"
      ],
      "text/markdown": [
       "\n",
       "| <!--/--> | crim | zn | indus | chas | nox | rm | age | dis | rad | tax | ptratio | black | lstat | medv |\n",
       "|---|---|---|---|---|---|---|---|---|---|---|---|---|---|---|\n",
       "| 399 | 38.3518 | 0       | 18.1    | 0       | 0.693   | 5.453   | 100     | 1.4896  | 24      | 666     | 20.2    | 396.90  | 30.59   | 5       |\n",
       "| 406 | 67.9208 | 0       | 18.1    | 0       | 0.693   | 5.683   | 100     | 1.4254  | 24      | 666     | 20.2    | 384.97  | 22.98   | 5       |\n",
       "\n"
      ],
      "text/plain": [
       "    crim    zn indus chas nox   rm    age dis    rad tax ptratio black  lstat\n",
       "399 38.3518 0  18.1  0    0.693 5.453 100 1.4896 24  666 20.2    396.90 30.59\n",
       "406 67.9208 0  18.1  0    0.693 5.683 100 1.4254 24  666 20.2    384.97 22.98\n",
       "    medv\n",
       "399 5   \n",
       "406 5   "
      ]
     },
     "metadata": {},
     "output_type": "display_data"
    },
    {
     "data": {
      "text/plain": [
       "      crim                zn             indus            chas        \n",
       " Min.   : 0.00632   Min.   :  0.00   Min.   : 0.46   Min.   :0.00000  \n",
       " 1st Qu.: 0.08204   1st Qu.:  0.00   1st Qu.: 5.19   1st Qu.:0.00000  \n",
       " Median : 0.25651   Median :  0.00   Median : 9.69   Median :0.00000  \n",
       " Mean   : 3.61352   Mean   : 11.36   Mean   :11.14   Mean   :0.06917  \n",
       " 3rd Qu.: 3.67708   3rd Qu.: 12.50   3rd Qu.:18.10   3rd Qu.:0.00000  \n",
       " Max.   :88.97620   Max.   :100.00   Max.   :27.74   Max.   :1.00000  \n",
       "      nox               rm             age              dis        \n",
       " Min.   :0.3850   Min.   :3.561   Min.   :  2.90   Min.   : 1.130  \n",
       " 1st Qu.:0.4490   1st Qu.:5.886   1st Qu.: 45.02   1st Qu.: 2.100  \n",
       " Median :0.5380   Median :6.208   Median : 77.50   Median : 3.207  \n",
       " Mean   :0.5547   Mean   :6.285   Mean   : 68.57   Mean   : 3.795  \n",
       " 3rd Qu.:0.6240   3rd Qu.:6.623   3rd Qu.: 94.08   3rd Qu.: 5.188  \n",
       " Max.   :0.8710   Max.   :8.780   Max.   :100.00   Max.   :12.127  \n",
       "      rad              tax           ptratio          black       \n",
       " Min.   : 1.000   Min.   :187.0   Min.   :12.60   Min.   :  0.32  \n",
       " 1st Qu.: 4.000   1st Qu.:279.0   1st Qu.:17.40   1st Qu.:375.38  \n",
       " Median : 5.000   Median :330.0   Median :19.05   Median :391.44  \n",
       " Mean   : 9.549   Mean   :408.2   Mean   :18.46   Mean   :356.67  \n",
       " 3rd Qu.:24.000   3rd Qu.:666.0   3rd Qu.:20.20   3rd Qu.:396.23  \n",
       " Max.   :24.000   Max.   :711.0   Max.   :22.00   Max.   :396.90  \n",
       "     lstat            medv      \n",
       " Min.   : 1.73   Min.   : 5.00  \n",
       " 1st Qu.: 6.95   1st Qu.:17.02  \n",
       " Median :11.36   Median :21.20  \n",
       " Mean   :12.65   Mean   :22.53  \n",
       " 3rd Qu.:16.95   3rd Qu.:25.00  \n",
       " Max.   :37.97   Max.   :50.00  "
      ]
     },
     "metadata": {},
     "output_type": "display_data"
    },
    {
     "data": {
      "text/plain": [
       "   Min. 1st Qu.  Median    Mean 3rd Qu.    Max. \n",
       "  3.561   5.886   6.208   6.285   6.623   8.780 "
      ]
     },
     "metadata": {},
     "output_type": "display_data"
    },
    {
     "data": {
      "text/html": [
       "64"
      ],
      "text/latex": [
       "64"
      ],
      "text/markdown": [
       "64"
      ],
      "text/plain": [
       "[1] 64"
      ]
     },
     "metadata": {},
     "output_type": "display_data"
    },
    {
     "data": {
      "text/plain": [
       "      crim               zn            indus             chas       \n",
       " Min.   :0.02009   Min.   : 0.00   Min.   : 2.680   Min.   :0.0000  \n",
       " 1st Qu.:0.33147   1st Qu.: 0.00   1st Qu.: 3.970   1st Qu.:0.0000  \n",
       " Median :0.52014   Median : 0.00   Median : 6.200   Median :0.0000  \n",
       " Mean   :0.71879   Mean   :13.62   Mean   : 7.078   Mean   :0.1538  \n",
       " 3rd Qu.:0.57834   3rd Qu.:20.00   3rd Qu.: 6.200   3rd Qu.:0.0000  \n",
       " Max.   :3.47428   Max.   :95.00   Max.   :19.580   Max.   :1.0000  \n",
       "      nox               rm             age             dis       \n",
       " Min.   :0.4161   Min.   :8.034   Min.   : 8.40   Min.   :1.801  \n",
       " 1st Qu.:0.5040   1st Qu.:8.247   1st Qu.:70.40   1st Qu.:2.288  \n",
       " Median :0.5070   Median :8.297   Median :78.30   Median :2.894  \n",
       " Mean   :0.5392   Mean   :8.349   Mean   :71.54   Mean   :3.430  \n",
       " 3rd Qu.:0.6050   3rd Qu.:8.398   3rd Qu.:86.50   3rd Qu.:3.652  \n",
       " Max.   :0.7180   Max.   :8.780   Max.   :93.90   Max.   :8.907  \n",
       "      rad              tax           ptratio          black      \n",
       " Min.   : 2.000   Min.   :224.0   Min.   :13.00   Min.   :354.6  \n",
       " 1st Qu.: 5.000   1st Qu.:264.0   1st Qu.:14.70   1st Qu.:384.5  \n",
       " Median : 7.000   Median :307.0   Median :17.40   Median :386.9  \n",
       " Mean   : 7.462   Mean   :325.1   Mean   :16.36   Mean   :385.2  \n",
       " 3rd Qu.: 8.000   3rd Qu.:307.0   3rd Qu.:17.40   3rd Qu.:389.7  \n",
       " Max.   :24.000   Max.   :666.0   Max.   :20.20   Max.   :396.9  \n",
       "     lstat           medv     \n",
       " Min.   :2.47   Min.   :21.9  \n",
       " 1st Qu.:3.32   1st Qu.:41.7  \n",
       " Median :4.14   Median :48.3  \n",
       " Mean   :4.31   Mean   :44.2  \n",
       " 3rd Qu.:5.12   3rd Qu.:50.0  \n",
       " Max.   :7.44   Max.   :50.0  "
      ]
     },
     "metadata": {},
     "output_type": "display_data"
    }
   ],
   "source": [
    "#e. 35 suburbs\n",
    "sum(Boston$chas)\n",
    "\n",
    "#f. 19.05\n",
    "median(Boston$ptratio)\n",
    "\n",
    "#g.two suburbs with same median value of owner-occupied homes, same values for other predictors suggest same town\n",
    "#no land zoned for lots, indus in 3rd quartile, not by river, over 3rd quartile nox, low number of rooms per dwelling,\n",
    "#old suburbs as age is max value, dis close to minimum, rad and tax and ptratio in 3rd quartile, high black proportion,\n",
    "#lstat close to max (high percentage of lower status population), medv corresponds to min\n",
    "#seems to be working class suburbs\n",
    "Boston[Boston$medv == min(Boston$medv),]\n",
    "\n",
    "summary(Boston)\n",
    "\n",
    "#h. 7 rooms: 64, 8: 13\n",
    "summary(Boston$rm)\n",
    "\n",
    "nrow(Boston[Boston$rm>7,])\n",
    "nrow(Boston[Boston$rm>8,])\n",
    "\n",
    "summary(Boston[Boston$rm>8,])"
   ]
  },
  {
   "cell_type": "markdown",
   "metadata": {},
   "source": [
    "### Exercise 3 (p.120, Chap.3)"
   ]
  },
  {
   "cell_type": "markdown",
   "metadata": {},
   "source": [
    "a. Correct answer is iii. For a fixed value of IQ and GPA, males earn more on average than females if GPA is >3.5 \n",
    "\n",
    "b. 137.1\n",
    "\n",
    "c. False, interaction term impact is measured in the unit of the coefficients. If the amount of GPA or IQ is high, the interaction effect (1% increase) results in a bigger impact as well"
   ]
  },
  {
   "cell_type": "code",
   "execution_count": 82,
   "metadata": {},
   "outputs": [
    {
     "name": "stdout",
     "output_type": "stream",
     "text": [
      "[1] 101.4\n",
      "[1] 112.2\n",
      "[1] 123\n",
      "[1] 133.8\n",
      "[1] 76.4\n",
      "[1] 97.2\n",
      "[1] 118\n",
      "[1] 138.8\n",
      "[1] \"F 137.1\"\n",
      "[1] \"M 142.1\"\n"
     ]
    }
   ],
   "source": [
    "#calculations for previous answers\n",
    "#Salary = B0 + B1*GPA + B2*IQ + B3*Gender_f + B4*(GPA*IQ) + B5*(GPA*Gender_f)\n",
    "B0 <- 50\n",
    "B1 <- 20\n",
    "B2 <- 0.07\n",
    "B3 <- 35\n",
    "B4 <- 0.01\n",
    "B5 <- -10\n",
    "\n",
    "gender_f <- 1\n",
    "iq <- 80\n",
    "for (i in seq(1,4))\n",
    " {gpa <- i\n",
    "    print(B0 + B1*gpa + B2*iq + B3*gender_f + B4*(gpa*iq) + B5*(gpa*gender_f))}\n",
    "\n",
    "for (i in seq(1,4))\n",
    " {gpa <- i\n",
    "    print(B0 + B1*gpa + B2*iq + B3*0 + B4*(gpa*iq) + B5*(gpa*0))}\n",
    "\n",
    "#b\n",
    "iq <- 110\n",
    "gpa <- 4\n",
    "\n",
    "salary <- B0 + B1*gpa + B2*iq + B3*gender_f + B4*(gpa*iq) + B5*(gpa*gender_f)\n",
    "print(paste(\"F\",salary))\n",
    "\n",
    "gender_f <- 0\n",
    "salary <- B0 + B1*gpa + B2*iq + B3*gender_f + B4*(gpa*iq) + B5*(gpa*gender_f)\n",
    "print(paste(\"M\",salary))"
   ]
  },
  {
   "cell_type": "markdown",
   "metadata": {},
   "source": [
    "### Exercise 10 (p.123, Chap.3)"
   ]
  },
  {
   "cell_type": "code",
   "execution_count": 83,
   "metadata": {},
   "outputs": [
    {
     "data": {
      "text/plain": [
       "\n",
       "Call:\n",
       "lm(formula = Sales ~ Price + Urban + US, data = Carseats)\n",
       "\n",
       "Residuals:\n",
       "    Min      1Q  Median      3Q     Max \n",
       "-6.9206 -1.6220 -0.0564  1.5786  7.0581 \n",
       "\n",
       "Coefficients:\n",
       "             Estimate Std. Error t value Pr(>|t|)    \n",
       "(Intercept) 13.043469   0.651012  20.036  < 2e-16 ***\n",
       "Price       -0.054459   0.005242 -10.389  < 2e-16 ***\n",
       "UrbanYes    -0.021916   0.271650  -0.081    0.936    \n",
       "USYes        1.200573   0.259042   4.635 4.86e-06 ***\n",
       "---\n",
       "Signif. codes:  0 '***' 0.001 '**' 0.01 '*' 0.05 '.' 0.1 ' ' 1\n",
       "\n",
       "Residual standard error: 2.472 on 396 degrees of freedom\n",
       "Multiple R-squared:  0.2393,\tAdjusted R-squared:  0.2335 \n",
       "F-statistic: 41.52 on 3 and 396 DF,  p-value: < 2.2e-16\n"
      ]
     },
     "metadata": {},
     "output_type": "display_data"
    }
   ],
   "source": [
    "#a.\n",
    "rm <- lm(Sales ~ Price + Urban + US, data = Carseats)\n",
    "summary(rm)"
   ]
  },
  {
   "cell_type": "code",
   "execution_count": 151,
   "metadata": {},
   "outputs": [
    {
     "data": {
      "text/html": [
       "<table>\n",
       "<thead><tr><th scope=col>Sales</th><th scope=col>CompPrice</th><th scope=col>Income</th><th scope=col>Advertising</th><th scope=col>Population</th><th scope=col>Price</th><th scope=col>ShelveLoc</th><th scope=col>Age</th><th scope=col>Education</th><th scope=col>Urban</th><th scope=col>US</th></tr></thead>\n",
       "<tbody>\n",
       "\t<tr><td> 9.50 </td><td>138   </td><td> 73   </td><td>11    </td><td>276   </td><td>120   </td><td>Bad   </td><td>42    </td><td>17    </td><td>Yes   </td><td>Yes   </td></tr>\n",
       "\t<tr><td>11.22 </td><td>111   </td><td> 48   </td><td>16    </td><td>260   </td><td> 83   </td><td>Good  </td><td>65    </td><td>10    </td><td>Yes   </td><td>Yes   </td></tr>\n",
       "\t<tr><td>10.06 </td><td>113   </td><td> 35   </td><td>10    </td><td>269   </td><td> 80   </td><td>Medium</td><td>59    </td><td>12    </td><td>Yes   </td><td>Yes   </td></tr>\n",
       "\t<tr><td> 7.40 </td><td>117   </td><td>100   </td><td> 4    </td><td>466   </td><td> 97   </td><td>Medium</td><td>55    </td><td>14    </td><td>Yes   </td><td>Yes   </td></tr>\n",
       "\t<tr><td> 4.15 </td><td>141   </td><td> 64   </td><td> 3    </td><td>340   </td><td>128   </td><td>Bad   </td><td>38    </td><td>13    </td><td>Yes   </td><td>No    </td></tr>\n",
       "\t<tr><td>10.81 </td><td>124   </td><td>113   </td><td>13    </td><td>501   </td><td> 72   </td><td>Bad   </td><td>78    </td><td>16    </td><td>No    </td><td>Yes   </td></tr>\n",
       "</tbody>\n",
       "</table>\n"
      ],
      "text/latex": [
       "\\begin{tabular}{r|lllllllllll}\n",
       " Sales & CompPrice & Income & Advertising & Population & Price & ShelveLoc & Age & Education & Urban & US\\\\\n",
       "\\hline\n",
       "\t  9.50  & 138    &  73    & 11     & 276    & 120    & Bad    & 42     & 17     & Yes    & Yes   \\\\\n",
       "\t 11.22  & 111    &  48    & 16     & 260    &  83    & Good   & 65     & 10     & Yes    & Yes   \\\\\n",
       "\t 10.06  & 113    &  35    & 10     & 269    &  80    & Medium & 59     & 12     & Yes    & Yes   \\\\\n",
       "\t  7.40  & 117    & 100    &  4     & 466    &  97    & Medium & 55     & 14     & Yes    & Yes   \\\\\n",
       "\t  4.15  & 141    &  64    &  3     & 340    & 128    & Bad    & 38     & 13     & Yes    & No    \\\\\n",
       "\t 10.81  & 124    & 113    & 13     & 501    &  72    & Bad    & 78     & 16     & No     & Yes   \\\\\n",
       "\\end{tabular}\n"
      ],
      "text/markdown": [
       "\n",
       "| Sales | CompPrice | Income | Advertising | Population | Price | ShelveLoc | Age | Education | Urban | US |\n",
       "|---|---|---|---|---|---|---|---|---|---|---|\n",
       "|  9.50  | 138    |  73    | 11     | 276    | 120    | Bad    | 42     | 17     | Yes    | Yes    |\n",
       "| 11.22  | 111    |  48    | 16     | 260    |  83    | Good   | 65     | 10     | Yes    | Yes    |\n",
       "| 10.06  | 113    |  35    | 10     | 269    |  80    | Medium | 59     | 12     | Yes    | Yes    |\n",
       "|  7.40  | 117    | 100    |  4     | 466    |  97    | Medium | 55     | 14     | Yes    | Yes    |\n",
       "|  4.15  | 141    |  64    |  3     | 340    | 128    | Bad    | 38     | 13     | Yes    | No     |\n",
       "| 10.81  | 124    | 113    | 13     | 501    |  72    | Bad    | 78     | 16     | No     | Yes    |\n",
       "\n"
      ],
      "text/plain": [
       "  Sales CompPrice Income Advertising Population Price ShelveLoc Age Education\n",
       "1  9.50 138        73    11          276        120   Bad       42  17       \n",
       "2 11.22 111        48    16          260         83   Good      65  10       \n",
       "3 10.06 113        35    10          269         80   Medium    59  12       \n",
       "4  7.40 117       100     4          466         97   Medium    55  14       \n",
       "5  4.15 141        64     3          340        128   Bad       38  13       \n",
       "6 10.81 124       113    13          501         72   Bad       78  16       \n",
       "  Urban US \n",
       "1 Yes   Yes\n",
       "2 Yes   Yes\n",
       "3 Yes   Yes\n",
       "4 Yes   Yes\n",
       "5 Yes   No \n",
       "6 No    Yes"
      ]
     },
     "metadata": {},
     "output_type": "display_data"
    }
   ],
   "source": [
    "#b.\n",
    "head(Carseats)\n",
    "\n",
    "#B0 (Intercept): when all other coefficients are 0, the sales are 13.04\n",
    "#B1 (Price): statistically significant (p-value < 0.05), the lower the price, the higher the sales\n",
    "#B2 (UrbanYes): not significant (p-value > 0.05), higher sales in non-urban locations\n",
    "#B3 (USYes): significant (p-value < 0.05), sales are higher in US stores"
   ]
  },
  {
   "cell_type": "code",
   "execution_count": 87,
   "metadata": {},
   "outputs": [
    {
     "data": {
      "text/html": [
       "<dl class=dl-horizontal>\n",
       "\t<dt>(Intercept)</dt>\n",
       "\t\t<dd>13.0434689367649</dd>\n",
       "\t<dt>Price</dt>\n",
       "\t\t<dd>-0.0544588491775822</dd>\n",
       "\t<dt>UrbanYes</dt>\n",
       "\t\t<dd>-0.0219161508141407</dd>\n",
       "\t<dt>USYes</dt>\n",
       "\t\t<dd>1.20057269779412</dd>\n",
       "</dl>\n"
      ],
      "text/latex": [
       "\\begin{description*}\n",
       "\\item[(Intercept)] 13.0434689367649\n",
       "\\item[Price] -0.0544588491775822\n",
       "\\item[UrbanYes] -0.0219161508141407\n",
       "\\item[USYes] 1.20057269779412\n",
       "\\end{description*}\n"
      ],
      "text/markdown": [
       "(Intercept)\n",
       ":   13.0434689367649Price\n",
       ":   -0.0544588491775822UrbanYes\n",
       ":   -0.0219161508141407USYes\n",
       ":   1.20057269779412\n",
       "\n"
      ],
      "text/plain": [
       "(Intercept)       Price    UrbanYes       USYes \n",
       "13.04346894 -0.05445885 -0.02191615  1.20057270 "
      ]
     },
     "metadata": {},
     "output_type": "display_data"
    }
   ],
   "source": [
    "#c.\n",
    "rm$coeff\n",
    "#sales <- B0 + B1 * Price + B2 * UrbanYes + B3 * USYes #UrbanYes=1 and USYes=1\n"
   ]
  },
  {
   "cell_type": "code",
   "execution_count": 91,
   "metadata": {},
   "outputs": [
    {
     "data": {
      "text/plain": [
       "\n",
       "Call:\n",
       "lm(formula = Sales ~ Price + US, data = Carseats)\n",
       "\n",
       "Residuals:\n",
       "    Min      1Q  Median      3Q     Max \n",
       "-6.9269 -1.6286 -0.0574  1.5766  7.0515 \n",
       "\n",
       "Coefficients:\n",
       "            Estimate Std. Error t value Pr(>|t|)    \n",
       "(Intercept) 13.03079    0.63098  20.652  < 2e-16 ***\n",
       "Price       -0.05448    0.00523 -10.416  < 2e-16 ***\n",
       "USYes        1.19964    0.25846   4.641 4.71e-06 ***\n",
       "---\n",
       "Signif. codes:  0 '***' 0.001 '**' 0.01 '*' 0.05 '.' 0.1 ' ' 1\n",
       "\n",
       "Residual standard error: 2.469 on 397 degrees of freedom\n",
       "Multiple R-squared:  0.2393,\tAdjusted R-squared:  0.2354 \n",
       "F-statistic: 62.43 on 2 and 397 DF,  p-value: < 2.2e-16\n"
      ]
     },
     "metadata": {},
     "output_type": "display_data"
    },
    {
     "data": {
      "text/html": [
       "<table>\n",
       "<thead><tr><th></th><th scope=col>2.5 %</th><th scope=col>97.5 %</th></tr></thead>\n",
       "<tbody>\n",
       "\t<tr><th scope=row>(Intercept)</th><td>11.79032020</td><td>14.27126531</td></tr>\n",
       "\t<tr><th scope=row>Price</th><td>-0.06475984</td><td>-0.04419543</td></tr>\n",
       "\t<tr><th scope=row>USYes</th><td> 0.69151957</td><td> 1.70776632</td></tr>\n",
       "</tbody>\n",
       "</table>\n"
      ],
      "text/latex": [
       "\\begin{tabular}{r|ll}\n",
       "  & 2.5 \\% & 97.5 \\%\\\\\n",
       "\\hline\n",
       "\t(Intercept) & 11.79032020 & 14.27126531\\\\\n",
       "\tPrice & -0.06475984 & -0.04419543\\\\\n",
       "\tUSYes &  0.69151957 &  1.70776632\\\\\n",
       "\\end{tabular}\n"
      ],
      "text/markdown": [
       "\n",
       "| <!--/--> | 2.5 % | 97.5 % |\n",
       "|---|---|---|\n",
       "| (Intercept) | 11.79032020 | 14.27126531 |\n",
       "| Price | -0.06475984 | -0.04419543 |\n",
       "| USYes |  0.69151957 |  1.70776632 |\n",
       "\n"
      ],
      "text/plain": [
       "            2.5 %       97.5 %     \n",
       "(Intercept) 11.79032020 14.27126531\n",
       "Price       -0.06475984 -0.04419543\n",
       "USYes        0.69151957  1.70776632"
      ]
     },
     "metadata": {},
     "output_type": "display_data"
    },
    {
     "data": {
      "text/plain": [
       "     Sales            Price         US     \n",
       " Min.   : 0.000   Min.   : 24.0   No :142  \n",
       " 1st Qu.: 5.390   1st Qu.:100.0   Yes:258  \n",
       " Median : 7.490   Median :117.0            \n",
       " Mean   : 7.496   Mean   :115.8            \n",
       " 3rd Qu.: 9.320   3rd Qu.:131.0            \n",
       " Max.   :16.270   Max.   :191.0            "
      ]
     },
     "metadata": {},
     "output_type": "display_data"
    },
    {
     "data": {
      "image/png": "[encoded data removed]",
      "text/plain": [
       "Plot with title \"\""
      ]
     },
     "metadata": {},
     "output_type": "display_data"
    },
    {
     "data": {
      "image/png": "[encoded data removed]",
      "text/plain": [
       "Plot with title \"\""
      ]
     },
     "metadata": {},
     "output_type": "display_data"
    },
    {
     "data": {
      "image/png": "[encoded data removed]",
      "text/plain": [
       "Plot with title \"\""
      ]
     },
     "metadata": {},
     "output_type": "display_data"
    },
    {
     "data": {
      "image/png": "[encoded data removed]",
      "text/plain": [
       "Plot with title \"\""
      ]
     },
     "metadata": {},
     "output_type": "display_data"
    }
   ],
   "source": [
    "#d.\n",
    "#UrbanYes has a p-value of 0.936 > 0.05, so it is not statistically significant with a 95% confidence level and can be rejected\n",
    "\n",
    "#e.\n",
    "lm.fit_sig <- lm(Sales ~ Price + US, data = Carseats)\n",
    "summary(lm.fit_sig)\n",
    "\n",
    "#f.\n",
    "#Adj R2 for the first model is 0.2335 and for the second model it is 0.2354\n",
    "#Therefore, both models only explain around 23% of the total variance for sales\n",
    "\n",
    "#g.\n",
    "confint(lm.fit1, level = 0.95) #or: Betas +- 2*SE\n",
    "\n",
    "#h.\n",
    "summary(Carseats[,c(\"Sales\", \"Price\", \"US\")])\n",
    "plot(lm.fit_sig)\n",
    "#there is no clear evidence for outliers or high leverage observations"
   ]
  },
  {
   "cell_type": "code",
   "execution_count": 111,
   "metadata": {},
   "outputs": [
    {
     "name": "stderr",
     "output_type": "stream",
     "text": [
      "Warning message in summary.lm(lm.fit):\n",
      "\"essentially perfect fit: summary may be unreliable\""
     ]
    },
    {
     "name": "stdout",
     "output_type": "stream",
     "text": [
      "[1] \"crim statistically significant\"\n",
      "[1] \"zn statistically significant\"\n",
      "[1] \"indus statistically significant\"\n",
      "[1] \"nox statistically significant\"\n",
      "[1] \"rm statistically significant\"\n",
      "[1] \"age statistically significant\"\n",
      "[1] \"dis statistically significant\"\n",
      "[1] \"rad statistically significant\"\n",
      "[1] \"tax statistically significant\"\n",
      "[1] \"ptratio statistically significant\"\n",
      "[1] \"black statistically significant\"\n",
      "[1] \"lstat statistically significant\"\n",
      "[1] \"medv statistically significant\"\n"
     ]
    }
   ],
   "source": [
    "#Exercise 15 (p.126, Chap.3)\n",
    "\n",
    "#a.All coefficients are significant on a simple linear regression model\n",
    "simple <- c()\n",
    "for (coeff in names(Boston)){\n",
    "    lm.fit <- lm(Boston$crim ~ Boston[,coeff])\n",
    "    if (summary(lm.fit)$coefficients[2,4]<0.05)\n",
    "    {print(paste(coeff,\"statistically significant\"))}}\n"
   ]
  },
  {
   "cell_type": "code",
   "execution_count": 146,
   "metadata": {},
   "outputs": [
    {
     "data": {
      "text/html": [
       "<dl class=dl-horizontal>\n",
       "\t<dt>(Intercept)</dt>\n",
       "\t\t<dd>0.018949090957012</dd>\n",
       "\t<dt>zn</dt>\n",
       "\t\t<dd>0.0170248914984876</dd>\n",
       "\t<dt>dis</dt>\n",
       "\t\t<dd>0.000502203909227046</dd>\n",
       "\t<dt>rad</dt>\n",
       "\t\t<dd>6.46045147866921e-11</dd>\n",
       "\t<dt>black</dt>\n",
       "\t\t<dd>0.0407023319004136</dd>\n",
       "\t<dt>medv</dt>\n",
       "\t\t<dd>0.00108681009556159</dd>\n",
       "</dl>\n"
      ],
      "text/latex": [
       "\\begin{description*}\n",
       "\\item[(Intercept)] 0.018949090957012\n",
       "\\item[zn] 0.0170248914984876\n",
       "\\item[dis] 0.000502203909227046\n",
       "\\item[rad] 6.46045147866921e-11\n",
       "\\item[black] 0.0407023319004136\n",
       "\\item[medv] 0.00108681009556159\n",
       "\\end{description*}\n"
      ],
      "text/markdown": [
       "(Intercept)\n",
       ":   0.018949090957012zn\n",
       ":   0.0170248914984876dis\n",
       ":   0.000502203909227046rad\n",
       ":   6.46045147866921e-11black\n",
       ":   0.0407023319004136medv\n",
       ":   0.00108681009556159\n",
       "\n"
      ],
      "text/plain": [
       " (Intercept)           zn          dis          rad        black         medv \n",
       "1.894909e-02 1.702489e-02 5.022039e-04 6.460451e-11 4.070233e-02 1.086810e-03 "
      ]
     },
     "metadata": {},
     "output_type": "display_data"
    },
    {
     "data": {
      "text/plain": [
       "\n",
       "Call:\n",
       "lm(formula = crim ~ ., data = Boston)\n",
       "\n",
       "Residuals:\n",
       "   Min     1Q Median     3Q    Max \n",
       "-9.924 -2.120 -0.353  1.019 75.051 \n",
       "\n",
       "Coefficients:\n",
       "              Estimate Std. Error t value Pr(>|t|)    \n",
       "(Intercept)  17.033228   7.234903   2.354 0.018949 *  \n",
       "zn            0.044855   0.018734   2.394 0.017025 *  \n",
       "indus        -0.063855   0.083407  -0.766 0.444294    \n",
       "chas         -0.749134   1.180147  -0.635 0.525867    \n",
       "nox         -10.313535   5.275536  -1.955 0.051152 .  \n",
       "rm            0.430131   0.612830   0.702 0.483089    \n",
       "age           0.001452   0.017925   0.081 0.935488    \n",
       "dis          -0.987176   0.281817  -3.503 0.000502 ***\n",
       "rad           0.588209   0.088049   6.680 6.46e-11 ***\n",
       "tax          -0.003780   0.005156  -0.733 0.463793    \n",
       "ptratio      -0.271081   0.186450  -1.454 0.146611    \n",
       "black        -0.007538   0.003673  -2.052 0.040702 *  \n",
       "lstat         0.126211   0.075725   1.667 0.096208 .  \n",
       "medv         -0.198887   0.060516  -3.287 0.001087 ** \n",
       "---\n",
       "Signif. codes:  0 '***' 0.001 '**' 0.01 '*' 0.05 '.' 0.1 ' ' 1\n",
       "\n",
       "Residual standard error: 6.439 on 492 degrees of freedom\n",
       "Multiple R-squared:  0.454,\tAdjusted R-squared:  0.4396 \n",
       "F-statistic: 31.47 on 13 and 492 DF,  p-value: < 2.2e-16\n"
      ]
     },
     "metadata": {},
     "output_type": "display_data"
    },
    {
     "data": {
      "text/plain": [
       "\n",
       "Call:\n",
       "lm(formula = crim ~ zn + dis + rad + black + medv, data = Boston)\n",
       "\n",
       "Residuals:\n",
       "    Min      1Q  Median      3Q     Max \n",
       "-10.553  -1.869  -0.358   0.839  75.744 \n",
       "\n",
       "Coefficients:\n",
       "             Estimate Std. Error t value Pr(>|t|)    \n",
       "(Intercept)  7.919933   1.778986   4.452 1.05e-05 ***\n",
       "zn           0.051799   0.017329   2.989 0.002935 ** \n",
       "dis         -0.672189   0.202939  -3.312 0.000992 ***\n",
       "rad          0.472306   0.042102  11.218  < 2e-16 ***\n",
       "black       -0.008211   0.003615  -2.271 0.023562 *  \n",
       "medv        -0.174219   0.036295  -4.800 2.10e-06 ***\n",
       "---\n",
       "Signif. codes:  0 '***' 0.001 '**' 0.01 '*' 0.05 '.' 0.1 ' ' 1\n",
       "\n",
       "Residual standard error: 6.473 on 500 degrees of freedom\n",
       "Multiple R-squared:  0.4393,\tAdjusted R-squared:  0.4337 \n",
       "F-statistic: 78.34 on 5 and 500 DF,  p-value: < 2.2e-16\n"
      ]
     },
     "metadata": {},
     "output_type": "display_data"
    },
    {
     "data": {
      "image/png": "[encoded data removed]",
      "text/plain": [
       "Plot with title \"medv\""
      ]
     },
     "metadata": {},
     "output_type": "display_data"
    }
   ],
   "source": [
    "#b. Only predictors with a p-value > 0.05 are significant and null hypothesis can be rejected\n",
    "lm.fit <- lm(crim ~., data = Boston)\n",
    "pvalue <- summary(lm.fit)$coefficients[,4]\n",
    "pvalue <- pvalue[pvalue<0.05]\n",
    "pvalue\n",
    "\n",
    "summary(lm.fit)\n",
    "\n",
    "pvaluefit <- lm(crim~zn+dis+rad+black+medv,data=Boston)\n",
    "summary(pvaluefit)\n",
    "#plot(pvaluefit)\n",
    "\n",
    "par( mfrow = c(2,3) )\n",
    "for (x in names(pvalue)[2:length(pvalue)]){\n",
    "    plot(Boston[,x], Boston$crim, main=x)\n",
    "    abline(lm(Boston$crim ~ Boston[,x]), col='red')\n",
    "}\n",
    "\n"
   ]
  },
  {
   "cell_type": "code",
   "execution_count": 145,
   "metadata": {},
   "outputs": [
    {
     "data": {
      "text/html": [
       "<table>\n",
       "<thead><tr><th></th><th scope=col>zn</th><th scope=col>indus</th><th scope=col>chas</th><th scope=col>nox</th><th scope=col>rm</th><th scope=col>age</th><th scope=col>dis</th><th scope=col>rad</th><th scope=col>tax</th><th scope=col>ptratio</th><th scope=col>black</th><th scope=col>lstat</th><th scope=col>medv</th></tr></thead>\n",
       "<tbody>\n",
       "\t<tr><th scope=row>Estimate</th><td>-7.393498e-02</td><td>5.097763e-01 </td><td>-1.8927766   </td><td>3.124853e+01 </td><td>-2.684051e+00</td><td>1.077862e-01 </td><td>-1.550902e+00</td><td>6.179109e-01 </td><td>2.974225e-02 </td><td>1.151983e+00 </td><td>-3.627964e-02</td><td>5.488048e-01 </td><td>-3.631599e-01</td></tr>\n",
       "\t<tr><th scope=row>Std. Error</th><td> 1.609460e-02</td><td>5.102433e-02 </td><td> 1.5061155   </td><td>2.999190e+00 </td><td> 5.320411e-01</td><td>1.273644e-02 </td><td> 1.683300e-01</td><td>3.433182e-02 </td><td>1.847415e-03 </td><td>1.693736e-01 </td><td> 3.873154e-03</td><td>4.776097e-02 </td><td> 3.839017e-02</td></tr>\n",
       "\t<tr><th scope=row>t value</th><td>-4.593776e+00</td><td>9.990848e+00 </td><td>-1.2567274   </td><td>1.041899e+01 </td><td>-5.044819e+00</td><td>8.462825e+00 </td><td>-9.213458e+00</td><td>1.799820e+01 </td><td>1.609939e+01 </td><td>6.801430e+00 </td><td>-9.366951e+00</td><td>1.149065e+01 </td><td>-9.459710e+00</td></tr>\n",
       "\t<tr><th scope=row>Pr(&gt;|t|)</th><td> 5.506472e-06</td><td>1.450349e-21 </td><td> 0.2094345   </td><td>3.751739e-23 </td><td> 6.346703e-07</td><td>2.854869e-16 </td><td> 8.519949e-19</td><td>2.693844e-56 </td><td>2.357127e-47 </td><td>2.942922e-11 </td><td> 2.487274e-19</td><td>2.654277e-27 </td><td> 1.173987e-19</td></tr>\n",
       "</tbody>\n",
       "</table>\n"
      ],
      "text/latex": [
       "\\begin{tabular}{r|lllllllllllll}\n",
       "  & zn & indus & chas & nox & rm & age & dis & rad & tax & ptratio & black & lstat & medv\\\\\n",
       "\\hline\n",
       "\tEstimate & -7.393498e-02 & 5.097763e-01  & -1.8927766    & 3.124853e+01  & -2.684051e+00 & 1.077862e-01  & -1.550902e+00 & 6.179109e-01  & 2.974225e-02  & 1.151983e+00  & -3.627964e-02 & 5.488048e-01  & -3.631599e-01\\\\\n",
       "\tStd. Error &  1.609460e-02 & 5.102433e-02  &  1.5061155    & 2.999190e+00  &  5.320411e-01 & 1.273644e-02  &  1.683300e-01 & 3.433182e-02  & 1.847415e-03  & 1.693736e-01  &  3.873154e-03 & 4.776097e-02  &  3.839017e-02\\\\\n",
       "\tt value & -4.593776e+00 & 9.990848e+00  & -1.2567274    & 1.041899e+01  & -5.044819e+00 & 8.462825e+00  & -9.213458e+00 & 1.799820e+01  & 1.609939e+01  & 6.801430e+00  & -9.366951e+00 & 1.149065e+01  & -9.459710e+00\\\\\n",
       "\tPr(>\\textbar{}t\\textbar{}) &  5.506472e-06 & 1.450349e-21  &  0.2094345    & 3.751739e-23  &  6.346703e-07 & 2.854869e-16  &  8.519949e-19 & 2.693844e-56  & 2.357127e-47  & 2.942922e-11  &  2.487274e-19 & 2.654277e-27  &  1.173987e-19\\\\\n",
       "\\end{tabular}\n"
      ],
      "text/markdown": [
       "\n",
       "| <!--/--> | zn | indus | chas | nox | rm | age | dis | rad | tax | ptratio | black | lstat | medv |\n",
       "|---|---|---|---|---|---|---|---|---|---|---|---|---|---|\n",
       "| Estimate | -7.393498e-02 | 5.097763e-01  | -1.8927766    | 3.124853e+01  | -2.684051e+00 | 1.077862e-01  | -1.550902e+00 | 6.179109e-01  | 2.974225e-02  | 1.151983e+00  | -3.627964e-02 | 5.488048e-01  | -3.631599e-01 |\n",
       "| Std. Error |  1.609460e-02 | 5.102433e-02  |  1.5061155    | 2.999190e+00  |  5.320411e-01 | 1.273644e-02  |  1.683300e-01 | 3.433182e-02  | 1.847415e-03  | 1.693736e-01  |  3.873154e-03 | 4.776097e-02  |  3.839017e-02 |\n",
       "| t value | -4.593776e+00 | 9.990848e+00  | -1.2567274    | 1.041899e+01  | -5.044819e+00 | 8.462825e+00  | -9.213458e+00 | 1.799820e+01  | 1.609939e+01  | 6.801430e+00  | -9.366951e+00 | 1.149065e+01  | -9.459710e+00 |\n",
       "| Pr(>|t|) |  5.506472e-06 | 1.450349e-21  |  0.2094345    | 3.751739e-23  |  6.346703e-07 | 2.854869e-16  |  8.519949e-19 | 2.693844e-56  | 2.357127e-47  | 2.942922e-11  |  2.487274e-19 | 2.654277e-27  |  1.173987e-19 |\n",
       "\n"
      ],
      "text/plain": [
       "           zn            indus        chas       nox          rm           \n",
       "Estimate   -7.393498e-02 5.097763e-01 -1.8927766 3.124853e+01 -2.684051e+00\n",
       "Std. Error  1.609460e-02 5.102433e-02  1.5061155 2.999190e+00  5.320411e-01\n",
       "t value    -4.593776e+00 9.990848e+00 -1.2567274 1.041899e+01 -5.044819e+00\n",
       "Pr(>|t|)    5.506472e-06 1.450349e-21  0.2094345 3.751739e-23  6.346703e-07\n",
       "           age          dis           rad          tax          ptratio     \n",
       "Estimate   1.077862e-01 -1.550902e+00 6.179109e-01 2.974225e-02 1.151983e+00\n",
       "Std. Error 1.273644e-02  1.683300e-01 3.433182e-02 1.847415e-03 1.693736e-01\n",
       "t value    8.462825e+00 -9.213458e+00 1.799820e+01 1.609939e+01 6.801430e+00\n",
       "Pr(>|t|)   2.854869e-16  8.519949e-19 2.693844e-56 2.357127e-47 2.942922e-11\n",
       "           black         lstat        medv         \n",
       "Estimate   -3.627964e-02 5.488048e-01 -3.631599e-01\n",
       "Std. Error  3.873154e-03 4.776097e-02  3.839017e-02\n",
       "t value    -9.366951e+00 1.149065e+01 -9.459710e+00\n",
       "Pr(>|t|)    2.487274e-19 2.654277e-27  1.173987e-19"
      ]
     },
     "metadata": {},
     "output_type": "display_data"
    },
    {
     "data": {
      "text/html": [
       "<table>\n",
       "<thead><tr><th></th><th scope=col>zn</th><th scope=col>indus</th><th scope=col>chas</th><th scope=col>nox</th><th scope=col>rm</th><th scope=col>age</th><th scope=col>dis</th><th scope=col>rad</th><th scope=col>tax</th><th scope=col>ptratio</th><th scope=col>black</th><th scope=col>lstat</th><th scope=col>medv</th></tr></thead>\n",
       "<tbody>\n",
       "\t<tr><th scope=row>Estimate</th><td>0.04485521   </td><td>-0.06385482  </td><td>-0.7491336   </td><td>-10.313535   </td><td>0.4301305    </td><td>0.001451643  </td><td>-0.9871757255</td><td>5.882086e-01 </td><td>-0.003780016 </td><td>-0.2710806   </td><td>-0.007537505 </td><td>0.12621138   </td><td>-0.19888682  </td></tr>\n",
       "\t<tr><th scope=row>Std. Error</th><td>0.01873407   </td><td> 0.08340724  </td><td> 1.1801468   </td><td>  5.275536   </td><td>0.6128303    </td><td>0.017925128  </td><td> 0.2818172658</td><td>8.804927e-02 </td><td> 0.005155587 </td><td> 0.1864505   </td><td> 0.003673322 </td><td>0.07572484   </td><td> 0.06051599  </td></tr>\n",
       "\t<tr><th scope=row>t value</th><td>2.39431224   </td><td>-0.76557890  </td><td>-0.6347800   </td><td> -1.954974   </td><td>0.7018754    </td><td>0.080983715  </td><td>-3.5028929925</td><td>6.680448e+00 </td><td>-0.733188384 </td><td>-1.4539010   </td><td>-2.051958926 </td><td>1.66671043   </td><td>-3.28651687  </td></tr>\n",
       "\t<tr><th scope=row>Pr(&gt;|t|)</th><td>0.01702489   </td><td> 0.44429400  </td><td> 0.5258670   </td><td>  0.051152   </td><td>0.4830888    </td><td>0.935487835  </td><td> 0.0005022039</td><td>6.460451e-11 </td><td> 0.463792728 </td><td> 0.1466113   </td><td> 0.040702332 </td><td>0.09620842   </td><td> 0.00108681  </td></tr>\n",
       "</tbody>\n",
       "</table>\n"
      ],
      "text/latex": [
       "\\begin{tabular}{r|lllllllllllll}\n",
       "  & zn & indus & chas & nox & rm & age & dis & rad & tax & ptratio & black & lstat & medv\\\\\n",
       "\\hline\n",
       "\tEstimate & 0.04485521    & -0.06385482   & -0.7491336    & -10.313535    & 0.4301305     & 0.001451643   & -0.9871757255 & 5.882086e-01  & -0.003780016  & -0.2710806    & -0.007537505  & 0.12621138    & -0.19888682  \\\\\n",
       "\tStd. Error & 0.01873407    &  0.08340724   &  1.1801468    &   5.275536    & 0.6128303     & 0.017925128   &  0.2818172658 & 8.804927e-02  &  0.005155587  &  0.1864505    &  0.003673322  & 0.07572484    &  0.06051599  \\\\\n",
       "\tt value & 2.39431224    & -0.76557890   & -0.6347800    &  -1.954974    & 0.7018754     & 0.080983715   & -3.5028929925 & 6.680448e+00  & -0.733188384  & -1.4539010    & -2.051958926  & 1.66671043    & -3.28651687  \\\\\n",
       "\tPr(>\\textbar{}t\\textbar{}) & 0.01702489    &  0.44429400   &  0.5258670    &   0.051152    & 0.4830888     & 0.935487835   &  0.0005022039 & 6.460451e-11  &  0.463792728  &  0.1466113    &  0.040702332  & 0.09620842    &  0.00108681  \\\\\n",
       "\\end{tabular}\n"
      ],
      "text/markdown": [
       "\n",
       "| <!--/--> | zn | indus | chas | nox | rm | age | dis | rad | tax | ptratio | black | lstat | medv |\n",
       "|---|---|---|---|---|---|---|---|---|---|---|---|---|---|\n",
       "| Estimate | 0.04485521    | -0.06385482   | -0.7491336    | -10.313535    | 0.4301305     | 0.001451643   | -0.9871757255 | 5.882086e-01  | -0.003780016  | -0.2710806    | -0.007537505  | 0.12621138    | -0.19888682   |\n",
       "| Std. Error | 0.01873407    |  0.08340724   |  1.1801468    |   5.275536    | 0.6128303     | 0.017925128   |  0.2818172658 | 8.804927e-02  |  0.005155587  |  0.1864505    |  0.003673322  | 0.07572484    |  0.06051599   |\n",
       "| t value | 2.39431224    | -0.76557890   | -0.6347800    |  -1.954974    | 0.7018754     | 0.080983715   | -3.5028929925 | 6.680448e+00  | -0.733188384  | -1.4539010    | -2.051958926  | 1.66671043    | -3.28651687   |\n",
       "| Pr(>|t|) | 0.01702489    |  0.44429400   |  0.5258670    |   0.051152    | 0.4830888     | 0.935487835   |  0.0005022039 | 6.460451e-11  |  0.463792728  |  0.1466113    |  0.040702332  | 0.09620842    |  0.00108681   |\n",
       "\n"
      ],
      "text/plain": [
       "           zn         indus       chas       nox        rm        age        \n",
       "Estimate   0.04485521 -0.06385482 -0.7491336 -10.313535 0.4301305 0.001451643\n",
       "Std. Error 0.01873407  0.08340724  1.1801468   5.275536 0.6128303 0.017925128\n",
       "t value    2.39431224 -0.76557890 -0.6347800  -1.954974 0.7018754 0.080983715\n",
       "Pr(>|t|)   0.01702489  0.44429400  0.5258670   0.051152 0.4830888 0.935487835\n",
       "           dis           rad          tax          ptratio    black       \n",
       "Estimate   -0.9871757255 5.882086e-01 -0.003780016 -0.2710806 -0.007537505\n",
       "Std. Error  0.2818172658 8.804927e-02  0.005155587  0.1864505  0.003673322\n",
       "t value    -3.5028929925 6.680448e+00 -0.733188384 -1.4539010 -2.051958926\n",
       "Pr(>|t|)    0.0005022039 6.460451e-11  0.463792728  0.1466113  0.040702332\n",
       "           lstat      medv       \n",
       "Estimate   0.12621138 -0.19888682\n",
       "Std. Error 0.07572484  0.06051599\n",
       "t value    1.66671043 -3.28651687\n",
       "Pr(>|t|)   0.09620842  0.00108681"
      ]
     },
     "metadata": {},
     "output_type": "display_data"
    },
    {
     "data": {
      "image/png": "[encoded data removed]",
      "text/plain": [
       "plot without title"
      ]
     },
     "metadata": {},
     "output_type": "display_data"
    }
   ],
   "source": [
    "#c.\n",
    "library(tidyr)\n",
    "\n",
    "#multiple: pvaluefit\n",
    "par1 <- t(sum1)\n",
    "par1 <- par1[,2:ncol(par1)]\n",
    "par <- sum[,2:ncol(sum)]\n",
    "\n",
    "par\n",
    "par1\n",
    "\n",
    "plot(par[1,], par1[1,], col=factor(colnames(par)))\n",
    "\n",
    "#d. The plots from do not show a simple linear relationship between response and predictor variables\n",
    "# predictor variables \"rad\" and \"black\""
   ]
  }
 ],
 "metadata": {
  "kernelspec": {
   "display_name": "R",
   "language": "R",
   "name": "ir"
  },
  "language_info": {
   "codemirror_mode": "r",
   "file_extension": ".r",
   "mimetype": "text/x-r-source",
   "name": "R",
   "pygments_lexer": "r",
   "version": "3.6.1"
  }
 },
 "nbformat": 4,
 "nbformat_minor": 2
}
