{
 "cells": [
  {
   "cell_type": "markdown",
   "metadata": {},
   "source": [
    "![ieseg logo](./img/ieseg.png)\n",
    "\n",
    "#### MBD 2019-2020 - Stephanie Beyer Diaz\n",
    "# Statistical & Machine Learning Approaches for Marketing\n",
    "\n",
    "## Assignment 3"
   ]
  },
  {
   "cell_type": "markdown",
   "metadata": {},
   "source": [
    "**1. Import all required libraries and datasets**"
   ]
  },
  {
   "cell_type": "code",
   "execution_count": null,
   "metadata": {},
   "outputs": [],
   "source": [
    "# Set environment params\n",
    "Sys.setenv(LANG='en')  # English\n",
    "\n",
    "# Import libraries\n",
    "library(data.table)  # Data manipulate\n",
    "library(mlr)         # ML toolkit\n",
    "library(caret)       # ML toolkit\n",
    "library(ggplot2)     # Visualization\n",
    "\n",
    "# Import data\n",
    "library(ISLR)      # Data from the course book\n",
    "library(MASS)      # Boston housing dataset\n",
    "library(datasets)  # US crime dataset\n",
    "\n",
    "# Resize plot\n",
    "library(repr)  # String and binary representations\n",
    "#options(repr.plot.width=4, repr.plot.height=4)\n",
    "\n",
    "R.version.string"
   ]
  },
  {
   "cell_type": "markdown",
   "metadata": {},
   "source": [
    "**Exercise 3 (p. 198, Chap. 5)**<br>\n",
    "*We now review k-fold cross-validation.<br>\n",
    "(a) Explain how k-fold cross-validation is implemented.<br>*\n",
    "\n",
    "It is implemented by first taking the full set with n observations. Then, the set is randomly split into k groups, with groups containing exclusive observations (no overlap between the groups). One of these groups will act as the validation set and the other one will act as a training set. Finally, the test error is estimated by averaging k MSE estimates from the results."
   ]
  },
  {
   "cell_type": "markdown",
   "metadata": {},
   "source": [
    "*(b) What are the advantages and disadvantages of k-fold crossvalidation\n",
    "relative to:<br>\n",
    "i. The validation set approach?<br>*\n",
    "\n",
    "It is easy to implement because it just requires partitioning training data into two sets. This is also conceptually simple. However, the estimation of the test error rate depends on the observations included in the training and validation sets, so it can have high variance. Additionally, the validation set error rate may result in overestimating the test error rate for the model fit on the overall data set.<br>\n",
    "\n",
    "*ii. LOOCV?<br>*\n",
    "\n",
    "LOOCV is a special case of k-fold cross-validation where k and n are the same value (k = n). Because of this, LOOCV is a very computationally intense method because the model is fit as many times as there are observations. Compared to k-fold CV, LOOCV has lower bias but higher variance."
   ]
  },
  {
   "cell_type": "markdown",
   "metadata": {},
   "source": [
    "**Exercise 8 (p. 200, Chap. 5)**<br>\n",
    "*We will now perform cross-validation on a simulated data set.<br>\n",
    "(a) Generate a simulated data set as follows:*\n",
    "> set .seed (1)<br>\n",
    "> y=rnorm (100)<br>\n",
    "> x=rnorm (100)<br>\n",
    "> y=x-2* x^2+ rnorm (100)\n",
    "\n",
    "*In this data set, what is n and what is p? Write out the model\n",
    "used to generate the data in equation form.*"
   ]
  },
  {
   "cell_type": "code",
   "execution_count": null,
   "metadata": {},
   "outputs": [],
   "source": [
    "set.seed(1)\n",
    "x = rnorm(100)\n",
    "y = x - 2 * x^2 + rnorm(100)\n",
    "\n",
    "#n = 100 (length(y) or length(x)), p = 2 (x,y)\n",
    "#Equation: Y = X − 2X²+ϵ"
   ]
  },
  {
   "cell_type": "markdown",
   "metadata": {},
   "source": [
    "*(b) Create a scatterplot of X against Y . Comment on what you find.*"
   ]
  },
  {
   "cell_type": "code",
   "execution_count": null,
   "metadata": {},
   "outputs": [],
   "source": [
    "plot(x, y)\n",
    "\n",
    "#data shape seems to be quadratic"
   ]
  },
  {
   "cell_type": "markdown",
   "metadata": {},
   "source": [
    "*(c) Set a random seed, and then compute the LOOCV errors that\n",
    "result from fitting the following four models using least squares:*<br>\n",
    "i. Y = β0 + β1X + ϵ<br>\n",
    "ii. Y = β0 + β1X + β2X2 + ϵ<br>\n",
    "iii. Y = β0 + β1X + β2X2 + β3X3 + ϵ<br>\n",
    "iv. Y = β0 + β1X + β2X2 + β3X3 + β4X4 + ϵ"
   ]
  },
  {
   "cell_type": "code",
   "execution_count": null,
   "metadata": {},
   "outputs": [],
   "source": [
    "library(boot)\n",
    "Data = data.frame(x, y)\n",
    "set.seed(123)\n",
    "\n",
    "loocverror = rep(0,4)\n",
    "\n",
    "for (i in 1:4) {\n",
    "    glm.fit = glm(y ~ poly(x,i), data=Data)\n",
    "    loocverror[i] = round(cv.glm(Data, glm.fit)$delta[1],2)\n",
    "    print(paste0(\"LOOCV \",i,\": \",loocverror[i]))\n",
    "}"
   ]
  },
  {
   "cell_type": "markdown",
   "metadata": {},
   "source": [
    "*(d) Repeat (c) using another random seed, and report your results.<br>\n",
    "Are your results the same as what you got in (c)? Why?*"
   ]
  },
  {
   "cell_type": "code",
   "execution_count": null,
   "metadata": {},
   "outputs": [],
   "source": [
    "set.seed(321)\n",
    "\n",
    "loocverror = rep(0,4)\n",
    "\n",
    "for (i in 1:4) {\n",
    "    glm.fit = glm(y ~ poly(x,i), data=Data)\n",
    "    loocverror[i] = round(cv.glm(Data, glm.fit)$delta[1],2)\n",
    "    print(paste0(\"LOOCV \",i,\": \",loocverror[i]))\n",
    "}\n",
    "\n",
    "#Same results, a characteristic of LOOCV because it gives approximately unbiased estimates of the test error"
   ]
  },
  {
   "cell_type": "markdown",
   "metadata": {},
   "source": [
    "*(e) Which of the models in (c) had the smallest LOOCV error? Is\n",
    "this what you expected? Explain your answer.*"
   ]
  },
  {
   "cell_type": "code",
   "execution_count": null,
   "metadata": {},
   "outputs": [],
   "source": [
    "#The quadratic polynomial (last result) had the lowest LOOCV test error rate. \n",
    "#This was expected because it matches the true form of Y, as described in exercise b."
   ]
  },
  {
   "cell_type": "markdown",
   "metadata": {},
   "source": [
    "*(f) Comment on the statistical significance of the coefficient estimates\n",
    "that results from fitting each of the models in (c) using\n",
    "least squares. Do these results agree with the conclusions drawn\n",
    "based on the cross-validation results?*"
   ]
  },
  {
   "cell_type": "code",
   "execution_count": null,
   "metadata": {},
   "outputs": [],
   "source": [
    "summary(glm.fit)\n",
    "\n",
    "#p-values show statistical significance for x1 and x2"
   ]
  },
  {
   "cell_type": "markdown",
   "metadata": {},
   "source": [
    "**Exercise 1 (p. 259, Chap. 6)**<br>\n",
    "*We perform best subset, forward stepwise, and backward stepwise selection on a single data set. <br>\n",
    "For each approach, we obtain p + 1 models, containing 0, 1, 2,... , p predictors. <br>\n",
    "Explain your answers:<br>\n",
    "(a) Which of the three models with k predictors has the smallest training RSS?*<br>\n",
    "\n",
    "When performing best subset selection, the model with k predictors is the model with the smallest RSS among all possible models with k predictors. When performing forward stepwise selection, the model with k predictors is the model with the smallest RSS among the p-k models which increase on each step in one additional predictor. When performing backward stepwise selection, the model with k predictors is the model with the smallest RSS among the k models which contains all but one of the predictors in each additional step. The model with k predictors which has the smallest training RSS is the one from best subset selection because it is the one selected among all k predictors models."
   ]
  },
  {
   "cell_type": "markdown",
   "metadata": {},
   "source": [
    "*(b) Which of the three models with k predictors has the smallest\n",
    "test RSS?*<br>\n",
    "Best subset selection is likely to have the smallest test RSS because it takes into account more models than the other methods. Other selection methods may also result in a smaller test RSS by luck. Dataset may also play a part."
   ]
  },
  {
   "cell_type": "markdown",
   "metadata": {},
   "source": [
    "*(c) True or False:*<br>\n",
    "\n",
    "*i. The predictors in the k-variable model identified by forward\n",
    "stepwise are a subset of the predictors in the (k+1)-variable\n",
    "model identified by forward stepwise selection.*<br>\n",
    "True. Forward selection adds one variable in each step if they comply with a certain threshold. In this case, k-variables are one less predictor less than k+1 variable model.<br>\n",
    "\n",
    "*ii. The predictors in the k-variable model identified by backward\n",
    "stepwise are a subset of the predictors in the (k + 1)-\n",
    "variable model identified by backward stepwise selection.<br>*\n",
    "True. Backward selection starts with the full model and removes on predictor per step, so the model with k predictors could be obtained by removing one predictor from the model with (k+1) predictors (as an additional step).<br>\n",
    "\n",
    "*iii. The predictors in the k-variable model identified by backward\n",
    "stepwise are a subset of the predictors in the (k + 1)-\n",
    "variable model identified by forward stepwise selection.<br>*\n",
    "False. They may match by coincidence, but there is no direct relationship between the models obtained from forward and a backward selection.<br>\n",
    "\n",
    "*iv. The predictors in the k-variable model identified by forward\n",
    "stepwise are a subset of the predictors in the (k+1)-variable\n",
    "model identified by backward stepwise selection.<br>*\n",
    "False. Same reason as previous question.<br>\n",
    "\n",
    "*v. The predictors in the k-variable model identified by best\n",
    "subset are a subset of the predictors in the (k + 1)-variable\n",
    "model identified by best subset selection.*<br>\n",
    "False. The model with (k+1) predictors is obtained by selecting among all possible models with (k+1) predictors, and so does not necessarily contain the same predictors selected for the k-variable model."
   ]
  },
  {
   "cell_type": "markdown",
   "metadata": {},
   "source": [
    "**Exercise 9 (p. 263, Chap. 6)**<br>\n",
    "*In this exercise, we will predict the number of applications received\n",
    "using the other variables in the College data set.<br>\n",
    "(a) Split the data set into a training set and a test set.<br>*"
   ]
  },
  {
   "cell_type": "code",
   "execution_count": null,
   "metadata": {},
   "outputs": [],
   "source": [
    "library(ISLR)\n",
    "data(College)\n",
    "set.seed(11)\n",
    "train = sample(1:nrow(College), size=nrow(College)/ 2)\n",
    "College.train <- College[train, ]\n",
    "College.test <- College[-train, ]"
   ]
  },
  {
   "cell_type": "markdown",
   "metadata": {},
   "source": [
    "*(b) Fit a linear model using least squares on the training set, and\n",
    "report the test error obtained.*"
   ]
  },
  {
   "cell_type": "code",
   "execution_count": null,
   "metadata": {},
   "outputs": [],
   "source": [
    "fit.lm <- lm(Apps ~ ., data = College.train)\n",
    "pred.lm <- predict(fit.lm, College.test)\n",
    "mse <- round(mean((pred.lm - College.test$Apps)^2),2)\n",
    "print(paste(\"test MSE:\", mse))"
   ]
  },
  {
   "cell_type": "markdown",
   "metadata": {},
   "source": [
    "*(c) Fit a ridge regression model on the training set, with λ chosen\n",
    "by cross-validation. Report the test error obtained.*"
   ]
  },
  {
   "cell_type": "code",
   "execution_count": null,
   "metadata": {},
   "outputs": [],
   "source": [
    "library(glmnet)\n",
    "College.train$Private <- ifelse(College.train$Private == \"Yes\", 1, 0)\n",
    "College.test$Private <- ifelse(College.test$Private == \"Yes\", 1, 0)"
   ]
  },
  {
   "cell_type": "code",
   "execution_count": null,
   "metadata": {},
   "outputs": [],
   "source": [
    "features_df <- colnames(College.train[,!colnames(College.train) %in% c(\"Apps\")])\n",
    "\n",
    "ridge <- cv.glmnet(as.matrix(College.train[features_df]), College.train$Apps, alpha = 0)\n",
    "cv.ridge <- predict(ridge, newx=as.matrix(College.train[features_df]), s = ridge$lambda.min)\n",
    "bestlambda <- ridge$lambda.min\n",
    "bestlambda"
   ]
  },
  {
   "cell_type": "code",
   "execution_count": null,
   "metadata": {},
   "outputs": [],
   "source": [
    "pred.ridge <- predict(ridge, s = bestlambda, newx = as.matrix(College.test[features_df]))\n",
    "mse <- mean((pred.ridge - College.test$Apps)^2)\n",
    "print(paste(\"test MSE:\", mse))"
   ]
  },
  {
   "cell_type": "markdown",
   "metadata": {},
   "source": [
    "*(d) Fit a lasso model on the training set, with λ chosen by crossvalidation.\n",
    "Report the test error obtained, along with the number\n",
    "of non-zero coefficient estimates.*"
   ]
  },
  {
   "cell_type": "code",
   "execution_count": null,
   "metadata": {},
   "outputs": [],
   "source": [
    "lasso <- cv.glmnet(as.matrix(College.train[features_df]), College.train$Apps, alpha = 1)\n",
    "pred.lasso <- predict(lasso, newx=as.matrix(College.test[features_df]), s = lasso$lambda.min)\n",
    "lasso$lambda.min"
   ]
  },
  {
   "cell_type": "code",
   "execution_count": null,
   "metadata": {},
   "outputs": [],
   "source": [
    "mse <- mean((pred.lasso - College.test$Apps)^2)\n",
    "print(paste(\"test MSE:\", mse))"
   ]
  },
  {
   "cell_type": "code",
   "execution_count": null,
   "metadata": {},
   "outputs": [],
   "source": [
    "#coefficients\n",
    "predict(lasso, s = lasso$lambda.min, type = \"coefficients\")"
   ]
  },
  {
   "cell_type": "markdown",
   "metadata": {},
   "source": [
    "*(e) Fit a PCR model on the training set, with M chosen by crossvalidation.\n",
    "Report the test error obtained, along with the value\n",
    "of M selected by cross-validation.*"
   ]
  },
  {
   "cell_type": "code",
   "execution_count": null,
   "metadata": {},
   "outputs": [],
   "source": [
    "library(pls)"
   ]
  },
  {
   "cell_type": "code",
   "execution_count": null,
   "metadata": {},
   "outputs": [],
   "source": [
    "fit.pcr <- pcr(Apps ~ ., data = College.train, scale = TRUE, validation = \"CV\")\n",
    "#validationplot(fit.pcr, val.type = \"MSEP\")\n",
    "pred.pcr <- predict(fit.pcr, College.test, ncomp = 10)\n",
    "mse <- mean((pred.pcr - College.test$Apps)^2)\n",
    "print(paste(\"test MSE:\", mse))"
   ]
  },
  {
   "cell_type": "markdown",
   "metadata": {},
   "source": [
    "*(f) Fit a PLS model on the training set, with M chosen by crossvalidation.\n",
    "Report the test error obtained, along with the value\n",
    "of M selected by cross-validation.*"
   ]
  },
  {
   "cell_type": "code",
   "execution_count": null,
   "metadata": {},
   "outputs": [],
   "source": [
    "fit.pls <- plsr(Apps ~ ., data = College.train, scale = TRUE, validation = \"CV\")\n",
    "#validationplot(fit.pls, val.type = \"MSEP\")"
   ]
  },
  {
   "cell_type": "code",
   "execution_count": null,
   "metadata": {},
   "outputs": [],
   "source": [
    "pred.pls <- predict(fit.pls, College.test, ncomp = 10)\n",
    "mse <- mean((pred.pls - College.test$Apps)^2)\n",
    "print(paste(\"test MSE:\", mse))"
   ]
  },
  {
   "cell_type": "markdown",
   "metadata": {},
   "source": [
    "*(g) Comment on the results obtained. How accurately can we predict\n",
    "the number of college applications received? Is there much\n",
    "difference among the test errors resulting from these five approaches?*"
   ]
  },
  {
   "cell_type": "code",
   "execution_count": null,
   "metadata": {},
   "outputs": [],
   "source": [
    "#To compare results: R2\n",
    "\n",
    "test.avg <- mean(College.test$Apps)\n",
    "lm.r2 <- 1 - mean((pred.lm - College.test$Apps)^2) / mean((test.avg - College.test$Apps)^2)\n",
    "ridge.r2 <- 1 - mean((pred.ridge - College.test$Apps)^2) / mean((test.avg - College.test$Apps)^2)\n",
    "lasso.r2 <- 1 - mean((pred.lasso - College.test$Apps)^2) / mean((test.avg - College.test$Apps)^2)\n",
    "pcr.r2 <- 1 - mean((pred.pcr - College.test$Apps)^2) / mean((test.avg - College.test$Apps)^2)\n",
    "pls.r2 <- 1 - mean((pred.pls - College.test$Apps)^2) / mean((test.avg - College.test$Apps)^2)\n",
    "\n",
    "#sorted from highest to lowest explained variance (R2)\n",
    "print(paste0(\"Ridge: \",round(ridge.r2*100,2),\"%\"))\n",
    "print(paste0(\"Lasso: \",round(lasso.r2*100,2),\"%\"))\n",
    "print(paste0(\"Linear Model: \",round(lm.r2*100,2),\"%\"))\n",
    "print(paste0(\"PLS: \",round(pls.r2*100,2),\"%\"))\n",
    "print(paste0(\"PCR: \",round(pcr.r2*100,2),\"%\"))"
   ]
  },
  {
   "cell_type": "markdown",
   "metadata": {},
   "source": [
    "**Exercise 9 (p. 299, Chap. 7)**<br>\n",
    "*This question uses the variables dis (the weighted mean of distances\n",
    "to five Boston employment centers) and nox (nitrogen oxides concentration\n",
    "in parts per 10 million) from the Boston data. We will treat\n",
    "dis as the predictor and nox as the response.*<br>\n",
    "\n",
    "*(a) Use the poly() function to fit a cubic polynomial regression to\n",
    "predict nox using dis. Report the regression output, and plot\n",
    "the resulting data and polynomial fits.*"
   ]
  },
  {
   "cell_type": "code",
   "execution_count": null,
   "metadata": {},
   "outputs": [],
   "source": [
    "library(MASS)\n",
    "set.seed(1)\n",
    "fit <- lm(nox ~ poly(dis, 3), data = Boston)\n",
    "summary(fit)"
   ]
  },
  {
   "cell_type": "code",
   "execution_count": null,
   "metadata": {},
   "outputs": [],
   "source": [
    "dis_rng <- range(Boston$dis) #min & max\n",
    "dis.grid <- seq(from = dis_rng[1], to = dis_rng[2], by = 0.1)\n",
    "preds <- predict(fit, list(dis = dis.grid))\n",
    "plot(nox ~ dis, data = Boston, col = \"darkgrey\")\n",
    "lines(dis.grid, preds, col = \"blue\", lwd = 2)"
   ]
  },
  {
   "cell_type": "markdown",
   "metadata": {},
   "source": [
    "*(b) Plot the polynomial fits for a range of different polynomial\n",
    "degrees (say, from 1 to 10), and report the associated residual\n",
    "sum of squares.*"
   ]
  },
  {
   "cell_type": "code",
   "execution_count": null,
   "metadata": {},
   "outputs": [],
   "source": [
    "rss <- rep(NA, 10)\n",
    "for (i in 1:10) {\n",
    "    fit <- lm(nox ~ poly(dis, i), data = Boston)\n",
    "    rss[i] <- sum(fit$residuals^2)\n",
    "}\n",
    "plot(1:10, rss, xlab = \"Polynomial Degree\", ylab = \"RSS\", type = \"l\")\n",
    "#RSS decrease with more degrees"
   ]
  },
  {
   "cell_type": "markdown",
   "metadata": {},
   "source": [
    "*(c) Perform cross-validation or another approach to select the optimal\n",
    "degree for the polynomial, and explain your results.*"
   ]
  },
  {
   "cell_type": "code",
   "execution_count": null,
   "metadata": {},
   "outputs": [],
   "source": [
    "deltas <- rep(NA, 10)\n",
    "for (i in 1:10) {\n",
    "    fit <- glm(nox ~ poly(dis, i), data = Boston)\n",
    "    deltas[i] <- cv.glm(Boston, fit, K = 10)$delta[1]\n",
    "}\n",
    "plot(deltas, xlab = \"Degree\", ylab = \"Test MSE\", type = \"l\")\n",
    "#Test MSE seems to be minimized around Degree = 4 (good performance)"
   ]
  },
  {
   "cell_type": "markdown",
   "metadata": {},
   "source": [
    "*(d) Use the bs() function to fit a regression spline to predict nox\n",
    "using dis. Report the output for the fit using four degrees of\n",
    "freedom. How did you choose the knots? Plot the resulting fit.*"
   ]
  },
  {
   "cell_type": "code",
   "execution_count": null,
   "metadata": {},
   "outputs": [],
   "source": [
    "library(splines)"
   ]
  },
  {
   "cell_type": "code",
   "execution_count": null,
   "metadata": {},
   "outputs": [],
   "source": [
    "fit <- lm(nox ~ bs(dis, knots = c(4, 6, 11)), data = Boston)\n",
    "summary(fit)\n",
    "#all terms are significant"
   ]
  },
  {
   "cell_type": "code",
   "execution_count": null,
   "metadata": {},
   "outputs": [],
   "source": [
    "pred <- predict(fit, list(dis = dis.grid))\n",
    "plot(nox ~ dis, data = Boston, col = \"darkgrey\")\n",
    "lines(dis.grid, preds, col = \"blue\", lwd = 2)"
   ]
  },
  {
   "cell_type": "markdown",
   "metadata": {},
   "source": [
    "*(e) Now fit a regression spline for a range of degrees of freedom, and\n",
    "plot the resulting fits and report the resulting RSS. Describe the\n",
    "results obtained.*"
   ]
  },
  {
   "cell_type": "code",
   "execution_count": null,
   "metadata": {},
   "outputs": [],
   "source": [
    "rss <- rep(NA, 16)\n",
    "for (i in 3:16) {\n",
    "    fit <- lm(nox ~ bs(dis, df = i), data = Boston)\n",
    "    rss[i] <- sum(fit$residuals^2)\n",
    "}\n",
    "plot(3:16, rss[-c(1, 2)], xlab = \"Degrees of freedom\", ylab = \"RSS\", type = \"l\")"
   ]
  },
  {
   "cell_type": "markdown",
   "metadata": {},
   "source": [
    "*(f) Perform cross-validation or another approach in order to select\n",
    "the best degrees of freedom for a regression spline on this data.\n",
    "Describe your results.*"
   ]
  },
  {
   "cell_type": "code",
   "execution_count": null,
   "metadata": {},
   "outputs": [],
   "source": [
    "cv <- rep(NA, 16)\n",
    "for (i in 3:16) {\n",
    "    fit <- glm(nox ~ bs(dis, df = i), data = Boston)\n",
    "    cv[i] <- cv.glm(Boston, fit, K = 10)$delta[1]\n",
    "}\n",
    "\n",
    "plot(3:16, cv[-c(1, 2)], xlab = \"Degrees of freedom\", ylab = \"Test MSE\", type = \"l\")"
   ]
  },
  {
   "cell_type": "markdown",
   "metadata": {},
   "source": [
    "**Exercise 10 (p.300, Chap. 7)**<br>\n",
    "*This question relates to the College data set.*<br>\n",
    "\n",
    "*(a) Split the data into a training set and a test set. Using out-of-state\n",
    "tuition as the response and the other variables as the predictors,\n",
    "perform forward stepwise selection on the training set in order\n",
    "to identify a satisfactory model that uses just a subset of the\n",
    "predictors.*"
   ]
  },
  {
   "cell_type": "code",
   "execution_count": 4,
   "metadata": {},
   "outputs": [
    {
     "data": {
      "text/html": [
       "<table>\n",
       "<thead><tr><th></th><th scope=col>Private</th><th scope=col>Apps</th><th scope=col>Accept</th><th scope=col>Enroll</th><th scope=col>Top10perc</th><th scope=col>Top25perc</th><th scope=col>F.Undergrad</th><th scope=col>P.Undergrad</th><th scope=col>Outstate</th><th scope=col>Room.Board</th><th scope=col>Books</th><th scope=col>Personal</th><th scope=col>PhD</th><th scope=col>Terminal</th><th scope=col>S.F.Ratio</th><th scope=col>perc.alumni</th><th scope=col>Expend</th><th scope=col>Grad.Rate</th></tr></thead>\n",
       "<tbody>\n",
       "\t<tr><th scope=row>Abilene Christian University</th><td>Yes  </td><td>1660 </td><td>1232 </td><td>721  </td><td>23   </td><td>52   </td><td>2885 </td><td> 537 </td><td> 7440</td><td>3300 </td><td>450  </td><td>2200 </td><td>70   </td><td>78   </td><td>18.1 </td><td>12   </td><td> 7041</td><td>60   </td></tr>\n",
       "\t<tr><th scope=row>Adelphi University</th><td>Yes  </td><td>2186 </td><td>1924 </td><td>512  </td><td>16   </td><td>29   </td><td>2683 </td><td>1227 </td><td>12280</td><td>6450 </td><td>750  </td><td>1500 </td><td>29   </td><td>30   </td><td>12.2 </td><td>16   </td><td>10527</td><td>56   </td></tr>\n",
       "\t<tr><th scope=row>Adrian College</th><td>Yes  </td><td>1428 </td><td>1097 </td><td>336  </td><td>22   </td><td>50   </td><td>1036 </td><td>  99 </td><td>11250</td><td>3750 </td><td>400  </td><td>1165 </td><td>53   </td><td>66   </td><td>12.9 </td><td>30   </td><td> 8735</td><td>54   </td></tr>\n",
       "\t<tr><th scope=row>Agnes Scott College</th><td>Yes  </td><td> 417 </td><td> 349 </td><td>137  </td><td>60   </td><td>89   </td><td> 510 </td><td>  63 </td><td>12960</td><td>5450 </td><td>450  </td><td> 875 </td><td>92   </td><td>97   </td><td> 7.7 </td><td>37   </td><td>19016</td><td>59   </td></tr>\n",
       "\t<tr><th scope=row>Alaska Pacific University</th><td>Yes  </td><td> 193 </td><td> 146 </td><td> 55  </td><td>16   </td><td>44   </td><td> 249 </td><td> 869 </td><td> 7560</td><td>4120 </td><td>800  </td><td>1500 </td><td>76   </td><td>72   </td><td>11.9 </td><td> 2   </td><td>10922</td><td>15   </td></tr>\n",
       "</tbody>\n",
       "</table>\n"
      ],
      "text/latex": [
       "\\begin{tabular}{r|llllllllllllllllll}\n",
       "  & Private & Apps & Accept & Enroll & Top10perc & Top25perc & F.Undergrad & P.Undergrad & Outstate & Room.Board & Books & Personal & PhD & Terminal & S.F.Ratio & perc.alumni & Expend & Grad.Rate\\\\\n",
       "\\hline\n",
       "\tAbilene Christian University & Yes   & 1660  & 1232  & 721   & 23    & 52    & 2885  &  537  &  7440 & 3300  & 450   & 2200  & 70    & 78    & 18.1  & 12    &  7041 & 60   \\\\\n",
       "\tAdelphi University & Yes   & 2186  & 1924  & 512   & 16    & 29    & 2683  & 1227  & 12280 & 6450  & 750   & 1500  & 29    & 30    & 12.2  & 16    & 10527 & 56   \\\\\n",
       "\tAdrian College & Yes   & 1428  & 1097  & 336   & 22    & 50    & 1036  &   99  & 11250 & 3750  & 400   & 1165  & 53    & 66    & 12.9  & 30    &  8735 & 54   \\\\\n",
       "\tAgnes Scott College & Yes   &  417  &  349  & 137   & 60    & 89    &  510  &   63  & 12960 & 5450  & 450   &  875  & 92    & 97    &  7.7  & 37    & 19016 & 59   \\\\\n",
       "\tAlaska Pacific University & Yes   &  193  &  146  &  55   & 16    & 44    &  249  &  869  &  7560 & 4120  & 800   & 1500  & 76    & 72    & 11.9  &  2    & 10922 & 15   \\\\\n",
       "\\end{tabular}\n"
      ],
      "text/markdown": [
       "\n",
       "| <!--/--> | Private | Apps | Accept | Enroll | Top10perc | Top25perc | F.Undergrad | P.Undergrad | Outstate | Room.Board | Books | Personal | PhD | Terminal | S.F.Ratio | perc.alumni | Expend | Grad.Rate |\n",
       "|---|---|---|---|---|---|---|---|---|---|---|---|---|---|---|---|---|---|---|\n",
       "| Abilene Christian University | Yes   | 1660  | 1232  | 721   | 23    | 52    | 2885  |  537  |  7440 | 3300  | 450   | 2200  | 70    | 78    | 18.1  | 12    |  7041 | 60    |\n",
       "| Adelphi University | Yes   | 2186  | 1924  | 512   | 16    | 29    | 2683  | 1227  | 12280 | 6450  | 750   | 1500  | 29    | 30    | 12.2  | 16    | 10527 | 56    |\n",
       "| Adrian College | Yes   | 1428  | 1097  | 336   | 22    | 50    | 1036  |   99  | 11250 | 3750  | 400   | 1165  | 53    | 66    | 12.9  | 30    |  8735 | 54    |\n",
       "| Agnes Scott College | Yes   |  417  |  349  | 137   | 60    | 89    |  510  |   63  | 12960 | 5450  | 450   |  875  | 92    | 97    |  7.7  | 37    | 19016 | 59    |\n",
       "| Alaska Pacific University | Yes   |  193  |  146  |  55   | 16    | 44    |  249  |  869  |  7560 | 4120  | 800   | 1500  | 76    | 72    | 11.9  |  2    | 10922 | 15    |\n",
       "\n"
      ],
      "text/plain": [
       "                             Private Apps Accept Enroll Top10perc Top25perc\n",
       "Abilene Christian University Yes     1660 1232   721    23        52       \n",
       "Adelphi University           Yes     2186 1924   512    16        29       \n",
       "Adrian College               Yes     1428 1097   336    22        50       \n",
       "Agnes Scott College          Yes      417  349   137    60        89       \n",
       "Alaska Pacific University    Yes      193  146    55    16        44       \n",
       "                             F.Undergrad P.Undergrad Outstate Room.Board Books\n",
       "Abilene Christian University 2885         537         7440    3300       450  \n",
       "Adelphi University           2683        1227        12280    6450       750  \n",
       "Adrian College               1036          99        11250    3750       400  \n",
       "Agnes Scott College           510          63        12960    5450       450  \n",
       "Alaska Pacific University     249         869         7560    4120       800  \n",
       "                             Personal PhD Terminal S.F.Ratio perc.alumni Expend\n",
       "Abilene Christian University 2200     70  78       18.1      12           7041 \n",
       "Adelphi University           1500     29  30       12.2      16          10527 \n",
       "Adrian College               1165     53  66       12.9      30           8735 \n",
       "Agnes Scott College           875     92  97        7.7      37          19016 \n",
       "Alaska Pacific University    1500     76  72       11.9       2          10922 \n",
       "                             Grad.Rate\n",
       "Abilene Christian University 60       \n",
       "Adelphi University           56       \n",
       "Adrian College               54       \n",
       "Agnes Scott College          59       \n",
       "Alaska Pacific University    15       "
      ]
     },
     "metadata": {},
     "output_type": "display_data"
    }
   ],
   "source": [
    "library(leaps)\n",
    "set.seed(1)\n",
    "head(College,5)\n",
    "\n",
    "train <- sample(1:nrow(College), floor(nrow(College)*0.8))\n",
    "#College$Private <- ifelse(College$Private == \"Yes\", 1, 0)\n",
    "\n",
    "College.train <- College[train, ]\n",
    "College.test <- College[-train, ]"
   ]
  },
  {
   "cell_type": "code",
   "execution_count": 5,
   "metadata": {},
   "outputs": [],
   "source": [
    "fit <- regsubsets(Outstate ~ ., data = College.train, method = \"forward\")\n",
    "fit.summary <- summary(fit)"
   ]
  },
  {
   "cell_type": "code",
   "execution_count": 6,
   "metadata": {
    "scrolled": true
   },
   "outputs": [
    {
     "data": {
      "image/png": "[encoded data removed]",
      "text/plain": [
       "plot without title"
      ]
     },
     "metadata": {},
     "output_type": "display_data"
    }
   ],
   "source": [
    "par(mfrow = c(1, 3))\n",
    "plot(fit.summary$cp, xlab = \"N variables\", ylab = \"Cp\", type = \"l\")\n",
    "min.cp <- min(fit.summary$cp)\n",
    "std.cp <- sd(fit.summary$cp)\n",
    "abline(h = min.cp + 0.2 * std.cp, col = \"red\", lty = 2)\n",
    "abline(h = min.cp - 0.2 * std.cp, col = \"red\", lty = 2)\n",
    "plot(fit.summary$bic, xlab = \"N variables\", ylab = \"BIC\", type='l')\n",
    "min.bic <- min(fit.summary$bic)\n",
    "std.bic <- sd(fit.summary$bic)\n",
    "abline(h = min.bic + 0.2 * std.bic, col = \"red\", lty = 2)\n",
    "abline(h = min.bic - 0.2 * std.bic, col = \"red\", lty = 2)\n",
    "plot(fit.summary$adjr2, xlab = \"N variables\", ylab = \"Adj. R2\", type = \"l\", ylim = c(0.4, 0.84))\n",
    "max.adjr2 <- max(fit.summary$adjr2)\n",
    "std.adjr2 <- sd(fit.summary$adjr2)\n",
    "abline(h = max.adjr2 + 0.2 * std.adjr2, col = \"red\", lty = 2)\n",
    "abline(h = max.adjr2 - 0.2 * std.adjr2, col = \"red\", lty = 2)"
   ]
  },
  {
   "cell_type": "code",
   "execution_count": 7,
   "metadata": {},
   "outputs": [
    {
     "data": {
      "text/html": [
       "<ol class=list-inline>\n",
       "\t<li>'(Intercept)'</li>\n",
       "\t<li>'PrivateYes'</li>\n",
       "\t<li>'Room.Board'</li>\n",
       "\t<li>'PhD'</li>\n",
       "\t<li>'perc.alumni'</li>\n",
       "\t<li>'Expend'</li>\n",
       "\t<li>'Grad.Rate'</li>\n",
       "</ol>\n"
      ],
      "text/latex": [
       "\\begin{enumerate*}\n",
       "\\item '(Intercept)'\n",
       "\\item 'PrivateYes'\n",
       "\\item 'Room.Board'\n",
       "\\item 'PhD'\n",
       "\\item 'perc.alumni'\n",
       "\\item 'Expend'\n",
       "\\item 'Grad.Rate'\n",
       "\\end{enumerate*}\n"
      ],
      "text/markdown": [
       "1. '(Intercept)'\n",
       "2. 'PrivateYes'\n",
       "3. 'Room.Board'\n",
       "4. 'PhD'\n",
       "5. 'perc.alumni'\n",
       "6. 'Expend'\n",
       "7. 'Grad.Rate'\n",
       "\n",
       "\n"
      ],
      "text/plain": [
       "[1] \"(Intercept)\" \"PrivateYes\"  \"Room.Board\"  \"PhD\"         \"perc.alumni\"\n",
       "[6] \"Expend\"      \"Grad.Rate\"  "
      ]
     },
     "metadata": {},
     "output_type": "display_data"
    }
   ],
   "source": [
    "fit <- regsubsets(Outstate ~ ., data = College, method = \"forward\")\n",
    "coeffs <- coef(fit, id = 6)\n",
    "names(coeffs)"
   ]
  },
  {
   "cell_type": "markdown",
   "metadata": {},
   "source": [
    "*(b) Fit a GAM on the training data, using out-of-state tuition as\n",
    "the response and the features selected in the previous step as\n",
    "the predictors. Plot the results, and explain your findings.*"
   ]
  },
  {
   "cell_type": "code",
   "execution_count": 8,
   "metadata": {},
   "outputs": [
    {
     "name": "stderr",
     "output_type": "stream",
     "text": [
      "Warning message:\n",
      "\"package 'mgcv' was built under R version 3.6.2\"Loading required package: nlme\n",
      "Warning message:\n",
      "\"package 'nlme' was built under R version 3.6.2\"This is mgcv 1.8-31. For overview type 'help(\"mgcv-package\")'.\n"
     ]
    }
   ],
   "source": [
    "library(mgcv)"
   ]
  },
  {
   "cell_type": "code",
   "execution_count": 10,
   "metadata": {},
   "outputs": [
    {
     "data": {
      "image/png": "[encoded data removed]",
      "text/plain": [
       "plot without title"
      ]
     },
     "metadata": {},
     "output_type": "display_data"
    }
   ],
   "source": [
    "fit <- gam(Outstate ~ Private + s(Room.Board) + s(PhD) + s(perc.alumni) + \n",
    "           s(Expend) + s(Grad.Rate), data=College.train)\n",
    "par(mfrow = c(2, 3))\n",
    "plot(fit, se = T, col = \"blue\")"
   ]
  },
  {
   "cell_type": "markdown",
   "metadata": {},
   "source": [
    "*(c) Evaluate the model obtained on the test set, and explain the\n",
    "results obtained.*"
   ]
  },
  {
   "cell_type": "code",
   "execution_count": 11,
   "metadata": {},
   "outputs": [
    {
     "data": {
      "text/html": [
       "3078877.08524081"
      ],
      "text/latex": [
       "3078877.08524081"
      ],
      "text/markdown": [
       "3078877.08524081"
      ],
      "text/plain": [
       "[1] 3078877"
      ]
     },
     "metadata": {},
     "output_type": "display_data"
    }
   ],
   "source": [
    "preds <- predict(fit, College.test)\n",
    "err <- mean((College.test$Outstate - preds)^2)\n",
    "err"
   ]
  },
  {
   "cell_type": "code",
   "execution_count": 12,
   "metadata": {},
   "outputs": [
    {
     "data": {
      "text/html": [
       "0.78052748557701"
      ],
      "text/latex": [
       "0.78052748557701"
      ],
      "text/markdown": [
       "0.78052748557701"
      ],
      "text/plain": [
       "[1] 0.7805275"
      ]
     },
     "metadata": {},
     "output_type": "display_data"
    }
   ],
   "source": [
    "tss <- mean((College.test$Outstate - mean(College.test$Outstate))^2)\n",
    "rss <- 1 - err / tss\n",
    "rss"
   ]
  },
  {
   "cell_type": "markdown",
   "metadata": {},
   "source": [
    "*(d) For which variables, if any, is there evidence of a non-linear\n",
    "relationship with the response?*"
   ]
  },
  {
   "cell_type": "code",
   "execution_count": 19,
   "metadata": {},
   "outputs": [
    {
     "data": {
      "image/png": "[encoded data removed]",
      "text/plain": [
       "plot without title"
      ]
     },
     "metadata": {},
     "output_type": "display_data"
    }
   ],
   "source": [
    "pairs <- College[,c(\"Outstate\",'Private', 'Room.Board', 'PhD', 'perc.alumni', 'Expend', 'Grad.Rate')]\n",
    "pairs(pairs)\n",
    "#Room.Board, Expend and Grad.Rate are the clearest examples"
   ]
  },
  {
   "cell_type": "code",
   "execution_count": 13,
   "metadata": {},
   "outputs": [
    {
     "data": {
      "text/plain": [
       "\n",
       "Family: gaussian \n",
       "Link function: identity \n",
       "\n",
       "Formula:\n",
       "Outstate ~ Private + s(Room.Board) + s(PhD) + s(perc.alumni) + \n",
       "    s(Expend) + s(Grad.Rate)\n",
       "\n",
       "Parametric coefficients:\n",
       "            Estimate Std. Error t value Pr(>|t|)    \n",
       "(Intercept)   8700.7      181.8   47.86   <2e-16 ***\n",
       "PrivateYes    2452.3      223.7   10.96   <2e-16 ***\n",
       "---\n",
       "Signif. codes:  0 '***' 0.001 '**' 0.01 '*' 0.05 '.' 0.1 ' ' 1\n",
       "\n",
       "Approximate significance of smooth terms:\n",
       "                 edf Ref.df      F  p-value    \n",
       "s(Room.Board)  5.340  6.527 12.384 6.48e-14 ***\n",
       "s(PhD)         1.000  1.000  9.575  0.00206 ** \n",
       "s(perc.alumni) 1.036  1.071 28.085 8.42e-08 ***\n",
       "s(Expend)      6.595  7.715 32.555  < 2e-16 ***\n",
       "s(Grad.Rate)   1.000  1.000 29.418 8.34e-08 ***\n",
       "---\n",
       "Signif. codes:  0 '***' 0.001 '**' 0.01 '*' 0.05 '.' 0.1 ' ' 1\n",
       "\n",
       "R-sq.(adj) =  0.787   Deviance explained = 79.3%\n",
       "GCV = 3.6497e+06  Scale est. = 3.5499e+06  n = 621"
      ]
     },
     "metadata": {},
     "output_type": "display_data"
    }
   ],
   "source": [
    "summary(fit)"
   ]
  }
 ],
 "metadata": {
  "kernelspec": {
   "display_name": "R",
   "language": "R",
   "name": "ir"
  },
  "language_info": {
   "codemirror_mode": "r",
   "file_extension": ".r",
   "mimetype": "text/x-r-source",
   "name": "R",
   "pygments_lexer": "r",
   "version": "3.6.1"
  }
 },
 "nbformat": 4,
 "nbformat_minor": 2
}
