{
  "nbformat": 4,
  "nbformat_minor": 0,
  "metadata": {
    "colab": {
      "name": "MBD_SML_Section7_Tensorflow2_v1.ipynb",
      "provenance": [],
      "collapsed_sections": [],
      "include_colab_link": true
    },
    "kernelspec": {
      "name": "python3",
      "display_name": "Python 3"
    }
  },
  "cells": [
    {
      "cell_type": "markdown",
      "metadata": {
        "id": "view-in-github",
        "colab_type": "text"
      },
      "source": [
        "<a href=\"https://colab.research.google.com/github/stephieseg/schoolwork/blob/master/MBD_SML_Section7_Tensorflow2_v1.ipynb\" target=\"_parent\"><img src=\"https://colab.research.google.com/assets/colab-badge.svg\" alt=\"Open In Colab\"/></a>"
      ]
    },
    {
      "cell_type": "markdown",
      "metadata": {
        "id": "cQtZ4Ci-gY6D",
        "colab_type": "text"
      },
      "source": [
        "#### **MBD 2019-2020**\n",
        "# **Statistical & Machine Learning Approaches for Marketing**\n",
        "\n",
        "## **Section 7: Neural Networks - Implementing Neural Network with Tensorflow 2.x***\n",
        "\n",
        "Reference:  \n",
        "- TensorFlow 2 quickstart for beginners. Link: https://www.tensorflow.org/tutorials/quickstart/beginner"
      ]
    },
    {
      "cell_type": "code",
      "metadata": {
        "id": "jgVMxIMJfUkI",
        "colab_type": "code",
        "outputId": "8b99fb32-2e6e-4876-f569-10684019d182",
        "colab": {
          "base_uri": "https://localhost:8080/",
          "height": 68
        }
      },
      "source": [
        "# Check Python version\n",
        "import sys\n",
        "print('Python version:', sys.version)\n",
        "\n",
        "# Some important functions and libraries\n",
        "from __future__ import absolute_import, division, print_function, unicode_literals\n",
        "import numpy as np\n",
        "import pandas as pd\n",
        "import random\n",
        "import matplotlib.pyplot as plt\n",
        "\n",
        "# Check tensorflow version\n",
        "%tensorflow_version 2.x\n",
        "import tensorflow as tf\n",
        "print('Tensorflow version:', tf.__version__)"
      ],
      "execution_count": 0,
      "outputs": [
        {
          "output_type": "stream",
          "text": [
            "Python version: 3.6.9 (default, Nov  7 2019, 10:44:02) \n",
            "[GCC 8.3.0]\n",
            "Tensorflow version: 2.2.0-rc1\n"
          ],
          "name": "stdout"
        }
      ]
    },
    {
      "cell_type": "markdown",
      "metadata": {
        "id": "MCt2EaCthJ_H",
        "colab_type": "text"
      },
      "source": [
        "**Load the MNIST data.**"
      ]
    },
    {
      "cell_type": "code",
      "metadata": {
        "id": "Yy8WdqEJhHWU",
        "colab_type": "code",
        "outputId": "d383c8d0-f222-449b-8627-dc318dd29a77",
        "colab": {
          "base_uri": "https://localhost:8080/",
          "height": 51
        }
      },
      "source": [
        "# Load the data\n",
        "mnist = tf.keras.datasets.mnist\n",
        "(x_train, y_train), (x_test, y_test) = mnist.load_data()  # Get train, test data\n",
        "x_train, x_test = x_train / 255.0, x_test / 255.0  # Standardizeb"
      ],
      "execution_count": 0,
      "outputs": [
        {
          "output_type": "stream",
          "text": [
            "Downloading data from https://storage.googleapis.com/tensorflow/tf-keras-datasets/mnist.npz\n",
            "11493376/11490434 [==============================] - 0s 0us/step\n"
          ],
          "name": "stdout"
        }
      ]
    },
    {
      "cell_type": "code",
      "metadata": {
        "id": "SC12XzyLhNsj",
        "colab_type": "code",
        "outputId": "32892b99-7e64-4091-ebed-1cd0ed4c06d1",
        "colab": {
          "base_uri": "https://localhost:8080/",
          "height": 34
        }
      },
      "source": [
        "# Check the data shape\n",
        "x_train.shape"
      ],
      "execution_count": 0,
      "outputs": [
        {
          "output_type": "execute_result",
          "data": {
            "text/plain": [
              "(60000, 28, 28)"
            ]
          },
          "metadata": {
            "tags": []
          },
          "execution_count": 4
        }
      ]
    },
    {
      "cell_type": "code",
      "metadata": {
        "id": "2OxA7ydxhPWG",
        "colab_type": "code",
        "outputId": "221ad97b-5e30-4c42-ec2e-17a48c71f8b8",
        "colab": {
          "base_uri": "https://localhost:8080/",
          "height": 119
        }
      },
      "source": [
        "# Print out some data\n",
        "x_train[0][:, 10]"
      ],
      "execution_count": 0,
      "outputs": [
        {
          "output_type": "execute_result",
          "data": {
            "text/plain": [
              "array([0.        , 0.        , 0.        , 0.        , 0.        ,\n",
              "       0.        , 0.36862745, 0.99215686, 0.99215686, 0.41960784,\n",
              "       0.00392157, 0.        , 0.        , 0.        , 0.        ,\n",
              "       0.        , 0.        , 0.        , 0.        , 0.        ,\n",
              "       0.09411765, 0.83529412, 0.99215686, 0.99215686, 0.51764706,\n",
              "       0.        , 0.        , 0.        ])"
            ]
          },
          "metadata": {
            "tags": []
          },
          "execution_count": 5
        }
      ]
    },
    {
      "cell_type": "code",
      "metadata": {
        "id": "bgY_r1NIhQ_7",
        "colab_type": "code",
        "outputId": "dc82032b-cab6-4558-acdb-6c5ffb6be273",
        "colab": {
          "base_uri": "https://localhost:8080/",
          "height": 265
        }
      },
      "source": [
        "# Show some pictures\n",
        "nrow = 2  # 2 rows\n",
        "ncol = 5  # 5 plot per row\n",
        "f, axarr = plt.subplots(nrow, ncol, figsize=(10, 4))  # Initiate the grid\n",
        "for i in range(0, nrow):\n",
        "  for j in range(0, ncol):\n",
        "    rand_idx = random.randrange(x_train.shape[0])\n",
        "    axarr[i, j].imshow(x_train[rand_idx], interpolation='nearest', cmap='Greys')\n",
        "    #axarr[i, j].axis('off')\n",
        "    axarr[i, j].set_xticklabels([])\n",
        "    axarr[i, j].set_yticklabels([])\n",
        "    axarr[i, j].set_title(y_train[rand_idx])\n",
        "plt.show()"
      ],
      "execution_count": 0,
      "outputs": [
        {
          "output_type": "display_data",
          "data": {
            "image/png": "[encoded data removed]",
            "text/plain": [
              "<Figure size 720x288 with 10 Axes>"
            ]
          },
          "metadata": {
            "tags": []
          }
        }
      ]
    },
    {
      "cell_type": "code",
      "metadata": {
        "id": "57wUomfhhq_u",
        "colab_type": "code",
        "outputId": "85d8d896-0747-4f6a-b16c-3bd7fe2d82f4",
        "colab": {
          "base_uri": "https://localhost:8080/",
          "height": 204
        }
      },
      "source": [
        "# Check class distribution\n",
        "pd.Series(y_train).value_counts(normalize=True)"
      ],
      "execution_count": 0,
      "outputs": [
        {
          "output_type": "execute_result",
          "data": {
            "text/plain": [
              "1    0.112367\n",
              "7    0.104417\n",
              "3    0.102183\n",
              "2    0.099300\n",
              "9    0.099150\n",
              "0    0.098717\n",
              "6    0.098633\n",
              "8    0.097517\n",
              "4    0.097367\n",
              "5    0.090350\n",
              "dtype: float64"
            ]
          },
          "metadata": {
            "tags": []
          },
          "execution_count": 11
        }
      ]
    },
    {
      "cell_type": "markdown",
      "metadata": {
        "id": "GRYm7_2uhtxa",
        "colab_type": "text"
      },
      "source": [
        "**Quickly build a neural network model using Tensorflow and Keras.**"
      ]
    },
    {
      "cell_type": "code",
      "metadata": {
        "id": "ul86d15yhyty",
        "colab_type": "code",
        "colab": {}
      },
      "source": [
        "# Simple NN model\n",
        "# Note: this model is untrained\n",
        "model = tf.keras.models.Sequential([\n",
        "  tf.keras.layers.Flatten(input_shape=(28, 28)),  # Flattern layer\n",
        "  tf.keras.layers.Dense(128, activation='relu'),  # Hidden layer\n",
        "  tf.keras.layers.Dropout(0.2),  # Regularization\n",
        "  tf.keras.layers.Dense(10)  # Output layer\n",
        "])"
      ],
      "execution_count": 0,
      "outputs": []
    },
    {
      "cell_type": "code",
      "metadata": {
        "id": "bUXQE_1ph0R0",
        "colab_type": "code",
        "outputId": "b4a3ac07-2c90-48d5-d98c-0ac2c8bc02a3",
        "colab": {
          "base_uri": "https://localhost:8080/",
          "height": 289
        }
      },
      "source": [
        "# Show the model\n",
        "model.summary()"
      ],
      "execution_count": 0,
      "outputs": [
        {
          "output_type": "stream",
          "text": [
            "Model: \"sequential\"\n",
            "_________________________________________________________________\n",
            "Layer (type)                 Output Shape              Param #   \n",
            "=================================================================\n",
            "flatten (Flatten)            (None, 784)               0         \n",
            "_________________________________________________________________\n",
            "dense (Dense)                (None, 128)               100480    \n",
            "_________________________________________________________________\n",
            "dropout (Dropout)            (None, 128)               0         \n",
            "_________________________________________________________________\n",
            "dense_1 (Dense)              (None, 10)                1290      \n",
            "=================================================================\n",
            "Total params: 101,770\n",
            "Trainable params: 101,770\n",
            "Non-trainable params: 0\n",
            "_________________________________________________________________\n"
          ],
          "name": "stdout"
        }
      ]
    },
    {
      "cell_type": "markdown",
      "metadata": {
        "id": "EIQg6iW0h9uB",
        "colab_type": "text"
      },
      "source": [
        "**Make prediction and evaluation using the untrained.**"
      ]
    },
    {
      "cell_type": "code",
      "metadata": {
        "id": "jG9KEgPPh8BG",
        "colab_type": "code",
        "outputId": "55f38121-5517-4b01-f861-ee51386cae2a",
        "colab": {
          "base_uri": "https://localhost:8080/",
          "height": 68
        }
      },
      "source": [
        "# Return prediction as a vector of \"logits\" or \"log-odds\" scores\n",
        "predictions = model(x_train[:1]).numpy()\n",
        "predictions"
      ],
      "execution_count": 0,
      "outputs": [
        {
          "output_type": "execute_result",
          "data": {
            "text/plain": [
              "array([[-0.9757446 , -0.13885774, -0.2583291 , -0.37166837,  0.29548502,\n",
              "         0.44008955, -0.38646767, -0.2763179 , -0.06756284,  0.70808864]],\n",
              "      dtype=float32)"
            ]
          },
          "metadata": {
            "tags": []
          },
          "execution_count": 14
        }
      ]
    },
    {
      "cell_type": "code",
      "metadata": {
        "id": "mSKRdUcliD22",
        "colab_type": "code",
        "outputId": "7b627b2f-7e3d-4df8-f3f2-c4f24689c828",
        "colab": {
          "base_uri": "https://localhost:8080/",
          "height": 68
        }
      },
      "source": [
        "# Return prediction as a vector of probability\n",
        "tf.nn.softmax(predictions).numpy()"
      ],
      "execution_count": 0,
      "outputs": [
        {
          "output_type": "execute_result",
          "data": {
            "text/plain": [
              "array([[0.03765873, 0.08696029, 0.07716765, 0.06889895, 0.13426217,\n",
              "        0.15515102, 0.06788681, 0.0757919 , 0.09338648, 0.20283605]],\n",
              "      dtype=float32)"
            ]
          },
          "metadata": {
            "tags": []
          },
          "execution_count": 15
        }
      ]
    },
    {
      "cell_type": "markdown",
      "metadata": {
        "id": "VFf21Z-FiG09",
        "colab_type": "text"
      },
      "source": [
        "**Train the neural network model.**"
      ]
    },
    {
      "cell_type": "code",
      "metadata": {
        "id": "9k1qhFmIiF2Z",
        "colab_type": "code",
        "outputId": "fec5296c-9bef-4074-cc6f-76255e440208",
        "colab": {
          "base_uri": "https://localhost:8080/",
          "height": 34
        }
      },
      "source": [
        "# Define the loss function (or error of the prediction)\n",
        "loss_fn = tf.keras.losses.SparseCategoricalCrossentropy(from_logits=True)\n",
        "loss_fn(y_train[:1], predictions).numpy()"
      ],
      "execution_count": 0,
      "outputs": [
        {
          "output_type": "execute_result",
          "data": {
            "text/plain": [
              "1.8633562"
            ]
          },
          "metadata": {
            "tags": []
          },
          "execution_count": 16
        }
      ]
    },
    {
      "cell_type": "code",
      "metadata": {
        "id": "MKHghCxAiLS2",
        "colab_type": "code",
        "colab": {}
      },
      "source": [
        "# Select the optimize\n",
        "model.compile(optimizer='adam',\n",
        "              loss=loss_fn,\n",
        "              metrics=['accuracy'])"
      ],
      "execution_count": 0,
      "outputs": []
    },
    {
      "cell_type": "code",
      "metadata": {
        "id": "jMFPyLk8iP3k",
        "colab_type": "code",
        "outputId": "4d179427-c217-4abd-bb5e-43f2181bf08d",
        "colab": {
          "base_uri": "https://localhost:8080/",
          "height": 204
        }
      },
      "source": [
        "# Train the model\n",
        "model.fit(x_train, y_train, epochs=5)"
      ],
      "execution_count": 0,
      "outputs": [
        {
          "output_type": "stream",
          "text": [
            "Epoch 1/5\n",
            "1875/1875 [==============================] - 4s 2ms/step - loss: 0.2957 - accuracy: 0.9131\n",
            "Epoch 2/5\n",
            "1875/1875 [==============================] - 4s 2ms/step - loss: 0.1458 - accuracy: 0.9557\n",
            "Epoch 3/5\n",
            "1875/1875 [==============================] - 4s 2ms/step - loss: 0.1087 - accuracy: 0.9666\n",
            "Epoch 4/5\n",
            "1875/1875 [==============================] - 4s 2ms/step - loss: 0.0888 - accuracy: 0.9722\n",
            "Epoch 5/5\n",
            "1875/1875 [==============================] - 4s 2ms/step - loss: 0.0754 - accuracy: 0.9759\n"
          ],
          "name": "stdout"
        },
        {
          "output_type": "execute_result",
          "data": {
            "text/plain": [
              "<tensorflow.python.keras.callbacks.History at 0x7f40cb4eab70>"
            ]
          },
          "metadata": {
            "tags": []
          },
          "execution_count": 18
        }
      ]
    },
    {
      "cell_type": "code",
      "metadata": {
        "id": "SG7UzKZniSGs",
        "colab_type": "code",
        "outputId": "a0a164cc-1378-4fdd-a81e-f0db3f18d518",
        "colab": {
          "base_uri": "https://localhost:8080/",
          "height": 51
        }
      },
      "source": [
        "# Evaluate the model with the loss function and the accuracy\n",
        "model.evaluate(x_test,  y_test, verbose=2)"
      ],
      "execution_count": 0,
      "outputs": [
        {
          "output_type": "stream",
          "text": [
            "313/313 - 0s - loss: 0.0776 - accuracy: 0.9753\n"
          ],
          "name": "stdout"
        },
        {
          "output_type": "execute_result",
          "data": {
            "text/plain": [
              "[0.07759023457765579, 0.9753000140190125]"
            ]
          },
          "metadata": {
            "tags": []
          },
          "execution_count": 19
        }
      ]
    },
    {
      "cell_type": "markdown",
      "metadata": {
        "id": "o1ox4KiRiYBy",
        "colab_type": "text"
      },
      "source": [
        "**Make the model predict probability.**"
      ]
    },
    {
      "cell_type": "code",
      "metadata": {
        "id": "kfmT9wWdiXPx",
        "colab_type": "code",
        "colab": {}
      },
      "source": [
        "# Wrap the model by a softmax layer\n",
        "probability_model = tf.keras.Sequential([\n",
        "  model,\n",
        "  tf.keras.layers.Softmax()\n",
        "])"
      ],
      "execution_count": 0,
      "outputs": []
    },
    {
      "cell_type": "code",
      "metadata": {
        "id": "nN2FHyJIidJh",
        "colab_type": "code",
        "outputId": "c37550fe-214e-4b6e-a895-84d6aa8096f5",
        "colab": {
          "base_uri": "https://localhost:8080/",
          "height": 272
        }
      },
      "source": [
        "# Make prediction\n",
        "y_test_pred = probability_model(x_test)\n",
        "y_test_pred = y_test_pred.numpy()\n",
        "y_test_pred[:5]"
      ],
      "execution_count": 0,
      "outputs": [
        {
          "output_type": "execute_result",
          "data": {
            "text/plain": [
              "array([[1.48124490e-08, 9.20189080e-09, 3.31582419e-06, 1.46412480e-04,\n",
              "        7.64843831e-12, 9.59102309e-08, 2.06071469e-15, 9.99828100e-01,\n",
              "        3.09416635e-07, 2.17287798e-05],\n",
              "       [7.90654764e-10, 1.12666213e-03, 9.98870194e-01, 3.01200316e-06,\n",
              "        3.85656567e-13, 1.00434953e-07, 6.64651356e-09, 4.17255336e-12,\n",
              "        1.56267959e-08, 6.03186053e-14],\n",
              "       [2.44948613e-08, 9.99285638e-01, 1.56816095e-05, 1.99841384e-06,\n",
              "        1.39903677e-05, 1.53896178e-06, 1.39484428e-05, 5.08940779e-04,\n",
              "        1.57713192e-04, 6.32792023e-07],\n",
              "       [9.99966383e-01, 1.74530150e-08, 1.21492831e-05, 1.06954076e-07,\n",
              "        2.36408880e-07, 5.60538547e-06, 1.36774825e-05, 1.11210977e-06,\n",
              "        1.37039926e-08, 7.47846684e-07],\n",
              "       [3.69868349e-06, 1.99989247e-10, 1.64053915e-06, 1.83154505e-08,\n",
              "        9.98694718e-01, 2.68607153e-07, 3.57434004e-07, 3.05283465e-05,\n",
              "        6.70964155e-08, 1.26874761e-03]], dtype=float32)"
            ]
          },
          "metadata": {
            "tags": []
          },
          "execution_count": 37
        }
      ]
    }
  ]
}
