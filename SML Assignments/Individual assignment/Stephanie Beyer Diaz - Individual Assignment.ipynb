{
 "cells": [
  {
   "cell_type": "markdown",
   "metadata": {},
   "source": [
    "# Case Study\n",
    "### Stephanie Beyer Diaz\n",
    "This Notebook contains Python code for reading, cleaning and preprocessing data for a <a href='https://www.kaggle.com/c/mbd2019-in-class-competition-bank-mkt'>Kaggle in-class competition</a>, using a banking telemarketing prediction dataset."
   ]
  },
  {
   "cell_type": "markdown",
   "metadata": {},
   "source": [
    "### Importing necessary packages"
   ]
  },
  {
   "cell_type": "code",
   "execution_count": 99,
   "metadata": {},
   "outputs": [],
   "source": [
    "import numpy as np\n",
    "import pandas as pd\n",
    "import seaborn as sns\n",
    "import matplotlib.pyplot as plt\n",
    "import random\n",
    "import woeBinningPandas\n",
    "import ast\n",
    "\n",
    "from sklearn                 import preprocessing\n",
    "from sklearn.utils           import resample\n",
    "from sklearn.metrics         import f1_score, recall_score, roc_curve, roc_auc_score, \\\n",
    "                                    auc, confusion_matrix, classification_report\n",
    "from sklearn.model_selection import cross_val_score, GridSearchCV, PredefinedSplit\n",
    "from sklearn.linear_model    import LogisticRegression, SGDClassifier\n",
    "from sklearn.model_selection import train_test_split\n",
    "from sklearn.ensemble        import RandomForestClassifier, AdaBoostClassifier, VotingClassifier, GradientBoostingClassifier\n",
    "from sklearn.naive_bayes     import GaussianNB\n",
    "from sklearn.tree            import DecisionTreeClassifier\n",
    "from sklearn.neighbors       import KNeighborsClassifier\n",
    "from xgboost                 import XGBClassifier\n",
    "from imblearn.pipeline       import Pipeline\n",
    "from imblearn.over_sampling  import SMOTE\n",
    "from xverse.transformer      import MonotonicBinning, WOE\n",
    "from sklearn.compose         import ColumnTransformer\n",
    "\n",
    "#Setting options for visualizing dataframes and model iterations\n",
    "import warnings\n",
    "warnings.filterwarnings(\"ignore\")\n",
    "\n",
    "pd.set_option('display.max_columns', None)\n",
    "pd.set_option('display.width', None)\n",
    "pd.set_option('display.max_colwidth', -1)"
   ]
  },
  {
   "cell_type": "markdown",
   "metadata": {},
   "source": [
    "### Reading in Data\n",
    "In this step, data is loaded from the Excel files provided, with the test set being set apart for later and the train set being split into train, validation, and test. "
   ]
  },
  {
   "cell_type": "code",
   "execution_count": 100,
   "metadata": {},
   "outputs": [
    {
     "data": {
      "text/html": [
       "<div>\n",
       "<style scoped>\n",
       "    .dataframe tbody tr th:only-of-type {\n",
       "        vertical-align: middle;\n",
       "    }\n",
       "\n",
       "    .dataframe tbody tr th {\n",
       "        vertical-align: top;\n",
       "    }\n",
       "\n",
       "    .dataframe thead th {\n",
       "        text-align: right;\n",
       "    }\n",
       "</style>\n",
       "<table border=\"1\" class=\"dataframe\">\n",
       "  <thead>\n",
       "    <tr style=\"text-align: right;\">\n",
       "      <th></th>\n",
       "      <th>client_id</th>\n",
       "      <th>age</th>\n",
       "      <th>job</th>\n",
       "      <th>marital</th>\n",
       "      <th>education</th>\n",
       "      <th>default</th>\n",
       "      <th>housing</th>\n",
       "      <th>loan</th>\n",
       "      <th>contact</th>\n",
       "      <th>month</th>\n",
       "      <th>day_of_week</th>\n",
       "      <th>campaign</th>\n",
       "      <th>pdays</th>\n",
       "      <th>previous</th>\n",
       "      <th>poutcome</th>\n",
       "      <th>emp.var.rate</th>\n",
       "      <th>cons.price.idx</th>\n",
       "      <th>cons.conf.idx</th>\n",
       "      <th>euribor3m</th>\n",
       "      <th>nr.employed</th>\n",
       "      <th>subscribe</th>\n",
       "    </tr>\n",
       "  </thead>\n",
       "  <tbody>\n",
       "    <tr>\n",
       "      <td>0</td>\n",
       "      <td>2</td>\n",
       "      <td>29</td>\n",
       "      <td>housemaid</td>\n",
       "      <td>single</td>\n",
       "      <td>high.school</td>\n",
       "      <td>no</td>\n",
       "      <td>no</td>\n",
       "      <td>no</td>\n",
       "      <td>telephone</td>\n",
       "      <td>may</td>\n",
       "      <td>mon</td>\n",
       "      <td>3</td>\n",
       "      <td>999</td>\n",
       "      <td>0</td>\n",
       "      <td>nonexistent</td>\n",
       "      <td>1.1</td>\n",
       "      <td>93.994</td>\n",
       "      <td>-36.4</td>\n",
       "      <td>4.858</td>\n",
       "      <td>5191.0</td>\n",
       "      <td>0</td>\n",
       "    </tr>\n",
       "    <tr>\n",
       "      <td>1</td>\n",
       "      <td>3</td>\n",
       "      <td>39</td>\n",
       "      <td>unemployed</td>\n",
       "      <td>married</td>\n",
       "      <td>basic.9y</td>\n",
       "      <td>unknown</td>\n",
       "      <td>yes</td>\n",
       "      <td>no</td>\n",
       "      <td>telephone</td>\n",
       "      <td>jun</td>\n",
       "      <td>fri</td>\n",
       "      <td>6</td>\n",
       "      <td>999</td>\n",
       "      <td>0</td>\n",
       "      <td>nonexistent</td>\n",
       "      <td>1.4</td>\n",
       "      <td>94.465</td>\n",
       "      <td>-41.8</td>\n",
       "      <td>4.959</td>\n",
       "      <td>5228.1</td>\n",
       "      <td>0</td>\n",
       "    </tr>\n",
       "    <tr>\n",
       "      <td>2</td>\n",
       "      <td>4</td>\n",
       "      <td>49</td>\n",
       "      <td>blue-collar</td>\n",
       "      <td>married</td>\n",
       "      <td>basic.6y</td>\n",
       "      <td>unknown</td>\n",
       "      <td>no</td>\n",
       "      <td>no</td>\n",
       "      <td>cellular</td>\n",
       "      <td>nov</td>\n",
       "      <td>tue</td>\n",
       "      <td>2</td>\n",
       "      <td>999</td>\n",
       "      <td>0</td>\n",
       "      <td>nonexistent</td>\n",
       "      <td>-0.1</td>\n",
       "      <td>93.200</td>\n",
       "      <td>-42.0</td>\n",
       "      <td>4.153</td>\n",
       "      <td>5195.8</td>\n",
       "      <td>0</td>\n",
       "    </tr>\n",
       "    <tr>\n",
       "      <td>3</td>\n",
       "      <td>5</td>\n",
       "      <td>32</td>\n",
       "      <td>self-employed</td>\n",
       "      <td>single</td>\n",
       "      <td>university.degree</td>\n",
       "      <td>no</td>\n",
       "      <td>yes</td>\n",
       "      <td>no</td>\n",
       "      <td>cellular</td>\n",
       "      <td>may</td>\n",
       "      <td>mon</td>\n",
       "      <td>3</td>\n",
       "      <td>999</td>\n",
       "      <td>1</td>\n",
       "      <td>failure</td>\n",
       "      <td>-1.8</td>\n",
       "      <td>92.893</td>\n",
       "      <td>-46.2</td>\n",
       "      <td>1.299</td>\n",
       "      <td>5099.1</td>\n",
       "      <td>0</td>\n",
       "    </tr>\n",
       "    <tr>\n",
       "      <td>4</td>\n",
       "      <td>6</td>\n",
       "      <td>29</td>\n",
       "      <td>admin.</td>\n",
       "      <td>single</td>\n",
       "      <td>high.school</td>\n",
       "      <td>unknown</td>\n",
       "      <td>yes</td>\n",
       "      <td>no</td>\n",
       "      <td>cellular</td>\n",
       "      <td>jul</td>\n",
       "      <td>fri</td>\n",
       "      <td>2</td>\n",
       "      <td>999</td>\n",
       "      <td>0</td>\n",
       "      <td>nonexistent</td>\n",
       "      <td>1.4</td>\n",
       "      <td>93.918</td>\n",
       "      <td>-42.7</td>\n",
       "      <td>4.963</td>\n",
       "      <td>5228.1</td>\n",
       "      <td>0</td>\n",
       "    </tr>\n",
       "  </tbody>\n",
       "</table>\n",
       "</div>"
      ],
      "text/plain": [
       "   client_id  age            job  marital          education  default housing  \\\n",
       "0  2          29   housemaid      single   high.school        no       no       \n",
       "1  3          39   unemployed     married  basic.9y           unknown  yes      \n",
       "2  4          49   blue-collar    married  basic.6y           unknown  no       \n",
       "3  5          32   self-employed  single   university.degree  no       yes      \n",
       "4  6          29   admin.         single   high.school        unknown  yes      \n",
       "\n",
       "  loan    contact month day_of_week  campaign  pdays  previous     poutcome  \\\n",
       "0  no   telephone  may   mon         3         999    0         nonexistent   \n",
       "1  no   telephone  jun   fri         6         999    0         nonexistent   \n",
       "2  no   cellular   nov   tue         2         999    0         nonexistent   \n",
       "3  no   cellular   may   mon         3         999    1         failure       \n",
       "4  no   cellular   jul   fri         2         999    0         nonexistent   \n",
       "\n",
       "   emp.var.rate  cons.price.idx  cons.conf.idx  euribor3m  nr.employed  \\\n",
       "0  1.1           93.994         -36.4           4.858      5191.0        \n",
       "1  1.4           94.465         -41.8           4.959      5228.1        \n",
       "2 -0.1           93.200         -42.0           4.153      5195.8        \n",
       "3 -1.8           92.893         -46.2           1.299      5099.1        \n",
       "4  1.4           93.918         -42.7           4.963      5228.1        \n",
       "\n",
       "   subscribe  \n",
       "0  0          \n",
       "1  0          \n",
       "2  0          \n",
       "3  0          \n",
       "4  0          "
      ]
     },
     "execution_count": 100,
     "metadata": {},
     "output_type": "execute_result"
    }
   ],
   "source": [
    "#Reading data\n",
    "test_holdout = pd.read_csv('bank_mkt_test.csv')\n",
    "train_full = pd.read_csv('bank_mkt_train.csv')\n",
    "train_full.head()"
   ]
  },
  {
   "cell_type": "code",
   "execution_count": 101,
   "metadata": {},
   "outputs": [],
   "source": [
    "#cleaning string values for dummy and binning later\n",
    "train_full['job'] = train_full['job'].str.replace('-', '_')\n",
    "train_full['education'] = train_full['education'].str.replace('-', '_')\n",
    "\n",
    "test_holdout['job'] = test_holdout['job'].str.replace('-', '_')\n",
    "test_holdout['education'] = test_holdout['education'].str.replace('-', '_')"
   ]
  },
  {
   "cell_type": "code",
   "execution_count": 102,
   "metadata": {
    "scrolled": true
   },
   "outputs": [
    {
     "data": {
      "text/plain": [
       "Text(0.5, 1.0, 'Target Variable Distribution')"
      ]
     },
     "execution_count": 102,
     "metadata": {},
     "output_type": "execute_result"
    },
    {
     "data": {
      "image/png": "[encoded data removed]",
      "text/plain": [
       "<Figure size 432x288 with 1 Axes>"
      ]
     },
     "metadata": {
      "needs_background": "light"
     },
     "output_type": "display_data"
    }
   ],
   "source": [
    "#Checking target variable distribution: unbalanced targets\n",
    "plot = train_full[['client_id','subscribe']].groupby('subscribe').count()\n",
    "plot.reset_index(inplace=True,drop=False)\n",
    "plot.columns= ['subscribe','clients']\n",
    "\n",
    "sns.barplot(x='subscribe',y='clients',data=plot).set_title(\"Target Variable Distribution\")"
   ]
  },
  {
   "cell_type": "markdown",
   "metadata": {},
   "source": [
    "### Missing Values"
   ]
  },
  {
   "cell_type": "code",
   "execution_count": 103,
   "metadata": {
    "scrolled": false
   },
   "outputs": [
    {
     "data": {
      "text/plain": [
       "no         5571\n",
       "unknown    1429\n",
       "Name: default, dtype: int64"
      ]
     },
     "execution_count": 103,
     "metadata": {},
     "output_type": "execute_result"
    }
   ],
   "source": [
    "#for categorical variables, 'unknown' was considered a missing value\n",
    "train_full['default'].value_counts()"
   ]
  },
  {
   "cell_type": "code",
   "execution_count": 104,
   "metadata": {},
   "outputs": [
    {
     "data": {
      "text/plain": [
       "university.degree      2103\n",
       "high.school            1638\n",
       "basic.9y               993 \n",
       "professional.course    886 \n",
       "basic.4y               716 \n",
       "basic.6y               362 \n",
       "unknown                295 \n",
       "illiterate             7   \n",
       "Name: education, dtype: int64"
      ]
     },
     "execution_count": 104,
     "metadata": {},
     "output_type": "execute_result"
    }
   ],
   "source": [
    "train_full['education'].value_counts()"
   ]
  },
  {
   "cell_type": "code",
   "execution_count": 105,
   "metadata": {},
   "outputs": [],
   "source": [
    "#missing values: status 'unknown' < 5% for loan, housing, education and marital columns, dropping rows\n",
    "#unknown value for job will be solved with binning\n",
    "# train_full['job'].value_counts()\n",
    "train_full = train_full[~(train_full['marital']=='unknown')]\n",
    "train_full = train_full[~(train_full['loan']=='unknown')]\n",
    "train_full = train_full[~(train_full['housing']=='unknown')]\n",
    "train_full = train_full[~(train_full['education']=='unknown')]"
   ]
  },
  {
   "cell_type": "markdown",
   "metadata": {},
   "source": [
    "### Splitting datasets"
   ]
  },
  {
   "cell_type": "code",
   "execution_count": 106,
   "metadata": {},
   "outputs": [],
   "source": [
    "#creating variables for sample\n",
    "rows = train_full.shape[0]\n",
    "values = list(train_full.index)\n",
    "\n",
    "#creating random sample\n",
    "random.seed(7)\n",
    "sample_rows = random.sample(values,round(rows*0.6)) \n",
    "\n",
    "#splitting train into validation set\n",
    "train = train_full.iloc[train_full.index.isin(sample_rows),:]  # Train 60%\n",
    "valid_test = train_full.iloc[~train_full.index.isin(sample_rows),:]  # Valid + Test 40%"
   ]
  },
  {
   "cell_type": "code",
   "execution_count": 107,
   "metadata": {},
   "outputs": [],
   "source": [
    "#creating variables for sample\n",
    "rows_v = valid_test.shape[0]\n",
    "values_v = list(valid_test.index)\n",
    "\n",
    "#creating random sample\n",
    "random.seed(7)\n",
    "sample_rows_v = random.sample(values_v,round(rows_v*0.5)) \n",
    "\n",
    "#further splitting validation into validation and test set\n",
    "valid = valid_test.iloc[valid_test.index.isin(sample_rows_v),:]  # Valid 20%\n",
    "test = valid_test.iloc[~valid_test.index.isin(sample_rows_v),:]  # Test 20%"
   ]
  },
  {
   "cell_type": "code",
   "execution_count": 108,
   "metadata": {},
   "outputs": [
    {
     "name": "stdout",
     "output_type": "stream",
     "text": [
      "train:\n",
      "           client_id\n",
      "subscribe           \n",
      "0          3441     \n",
      "1          479      \n",
      "\n",
      "valid:\n",
      "           client_id\n",
      "subscribe           \n",
      "0          1155     \n",
      "1          152      \n",
      "\n",
      "test:\n",
      "           client_id\n",
      "subscribe           \n",
      "0          1169     \n",
      "1          138      \n"
     ]
    }
   ],
   "source": [
    "print(\"train:\")\n",
    "print(train[[\"subscribe\",\"client_id\"]].groupby(\"subscribe\").count())\n",
    "print(\"\")\n",
    "print(\"valid:\")\n",
    "print(valid[[\"subscribe\",\"client_id\"]].groupby(\"subscribe\").count())\n",
    "print(\"\")\n",
    "print(\"test:\")\n",
    "print(test[[\"subscribe\",\"client_id\"]].groupby(\"subscribe\").count())"
   ]
  },
  {
   "cell_type": "markdown",
   "metadata": {},
   "source": [
    "### Binning Variables"
   ]
  },
  {
   "cell_type": "code",
   "execution_count": 109,
   "metadata": {},
   "outputs": [],
   "source": [
    "#Checking IV for all variables\n",
    "\n",
    "columns = list(set(train.columns).difference(['subscribe','client_id']))\n",
    "\n",
    "def calculate_woe_iv(dataset, feature, target):\n",
    "    lst = []\n",
    "    for i in range(dataset[feature].nunique()):\n",
    "        val = list(dataset[feature].unique())[i]\n",
    "        lst.append({\n",
    "            'Value': val,\n",
    "            'All': dataset[dataset[feature] == val].count()[feature],\n",
    "            'Good': dataset[(dataset[feature] == val) & (dataset[target] == 1)].count()[feature],\n",
    "            'Bad': dataset[(dataset[feature] == val) & (dataset[target] == 0)].count()[feature]\n",
    "        })\n",
    "        \n",
    "    dset = pd.DataFrame(lst)\n",
    "    dset['Distr_Good'] = dset['Good'] / dset['Good'].sum()\n",
    "    dset['Distr_Bad'] = dset['Bad'] / dset['Bad'].sum()\n",
    "    dset['WoE'] = np.log(dset['Distr_Good'] / dset['Distr_Bad'])\n",
    "    dset = dset.replace({'WoE': {np.inf: 0, -np.inf: 0}})\n",
    "    dset['IV'] = (dset['Distr_Good'] - dset['Distr_Bad']) * dset['WoE']\n",
    "    iv = dset['IV'].sum()\n",
    "    \n",
    "    dset = dset.sort_values(by='WoE')\n",
    "    \n",
    "    return dset, iv\n",
    "\n",
    "iv_df = pd.DataFrame(columns=['variable','iv'])\n",
    "\n",
    "for col in columns:\n",
    "    df, iv = calculate_woe_iv(train, col, 'subscribe')\n",
    "    iv_df = pd.concat((iv_df,pd.DataFrame([[col,iv]],columns=['variable','iv'])))"
   ]
  },
  {
   "cell_type": "code",
   "execution_count": 110,
   "metadata": {},
   "outputs": [
    {
     "data": {
      "text/html": [
       "<div>\n",
       "<style scoped>\n",
       "    .dataframe tbody tr th:only-of-type {\n",
       "        vertical-align: middle;\n",
       "    }\n",
       "\n",
       "    .dataframe tbody tr th {\n",
       "        vertical-align: top;\n",
       "    }\n",
       "\n",
       "    .dataframe thead th {\n",
       "        text-align: right;\n",
       "    }\n",
       "</style>\n",
       "<table border=\"1\" class=\"dataframe\">\n",
       "  <thead>\n",
       "    <tr style=\"text-align: right;\">\n",
       "      <th></th>\n",
       "      <th>variable</th>\n",
       "      <th>iv</th>\n",
       "    </tr>\n",
       "  </thead>\n",
       "  <tbody>\n",
       "    <tr>\n",
       "      <td>0</td>\n",
       "      <td>euribor3m</td>\n",
       "      <td>1.415811</td>\n",
       "    </tr>\n",
       "    <tr>\n",
       "      <td>0</td>\n",
       "      <td>cons.conf.idx</td>\n",
       "      <td>1.381723</td>\n",
       "    </tr>\n",
       "    <tr>\n",
       "      <td>0</td>\n",
       "      <td>cons.price.idx</td>\n",
       "      <td>1.381723</td>\n",
       "    </tr>\n",
       "    <tr>\n",
       "      <td>0</td>\n",
       "      <td>nr.employed</td>\n",
       "      <td>1.182948</td>\n",
       "    </tr>\n",
       "    <tr>\n",
       "      <td>0</td>\n",
       "      <td>emp.var.rate</td>\n",
       "      <td>1.081069</td>\n",
       "    </tr>\n",
       "    <tr>\n",
       "      <td>0</td>\n",
       "      <td>month</td>\n",
       "      <td>0.584570</td>\n",
       "    </tr>\n",
       "    <tr>\n",
       "      <td>0</td>\n",
       "      <td>pdays</td>\n",
       "      <td>0.559403</td>\n",
       "    </tr>\n",
       "    <tr>\n",
       "      <td>0</td>\n",
       "      <td>poutcome</td>\n",
       "      <td>0.551891</td>\n",
       "    </tr>\n",
       "    <tr>\n",
       "      <td>0</td>\n",
       "      <td>age</td>\n",
       "      <td>0.410025</td>\n",
       "    </tr>\n",
       "    <tr>\n",
       "      <td>0</td>\n",
       "      <td>previous</td>\n",
       "      <td>0.338439</td>\n",
       "    </tr>\n",
       "    <tr>\n",
       "      <td>0</td>\n",
       "      <td>contact</td>\n",
       "      <td>0.242025</td>\n",
       "    </tr>\n",
       "    <tr>\n",
       "      <td>0</td>\n",
       "      <td>job</td>\n",
       "      <td>0.210936</td>\n",
       "    </tr>\n",
       "    <tr>\n",
       "      <td>0</td>\n",
       "      <td>default</td>\n",
       "      <td>0.108467</td>\n",
       "    </tr>\n",
       "    <tr>\n",
       "      <td>0</td>\n",
       "      <td>education</td>\n",
       "      <td>0.072883</td>\n",
       "    </tr>\n",
       "    <tr>\n",
       "      <td>0</td>\n",
       "      <td>day_of_week</td>\n",
       "      <td>0.028571</td>\n",
       "    </tr>\n",
       "    <tr>\n",
       "      <td>0</td>\n",
       "      <td>campaign</td>\n",
       "      <td>0.016682</td>\n",
       "    </tr>\n",
       "    <tr>\n",
       "      <td>0</td>\n",
       "      <td>marital</td>\n",
       "      <td>0.015033</td>\n",
       "    </tr>\n",
       "    <tr>\n",
       "      <td>0</td>\n",
       "      <td>housing</td>\n",
       "      <td>0.001270</td>\n",
       "    </tr>\n",
       "    <tr>\n",
       "      <td>0</td>\n",
       "      <td>loan</td>\n",
       "      <td>0.000124</td>\n",
       "    </tr>\n",
       "  </tbody>\n",
       "</table>\n",
       "</div>"
      ],
      "text/plain": [
       "         variable        iv\n",
       "0  euribor3m       1.415811\n",
       "0  cons.conf.idx   1.381723\n",
       "0  cons.price.idx  1.381723\n",
       "0  nr.employed     1.182948\n",
       "0  emp.var.rate    1.081069\n",
       "0  month           0.584570\n",
       "0  pdays           0.559403\n",
       "0  poutcome        0.551891\n",
       "0  age             0.410025\n",
       "0  previous        0.338439\n",
       "0  contact         0.242025\n",
       "0  job             0.210936\n",
       "0  default         0.108467\n",
       "0  education       0.072883\n",
       "0  day_of_week     0.028571\n",
       "0  campaign        0.016682\n",
       "0  marital         0.015033\n",
       "0  housing         0.001270\n",
       "0  loan            0.000124"
      ]
     },
     "execution_count": 110,
     "metadata": {},
     "output_type": "execute_result"
    }
   ],
   "source": [
    "iv_df.sort_values('iv',ascending=False)"
   ]
  },
  {
   "cell_type": "code",
   "execution_count": 111,
   "metadata": {},
   "outputs": [],
   "source": [
    "#np.percentile(train['age'],[20,40,60,80])\n",
    "\n",
    "#creating bins for age, based on percentiles\n",
    "train['age_dist'] = pd.qcut(train['age'], 5, \n",
    "                            labels=['Age_lt_31', 'Age_31_to_36', 'Age_36_to_41', 'Age_41_to_50', 'Age_gt_50'])\n",
    "\n",
    "valid['age_dist'] = pd.qcut(valid['age'], 5, \n",
    "                            labels=['Age_lt_31', 'Age_31_to_36', 'Age_36_to_41', 'Age_41_to_50', 'Age_gt_50'])\n",
    "\n",
    "test['age_dist'] = pd.qcut(test['age'], 5, \n",
    "                            labels=['Age_lt_31', 'Age_31_to_36', 'Age_36_to_41', 'Age_41_to_50', 'Age_gt_50'])\n",
    "\n",
    "test_holdout['age_dist'] = pd.qcut(test_holdout['age'], 5, \n",
    "                            labels=['Age_lt_31', 'Age_31_to_36', 'Age_36_to_41', 'Age_41_to_50', 'Age_gt_50'])"
   ]
  },
  {
   "cell_type": "code",
   "execution_count": 112,
   "metadata": {},
   "outputs": [],
   "source": [
    "#binning job\n",
    "binning = woeBinningPandas.woe_binning(train, \"subscribe\", \"job\", 0.05, 0, 0.1, 50, \"bad\")\n",
    "binning\n",
    "\n",
    "#renaming binning columns for merging\n",
    "binning.columns = ['job_binned','job','woe', 'iv_total_final', 'good', 'bad',\n",
    "       'col_perc_a', 'col_perc_b', 'iv_bins']\n",
    "binning = binning[['job_binned','job']]\n",
    "\n",
    "train = train.merge(binning, how='left', on='job')\n",
    "train.head()\n",
    "\n",
    "valid = valid.merge(binning, how='left', on='job')\n",
    "test = test.merge(binning, how='left', on='job')\n",
    "\n",
    "test_holdout = test_holdout.merge(binning, how='left', on='job')"
   ]
  },
  {
   "cell_type": "code",
   "execution_count": 113,
   "metadata": {},
   "outputs": [],
   "source": [
    "#binning age\n",
    "# binningage = woeBinningPandas.woe_binning(train, \"subscribe\", \"age\", 0.05, 0, 0.1, 50, \"good\")\n",
    "\n",
    "# #binning age thresholds\n",
    "# agebin1 = binningage[\"upper_cutpoints_final_dfrm\"][0]\n",
    "# agebin2 = binningage[\"upper_cutpoints_final_dfrm\"][1]\n",
    "# agebin3 = binningage[\"upper_cutpoints_final_dfrm\"][2]\n",
    "\n",
    "# binningage"
   ]
  },
  {
   "cell_type": "code",
   "execution_count": 114,
   "metadata": {},
   "outputs": [],
   "source": [
    "#creating column with age binning, this was dropped because binning by percentile results in higher fisher score\n",
    "# def bins(df):\n",
    "#     df['age_binned'] = 'other'\n",
    "#     df.loc[df['age'] <=agebin1, 'age_binned'] = '_inf_29' #(-inf, 26.0]\n",
    "#     df.loc[(df['age'] >agebin1) & (df['age'] <= agebin2), 'age_binned'] = '_29_40' #(26.0, 36.0]\n",
    "#     df.loc[(df['age'] >agebin2) & (df['age'] <= agebin3), 'age_binned'] = '40_50' #(36.0, 55.0]\n",
    "#     df.loc[(df['age'] >agebin3), 'age_binned'] = '50_inf' #(55.0, inf]\n",
    "    \n",
    "#     return df\n",
    "\n",
    "# train = bins(train)\n",
    "# valid = bins(valid)\n",
    "# test = bins(test)\n",
    "# test_holdout = bins(test_holdout)"
   ]
  },
  {
   "cell_type": "markdown",
   "metadata": {},
   "source": [
    "### Dummy variables"
   ]
  },
  {
   "cell_type": "code",
   "execution_count": 115,
   "metadata": {},
   "outputs": [],
   "source": [
    "#age above or below mean\n",
    "age_mean = train[\"age\"].mean()\n",
    "\n",
    "train[\"age_mean\"] = (train[\"age\"]>age_mean)*1\n",
    "valid[\"age_mean\"] = (valid[\"age\"]>age_mean)*1\n",
    "test[\"age_mean\"] = (test[\"age\"]>age_mean)*1\n",
    "test_holdout[\"age_mean\"] = (test_holdout[\"age\"]>age_mean)*1"
   ]
  },
  {
   "cell_type": "code",
   "execution_count": 116,
   "metadata": {},
   "outputs": [],
   "source": [
    "#contacted binary variable\n",
    "train['contacted'] = (train[\"pdays\"]!=999)*1\n",
    "valid['contacted'] = (valid[\"pdays\"]!=999)*1\n",
    "test['contacted'] = (test[\"pdays\"]!=999)*1\n",
    "test_holdout['contacted'] = (test_holdout[\"pdays\"]!=999)*1"
   ]
  },
  {
   "cell_type": "code",
   "execution_count": 117,
   "metadata": {},
   "outputs": [],
   "source": [
    "#seasons binary variable\n",
    "train['summer'] = (train[\"month\"].isin(['jun','jul','aug']))*1\n",
    "valid['summer'] = (valid[\"month\"].isin(['jun','jul','aug']))*1\n",
    "test['summer'] = (test[\"month\"].isin(['jun','jul','aug']))*1\n",
    "test_holdout['summer'] = (test_holdout[\"month\"].isin(['jun','jul','aug']))*1\n",
    "\n",
    "train['winter'] = (train[\"month\"].isin(['dec','jan','feb']))*1\n",
    "valid['winter'] = (valid[\"month\"].isin(['dec','jan','feb']))*1\n",
    "test['winter'] = (test[\"month\"].isin(['dec','jan','feb']))*1\n",
    "test_holdout['winter'] = (test_holdout[\"month\"].isin(['dec','jan','feb']))*1\n",
    "\n",
    "train['spring'] = (train[\"month\"].isin(['mar','apr','may']))*1\n",
    "valid['spring'] = (valid[\"month\"].isin(['mar','apr','may']))*1\n",
    "test['spring'] = (test[\"month\"].isin(['mar','apr','may']))*1\n",
    "test_holdout['spring'] = (test_holdout[\"month\"].isin(['mar','apr','may']))*1\n",
    "\n",
    "# n-one dummy variables\n",
    "# df['autumn'] = (df[\"month\"].isin(['sep','oct','nov']))*1 "
   ]
  },
  {
   "cell_type": "code",
   "execution_count": 118,
   "metadata": {},
   "outputs": [],
   "source": [
    "#campaign multiple contacts=1, single contact=0\n",
    "#as it includes last contact, a client with previous=1 and n_campaign=0 means no contact in current campaign\n",
    "train[\"n_campaign\"] = (train[\"campaign\"]!=1)*1\n",
    "valid[\"n_campaign\"] = (valid[\"campaign\"]!=1)*1\n",
    "test[\"n_campaign\"] = (test[\"campaign\"]!=1)*1\n",
    "test_holdout[\"n_campaign\"] = (test_holdout[\"campaign\"]!=1)*1"
   ]
  },
  {
   "cell_type": "code",
   "execution_count": 119,
   "metadata": {},
   "outputs": [],
   "source": [
    "#dummy variable list\n",
    "dummies = [\"job_binned\",\"marital\",\"education\",\"default\",\"housing\",\n",
    "           \"loan\",\"contact\",\"day_of_week\",\"poutcome\",'age_dist'] #\"age_binned\",\"month\",\"job\",\"campaign\""
   ]
  },
  {
   "cell_type": "code",
   "execution_count": 120,
   "metadata": {},
   "outputs": [],
   "source": [
    "train_dummies = pd.get_dummies(train[dummies],drop_first=True)\n",
    "valid_dummies = pd.get_dummies(valid[dummies],drop_first=True)\n",
    "test_dummies = pd.get_dummies(test[dummies],drop_first=True)\n",
    "testh_dummies = pd.get_dummies(test_holdout[dummies],drop_first=True)"
   ]
  },
  {
   "cell_type": "code",
   "execution_count": 121,
   "metadata": {},
   "outputs": [],
   "source": [
    "#adding missing dummy column to holdout set\n",
    "val = train_dummies.columns[~train_dummies.columns.isin(testh_dummies.columns)][0]\n",
    "testh_dummies[val] = 0"
   ]
  },
  {
   "cell_type": "code",
   "execution_count": 122,
   "metadata": {},
   "outputs": [],
   "source": [
    "#adding dummy variables to datasets\n",
    "keep_cols = list(set(train.columns).difference(set(dummies)))\n",
    "keep_cols2 = list(set(train.columns).difference(set(dummies))) \n",
    "keep_cols2.remove('subscribe')\n",
    "\n",
    "train = pd.concat((train[keep_cols], train_dummies), axis=1)\n",
    "valid = pd.concat((valid[keep_cols], valid_dummies), axis=1)\n",
    "test = pd.concat((test[keep_cols], test_dummies), axis=1)\n",
    "test_holdout = pd.concat((test_holdout[keep_cols2], testh_dummies), axis=1)"
   ]
  },
  {
   "cell_type": "code",
   "execution_count": 123,
   "metadata": {},
   "outputs": [],
   "source": [
    "#dropping original values from datasets to just leave dummies\n",
    "train.drop([\"month\",\"job\",\"age\",\"pdays\",'campaign'],axis=1, inplace=True)\n",
    "valid.drop([\"month\",\"job\",\"age\",\"pdays\",'campaign'],axis=1, inplace=True)\n",
    "test.drop([\"month\",\"job\",\"age\",\"pdays\",'campaign'],axis=1, inplace=True)\n",
    "test_holdout.drop([\"month\",\"job\",\"age\",\"pdays\",'campaign'],axis=1, inplace=True)"
   ]
  },
  {
   "cell_type": "code",
   "execution_count": 124,
   "metadata": {},
   "outputs": [],
   "source": [
    "#basetables:\n",
    "train.to_csv('train.csv')\n",
    "valid.to_csv('valid.csv')\n",
    "test.to_csv('test.csv')\n",
    "test_holdout.to_csv('test_holdout.csv')"
   ]
  },
  {
   "cell_type": "code",
   "execution_count": 125,
   "metadata": {},
   "outputs": [],
   "source": [
    "#columns for standardizing data\n",
    "scaled_cols = ['cons.conf.idx','emp.var.rate','nr.employed','cons.price.idx','euribor3m']\n",
    "\n",
    "#Creating the Scaler object\n",
    "scaler = preprocessing.StandardScaler()"
   ]
  },
  {
   "cell_type": "code",
   "execution_count": 126,
   "metadata": {},
   "outputs": [
    {
     "data": {
      "text/plain": [
       "(1307, 38)"
      ]
     },
     "execution_count": 126,
     "metadata": {},
     "output_type": "execute_result"
    }
   ],
   "source": [
    "test.shape"
   ]
  },
  {
   "cell_type": "code",
   "execution_count": 127,
   "metadata": {},
   "outputs": [
    {
     "data": {
      "text/plain": [
       "Index(['cons.price.idx', 'subscribe', 'summer', 'euribor3m', 'n_campaign',\n",
       "       'cons.conf.idx', 'contacted', 'winter', 'spring', 'emp.var.rate',\n",
       "       'age_mean', 'client_id', 'nr.employed', 'previous',\n",
       "       'job_binned_services + blue_collar',\n",
       "       'job_binned_technician + misc. level pos. + management + admin.',\n",
       "       'marital_married', 'marital_single', 'education_basic.6y',\n",
       "       'education_basic.9y', 'education_high.school', 'education_illiterate',\n",
       "       'education_professional.course', 'education_university.degree',\n",
       "       'default_unknown', 'housing_yes', 'loan_yes', 'contact_telephone',\n",
       "       'day_of_week_mon', 'day_of_week_thu', 'day_of_week_tue',\n",
       "       'day_of_week_wed', 'poutcome_nonexistent', 'poutcome_success',\n",
       "       'age_dist_Age_31_to_36', 'age_dist_Age_36_to_41',\n",
       "       'age_dist_Age_41_to_50', 'age_dist_Age_gt_50'],\n",
       "      dtype='object')"
      ]
     },
     "execution_count": 127,
     "metadata": {},
     "output_type": "execute_result"
    }
   ],
   "source": [
    "train.columns"
   ]
  },
  {
   "cell_type": "code",
   "execution_count": 128,
   "metadata": {},
   "outputs": [],
   "source": [
    "# no missing values\n",
    "# train.isna().sum()\n",
    "# valid.isna().sum()\n",
    "# test.isna().sum()\n",
    "# test_holdout.isna().sum()"
   ]
  },
  {
   "cell_type": "markdown",
   "metadata": {},
   "source": [
    "### Feature Selection & Model Building\n",
    "Fisher score was used to select features. Logistic model parameters were tuned. Confusion matrix, AUC and accuracy scores were looked at to compare different logistic models. Undersampling was found to achieve the best results."
   ]
  },
  {
   "cell_type": "code",
   "execution_count": 129,
   "metadata": {},
   "outputs": [],
   "source": [
    "#Fisher score: feature selection\n",
    "def fisherscore(X, y):\n",
    "    \"\"\"\n",
    "    This function calculate the Fisher score of all variables of the basetable.\n",
    "    \n",
    "    Input:\n",
    "        \n",
    "        X: [Pandas Dataframe] the independent variables basetable for modeling.\n",
    "        y: [Pandas Series] the target variable.\n",
    "        \n",
    "    Output:\n",
    "        \n",
    "        Pandas Dataframe contains the Fisher score for each independent varibales.\n",
    "    \n",
    "    Ref:\n",
    "    ---\n",
    "    Verbeke, W., Dejaeger, K., Martens, D., Hur, J., & Baesens, B. (2012). \n",
    "    New insights into churn prediction in the telecommunication sector: \n",
    "            A profit driven data mining approach. European Journal of Operational Research, 218(1), 211-229.\n",
    "    \"\"\"\n",
    "    \n",
    "    # Get the list of independent variables\n",
    "    vars_list = list(X.columns)\n",
    "    vars_list.remove('client_id')\n",
    "    \n",
    "    # Get the unique values of dependent/target variable\n",
    "    # Should be 2 classes [0, 1]\n",
    "    target_unique = y.unique()\n",
    "  \n",
    "    iv_fisherscore = []\n",
    "    \n",
    "    for v in vars_list:\n",
    "        fs = np.abs(np.mean(X.loc[y == target_unique[0], v]) - \\\n",
    "                    np.mean(X.loc[y == target_unique[1], v])) / \\\n",
    "             np.sqrt(np.var(X.loc[y == target_unique[0], v]) + \\\n",
    "                     np.var(X.loc[y == target_unique[1], v]))\n",
    "        iv_fisherscore.append(fs)\n",
    "        \n",
    "    return pd.DataFrame(iv_fisherscore, index=vars_list, columns=['fisher_score'])\n",
    "\n",
    "#code snippet provided by Professor Minh Phan in Financial Programming course"
   ]
  },
  {
   "cell_type": "code",
   "execution_count": 130,
   "metadata": {},
   "outputs": [],
   "source": [
    "#Applying Fisher Score\n",
    "x = list(train.columns)\n",
    "x.remove('subscribe')\n",
    "y = 'subscribe'\n",
    "\n",
    "fs = fisherscore(train[x], train[y])\n",
    "fs = fs.sort_values(by='fisher_score', ascending=False)[1:]"
   ]
  },
  {
   "cell_type": "code",
   "execution_count": 131,
   "metadata": {},
   "outputs": [
    {
     "data": {
      "text/html": [
       "<div>\n",
       "<style scoped>\n",
       "    .dataframe tbody tr th:only-of-type {\n",
       "        vertical-align: middle;\n",
       "    }\n",
       "\n",
       "    .dataframe tbody tr th {\n",
       "        vertical-align: top;\n",
       "    }\n",
       "\n",
       "    .dataframe thead th {\n",
       "        text-align: right;\n",
       "    }\n",
       "</style>\n",
       "<table border=\"1\" class=\"dataframe\">\n",
       "  <thead>\n",
       "    <tr style=\"text-align: right;\">\n",
       "      <th></th>\n",
       "      <th>fisher_score</th>\n",
       "    </tr>\n",
       "  </thead>\n",
       "  <tbody>\n",
       "    <tr>\n",
       "      <td>euribor3m</td>\n",
       "      <td>0.705980</td>\n",
       "    </tr>\n",
       "    <tr>\n",
       "      <td>emp.var.rate</td>\n",
       "      <td>0.683008</td>\n",
       "    </tr>\n",
       "    <tr>\n",
       "      <td>contacted</td>\n",
       "      <td>0.461237</td>\n",
       "    </tr>\n",
       "    <tr>\n",
       "      <td>poutcome_success</td>\n",
       "      <td>0.431598</td>\n",
       "    </tr>\n",
       "    <tr>\n",
       "      <td>previous</td>\n",
       "      <td>0.377236</td>\n",
       "    </tr>\n",
       "    <tr>\n",
       "      <td>poutcome_nonexistent</td>\n",
       "      <td>0.359728</td>\n",
       "    </tr>\n",
       "    <tr>\n",
       "      <td>contact_telephone</td>\n",
       "      <td>0.350622</td>\n",
       "    </tr>\n",
       "    <tr>\n",
       "      <td>cons.price.idx</td>\n",
       "      <td>0.282555</td>\n",
       "    </tr>\n",
       "    <tr>\n",
       "      <td>default_unknown</td>\n",
       "      <td>0.230915</td>\n",
       "    </tr>\n",
       "    <tr>\n",
       "      <td>job_binned_services + blue_collar</td>\n",
       "      <td>0.203114</td>\n",
       "    </tr>\n",
       "    <tr>\n",
       "      <td>age_dist_Age_41_to_50</td>\n",
       "      <td>0.176774</td>\n",
       "    </tr>\n",
       "    <tr>\n",
       "      <td>age_dist_Age_gt_50</td>\n",
       "      <td>0.162331</td>\n",
       "    </tr>\n",
       "    <tr>\n",
       "      <td>winter</td>\n",
       "      <td>0.131278</td>\n",
       "    </tr>\n",
       "    <tr>\n",
       "      <td>education_university.degree</td>\n",
       "      <td>0.125738</td>\n",
       "    </tr>\n",
       "    <tr>\n",
       "      <td>education_basic.6y</td>\n",
       "      <td>0.106979</td>\n",
       "    </tr>\n",
       "    <tr>\n",
       "      <td>summer</td>\n",
       "      <td>0.106965</td>\n",
       "    </tr>\n",
       "    <tr>\n",
       "      <td>age_dist_Age_36_to_41</td>\n",
       "      <td>0.102644</td>\n",
       "    </tr>\n",
       "    <tr>\n",
       "      <td>cons.conf.idx</td>\n",
       "      <td>0.099301</td>\n",
       "    </tr>\n",
       "    <tr>\n",
       "      <td>education_basic.9y</td>\n",
       "      <td>0.095600</td>\n",
       "    </tr>\n",
       "    <tr>\n",
       "      <td>marital_single</td>\n",
       "      <td>0.086572</td>\n",
       "    </tr>\n",
       "  </tbody>\n",
       "</table>\n",
       "</div>"
      ],
      "text/plain": [
       "                                   fisher_score\n",
       "euribor3m                          0.705980    \n",
       "emp.var.rate                       0.683008    \n",
       "contacted                          0.461237    \n",
       "poutcome_success                   0.431598    \n",
       "previous                           0.377236    \n",
       "poutcome_nonexistent               0.359728    \n",
       "contact_telephone                  0.350622    \n",
       "cons.price.idx                     0.282555    \n",
       "default_unknown                    0.230915    \n",
       "job_binned_services + blue_collar  0.203114    \n",
       "age_dist_Age_41_to_50              0.176774    \n",
       "age_dist_Age_gt_50                 0.162331    \n",
       "winter                             0.131278    \n",
       "education_university.degree        0.125738    \n",
       "education_basic.6y                 0.106979    \n",
       "summer                             0.106965    \n",
       "age_dist_Age_36_to_41              0.102644    \n",
       "cons.conf.idx                      0.099301    \n",
       "education_basic.9y                 0.095600    \n",
       "marital_single                     0.086572    "
      ]
     },
     "execution_count": 131,
     "metadata": {},
     "output_type": "execute_result"
    }
   ],
   "source": [
    "#Extracting top 20 variables\n",
    "fs[:20]"
   ]
  },
  {
   "cell_type": "code",
   "execution_count": 132,
   "metadata": {},
   "outputs": [],
   "source": [
    "# Undersampling train set (did not improve results)\n",
    "\n",
    "df_majority = train[train[\"subscribe\"]==0]\n",
    "df_majority.reset_index(drop=True,inplace=True)\n",
    "\n",
    "df_minority = train[train[\"subscribe\"]==1]\n",
    "df_minority.reset_index(drop=True,inplace=True)\n",
    "\n",
    "downsampled = resample(df_majority, \n",
    "                       replace=True, # sample with replacement\n",
    "                       n_samples=len(df_minority), # match number in minority class (0)\n",
    "                       random_state=27)\n",
    "\n",
    "downsampled.reset_index(drop=True,inplace=True)\n",
    "\n",
    "downsampled = pd.concat([df_minority, downsampled])"
   ]
  },
  {
   "cell_type": "code",
   "execution_count": 133,
   "metadata": {},
   "outputs": [],
   "source": [
    "# Oversampling train set, using different technique than SMOTE\n",
    "oversampled = resample(df_minority, \n",
    "                       replace=True, # sample with replacement\n",
    "                       n_samples=len(df_majority), # match number in majority class (1)\n",
    "                       random_state=27)\n",
    "\n",
    "oversampled.reset_index(drop=True,inplace=True)\n",
    "\n",
    "oversampled = pd.concat([df_majority, oversampled])"
   ]
  },
  {
   "cell_type": "code",
   "execution_count": 134,
   "metadata": {},
   "outputs": [
    {
     "name": "stdout",
     "output_type": "stream",
     "text": [
      "(958, 38)\n",
      "(6882, 38)\n"
     ]
    }
   ],
   "source": [
    "print(downsampled.shape)\n",
    "print(oversampled.shape)"
   ]
  },
  {
   "cell_type": "code",
   "execution_count": 135,
   "metadata": {},
   "outputs": [],
   "source": [
    "#creating predefined split with previously split data for gridsearch\n",
    "\n",
    "train_valid = pd.concat((train,valid),axis=0)\n",
    "\n",
    "train_valid[\"fold\"] = train_valid.client_id.isin(train.client_id)*-1\n",
    "\n",
    "fold = np.array(train_valid[\"fold\"])\n",
    "\n",
    "ps = PredefinedSplit(test_fold=fold)"
   ]
  },
  {
   "cell_type": "code",
   "execution_count": 136,
   "metadata": {},
   "outputs": [
    {
     "data": {
      "text/plain": [
       "(5227, 39)"
      ]
     },
     "execution_count": 136,
     "metadata": {},
     "output_type": "execute_result"
    }
   ],
   "source": [
    "#train_valid[fs[:f].index.values]\n",
    "train_valid.shape"
   ]
  },
  {
   "cell_type": "code",
   "execution_count": 137,
   "metadata": {},
   "outputs": [
    {
     "name": "stdout",
     "output_type": "stream",
     "text": [
      "logistic\n",
      "        pred:1  pred:0\n",
      "true:1  104     48    \n",
      "true:0  327     828   \n"
     ]
    },
    {
     "data": {
      "image/png": "[encoded data removed]",
      "text/plain": [
       "<Figure size 432x288 with 1 Axes>"
      ]
     },
     "metadata": {
      "needs_background": "light"
     },
     "output_type": "display_data"
    },
    {
     "name": "stdout",
     "output_type": "stream",
     "text": [
      "randomForest\n",
      "        pred:1  pred:0\n",
      "true:1  75      77    \n",
      "true:0  150     1005  \n"
     ]
    },
    {
     "data": {
      "image/png": "[encoded data removed]",
      "text/plain": [
       "<Figure size 432x288 with 1 Axes>"
      ]
     },
     "metadata": {
      "needs_background": "light"
     },
     "output_type": "display_data"
    },
    {
     "name": "stdout",
     "output_type": "stream",
     "text": [
      "gaussiannb\n",
      "        pred:1  pred:0\n",
      "true:1  104     48    \n",
      "true:0  327     828   \n"
     ]
    },
    {
     "data": {
      "image/png": "[encoded data removed]",
      "text/plain": [
       "<Figure size 432x288 with 1 Axes>"
      ]
     },
     "metadata": {
      "needs_background": "light"
     },
     "output_type": "display_data"
    },
    {
     "name": "stdout",
     "output_type": "stream",
     "text": [
      "ada\n",
      "        pred:1  pred:0\n",
      "true:1  104     48    \n",
      "true:0  327     828   \n"
     ]
    },
    {
     "data": {
      "image/png": "[encoded data removed]",
      "text/plain": [
       "<Figure size 432x288 with 1 Axes>"
      ]
     },
     "metadata": {
      "needs_background": "light"
     },
     "output_type": "display_data"
    },
    {
     "name": "stdout",
     "output_type": "stream",
     "text": [
      "gbc\n",
      "        pred:1  pred:0\n",
      "true:1  98      54    \n",
      "true:0  213     942   \n"
     ]
    },
    {
     "data": {
      "image/png": "[encoded data removed]",
      "text/plain": [
       "<Figure size 432x288 with 1 Axes>"
      ]
     },
     "metadata": {
      "needs_background": "light"
     },
     "output_type": "display_data"
    },
    {
     "name": "stdout",
     "output_type": "stream",
     "text": [
      "knn\n",
      "        pred:1  pred:0\n",
      "true:1  97      55    \n",
      "true:0  191     964   \n"
     ]
    },
    {
     "data": {
      "image/png": "[encoded data removed]",
      "text/plain": [
       "<Figure size 432x288 with 1 Axes>"
      ]
     },
     "metadata": {
      "needs_background": "light"
     },
     "output_type": "display_data"
    },
    {
     "name": "stdout",
     "output_type": "stream",
     "text": [
      "dtree\n",
      "        pred:1  pred:0\n",
      "true:1  88      64    \n",
      "true:0  170     985   \n"
     ]
    },
    {
     "data": {
      "image/png": "[encoded data removed]",
      "text/plain": [
       "<Figure size 432x288 with 1 Axes>"
      ]
     },
     "metadata": {
      "needs_background": "light"
     },
     "output_type": "display_data"
    }
   ],
   "source": [
    "outcome = pd.DataFrame() #empty dataframe to save performance results\n",
    "f = 20 #number of fisher variables\n",
    "\n",
    "#initializing classification models\n",
    "gaussiannb         = GaussianNB()\n",
    "logistic           = LogisticRegression()\n",
    "randomForest       = RandomForestClassifier()\n",
    "ada                = AdaBoostClassifier()\n",
    "xg                 = XGBClassifier()\n",
    "gbc                = GradientBoostingClassifier() \n",
    "dtree              = DecisionTreeClassifier()\n",
    "knn                = KNeighborsClassifier()\n",
    "\n",
    "#saving models in dictionary to iterate\n",
    "models = {\n",
    "         \"logistic\"       :logistic,\n",
    "         \"randomForest\"   :randomForest,\n",
    "         \"gaussiannb\"     :gaussiannb,\n",
    "         #\"xgboost\"        :xg,\n",
    "         \"ada\"            :ada,\n",
    "         \"gbc\"            :gbc,\n",
    "         'knn'            :knn,\n",
    "         'dtree'          :dtree\n",
    "}\n",
    "\n",
    "#grid values in dictionary to iterate\n",
    "grid_values = {\n",
    "    \"logistic\":{\"model__solver\":[\"lbfgs\", \"newton-cg\", \"sag\", \"saga\"], 'model__penalty': ['l2', None],'model__C':[1,2,3],\n",
    "                \"model__max_iter\":[10,25,50], \"model__class_weight\":[None, \"balanced\"]},\n",
    "    \n",
    "    \"randomForest\":{\"model__n_estimators\": [50,100,300], \"model__criterion\": ['gini','entropy'],\"model__bootstrap\": [True,False],\n",
    "                    \"model__oob_score\": [True,False], \"model__class_weight\": [\"balanced\", \"balanced_subsample\", None],\n",
    "                    \"model__max_features\":[\"auto\",\"sqrt\", \"log2\"],\"model__min_samples_split\": [1,2,3],\n",
    "                   \"model__min_samples_leaf\":[1,2,3]},\n",
    "    \n",
    "    \"gaussiannb\":{\"model__var_smoothing\": [1e-9,(1e-9)/5,(1e-9)/2]},\n",
    "    \n",
    "    \"xgboost\":{\"model__booster\":['gbtree','dart'],'model__max_depth':[6,50,500],'model__min_child_weight ':[1,5,100],\n",
    "              'model__n_estimators':[100,500,1000,1500],'model__learning_rate':[0.001,0.01,1]},\n",
    "    \n",
    "    \"ada\":{\"model__n_estimators\":[1,2,3],\"model__algorithm\":[\"SAMME\", \"SAMME.R\"]},\n",
    "    \n",
    "    \"gbc\":{'model__loss':['deviance','exponential'],'model__n_estimators':[50,100,150,200]},\n",
    "    \n",
    "    'knn':{'model__n_neighbors':[8,100,300],'model__weights':['uniform','distance'],\n",
    "           'model__algorithm':['ball_tree','kd_tree','‘brute','auto']},\n",
    "    \n",
    "    'dtree':{'model__splitter':['random','best'],\"model__criterion\": ['gini','entropy'],\n",
    "             'model__max_features':['auto', 'sqrt', 'log2'],'model__min_samples_split':[2,10,20,100]}\n",
    "}\n",
    "\n",
    "#columns to be scaled (intersection of previously selected \"scaled_cols\" and fisher variables)\n",
    "scaled_fisher = list(set(scaled_cols).intersection(set(fs[:f].index.values)))\n",
    "\n",
    "transfo_quanti = Pipeline(steps=[('standard', preprocessing.StandardScaler())])\n",
    "\n",
    "preprocessor = ColumnTransformer(transformers=[('quanti', transfo_quanti , scaled_fisher)])\n",
    "\n",
    "#iterating through models\n",
    "for model in models:\n",
    "    \n",
    "    pipe                = Pipeline(steps=[('scaling', preprocessor),('sampling', SMOTE()),('model', models[model])])\n",
    "    \n",
    "    search_grid         = grid_values[model]\n",
    "    \n",
    "    grid_clf_acc        = GridSearchCV(pipe, param_grid = search_grid, cv=3, n_jobs=-1, scoring = 'roc_auc', refit=True)\n",
    "\n",
    "    #grid_clf_acc.fit(train_valid[fs[:f].index.values], train_valid[y])\n",
    "    grid_clf_acc.fit(train[fs[:f].index.values], train[y])\n",
    "    \n",
    "#     pipe.set_params(**grid_clf_acc.best_params_)\n",
    "#     pipe.fit(train_valid[fs[:f].index.values], train_valid[y])\n",
    "\n",
    "    predictions         = grid_clf_acc.predict(valid[fs[:f].index.values])\n",
    "    predictions_t       = grid_clf_acc.predict(test[fs[:f].index.values])\n",
    "    \n",
    "    probabilities       = pd.DataFrame(grid_clf_acc.predict_proba(valid[fs[:f].index.values]))[1]\n",
    "    probabilities_t     = pd.DataFrame(grid_clf_acc.predict_proba(valid[fs[:f].index.values]))[1]\n",
    "\n",
    "    auc                 = roc_auc_score(np.array(valid[y]),np.array(probabilities))\n",
    "    auc_t               = roc_auc_score(np.array(test[y]),np.array(probabilities_t))\n",
    "    \n",
    "    cv_score            = cross_val_score(grid_clf_acc, valid[fs[:f].index.values], valid[y], cv=10, scoring='roc_auc')\n",
    "    \n",
    "    #confusion matrix\n",
    "    cmtx                = pd.DataFrame(confusion_matrix(valid[y], predictions, labels=[1, 0]), \n",
    "                            index=['true:1', 'true:0'], \n",
    "                            columns=['pred:1', 'pred:0'])\n",
    "    \n",
    "    valid_report        = classification_report(valid[y], predictions, output_dict=True)\n",
    "    \n",
    "    prec                = valid_report.get('1').get('precision')\n",
    "    rec_                = valid_report.get('1').get('recall')\n",
    "    \n",
    "    \n",
    "    cmtx_t              = pd.DataFrame(confusion_matrix(test[y], predictions, labels=[1, 0]), \n",
    "                            index=['true:1', 'true:0'], \n",
    "                            columns=['pred:1', 'pred:0'])\n",
    "    \n",
    "    test_report         = classification_report(test[y], predictions_t, output_dict=True)\n",
    "    \n",
    "    prec_t              = test_report.get('1').get('precision')\n",
    "    rec_t               = test_report.get('1').get('recall')\n",
    "    \n",
    "    performances        = {'Model':model,\"AUC\":np.mean(cv_score),\"AUC_test\":auc,\n",
    "                           'params':grid_clf_acc.best_params_,'Precision':prec,'Precision_test':prec_t,\n",
    "                          'Recall':rec_,'Recall_test':rec_t} \n",
    "    \n",
    "    #saving results\n",
    "    outcome             = pd.concat((outcome,pd.DataFrame([performances])))\n",
    "    \n",
    "    #additional information to select voting classifiers\n",
    "    print(model)\n",
    "    print(cmtx)\n",
    "    \n",
    "    probabilities.hist()\n",
    "    plt.show()"
   ]
  },
  {
   "cell_type": "code",
   "execution_count": 145,
   "metadata": {},
   "outputs": [
    {
     "data": {
      "text/html": [
       "<div>\n",
       "<style scoped>\n",
       "    .dataframe tbody tr th:only-of-type {\n",
       "        vertical-align: middle;\n",
       "    }\n",
       "\n",
       "    .dataframe tbody tr th {\n",
       "        vertical-align: top;\n",
       "    }\n",
       "\n",
       "    .dataframe thead th {\n",
       "        text-align: right;\n",
       "    }\n",
       "</style>\n",
       "<table border=\"1\" class=\"dataframe\">\n",
       "  <thead>\n",
       "    <tr style=\"text-align: right;\">\n",
       "      <th></th>\n",
       "      <th>Model</th>\n",
       "      <th>AUC</th>\n",
       "      <th>AUC_test</th>\n",
       "      <th>params</th>\n",
       "      <th>Precision</th>\n",
       "      <th>Precision_test</th>\n",
       "      <th>Recall</th>\n",
       "      <th>Recall_test</th>\n",
       "    </tr>\n",
       "  </thead>\n",
       "  <tbody>\n",
       "    <tr>\n",
       "      <td>0</td>\n",
       "      <td>knn</td>\n",
       "      <td>0.763762</td>\n",
       "      <td>0.784834</td>\n",
       "      <td>{'model__algorithm': 'ball_tree', 'model__n_neighbors': 300, 'model__weights': 'uniform'}</td>\n",
       "      <td>0.336806</td>\n",
       "      <td>0.301754</td>\n",
       "      <td>0.638158</td>\n",
       "      <td>0.623188</td>\n",
       "    </tr>\n",
       "    <tr>\n",
       "      <td>0</td>\n",
       "      <td>gbc</td>\n",
       "      <td>0.761915</td>\n",
       "      <td>0.770281</td>\n",
       "      <td>{'model__loss': 'exponential', 'model__n_estimators': 50}</td>\n",
       "      <td>0.315113</td>\n",
       "      <td>0.292605</td>\n",
       "      <td>0.644737</td>\n",
       "      <td>0.659420</td>\n",
       "    </tr>\n",
       "    <tr>\n",
       "      <td>0</td>\n",
       "      <td>dtree</td>\n",
       "      <td>0.762947</td>\n",
       "      <td>0.752159</td>\n",
       "      <td>{'model__criterion': 'gini', 'model__max_features': 'auto', 'model__min_samples_split': 100, 'model__splitter': 'random'}</td>\n",
       "      <td>0.341085</td>\n",
       "      <td>0.339921</td>\n",
       "      <td>0.578947</td>\n",
       "      <td>0.623188</td>\n",
       "    </tr>\n",
       "    <tr>\n",
       "      <td>0</td>\n",
       "      <td>ada</td>\n",
       "      <td>0.725109</td>\n",
       "      <td>0.740949</td>\n",
       "      <td>{'model__algorithm': 'SAMME', 'model__n_estimators': 3}</td>\n",
       "      <td>0.241299</td>\n",
       "      <td>0.227166</td>\n",
       "      <td>0.684211</td>\n",
       "      <td>0.702899</td>\n",
       "    </tr>\n",
       "    <tr>\n",
       "      <td>0</td>\n",
       "      <td>randomForest</td>\n",
       "      <td>0.751625</td>\n",
       "      <td>0.736224</td>\n",
       "      <td>{'model__bootstrap': True, 'model__class_weight': None, 'model__criterion': 'gini', 'model__max_features': 'log2', 'model__min_samples_leaf': 3, 'model__min_samples_split': 2, 'model__n_estimators': 300, 'model__oob_score': True}</td>\n",
       "      <td>0.333333</td>\n",
       "      <td>0.340807</td>\n",
       "      <td>0.493421</td>\n",
       "      <td>0.550725</td>\n",
       "    </tr>\n",
       "    <tr>\n",
       "      <td>0</td>\n",
       "      <td>logistic</td>\n",
       "      <td>0.715735</td>\n",
       "      <td>0.726361</td>\n",
       "      <td>{'model__C': 3, 'model__class_weight': 'balanced', 'model__max_iter': 25, 'model__penalty': 'l2', 'model__solver': 'lbfgs'}</td>\n",
       "      <td>0.241299</td>\n",
       "      <td>0.227166</td>\n",
       "      <td>0.684211</td>\n",
       "      <td>0.702899</td>\n",
       "    </tr>\n",
       "    <tr>\n",
       "      <td>0</td>\n",
       "      <td>gaussiannb</td>\n",
       "      <td>0.720572</td>\n",
       "      <td>0.716957</td>\n",
       "      <td>{'model__var_smoothing': 5e-10}</td>\n",
       "      <td>0.241299</td>\n",
       "      <td>0.227166</td>\n",
       "      <td>0.684211</td>\n",
       "      <td>0.702899</td>\n",
       "    </tr>\n",
       "  </tbody>\n",
       "</table>\n",
       "</div>"
      ],
      "text/plain": [
       "          Model       AUC  AUC_test  \\\n",
       "0  knn           0.763762  0.784834   \n",
       "0  gbc           0.761915  0.770281   \n",
       "0  dtree         0.762947  0.752159   \n",
       "0  ada           0.725109  0.740949   \n",
       "0  randomForest  0.751625  0.736224   \n",
       "0  logistic      0.715735  0.726361   \n",
       "0  gaussiannb    0.720572  0.716957   \n",
       "\n",
       "                                                                                                                                                                                                                                  params  \\\n",
       "0  {'model__algorithm': 'ball_tree', 'model__n_neighbors': 300, 'model__weights': 'uniform'}                                                                                                                                               \n",
       "0  {'model__loss': 'exponential', 'model__n_estimators': 50}                                                                                                                                                                               \n",
       "0  {'model__criterion': 'gini', 'model__max_features': 'auto', 'model__min_samples_split': 100, 'model__splitter': 'random'}                                                                                                               \n",
       "0  {'model__algorithm': 'SAMME', 'model__n_estimators': 3}                                                                                                                                                                                 \n",
       "0  {'model__bootstrap': True, 'model__class_weight': None, 'model__criterion': 'gini', 'model__max_features': 'log2', 'model__min_samples_leaf': 3, 'model__min_samples_split': 2, 'model__n_estimators': 300, 'model__oob_score': True}   \n",
       "0  {'model__C': 3, 'model__class_weight': 'balanced', 'model__max_iter': 25, 'model__penalty': 'l2', 'model__solver': 'lbfgs'}                                                                                                             \n",
       "0  {'model__var_smoothing': 5e-10}                                                                                                                                                                                                         \n",
       "\n",
       "   Precision  Precision_test    Recall  Recall_test  \n",
       "0  0.336806   0.301754        0.638158  0.623188     \n",
       "0  0.315113   0.292605        0.644737  0.659420     \n",
       "0  0.341085   0.339921        0.578947  0.623188     \n",
       "0  0.241299   0.227166        0.684211  0.702899     \n",
       "0  0.333333   0.340807        0.493421  0.550725     \n",
       "0  0.241299   0.227166        0.684211  0.702899     \n",
       "0  0.241299   0.227166        0.684211  0.702899     "
      ]
     },
     "execution_count": 145,
     "metadata": {},
     "output_type": "execute_result"
    }
   ],
   "source": [
    "outcome.sort_values(by='AUC_test', ascending=False, inplace=True)\n",
    "outcome"
   ]
  },
  {
   "cell_type": "code",
   "execution_count": 146,
   "metadata": {},
   "outputs": [
    {
     "data": {
      "text/html": [
       "<div>\n",
       "<style scoped>\n",
       "    .dataframe tbody tr th:only-of-type {\n",
       "        vertical-align: middle;\n",
       "    }\n",
       "\n",
       "    .dataframe tbody tr th {\n",
       "        vertical-align: top;\n",
       "    }\n",
       "\n",
       "    .dataframe thead th {\n",
       "        text-align: right;\n",
       "    }\n",
       "</style>\n",
       "<table border=\"1\" class=\"dataframe\">\n",
       "  <thead>\n",
       "    <tr style=\"text-align: right;\">\n",
       "      <th></th>\n",
       "      <th>Model</th>\n",
       "      <th>AUC</th>\n",
       "      <th>AUC_test</th>\n",
       "      <th>params</th>\n",
       "      <th>Precision</th>\n",
       "      <th>Precision_test</th>\n",
       "      <th>Recall</th>\n",
       "      <th>Recall_test</th>\n",
       "    </tr>\n",
       "  </thead>\n",
       "  <tbody>\n",
       "    <tr>\n",
       "      <td>0</td>\n",
       "      <td>knn</td>\n",
       "      <td>0.763762</td>\n",
       "      <td>0.784834</td>\n",
       "      <td>{'algorithm': 'ball_tree', 'n_neighbors': 300, 'weights': 'uniform'}</td>\n",
       "      <td>0.336806</td>\n",
       "      <td>0.301754</td>\n",
       "      <td>0.638158</td>\n",
       "      <td>0.623188</td>\n",
       "    </tr>\n",
       "    <tr>\n",
       "      <td>1</td>\n",
       "      <td>gbc</td>\n",
       "      <td>0.761915</td>\n",
       "      <td>0.770281</td>\n",
       "      <td>{'loss': 'exponential', 'n_estimators': 50}</td>\n",
       "      <td>0.315113</td>\n",
       "      <td>0.292605</td>\n",
       "      <td>0.644737</td>\n",
       "      <td>0.659420</td>\n",
       "    </tr>\n",
       "    <tr>\n",
       "      <td>2</td>\n",
       "      <td>dtree</td>\n",
       "      <td>0.762947</td>\n",
       "      <td>0.752159</td>\n",
       "      <td>{'criterion': 'gini', 'max_features': 'auto', 'min_samples_split': 100, 'splitter': 'random'}</td>\n",
       "      <td>0.341085</td>\n",
       "      <td>0.339921</td>\n",
       "      <td>0.578947</td>\n",
       "      <td>0.623188</td>\n",
       "    </tr>\n",
       "    <tr>\n",
       "      <td>3</td>\n",
       "      <td>ada</td>\n",
       "      <td>0.725109</td>\n",
       "      <td>0.740949</td>\n",
       "      <td>{'algorithm': 'SAMME', 'n_estimators': 3}</td>\n",
       "      <td>0.241299</td>\n",
       "      <td>0.227166</td>\n",
       "      <td>0.684211</td>\n",
       "      <td>0.702899</td>\n",
       "    </tr>\n",
       "    <tr>\n",
       "      <td>4</td>\n",
       "      <td>randomForest</td>\n",
       "      <td>0.751625</td>\n",
       "      <td>0.736224</td>\n",
       "      <td>{'bootstrap': True, 'class_weight': None, 'criterion': 'gini', 'max_features': 'log2', 'min_samples_leaf': 3, 'min_samples_split': 2, 'n_estimators': 300, 'oob_score': True}</td>\n",
       "      <td>0.333333</td>\n",
       "      <td>0.340807</td>\n",
       "      <td>0.493421</td>\n",
       "      <td>0.550725</td>\n",
       "    </tr>\n",
       "    <tr>\n",
       "      <td>5</td>\n",
       "      <td>logistic</td>\n",
       "      <td>0.715735</td>\n",
       "      <td>0.726361</td>\n",
       "      <td>{'C': 3, 'class_weight': 'balanced', 'max_iter': 25, 'penalty': 'l2', 'solver': 'lbfgs'}</td>\n",
       "      <td>0.241299</td>\n",
       "      <td>0.227166</td>\n",
       "      <td>0.684211</td>\n",
       "      <td>0.702899</td>\n",
       "    </tr>\n",
       "    <tr>\n",
       "      <td>6</td>\n",
       "      <td>gaussiannb</td>\n",
       "      <td>0.720572</td>\n",
       "      <td>0.716957</td>\n",
       "      <td>{'var_smoothing': 5e-10}</td>\n",
       "      <td>0.241299</td>\n",
       "      <td>0.227166</td>\n",
       "      <td>0.684211</td>\n",
       "      <td>0.702899</td>\n",
       "    </tr>\n",
       "  </tbody>\n",
       "</table>\n",
       "</div>"
      ],
      "text/plain": [
       "          Model       AUC  AUC_test  \\\n",
       "0  knn           0.763762  0.784834   \n",
       "1  gbc           0.761915  0.770281   \n",
       "2  dtree         0.762947  0.752159   \n",
       "3  ada           0.725109  0.740949   \n",
       "4  randomForest  0.751625  0.736224   \n",
       "5  logistic      0.715735  0.726361   \n",
       "6  gaussiannb    0.720572  0.716957   \n",
       "\n",
       "                                                                                                                                                                          params  \\\n",
       "0  {'algorithm': 'ball_tree', 'n_neighbors': 300, 'weights': 'uniform'}                                                                                                            \n",
       "1  {'loss': 'exponential', 'n_estimators': 50}                                                                                                                                     \n",
       "2  {'criterion': 'gini', 'max_features': 'auto', 'min_samples_split': 100, 'splitter': 'random'}                                                                                   \n",
       "3  {'algorithm': 'SAMME', 'n_estimators': 3}                                                                                                                                       \n",
       "4  {'bootstrap': True, 'class_weight': None, 'criterion': 'gini', 'max_features': 'log2', 'min_samples_leaf': 3, 'min_samples_split': 2, 'n_estimators': 300, 'oob_score': True}   \n",
       "5  {'C': 3, 'class_weight': 'balanced', 'max_iter': 25, 'penalty': 'l2', 'solver': 'lbfgs'}                                                                                        \n",
       "6  {'var_smoothing': 5e-10}                                                                                                                                                        \n",
       "\n",
       "   Precision  Precision_test    Recall  Recall_test  \n",
       "0  0.336806   0.301754        0.638158  0.623188     \n",
       "1  0.315113   0.292605        0.644737  0.659420     \n",
       "2  0.341085   0.339921        0.578947  0.623188     \n",
       "3  0.241299   0.227166        0.684211  0.702899     \n",
       "4  0.333333   0.340807        0.493421  0.550725     \n",
       "5  0.241299   0.227166        0.684211  0.702899     \n",
       "6  0.241299   0.227166        0.684211  0.702899     "
      ]
     },
     "execution_count": 146,
     "metadata": {},
     "output_type": "execute_result"
    }
   ],
   "source": [
    "outcome2 = outcome.copy()\n",
    "outcome2.reset_index(inplace=True,drop=True)\n",
    "for i in range(0,outcome2.shape[1]-1):\n",
    "    outcome2.loc[i,'params'] = [ast.literal_eval(str(outcome2.loc[i,'params']).replace('model__',''))]\n",
    "\n",
    "outcome2\n",
    "#logistic.set_params(**outcome2.loc[outcome2['Model']=='logistic','params'][0])"
   ]
  },
  {
   "cell_type": "code",
   "execution_count": 168,
   "metadata": {
    "scrolled": true
   },
   "outputs": [
    {
     "data": {
      "text/plain": [
       "GaussianNB(priors=None, var_smoothing=5e-10)"
      ]
     },
     "execution_count": 168,
     "metadata": {},
     "output_type": "execute_result"
    }
   ],
   "source": [
    "knn.set_params(**list(outcome2.loc[outcome2['Model']=='knn','params'])[0])\n",
    "gbc.set_params(**list(outcome2.loc[outcome2['Model']=='gbc','params'])[0])\n",
    "dtree.set_params(**list(outcome2.loc[outcome2['Model']=='dtree','params'])[0])\n",
    "ada.set_params(**list(outcome2.loc[outcome2['Model']=='ada','params'])[0])\n",
    "randomForest.set_params(**list(outcome2.loc[outcome2['Model']=='randomForest','params'])[0])\n",
    "logistic.set_params(**list(outcome2.loc[outcome2['Model']=='logistic','params'])[0])\n",
    "gaussiannb.set_params(**list(outcome2.loc[outcome2['Model']=='gaussiannb','params'])[0])"
   ]
  },
  {
   "cell_type": "code",
   "execution_count": 174,
   "metadata": {},
   "outputs": [],
   "source": [
    "vote_outcome = pd.DataFrame()\n",
    "vote_list = []\n",
    "auc_comp = 0\n",
    "\n",
    "for model in outcome2['Model']: #starting from highest AUC\n",
    "    \n",
    "    modeltuple = tuple((model,models[model]))\n",
    "    \n",
    "    vote_list.append(modeltuple)\n",
    "    \n",
    "    eclf = VotingClassifier(estimators=vote_list, voting='soft')\n",
    "    \n",
    "    eclf.fit(train[fs[:f].index.values], train[y])\n",
    "    \n",
    "    predictions         = eclf.predict(valid[fs[:f].index.values])\n",
    "    predictions_t       = eclf.predict(test[fs[:f].index.values])\n",
    "    \n",
    "    probabilities       = pd.DataFrame(eclf.predict_proba(valid[fs[:f].index.values]))[1]\n",
    "    probabilities_t     = pd.DataFrame(eclf.predict_proba(valid[fs[:f].index.values]))[1]\n",
    "\n",
    "    auc                 = roc_auc_score(np.array(valid[y]),np.array(probabilities))\n",
    "    auc_t               = roc_auc_score(np.array(test[y]),np.array(probabilities_t))\n",
    "\n",
    "    if auc>auc_comp:\n",
    "        auc_comp = auc\n",
    "    else:\n",
    "        vote_list.remove(modeltuple)\n",
    "        \n",
    "    cv_score            = cross_val_score(grid_clf_acc, valid[fs[:f].index.values], valid[y], cv=10, scoring='roc_auc')\n",
    "    \n",
    "    performances        = {'Models':[x[0] for x in vote_list],\"AUC\":np.mean(cv_score),\"AUC_test\":auc} \n",
    "    \n",
    "    #saving results\n",
    "    vote_outcome             = pd.concat((vote_outcome,pd.DataFrame([performances])))"
   ]
  },
  {
   "cell_type": "code",
   "execution_count": 175,
   "metadata": {},
   "outputs": [
    {
     "data": {
      "text/html": [
       "<div>\n",
       "<style scoped>\n",
       "    .dataframe tbody tr th:only-of-type {\n",
       "        vertical-align: middle;\n",
       "    }\n",
       "\n",
       "    .dataframe tbody tr th {\n",
       "        vertical-align: top;\n",
       "    }\n",
       "\n",
       "    .dataframe thead th {\n",
       "        text-align: right;\n",
       "    }\n",
       "</style>\n",
       "<table border=\"1\" class=\"dataframe\">\n",
       "  <thead>\n",
       "    <tr style=\"text-align: right;\">\n",
       "      <th></th>\n",
       "      <th>Models</th>\n",
       "      <th>AUC</th>\n",
       "      <th>AUC_test</th>\n",
       "    </tr>\n",
       "  </thead>\n",
       "  <tbody>\n",
       "    <tr>\n",
       "      <td>0</td>\n",
       "      <td>[knn]</td>\n",
       "      <td>0.758834</td>\n",
       "      <td>0.766789</td>\n",
       "    </tr>\n",
       "    <tr>\n",
       "      <td>0</td>\n",
       "      <td>[knn, gbc]</td>\n",
       "      <td>0.758481</td>\n",
       "      <td>0.770711</td>\n",
       "    </tr>\n",
       "    <tr>\n",
       "      <td>0</td>\n",
       "      <td>[knn, gbc]</td>\n",
       "      <td>0.777066</td>\n",
       "      <td>0.763856</td>\n",
       "    </tr>\n",
       "    <tr>\n",
       "      <td>0</td>\n",
       "      <td>[knn, gbc]</td>\n",
       "      <td>0.765408</td>\n",
       "      <td>0.769782</td>\n",
       "    </tr>\n",
       "    <tr>\n",
       "      <td>0</td>\n",
       "      <td>[knn, gbc, randomForest]</td>\n",
       "      <td>0.767638</td>\n",
       "      <td>0.771255</td>\n",
       "    </tr>\n",
       "    <tr>\n",
       "      <td>0</td>\n",
       "      <td>[knn, gbc, randomForest, logistic]</td>\n",
       "      <td>0.755372</td>\n",
       "      <td>0.775111</td>\n",
       "    </tr>\n",
       "    <tr>\n",
       "      <td>0</td>\n",
       "      <td>[knn, gbc, randomForest, logistic]</td>\n",
       "      <td>0.780224</td>\n",
       "      <td>0.767114</td>\n",
       "    </tr>\n",
       "  </tbody>\n",
       "</table>\n",
       "</div>"
      ],
      "text/plain": [
       "                               Models       AUC  AUC_test\n",
       "0  [knn]                               0.758834  0.766789\n",
       "0  [knn, gbc]                          0.758481  0.770711\n",
       "0  [knn, gbc]                          0.777066  0.763856\n",
       "0  [knn, gbc]                          0.765408  0.769782\n",
       "0  [knn, gbc, randomForest]            0.767638  0.771255\n",
       "0  [knn, gbc, randomForest, logistic]  0.755372  0.775111\n",
       "0  [knn, gbc, randomForest, logistic]  0.780224  0.767114"
      ]
     },
     "execution_count": 175,
     "metadata": {},
     "output_type": "execute_result"
    }
   ],
   "source": [
    "vote_outcome"
   ]
  },
  {
   "cell_type": "code",
   "execution_count": 176,
   "metadata": {},
   "outputs": [],
   "source": [
    "full = pd.concat((train,valid,test),axis=0)"
   ]
  },
  {
   "cell_type": "code",
   "execution_count": 183,
   "metadata": {},
   "outputs": [],
   "source": [
    "final_vote = [logistic, randomForest, knn, gbc]\n",
    "vote_list = []\n",
    "\n",
    "for v in final_vote:\n",
    "    modeltuple = tuple((str(v)[:3],v))\n",
    "    vote_list.append(modeltuple)"
   ]
  },
  {
   "cell_type": "code",
   "execution_count": 186,
   "metadata": {},
   "outputs": [],
   "source": [
    "eclf = VotingClassifier(estimators=vote_list, voting='soft')\n",
    "eclf = eclf.fit(full[fs[:f].index.values], full[y])\n",
    "probabilities = pd.DataFrame(eclf.predict_proba(test_holdout[fs[:f].index.values]))[1]"
   ]
  },
  {
   "cell_type": "code",
   "execution_count": 189,
   "metadata": {
    "scrolled": true
   },
   "outputs": [],
   "source": [
    "submission = pd.concat((test_holdout.client_id,probabilities),axis=1)\n",
    "\n",
    "submission.columns=['client_id','subscribe']\n",
    "submission.head()\n",
    "submission.to_csv('submission_final.csv',index=False)"
   ]
  }
 ],
 "metadata": {
  "kernelspec": {
   "display_name": "Python 3",
   "language": "python",
   "name": "python3"
  },
  "language_info": {
   "codemirror_mode": {
    "name": "ipython",
    "version": 3
   },
   "file_extension": ".py",
   "mimetype": "text/x-python",
   "name": "python",
   "nbconvert_exporter": "python",
   "pygments_lexer": "ipython3",
   "version": "3.7.4"
  }
 },
 "nbformat": 4,
 "nbformat_minor": 2
}
