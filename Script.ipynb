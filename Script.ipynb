{
 "cells": [
  {
   "cell_type": "markdown",
   "metadata": {},
   "source": [
    "# KKBox's Churn Prediction Challenge\n",
    "## Statistical & machine learning approches for marketing\n",
    "### Professor Minh Phan\n",
    "#### Team: Stephanie Beyer Diaz, Arnaud Vandelaer, Dinu Wijayaweera<br>\n",
    "\n",
    "<a href='https://www.kaggle.com/c/kkbox-churn-prediction-challenge/data'>Problem</a>: Predict whether a user will churn after his/her subscription expires. The criteria of \"churn\" is no new valid service subscription within 30 days after the current membership expires.<br><br>\n",
    "The train data consists of users whose subscription expires within the month of February 2017, and the test data is with users whose subscription expires within the month of March 2017. This means we are looking at user churn or renewal roughly in the month of March 2017 for train set, and the user churn or renewal roughly in the month of April 2017. Train and test sets are split by transaction date, as well as the public and private leaderboard data. "
   ]
  },
  {
   "cell_type": "code",
   "execution_count": 2,
   "metadata": {},
   "outputs": [],
   "source": [
    "# Including the required libraries\n",
    "library(data.table)\n",
    "library(lubridate)\n",
    "library(ggplot2) \n",
    "library(dplyr)\n",
    "library(mlr)"
   ]
  },
  {
   "cell_type": "code",
   "execution_count": 3,
   "metadata": {},
   "outputs": [],
   "source": [
    "folder <- './kkbox-churn-prediction-challenge/'"
   ]
  },
  {
   "cell_type": "markdown",
   "metadata": {},
   "source": [
    "### Reading and Cleaning Data\n",
    "Because of size of data, some steps involve deleting or overwriting previous variables to make the process more efficient.\n",
    "Data groupings are based on <a href='https://www.kaggle.com/c/kkbox-churn-prediction-challenge/discussion/43169'>this description</a>."
   ]
  },
  {
   "cell_type": "markdown",
   "metadata": {},
   "source": [
    "#### User Logs"
   ]
  },
  {
   "cell_type": "code",
   "execution_count": 10,
   "metadata": {},
   "outputs": [
    {
     "data": {
      "text/html": [
       "<table>\n",
       "<caption>A data.table: 6 × 9</caption>\n",
       "<thead>\n",
       "\t<tr><th scope=col>msno</th><th scope=col>date</th><th scope=col>num_25</th><th scope=col>num_50</th><th scope=col>num_75</th><th scope=col>num_985</th><th scope=col>num_100</th><th scope=col>num_unq</th><th scope=col>total_secs</th></tr>\n",
       "\t<tr><th scope=col>&lt;chr&gt;</th><th scope=col>&lt;int&gt;</th><th scope=col>&lt;int&gt;</th><th scope=col>&lt;int&gt;</th><th scope=col>&lt;int&gt;</th><th scope=col>&lt;int&gt;</th><th scope=col>&lt;int&gt;</th><th scope=col>&lt;int&gt;</th><th scope=col>&lt;dbl&gt;</th></tr>\n",
       "</thead>\n",
       "<tbody>\n",
       "\t<tr><td>u9E91QDTvHLq6NXjEaWv8u4QIqhrHk72kE+w31Gnhdg=</td><td>20170331</td><td>  8</td><td>4</td><td>0</td><td>1</td><td> 21</td><td> 18</td><td> 6309.273</td></tr>\n",
       "\t<tr><td>nTeWW/eOZA/UHKdD5L7DEqKKFTjaAj3ALLPoAWsU8n0=</td><td>20170330</td><td>  2</td><td>2</td><td>1</td><td>0</td><td>  9</td><td> 11</td><td> 2390.699</td></tr>\n",
       "\t<tr><td>2UqkWXwZbIjs03dHLU9KHJNNEvEkZVzm69f3jCS+uLI=</td><td>20170331</td><td> 52</td><td>3</td><td>5</td><td>3</td><td> 84</td><td>110</td><td>23203.337</td></tr>\n",
       "\t<tr><td>ycwLc+m2O0a85jSLALtr941AaZt9ai8Qwlg9n0Nql5U=</td><td>20170331</td><td>176</td><td>4</td><td>2</td><td>2</td><td> 19</td><td>191</td><td> 7100.454</td></tr>\n",
       "\t<tr><td>EGcbTofOSOkMmQyN1NMLxHEXJ1yV3t/JdhGwQ9wXjnI=</td><td>20170331</td><td>  2</td><td>1</td><td>0</td><td>1</td><td>112</td><td> 93</td><td>28401.558</td></tr>\n",
       "\t<tr><td>qR/ndQ5B+1cY+c9ihwLoiz+RFiqEnGyQKo32ZErEVKo=</td><td>20170331</td><td>  3</td><td>0</td><td>0</td><td>0</td><td> 39</td><td> 41</td><td> 9786.842</td></tr>\n",
       "</tbody>\n",
       "</table>\n"
      ],
      "text/latex": [
       "A data.table: 6 × 9\n",
       "\\begin{tabular}{lllllllll}\n",
       " msno & date & num\\_25 & num\\_50 & num\\_75 & num\\_985 & num\\_100 & num\\_unq & total\\_secs\\\\\n",
       " <chr> & <int> & <int> & <int> & <int> & <int> & <int> & <int> & <dbl>\\\\\n",
       "\\hline\n",
       "\t u9E91QDTvHLq6NXjEaWv8u4QIqhrHk72kE+w31Gnhdg= & 20170331 &   8 & 4 & 0 & 1 &  21 &  18 &  6309.273\\\\\n",
       "\t nTeWW/eOZA/UHKdD5L7DEqKKFTjaAj3ALLPoAWsU8n0= & 20170330 &   2 & 2 & 1 & 0 &   9 &  11 &  2390.699\\\\\n",
       "\t 2UqkWXwZbIjs03dHLU9KHJNNEvEkZVzm69f3jCS+uLI= & 20170331 &  52 & 3 & 5 & 3 &  84 & 110 & 23203.337\\\\\n",
       "\t ycwLc+m2O0a85jSLALtr941AaZt9ai8Qwlg9n0Nql5U= & 20170331 & 176 & 4 & 2 & 2 &  19 & 191 &  7100.454\\\\\n",
       "\t EGcbTofOSOkMmQyN1NMLxHEXJ1yV3t/JdhGwQ9wXjnI= & 20170331 &   2 & 1 & 0 & 1 & 112 &  93 & 28401.558\\\\\n",
       "\t qR/ndQ5B+1cY+c9ihwLoiz+RFiqEnGyQKo32ZErEVKo= & 20170331 &   3 & 0 & 0 & 0 &  39 &  41 &  9786.842\\\\\n",
       "\\end{tabular}\n"
      ],
      "text/markdown": [
       "\n",
       "A data.table: 6 × 9\n",
       "\n",
       "| msno &lt;chr&gt; | date &lt;int&gt; | num_25 &lt;int&gt; | num_50 &lt;int&gt; | num_75 &lt;int&gt; | num_985 &lt;int&gt; | num_100 &lt;int&gt; | num_unq &lt;int&gt; | total_secs &lt;dbl&gt; |\n",
       "|---|---|---|---|---|---|---|---|---|\n",
       "| u9E91QDTvHLq6NXjEaWv8u4QIqhrHk72kE+w31Gnhdg= | 20170331 |   8 | 4 | 0 | 1 |  21 |  18 |  6309.273 |\n",
       "| nTeWW/eOZA/UHKdD5L7DEqKKFTjaAj3ALLPoAWsU8n0= | 20170330 |   2 | 2 | 1 | 0 |   9 |  11 |  2390.699 |\n",
       "| 2UqkWXwZbIjs03dHLU9KHJNNEvEkZVzm69f3jCS+uLI= | 20170331 |  52 | 3 | 5 | 3 |  84 | 110 | 23203.337 |\n",
       "| ycwLc+m2O0a85jSLALtr941AaZt9ai8Qwlg9n0Nql5U= | 20170331 | 176 | 4 | 2 | 2 |  19 | 191 |  7100.454 |\n",
       "| EGcbTofOSOkMmQyN1NMLxHEXJ1yV3t/JdhGwQ9wXjnI= | 20170331 |   2 | 1 | 0 | 1 | 112 |  93 | 28401.558 |\n",
       "| qR/ndQ5B+1cY+c9ihwLoiz+RFiqEnGyQKo32ZErEVKo= | 20170331 |   3 | 0 | 0 | 0 |  39 |  41 |  9786.842 |\n",
       "\n"
      ],
      "text/plain": [
       "  msno                                         date     num_25 num_50 num_75\n",
       "1 u9E91QDTvHLq6NXjEaWv8u4QIqhrHk72kE+w31Gnhdg= 20170331   8    4      0     \n",
       "2 nTeWW/eOZA/UHKdD5L7DEqKKFTjaAj3ALLPoAWsU8n0= 20170330   2    2      1     \n",
       "3 2UqkWXwZbIjs03dHLU9KHJNNEvEkZVzm69f3jCS+uLI= 20170331  52    3      5     \n",
       "4 ycwLc+m2O0a85jSLALtr941AaZt9ai8Qwlg9n0Nql5U= 20170331 176    4      2     \n",
       "5 EGcbTofOSOkMmQyN1NMLxHEXJ1yV3t/JdhGwQ9wXjnI= 20170331   2    1      0     \n",
       "6 qR/ndQ5B+1cY+c9ihwLoiz+RFiqEnGyQKo32ZErEVKo= 20170331   3    0      0     \n",
       "  num_985 num_100 num_unq total_secs\n",
       "1 1        21      18      6309.273 \n",
       "2 0         9      11      2390.699 \n",
       "3 3        84     110     23203.337 \n",
       "4 2        19     191      7100.454 \n",
       "5 1       112      93     28401.558 \n",
       "6 0        39      41      9786.842 "
      ]
     },
     "metadata": {},
     "output_type": "display_data"
    }
   ],
   "source": [
    "#user_logs <- fread(paste0(folder,'user_logs.csv',nrows=2000,skip=))\n",
    "user_logs <- fread(paste0(folder,'user_logs_v2.csv'))\n",
    "\n",
    "#user_logs <- rbind(user_logs,fread(paste0(folder,'user_logs_v2.csv')))\n",
    "head(user_logs)"
   ]
  },
  {
   "cell_type": "code",
   "execution_count": 8,
   "metadata": {},
   "outputs": [
    {
     "data": {
      "text/html": [
       "<ol class=list-inline>\n",
       "\t<li>18396362</li>\n",
       "\t<li>9</li>\n",
       "</ol>\n"
      ],
      "text/latex": [
       "\\begin{enumerate*}\n",
       "\\item 18396362\n",
       "\\item 9\n",
       "\\end{enumerate*}\n"
      ],
      "text/markdown": [
       "1. 18396362\n",
       "2. 9\n",
       "\n",
       "\n"
      ],
      "text/plain": [
       "[1] 18396362        9"
      ]
     },
     "metadata": {},
     "output_type": "display_data"
    }
   ],
   "source": [
    "#Checking rows and duplicates\n",
    "\n",
    "dim(user_logs) #18,396,362 rows\n",
    "#length(unique(user_logs$msno)) #1,103,894 unique users -> data must be aggregated"
   ]
  },
  {
   "cell_type": "code",
   "execution_count": null,
   "metadata": {},
   "outputs": [],
   "source": [
    "user_logs$date <- ymd(user_logs$date) #formatting date with lubridate\n",
    "min(user_logs$date) #2017-03-01\n",
    "max(user_logs$date) #2017-03-31"
   ]
  },
  {
   "cell_type": "markdown",
   "metadata": {},
   "source": [
    "#### Test"
   ]
  },
  {
   "cell_type": "code",
   "execution_count": 3,
   "metadata": {},
   "outputs": [
    {
     "data": {
      "text/html": [
       "<table>\n",
       "<caption>A data.table: 6 × 2</caption>\n",
       "<thead>\n",
       "\t<tr><th scope=col>msno</th><th scope=col>is_churn</th></tr>\n",
       "\t<tr><th scope=col>&lt;chr&gt;</th><th scope=col>&lt;int&gt;</th></tr>\n",
       "</thead>\n",
       "<tbody>\n",
       "\t<tr><td>ugx0CjOMzazClkFzU2xasmDZaoIqOUAZPsH1q0teWCg=</td><td>0</td></tr>\n",
       "\t<tr><td>f/NmvEzHfhINFEYZTR05prUdr+E+3+oewvweYz9cCQE=</td><td>0</td></tr>\n",
       "\t<tr><td>zLo9f73nGGT1p21ltZC3ChiRnAVvgibMyazbCxvWPcg=</td><td>0</td></tr>\n",
       "\t<tr><td>8iF/+8HY8lJKFrTc7iR9ZYGCG2Ecrogbc2Vy5YhsfhQ=</td><td>0</td></tr>\n",
       "\t<tr><td>K6fja4+jmoZ5xG6BypqX80Uw/XKpMgrEMdG2edFOxnA=</td><td>0</td></tr>\n",
       "\t<tr><td>ibIHVYBqxGwrSExE63/omeDD99M5vYB3CN2HzkEY+eM=</td><td>0</td></tr>\n",
       "</tbody>\n",
       "</table>\n"
      ],
      "text/latex": [
       "A data.table: 6 × 2\n",
       "\\begin{tabular}{ll}\n",
       " msno & is\\_churn\\\\\n",
       " <chr> & <int>\\\\\n",
       "\\hline\n",
       "\t ugx0CjOMzazClkFzU2xasmDZaoIqOUAZPsH1q0teWCg= & 0\\\\\n",
       "\t f/NmvEzHfhINFEYZTR05prUdr+E+3+oewvweYz9cCQE= & 0\\\\\n",
       "\t zLo9f73nGGT1p21ltZC3ChiRnAVvgibMyazbCxvWPcg= & 0\\\\\n",
       "\t 8iF/+8HY8lJKFrTc7iR9ZYGCG2Ecrogbc2Vy5YhsfhQ= & 0\\\\\n",
       "\t K6fja4+jmoZ5xG6BypqX80Uw/XKpMgrEMdG2edFOxnA= & 0\\\\\n",
       "\t ibIHVYBqxGwrSExE63/omeDD99M5vYB3CN2HzkEY+eM= & 0\\\\\n",
       "\\end{tabular}\n"
      ],
      "text/markdown": [
       "\n",
       "A data.table: 6 × 2\n",
       "\n",
       "| msno &lt;chr&gt; | is_churn &lt;int&gt; |\n",
       "|---|---|\n",
       "| ugx0CjOMzazClkFzU2xasmDZaoIqOUAZPsH1q0teWCg= | 0 |\n",
       "| f/NmvEzHfhINFEYZTR05prUdr+E+3+oewvweYz9cCQE= | 0 |\n",
       "| zLo9f73nGGT1p21ltZC3ChiRnAVvgibMyazbCxvWPcg= | 0 |\n",
       "| 8iF/+8HY8lJKFrTc7iR9ZYGCG2Ecrogbc2Vy5YhsfhQ= | 0 |\n",
       "| K6fja4+jmoZ5xG6BypqX80Uw/XKpMgrEMdG2edFOxnA= | 0 |\n",
       "| ibIHVYBqxGwrSExE63/omeDD99M5vYB3CN2HzkEY+eM= | 0 |\n",
       "\n"
      ],
      "text/plain": [
       "  msno                                         is_churn\n",
       "1 ugx0CjOMzazClkFzU2xasmDZaoIqOUAZPsH1q0teWCg= 0       \n",
       "2 f/NmvEzHfhINFEYZTR05prUdr+E+3+oewvweYz9cCQE= 0       \n",
       "3 zLo9f73nGGT1p21ltZC3ChiRnAVvgibMyazbCxvWPcg= 0       \n",
       "4 8iF/+8HY8lJKFrTc7iR9ZYGCG2Ecrogbc2Vy5YhsfhQ= 0       \n",
       "5 K6fja4+jmoZ5xG6BypqX80Uw/XKpMgrEMdG2edFOxnA= 0       \n",
       "6 ibIHVYBqxGwrSExE63/omeDD99M5vYB3CN2HzkEY+eM= 0       "
      ]
     },
     "metadata": {},
     "output_type": "display_data"
    }
   ],
   "source": [
    "test <- fread(paste0(folder,'sample_submission_zero.csv')) \n",
    "\n",
    "#test_v2 <- fread(paste0(folder,'sample_submission_v2.csv')) #April\n",
    "\n",
    "train <- rbind(test,fread(paste0(folder,'sample_submission_v2.csv')))\n",
    "head(test)"
   ]
  },
  {
   "cell_type": "code",
   "execution_count": 9,
   "metadata": {},
   "outputs": [
    {
     "data": {
      "text/html": [
       "<ol class=list-inline>\n",
       "\t<li>970960</li>\n",
       "\t<li>2</li>\n",
       "</ol>\n"
      ],
      "text/latex": [
       "\\begin{enumerate*}\n",
       "\\item 970960\n",
       "\\item 2\n",
       "\\end{enumerate*}\n"
      ],
      "text/markdown": [
       "1. 970960\n",
       "2. 2\n",
       "\n",
       "\n"
      ],
      "text/plain": [
       "[1] 970960      2"
      ]
     },
     "metadata": {},
     "output_type": "display_data"
    },
    {
     "data": {
      "text/html": [
       "970960"
      ],
      "text/latex": [
       "970960"
      ],
      "text/markdown": [
       "970960"
      ],
      "text/plain": [
       "[1] 970960"
      ]
     },
     "metadata": {},
     "output_type": "display_data"
    }
   ],
   "source": [
    "#Checking rows and duplicates\n",
    "\n",
    "dim(test) #970,960 users = rows\n",
    "#length(unique(test$msno)) "
   ]
  },
  {
   "cell_type": "markdown",
   "metadata": {},
   "source": [
    "#### Members"
   ]
  },
  {
   "cell_type": "code",
   "execution_count": 4,
   "metadata": {},
   "outputs": [
    {
     "data": {
      "text/html": [
       "<table>\n",
       "<caption>A data.table: 6 × 6</caption>\n",
       "<thead>\n",
       "\t<tr><th scope=col>msno</th><th scope=col>city</th><th scope=col>bd</th><th scope=col>gender</th><th scope=col>registered_via</th><th scope=col>registration_init_time</th></tr>\n",
       "\t<tr><th scope=col>&lt;chr&gt;</th><th scope=col>&lt;int&gt;</th><th scope=col>&lt;int&gt;</th><th scope=col>&lt;chr&gt;</th><th scope=col>&lt;int&gt;</th><th scope=col>&lt;int&gt;</th></tr>\n",
       "</thead>\n",
       "<tbody>\n",
       "\t<tr><td>Rb9UwLQTrxzBVwCB6+bCcSQWZ9JiNLC9dXtM1oEsZA8=</td><td>1</td><td> 0</td><td>      </td><td>11</td><td>20110911</td></tr>\n",
       "\t<tr><td>+tJonkh+O1CA796Fm5X60UMOtB6POHAwPjbTRVl/EuU=</td><td>1</td><td> 0</td><td>      </td><td> 7</td><td>20110914</td></tr>\n",
       "\t<tr><td>cV358ssn7a0f7jZOwGNWS07wCKVqxyiImJUX6xcIwKw=</td><td>1</td><td> 0</td><td>      </td><td>11</td><td>20110915</td></tr>\n",
       "\t<tr><td>9bzDeJP6sQodK73K5CBlJ6fgIQzPeLnRl0p5B77XP+g=</td><td>1</td><td> 0</td><td>      </td><td>11</td><td>20110915</td></tr>\n",
       "\t<tr><td>WFLY3s7z4EZsieHCt63XrsdtfTEmJ+2PnnKLH5GY4Tk=</td><td>6</td><td>32</td><td>female</td><td> 9</td><td>20110915</td></tr>\n",
       "\t<tr><td>yLkV2gbZ4GLFwqTOXLVHz0VGrMYcgBGgKZ3kj9RiYu8=</td><td>4</td><td>30</td><td>male  </td><td> 9</td><td>20110916</td></tr>\n",
       "</tbody>\n",
       "</table>\n"
      ],
      "text/latex": [
       "A data.table: 6 × 6\n",
       "\\begin{tabular}{llllll}\n",
       " msno & city & bd & gender & registered\\_via & registration\\_init\\_time\\\\\n",
       " <chr> & <int> & <int> & <chr> & <int> & <int>\\\\\n",
       "\\hline\n",
       "\t Rb9UwLQTrxzBVwCB6+bCcSQWZ9JiNLC9dXtM1oEsZA8= & 1 &  0 &        & 11 & 20110911\\\\\n",
       "\t +tJonkh+O1CA796Fm5X60UMOtB6POHAwPjbTRVl/EuU= & 1 &  0 &        &  7 & 20110914\\\\\n",
       "\t cV358ssn7a0f7jZOwGNWS07wCKVqxyiImJUX6xcIwKw= & 1 &  0 &        & 11 & 20110915\\\\\n",
       "\t 9bzDeJP6sQodK73K5CBlJ6fgIQzPeLnRl0p5B77XP+g= & 1 &  0 &        & 11 & 20110915\\\\\n",
       "\t WFLY3s7z4EZsieHCt63XrsdtfTEmJ+2PnnKLH5GY4Tk= & 6 & 32 & female &  9 & 20110915\\\\\n",
       "\t yLkV2gbZ4GLFwqTOXLVHz0VGrMYcgBGgKZ3kj9RiYu8= & 4 & 30 & male   &  9 & 20110916\\\\\n",
       "\\end{tabular}\n"
      ],
      "text/markdown": [
       "\n",
       "A data.table: 6 × 6\n",
       "\n",
       "| msno &lt;chr&gt; | city &lt;int&gt; | bd &lt;int&gt; | gender &lt;chr&gt; | registered_via &lt;int&gt; | registration_init_time &lt;int&gt; |\n",
       "|---|---|---|---|---|---|\n",
       "| Rb9UwLQTrxzBVwCB6+bCcSQWZ9JiNLC9dXtM1oEsZA8= | 1 |  0 | <!----> | 11 | 20110911 |\n",
       "| +tJonkh+O1CA796Fm5X60UMOtB6POHAwPjbTRVl/EuU= | 1 |  0 | <!----> |  7 | 20110914 |\n",
       "| cV358ssn7a0f7jZOwGNWS07wCKVqxyiImJUX6xcIwKw= | 1 |  0 | <!----> | 11 | 20110915 |\n",
       "| 9bzDeJP6sQodK73K5CBlJ6fgIQzPeLnRl0p5B77XP+g= | 1 |  0 | <!----> | 11 | 20110915 |\n",
       "| WFLY3s7z4EZsieHCt63XrsdtfTEmJ+2PnnKLH5GY4Tk= | 6 | 32 | female |  9 | 20110915 |\n",
       "| yLkV2gbZ4GLFwqTOXLVHz0VGrMYcgBGgKZ3kj9RiYu8= | 4 | 30 | male   |  9 | 20110916 |\n",
       "\n"
      ],
      "text/plain": [
       "  msno                                         city bd gender registered_via\n",
       "1 Rb9UwLQTrxzBVwCB6+bCcSQWZ9JiNLC9dXtM1oEsZA8= 1     0        11            \n",
       "2 +tJonkh+O1CA796Fm5X60UMOtB6POHAwPjbTRVl/EuU= 1     0         7            \n",
       "3 cV358ssn7a0f7jZOwGNWS07wCKVqxyiImJUX6xcIwKw= 1     0        11            \n",
       "4 9bzDeJP6sQodK73K5CBlJ6fgIQzPeLnRl0p5B77XP+g= 1     0        11            \n",
       "5 WFLY3s7z4EZsieHCt63XrsdtfTEmJ+2PnnKLH5GY4Tk= 6    32 female  9            \n",
       "6 yLkV2gbZ4GLFwqTOXLVHz0VGrMYcgBGgKZ3kj9RiYu8= 4    30 male    9            \n",
       "  registration_init_time\n",
       "1 20110911              \n",
       "2 20110914              \n",
       "3 20110915              \n",
       "4 20110915              \n",
       "5 20110915              \n",
       "6 20110916              "
      ]
     },
     "metadata": {},
     "output_type": "display_data"
    }
   ],
   "source": [
    "members <- fread(paste0(folder,'members_v3.csv'))\n",
    "\n",
    "head(members)"
   ]
  },
  {
   "cell_type": "code",
   "execution_count": 5,
   "metadata": {},
   "outputs": [
    {
     "data": {
      "text/html": [
       "<ol class=list-inline>\n",
       "\t<li>6769473</li>\n",
       "\t<li>6</li>\n",
       "</ol>\n"
      ],
      "text/latex": [
       "\\begin{enumerate*}\n",
       "\\item 6769473\n",
       "\\item 6\n",
       "\\end{enumerate*}\n"
      ],
      "text/markdown": [
       "1. 6769473\n",
       "2. 6\n",
       "\n",
       "\n"
      ],
      "text/plain": [
       "[1] 6769473       6"
      ]
     },
     "metadata": {},
     "output_type": "display_data"
    }
   ],
   "source": [
    "#Checking rows and duplicates\n",
    "\n",
    "dim(members)#6,769,473 users = rows\n",
    "#length(unique(members$msno))"
   ]
  },
  {
   "cell_type": "code",
   "execution_count": 6,
   "metadata": {},
   "outputs": [
    {
     "data": {
      "text/plain": [
       "     msno                city              bd               gender         \n",
       " Length:6769473     Min.   : 1.000   Min.   :-7168.000   Length:6769473    \n",
       " Class :character   1st Qu.: 1.000   1st Qu.:    0.000   Class :character  \n",
       " Mode  :character   Median : 1.000   Median :    0.000   Mode  :character  \n",
       "                    Mean   : 3.847   Mean   :    9.796                     \n",
       "                    3rd Qu.: 4.000   3rd Qu.:   21.000                     \n",
       "                    Max.   :22.000   Max.   : 2016.000                     \n",
       " registered_via   registration_init_time\n",
       " Min.   :-1.000   Min.   :20040326      \n",
       " 1st Qu.: 4.000   1st Qu.:20140422      \n",
       " Median : 4.000   Median :20151010      \n",
       " Mean   : 5.253   Mean   :20145176      \n",
       " 3rd Qu.: 7.000   3rd Qu.:20160604      \n",
       " Max.   :19.000   Max.   :20170429      "
      ]
     },
     "metadata": {},
     "output_type": "display_data"
    }
   ],
   "source": [
    "#Checking overall values, bd seems to have outliers, registration_init_time is in the wrong format\n",
    "summary(members)"
   ]
  },
  {
   "cell_type": "code",
   "execution_count": 7,
   "metadata": {},
   "outputs": [
    {
     "data": {
      "text/html": [
       "<dl class=dl-horizontal>\n",
       "\t<dt>msno</dt>\n",
       "\t\t<dd>0</dd>\n",
       "\t<dt>city</dt>\n",
       "\t\t<dd>0</dd>\n",
       "\t<dt>bd</dt>\n",
       "\t\t<dd>0</dd>\n",
       "\t<dt>gender</dt>\n",
       "\t\t<dd>4429505</dd>\n",
       "\t<dt>registered_via</dt>\n",
       "\t\t<dd>0</dd>\n",
       "\t<dt>registration_init_time</dt>\n",
       "\t\t<dd>0</dd>\n",
       "</dl>\n"
      ],
      "text/latex": [
       "\\begin{description*}\n",
       "\\item[msno] 0\n",
       "\\item[city] 0\n",
       "\\item[bd] 0\n",
       "\\item[gender] 4429505\n",
       "\\item[registered\\textbackslash{}\\_via] 0\n",
       "\\item[registration\\textbackslash{}\\_init\\textbackslash{}\\_time] 0\n",
       "\\end{description*}\n"
      ],
      "text/markdown": [
       "msno\n",
       ":   0city\n",
       ":   0bd\n",
       ":   0gender\n",
       ":   4429505registered_via\n",
       ":   0registration_init_time\n",
       ":   0\n",
       "\n"
      ],
      "text/plain": [
       "                  msno                   city                     bd \n",
       "                     0                      0                      0 \n",
       "                gender         registered_via registration_init_time \n",
       "               4429505                      0                      0 "
      ]
     },
     "metadata": {},
     "output_type": "display_data"
    }
   ],
   "source": [
    "#Looking for empty rows\n",
    "\n",
    "#sapply(members, function(x) sum(is.na(x)))\n",
    "sapply(members, function(x) sum(x==\"\")) #65% empty gender: fill in with 'unknown' to create dummy variable"
   ]
  },
  {
   "cell_type": "code",
   "execution_count": 8,
   "metadata": {},
   "outputs": [
    {
     "data": {
      "text/html": [
       "<ol class=list-inline>\n",
       "\t<li>'unknown'</li>\n",
       "\t<li>'female'</li>\n",
       "\t<li>'male'</li>\n",
       "</ol>\n"
      ],
      "text/latex": [
       "\\begin{enumerate*}\n",
       "\\item 'unknown'\n",
       "\\item 'female'\n",
       "\\item 'male'\n",
       "\\end{enumerate*}\n"
      ],
      "text/markdown": [
       "1. 'unknown'\n",
       "2. 'female'\n",
       "3. 'male'\n",
       "\n",
       "\n"
      ],
      "text/plain": [
       "[1] \"unknown\" \"female\"  \"male\"   "
      ]
     },
     "metadata": {},
     "output_type": "display_data"
    }
   ],
   "source": [
    "#fill in with 'unknown' to later create dummy variable\n",
    "members$gender <- case_when(members$gender == \"\" ~ \"unknown\",  TRUE ~ as.character(members$gender))\n",
    "unique(members$gender)"
   ]
  },
  {
   "cell_type": "code",
   "execution_count": 9,
   "metadata": {},
   "outputs": [
    {
     "data": {
      "text/html": [
       "<ol class=list-inline>\n",
       "\t<li>11</li>\n",
       "\t<li>7</li>\n",
       "\t<li>9</li>\n",
       "\t<li>3</li>\n",
       "\t<li>16</li>\n",
       "\t<li>4</li>\n",
       "\t<li>13</li>\n",
       "\t<li>17</li>\n",
       "\t<li>5</li>\n",
       "\t<li>2</li>\n",
       "\t<li>19</li>\n",
       "\t<li>8</li>\n",
       "\t<li>6</li>\n",
       "\t<li>14</li>\n",
       "\t<li>1</li>\n",
       "\t<li>18</li>\n",
       "\t<li>10</li>\n",
       "\t<li>-1</li>\n",
       "</ol>\n"
      ],
      "text/latex": [
       "\\begin{enumerate*}\n",
       "\\item 11\n",
       "\\item 7\n",
       "\\item 9\n",
       "\\item 3\n",
       "\\item 16\n",
       "\\item 4\n",
       "\\item 13\n",
       "\\item 17\n",
       "\\item 5\n",
       "\\item 2\n",
       "\\item 19\n",
       "\\item 8\n",
       "\\item 6\n",
       "\\item 14\n",
       "\\item 1\n",
       "\\item 18\n",
       "\\item 10\n",
       "\\item -1\n",
       "\\end{enumerate*}\n"
      ],
      "text/markdown": [
       "1. 11\n",
       "2. 7\n",
       "3. 9\n",
       "4. 3\n",
       "5. 16\n",
       "6. 4\n",
       "7. 13\n",
       "8. 17\n",
       "9. 5\n",
       "10. 2\n",
       "11. 19\n",
       "12. 8\n",
       "13. 6\n",
       "14. 14\n",
       "15. 1\n",
       "16. 18\n",
       "17. 10\n",
       "18. -1\n",
       "\n",
       "\n"
      ],
      "text/plain": [
       " [1] 11  7  9  3 16  4 13 17  5  2 19  8  6 14  1 18 10 -1"
      ]
     },
     "metadata": {},
     "output_type": "display_data"
    }
   ],
   "source": [
    "unique(members$registered_via) #18 unique values, possible dummy encoding or woe binning"
   ]
  },
  {
   "cell_type": "code",
   "execution_count": 10,
   "metadata": {},
   "outputs": [
    {
     "data": {
      "text/html": [
       "<ol class=list-inline>\n",
       "\t<li>1</li>\n",
       "\t<li>6</li>\n",
       "\t<li>4</li>\n",
       "\t<li>5</li>\n",
       "\t<li>13</li>\n",
       "\t<li>22</li>\n",
       "\t<li>12</li>\n",
       "\t<li>15</li>\n",
       "\t<li>11</li>\n",
       "\t<li>9</li>\n",
       "\t<li>14</li>\n",
       "\t<li>8</li>\n",
       "\t<li>18</li>\n",
       "\t<li>21</li>\n",
       "\t<li>3</li>\n",
       "\t<li>7</li>\n",
       "\t<li>17</li>\n",
       "\t<li>10</li>\n",
       "\t<li>20</li>\n",
       "\t<li>16</li>\n",
       "\t<li>19</li>\n",
       "</ol>\n"
      ],
      "text/latex": [
       "\\begin{enumerate*}\n",
       "\\item 1\n",
       "\\item 6\n",
       "\\item 4\n",
       "\\item 5\n",
       "\\item 13\n",
       "\\item 22\n",
       "\\item 12\n",
       "\\item 15\n",
       "\\item 11\n",
       "\\item 9\n",
       "\\item 14\n",
       "\\item 8\n",
       "\\item 18\n",
       "\\item 21\n",
       "\\item 3\n",
       "\\item 7\n",
       "\\item 17\n",
       "\\item 10\n",
       "\\item 20\n",
       "\\item 16\n",
       "\\item 19\n",
       "\\end{enumerate*}\n"
      ],
      "text/markdown": [
       "1. 1\n",
       "2. 6\n",
       "3. 4\n",
       "4. 5\n",
       "5. 13\n",
       "6. 22\n",
       "7. 12\n",
       "8. 15\n",
       "9. 11\n",
       "10. 9\n",
       "11. 14\n",
       "12. 8\n",
       "13. 18\n",
       "14. 21\n",
       "15. 3\n",
       "16. 7\n",
       "17. 17\n",
       "18. 10\n",
       "19. 20\n",
       "20. 16\n",
       "21. 19\n",
       "\n",
       "\n"
      ],
      "text/plain": [
       " [1]  1  6  4  5 13 22 12 15 11  9 14  8 18 21  3  7 17 10 20 16 19"
      ]
     },
     "metadata": {},
     "output_type": "display_data"
    }
   ],
   "source": [
    "unique(members$city) #21 unique values"
   ]
  },
  {
   "cell_type": "code",
   "execution_count": 11,
   "metadata": {},
   "outputs": [
    {
     "data": {
      "image/png": "[encoded data removed]",
      "text/plain": [
       "plot without title"
      ]
     },
     "metadata": {
      "image/png": {
       "height": 420,
       "width": 420
      },
      "text/plain": {
       "height": 420,
       "width": 420
      }
     },
     "output_type": "display_data"
    }
   ],
   "source": [
    "boxplot(members$bd) #several outliers and values that don't make sense"
   ]
  },
  {
   "cell_type": "code",
   "execution_count": 12,
   "metadata": {},
   "outputs": [],
   "source": [
    "#flagging possible error values, based on https://report.twnic.tw/2018/TWNIC_TaiwanInternetReport_2018_EN.pdf\n",
    "members$bd_flag <- ifelse(members$bd<12 | members$bd>65,1,0)"
   ]
  },
  {
   "cell_type": "code",
   "execution_count": 13,
   "metadata": {},
   "outputs": [
    {
     "data": {
      "text/html": [
       "<dl class=dl-horizontal>\n",
       "\t<dt>1%</dt>\n",
       "\t\t<dd>0</dd>\n",
       "\t<dt>68%</dt>\n",
       "\t\t<dd>16</dd>\n",
       "\t<dt>99%</dt>\n",
       "\t\t<dd>54</dd>\n",
       "</dl>\n"
      ],
      "text/latex": [
       "\\begin{description*}\n",
       "\\item[1\\textbackslash{}\\%] 0\n",
       "\\item[68\\textbackslash{}\\%] 16\n",
       "\\item[99\\textbackslash{}\\%] 54\n",
       "\\end{description*}\n"
      ],
      "text/markdown": [
       "1%\n",
       ":   068%\n",
       ":   1699%\n",
       ":   54\n",
       "\n"
      ],
      "text/plain": [
       " 1% 68% 99% \n",
       "  0  16  54 "
      ]
     },
     "metadata": {},
     "output_type": "display_data"
    },
    {
     "data": {
      "image/png": "[encoded data removed]",
      "text/plain": [
       "Plot with title \"Histogram of members[(members$bd > 0) & (members$bd < 54)]$bd\""
      ]
     },
     "metadata": {
      "image/png": {
       "height": 420,
       "width": 420
      },
      "text/plain": {
       "height": 420,
       "width": 420
      }
     },
     "output_type": "display_data"
    }
   ],
   "source": [
    "quantile(members$bd, c(.01, .68, .99)) \n",
    "#winsorizing hist, even though 0 is not really a valid age, only at 68% do we see a valid age (16) appear\n",
    "hist(members[(members$bd>0)&(members$bd<54)]$bd) "
   ]
  },
  {
   "cell_type": "code",
   "execution_count": 14,
   "metadata": {},
   "outputs": [],
   "source": [
    "members$bd <- case_when(members$bd < 0 ~ 0,\n",
    "                        members$bd > 54 ~ 54,\n",
    "                        TRUE ~ as.numeric(members$bd))"
   ]
  },
  {
   "cell_type": "code",
   "execution_count": 15,
   "metadata": {},
   "outputs": [
    {
     "data": {
      "text/plain": [
       "   Min. 1st Qu.  Median    Mean 3rd Qu.    Max. \n",
       "  0.000   0.000   0.000   9.656  21.000  54.000 "
      ]
     },
     "metadata": {},
     "output_type": "display_data"
    }
   ],
   "source": [
    "summary(members$bd)"
   ]
  },
  {
   "cell_type": "code",
   "execution_count": 16,
   "metadata": {},
   "outputs": [],
   "source": [
    "members$registration_init_time <- ymd(members$registration_init_time) #using lubridate to format date"
   ]
  },
  {
   "cell_type": "code",
   "execution_count": 26,
   "metadata": {},
   "outputs": [],
   "source": [
    "max_reg <- max(members$registration_init_time) #last registration: 2017-04-29"
   ]
  },
  {
   "cell_type": "code",
   "execution_count": 37,
   "metadata": {},
   "outputs": [],
   "source": [
    "#distance to last registration (how long has a user been with kkbox)\n",
    "members$reg_time <- as.numeric(max_reg - members$registration_init_time) "
   ]
  },
  {
   "cell_type": "code",
   "execution_count": 17,
   "metadata": {},
   "outputs": [],
   "source": [
    "members$registration_year <- year(members$registration_init_time)"
   ]
  },
  {
   "cell_type": "code",
   "execution_count": 24,
   "metadata": {},
   "outputs": [
    {
     "data": {
      "text/html": [
       "<ol class=list-inline>\n",
       "\t<li>2011</li>\n",
       "\t<li>2014</li>\n",
       "\t<li>2016</li>\n",
       "\t<li>2017</li>\n",
       "\t<li>2006</li>\n",
       "\t<li>2007</li>\n",
       "\t<li>2008</li>\n",
       "\t<li>2009</li>\n",
       "\t<li>2015</li>\n",
       "\t<li>2013</li>\n",
       "\t<li>2010</li>\n",
       "\t<li>2012</li>\n",
       "\t<li>2005</li>\n",
       "\t<li>2004</li>\n",
       "</ol>\n"
      ],
      "text/latex": [
       "\\begin{enumerate*}\n",
       "\\item 2011\n",
       "\\item 2014\n",
       "\\item 2016\n",
       "\\item 2017\n",
       "\\item 2006\n",
       "\\item 2007\n",
       "\\item 2008\n",
       "\\item 2009\n",
       "\\item 2015\n",
       "\\item 2013\n",
       "\\item 2010\n",
       "\\item 2012\n",
       "\\item 2005\n",
       "\\item 2004\n",
       "\\end{enumerate*}\n"
      ],
      "text/markdown": [
       "1. 2011\n",
       "2. 2014\n",
       "3. 2016\n",
       "4. 2017\n",
       "5. 2006\n",
       "6. 2007\n",
       "7. 2008\n",
       "8. 2009\n",
       "9. 2015\n",
       "10. 2013\n",
       "11. 2010\n",
       "12. 2012\n",
       "13. 2005\n",
       "14. 2004\n",
       "\n",
       "\n"
      ],
      "text/plain": [
       " [1] 2011 2014 2016 2017 2006 2007 2008 2009 2015 2013 2010 2012 2005 2004"
      ]
     },
     "metadata": {},
     "output_type": "display_data"
    }
   ],
   "source": [
    "unique(members$registration_year) #14 unique values"
   ]
  },
  {
   "cell_type": "code",
   "execution_count": 18,
   "metadata": {},
   "outputs": [],
   "source": [
    "members$registration_month <- month(members$registration_init_time)"
   ]
  },
  {
   "cell_type": "code",
   "execution_count": 35,
   "metadata": {},
   "outputs": [],
   "source": [
    "members$reg_season <- ifelse(members$registration_month %in% c(12,1,2),\"winter\",\n",
    "                            ifelse(members$registration_month %in% c(3,4,5),\"spring\",\n",
    "                                  ifelse(members$registration_month %in% c(6,7,8),\"summer\",\"autumn\")))"
   ]
  },
  {
   "cell_type": "code",
   "execution_count": 20,
   "metadata": {},
   "outputs": [],
   "source": [
    "members$registration_day <- day(members$registration_init_time)"
   ]
  },
  {
   "cell_type": "code",
   "execution_count": 39,
   "metadata": {},
   "outputs": [],
   "source": [
    "members$reg_month_early <- ifelse(members$registration_day<=15,1,0) #if user registered in first 2 weeks of month =1 else 0"
   ]
  },
  {
   "cell_type": "code",
   "execution_count": 46,
   "metadata": {},
   "outputs": [],
   "source": [
    "#'reference': n-1 dummy variables\n",
    "gender <- createDummyFeatures(members$gender, method = 'reference')\n",
    "season <- createDummyFeatures(members$reg_season, method = 'reference')"
   ]
  },
  {
   "cell_type": "code",
   "execution_count": 56,
   "metadata": {},
   "outputs": [],
   "source": [
    "members$reg_spring <- season['spring']\n",
    "members$reg_summer <- season['summer']\n",
    "members$reg_winter <- season['winter']\n",
    "members$gender_male <- gender['male']\n",
    "members$gender_unknown <- gender['unknown']"
   ]
  },
  {
   "cell_type": "code",
   "execution_count": 53,
   "metadata": {},
   "outputs": [],
   "source": [
    "members$registration_init_time <- NULL\n",
    "members$reg_season <- NULL\n",
    "members$gender <- NULL\n",
    "gender <- NULL\n",
    "season <- NULL"
   ]
  },
  {
   "cell_type": "code",
   "execution_count": 57,
   "metadata": {},
   "outputs": [
    {
     "data": {
      "text/html": [
       "<table>\n",
       "<caption>A data.table: 6 × 15</caption>\n",
       "<thead>\n",
       "\t<tr><th scope=col>msno</th><th scope=col>city</th><th scope=col>bd</th><th scope=col>registered_via</th><th scope=col>bd_flag</th><th scope=col>registration_year</th><th scope=col>registration_month</th><th scope=col>registration_day</th><th scope=col>reg_time</th><th scope=col>reg_month_early</th><th scope=col>reg_spring</th><th scope=col>reg_summer</th><th scope=col>reg_winter</th><th scope=col>gender_male</th><th scope=col>gender_unknown</th></tr>\n",
       "\t<tr><th scope=col>&lt;chr&gt;</th><th scope=col>&lt;int&gt;</th><th scope=col>&lt;dbl&gt;</th><th scope=col>&lt;int&gt;</th><th scope=col>&lt;dbl&gt;</th><th scope=col>&lt;dbl&gt;</th><th scope=col>&lt;dbl&gt;</th><th scope=col>&lt;int&gt;</th><th scope=col>&lt;dbl&gt;</th><th scope=col>&lt;dbl&gt;</th><th scope=col>&lt;dbl&gt;</th><th scope=col>&lt;dbl&gt;</th><th scope=col>&lt;dbl&gt;</th><th scope=col>&lt;dbl&gt;</th><th scope=col>&lt;dbl&gt;</th></tr>\n",
       "</thead>\n",
       "<tbody>\n",
       "\t<tr><td>Rb9UwLQTrxzBVwCB6+bCcSQWZ9JiNLC9dXtM1oEsZA8=</td><td>1</td><td> 0</td><td>11</td><td>1</td><td>2011</td><td>9</td><td>11</td><td>2057</td><td>1</td><td>0</td><td>0</td><td>0</td><td>0</td><td>1</td></tr>\n",
       "\t<tr><td>+tJonkh+O1CA796Fm5X60UMOtB6POHAwPjbTRVl/EuU=</td><td>1</td><td> 0</td><td> 7</td><td>1</td><td>2011</td><td>9</td><td>14</td><td>2054</td><td>1</td><td>0</td><td>0</td><td>0</td><td>0</td><td>1</td></tr>\n",
       "\t<tr><td>cV358ssn7a0f7jZOwGNWS07wCKVqxyiImJUX6xcIwKw=</td><td>1</td><td> 0</td><td>11</td><td>1</td><td>2011</td><td>9</td><td>15</td><td>2053</td><td>1</td><td>0</td><td>0</td><td>0</td><td>0</td><td>1</td></tr>\n",
       "\t<tr><td>9bzDeJP6sQodK73K5CBlJ6fgIQzPeLnRl0p5B77XP+g=</td><td>1</td><td> 0</td><td>11</td><td>1</td><td>2011</td><td>9</td><td>15</td><td>2053</td><td>1</td><td>0</td><td>0</td><td>0</td><td>0</td><td>1</td></tr>\n",
       "\t<tr><td>WFLY3s7z4EZsieHCt63XrsdtfTEmJ+2PnnKLH5GY4Tk=</td><td>6</td><td>32</td><td> 9</td><td>0</td><td>2011</td><td>9</td><td>15</td><td>2053</td><td>1</td><td>0</td><td>0</td><td>0</td><td>0</td><td>0</td></tr>\n",
       "\t<tr><td>yLkV2gbZ4GLFwqTOXLVHz0VGrMYcgBGgKZ3kj9RiYu8=</td><td>4</td><td>30</td><td> 9</td><td>0</td><td>2011</td><td>9</td><td>16</td><td>2052</td><td>0</td><td>0</td><td>0</td><td>0</td><td>1</td><td>0</td></tr>\n",
       "</tbody>\n",
       "</table>\n"
      ],
      "text/latex": [
       "A data.table: 6 × 15\n",
       "\\begin{tabular}{lllllllllllllll}\n",
       " msno & city & bd & registered\\_via & bd\\_flag & registration\\_year & registration\\_month & registration\\_day & reg\\_time & reg\\_month\\_early & reg\\_spring & reg\\_summer & reg\\_winter & gender\\_male & gender\\_unknown\\\\\n",
       " <chr> & <int> & <dbl> & <int> & <dbl> & <dbl> & <dbl> & <int> & <dbl> & <dbl> & <dbl> & <dbl> & <dbl> & <dbl> & <dbl>\\\\\n",
       "\\hline\n",
       "\t Rb9UwLQTrxzBVwCB6+bCcSQWZ9JiNLC9dXtM1oEsZA8= & 1 &  0 & 11 & 1 & 2011 & 9 & 11 & 2057 & 1 & 0 & 0 & 0 & 0 & 1\\\\\n",
       "\t +tJonkh+O1CA796Fm5X60UMOtB6POHAwPjbTRVl/EuU= & 1 &  0 &  7 & 1 & 2011 & 9 & 14 & 2054 & 1 & 0 & 0 & 0 & 0 & 1\\\\\n",
       "\t cV358ssn7a0f7jZOwGNWS07wCKVqxyiImJUX6xcIwKw= & 1 &  0 & 11 & 1 & 2011 & 9 & 15 & 2053 & 1 & 0 & 0 & 0 & 0 & 1\\\\\n",
       "\t 9bzDeJP6sQodK73K5CBlJ6fgIQzPeLnRl0p5B77XP+g= & 1 &  0 & 11 & 1 & 2011 & 9 & 15 & 2053 & 1 & 0 & 0 & 0 & 0 & 1\\\\\n",
       "\t WFLY3s7z4EZsieHCt63XrsdtfTEmJ+2PnnKLH5GY4Tk= & 6 & 32 &  9 & 0 & 2011 & 9 & 15 & 2053 & 1 & 0 & 0 & 0 & 0 & 0\\\\\n",
       "\t yLkV2gbZ4GLFwqTOXLVHz0VGrMYcgBGgKZ3kj9RiYu8= & 4 & 30 &  9 & 0 & 2011 & 9 & 16 & 2052 & 0 & 0 & 0 & 0 & 1 & 0\\\\\n",
       "\\end{tabular}\n"
      ],
      "text/markdown": [
       "\n",
       "A data.table: 6 × 15\n",
       "\n",
       "| msno &lt;chr&gt; | city &lt;int&gt; | bd &lt;dbl&gt; | registered_via &lt;int&gt; | bd_flag &lt;dbl&gt; | registration_year &lt;dbl&gt; | registration_month &lt;dbl&gt; | registration_day &lt;int&gt; | reg_time &lt;dbl&gt; | reg_month_early &lt;dbl&gt; | reg_spring &lt;dbl&gt; | reg_summer &lt;dbl&gt; | reg_winter &lt;dbl&gt; | gender_male &lt;dbl&gt; | gender_unknown &lt;dbl&gt; |\n",
       "|---|---|---|---|---|---|---|---|---|---|---|---|---|---|---|\n",
       "| Rb9UwLQTrxzBVwCB6+bCcSQWZ9JiNLC9dXtM1oEsZA8= | 1 |  0 | 11 | 1 | 2011 | 9 | 11 | 2057 | 1 | 0 | 0 | 0 | 0 | 1 |\n",
       "| +tJonkh+O1CA796Fm5X60UMOtB6POHAwPjbTRVl/EuU= | 1 |  0 |  7 | 1 | 2011 | 9 | 14 | 2054 | 1 | 0 | 0 | 0 | 0 | 1 |\n",
       "| cV358ssn7a0f7jZOwGNWS07wCKVqxyiImJUX6xcIwKw= | 1 |  0 | 11 | 1 | 2011 | 9 | 15 | 2053 | 1 | 0 | 0 | 0 | 0 | 1 |\n",
       "| 9bzDeJP6sQodK73K5CBlJ6fgIQzPeLnRl0p5B77XP+g= | 1 |  0 | 11 | 1 | 2011 | 9 | 15 | 2053 | 1 | 0 | 0 | 0 | 0 | 1 |\n",
       "| WFLY3s7z4EZsieHCt63XrsdtfTEmJ+2PnnKLH5GY4Tk= | 6 | 32 |  9 | 0 | 2011 | 9 | 15 | 2053 | 1 | 0 | 0 | 0 | 0 | 0 |\n",
       "| yLkV2gbZ4GLFwqTOXLVHz0VGrMYcgBGgKZ3kj9RiYu8= | 4 | 30 |  9 | 0 | 2011 | 9 | 16 | 2052 | 0 | 0 | 0 | 0 | 1 | 0 |\n",
       "\n"
      ],
      "text/plain": [
       "  msno                                         city bd registered_via bd_flag\n",
       "1 Rb9UwLQTrxzBVwCB6+bCcSQWZ9JiNLC9dXtM1oEsZA8= 1     0 11             1      \n",
       "2 +tJonkh+O1CA796Fm5X60UMOtB6POHAwPjbTRVl/EuU= 1     0  7             1      \n",
       "3 cV358ssn7a0f7jZOwGNWS07wCKVqxyiImJUX6xcIwKw= 1     0 11             1      \n",
       "4 9bzDeJP6sQodK73K5CBlJ6fgIQzPeLnRl0p5B77XP+g= 1     0 11             1      \n",
       "5 WFLY3s7z4EZsieHCt63XrsdtfTEmJ+2PnnKLH5GY4Tk= 6    32  9             0      \n",
       "6 yLkV2gbZ4GLFwqTOXLVHz0VGrMYcgBGgKZ3kj9RiYu8= 4    30  9             0      \n",
       "  registration_year registration_month registration_day reg_time\n",
       "1 2011              9                  11               2057    \n",
       "2 2011              9                  14               2054    \n",
       "3 2011              9                  15               2053    \n",
       "4 2011              9                  15               2053    \n",
       "5 2011              9                  15               2053    \n",
       "6 2011              9                  16               2052    \n",
       "  reg_month_early reg_spring reg_summer reg_winter gender_male gender_unknown\n",
       "1 1               0          0          0          0           1             \n",
       "2 1               0          0          0          0           1             \n",
       "3 1               0          0          0          0           1             \n",
       "4 1               0          0          0          0           1             \n",
       "5 1               0          0          0          0           0             \n",
       "6 0               0          0          0          1           0             "
      ]
     },
     "metadata": {},
     "output_type": "display_data"
    }
   ],
   "source": [
    "#final table output\n",
    "head(members)"
   ]
  },
  {
   "cell_type": "markdown",
   "metadata": {},
   "source": [
    "#### Train"
   ]
  },
  {
   "cell_type": "code",
   "execution_count": 58,
   "metadata": {
    "scrolled": true
   },
   "outputs": [
    {
     "data": {
      "text/html": [
       "<table>\n",
       "<caption>A data.table: 6 × 2</caption>\n",
       "<thead>\n",
       "\t<tr><th scope=col>msno</th><th scope=col>is_churn</th></tr>\n",
       "\t<tr><th scope=col>&lt;chr&gt;</th><th scope=col>&lt;int&gt;</th></tr>\n",
       "</thead>\n",
       "<tbody>\n",
       "\t<tr><td>waLDQMmcOu2jLDaV1ddDkgCrB/jl6sD66Xzs0Vqax1Y=</td><td>1</td></tr>\n",
       "\t<tr><td>QA7uiXy8vIbUSPOkCf9RwQ3FsT8jVq2OxDr8zqa7bRQ=</td><td>1</td></tr>\n",
       "\t<tr><td>fGwBva6hikQmTJzrbz/2Ezjm5Cth5jZUNvXigKK2AFA=</td><td>1</td></tr>\n",
       "\t<tr><td>mT5V8rEpa+8wuqi6x0DoVd3H5icMKkE9Prt49UlmK+4=</td><td>1</td></tr>\n",
       "\t<tr><td>XaPhtGLk/5UvvOYHcONTwsnH97P4eGECeq+BARGItRw=</td><td>1</td></tr>\n",
       "\t<tr><td>GBy8qSz16X5iYWD+3CMxv/Hm6OPSrXBYtmbnlRtknW0=</td><td>1</td></tr>\n",
       "</tbody>\n",
       "</table>\n"
      ],
      "text/latex": [
       "A data.table: 6 × 2\n",
       "\\begin{tabular}{ll}\n",
       " msno & is\\_churn\\\\\n",
       " <chr> & <int>\\\\\n",
       "\\hline\n",
       "\t waLDQMmcOu2jLDaV1ddDkgCrB/jl6sD66Xzs0Vqax1Y= & 1\\\\\n",
       "\t QA7uiXy8vIbUSPOkCf9RwQ3FsT8jVq2OxDr8zqa7bRQ= & 1\\\\\n",
       "\t fGwBva6hikQmTJzrbz/2Ezjm5Cth5jZUNvXigKK2AFA= & 1\\\\\n",
       "\t mT5V8rEpa+8wuqi6x0DoVd3H5icMKkE9Prt49UlmK+4= & 1\\\\\n",
       "\t XaPhtGLk/5UvvOYHcONTwsnH97P4eGECeq+BARGItRw= & 1\\\\\n",
       "\t GBy8qSz16X5iYWD+3CMxv/Hm6OPSrXBYtmbnlRtknW0= & 1\\\\\n",
       "\\end{tabular}\n"
      ],
      "text/markdown": [
       "\n",
       "A data.table: 6 × 2\n",
       "\n",
       "| msno &lt;chr&gt; | is_churn &lt;int&gt; |\n",
       "|---|---|\n",
       "| waLDQMmcOu2jLDaV1ddDkgCrB/jl6sD66Xzs0Vqax1Y= | 1 |\n",
       "| QA7uiXy8vIbUSPOkCf9RwQ3FsT8jVq2OxDr8zqa7bRQ= | 1 |\n",
       "| fGwBva6hikQmTJzrbz/2Ezjm5Cth5jZUNvXigKK2AFA= | 1 |\n",
       "| mT5V8rEpa+8wuqi6x0DoVd3H5icMKkE9Prt49UlmK+4= | 1 |\n",
       "| XaPhtGLk/5UvvOYHcONTwsnH97P4eGECeq+BARGItRw= | 1 |\n",
       "| GBy8qSz16X5iYWD+3CMxv/Hm6OPSrXBYtmbnlRtknW0= | 1 |\n",
       "\n"
      ],
      "text/plain": [
       "  msno                                         is_churn\n",
       "1 waLDQMmcOu2jLDaV1ddDkgCrB/jl6sD66Xzs0Vqax1Y= 1       \n",
       "2 QA7uiXy8vIbUSPOkCf9RwQ3FsT8jVq2OxDr8zqa7bRQ= 1       \n",
       "3 fGwBva6hikQmTJzrbz/2Ezjm5Cth5jZUNvXigKK2AFA= 1       \n",
       "4 mT5V8rEpa+8wuqi6x0DoVd3H5icMKkE9Prt49UlmK+4= 1       \n",
       "5 XaPhtGLk/5UvvOYHcONTwsnH97P4eGECeq+BARGItRw= 1       \n",
       "6 GBy8qSz16X5iYWD+3CMxv/Hm6OPSrXBYtmbnlRtknW0= 1       "
      ]
     },
     "metadata": {},
     "output_type": "display_data"
    }
   ],
   "source": [
    "train <- fread(paste0(folder,'train.csv')) #churn info for February\n",
    "#train_v2 <- fread(paste0(folder,'train_v2.csv')) #previous test.csv which contains the churn info for March\n",
    "\n",
    "train <- rbind(train,fread(paste0(folder,'train_v2.csv')))\n",
    "head(train)"
   ]
  },
  {
   "cell_type": "code",
   "execution_count": null,
   "metadata": {},
   "outputs": [],
   "source": [
    "dim(train)#970,960 users = rows"
   ]
  },
  {
   "cell_type": "code",
   "execution_count": null,
   "metadata": {},
   "outputs": [],
   "source": [
    "summary(train)"
   ]
  },
  {
   "cell_type": "markdown",
   "metadata": {},
   "source": [
    "#### Transactions"
   ]
  },
  {
   "cell_type": "code",
   "execution_count": 6,
   "metadata": {},
   "outputs": [
    {
     "data": {
      "text/html": [
       "<table>\n",
       "<caption>A data.table: 6 × 9</caption>\n",
       "<thead>\n",
       "\t<tr><th scope=col>msno</th><th scope=col>payment_method_id</th><th scope=col>payment_plan_days</th><th scope=col>plan_list_price</th><th scope=col>actual_amount_paid</th><th scope=col>is_auto_renew</th><th scope=col>transaction_date</th><th scope=col>membership_expire_date</th><th scope=col>is_cancel</th></tr>\n",
       "\t<tr><th scope=col>&lt;chr&gt;</th><th scope=col>&lt;int&gt;</th><th scope=col>&lt;int&gt;</th><th scope=col>&lt;int&gt;</th><th scope=col>&lt;int&gt;</th><th scope=col>&lt;int&gt;</th><th scope=col>&lt;int&gt;</th><th scope=col>&lt;int&gt;</th><th scope=col>&lt;int&gt;</th></tr>\n",
       "</thead>\n",
       "<tbody>\n",
       "\t<tr><td>YyO+tlZtAXYXoZhNr3Vg3+dfVQvrBVGO8j1mfqe4ZHc=</td><td>41</td><td>30</td><td>129</td><td>129</td><td>1</td><td>20150930</td><td>20151101</td><td>0</td></tr>\n",
       "\t<tr><td>AZtu6Wl0gPojrEQYB8Q3vBSmE2wnZ3hi1FbK1rQQ0A4=</td><td>41</td><td>30</td><td>149</td><td>149</td><td>1</td><td>20150930</td><td>20151031</td><td>0</td></tr>\n",
       "\t<tr><td>UkDFI97Qb6+s2LWcijVVv4rMAsORbVDT2wNXF0aVbns=</td><td>41</td><td>30</td><td>129</td><td>129</td><td>1</td><td>20150930</td><td>20160427</td><td>0</td></tr>\n",
       "\t<tr><td>M1C56ijxozNaGD0t2h68PnH2xtx5iO5iR2MVYQB6nBI=</td><td>39</td><td>30</td><td>149</td><td>149</td><td>1</td><td>20150930</td><td>20151128</td><td>0</td></tr>\n",
       "\t<tr><td>yvj6zyBUaqdbUQSrKsrZ+xNDVM62knauSZJzakS9OW4=</td><td>39</td><td>30</td><td>149</td><td>149</td><td>1</td><td>20150930</td><td>20151121</td><td>0</td></tr>\n",
       "\t<tr><td>KN7I82kjY0Tn76Ny95ncqBUVbO7b8AXrOPqZutKpxIM=</td><td>21</td><td>30</td><td>149</td><td>149</td><td>1</td><td>20150930</td><td>20151107</td><td>0</td></tr>\n",
       "</tbody>\n",
       "</table>\n"
      ],
      "text/latex": [
       "A data.table: 6 × 9\n",
       "\\begin{tabular}{lllllllll}\n",
       " msno & payment\\_method\\_id & payment\\_plan\\_days & plan\\_list\\_price & actual\\_amount\\_paid & is\\_auto\\_renew & transaction\\_date & membership\\_expire\\_date & is\\_cancel\\\\\n",
       " <chr> & <int> & <int> & <int> & <int> & <int> & <int> & <int> & <int>\\\\\n",
       "\\hline\n",
       "\t YyO+tlZtAXYXoZhNr3Vg3+dfVQvrBVGO8j1mfqe4ZHc= & 41 & 30 & 129 & 129 & 1 & 20150930 & 20151101 & 0\\\\\n",
       "\t AZtu6Wl0gPojrEQYB8Q3vBSmE2wnZ3hi1FbK1rQQ0A4= & 41 & 30 & 149 & 149 & 1 & 20150930 & 20151031 & 0\\\\\n",
       "\t UkDFI97Qb6+s2LWcijVVv4rMAsORbVDT2wNXF0aVbns= & 41 & 30 & 129 & 129 & 1 & 20150930 & 20160427 & 0\\\\\n",
       "\t M1C56ijxozNaGD0t2h68PnH2xtx5iO5iR2MVYQB6nBI= & 39 & 30 & 149 & 149 & 1 & 20150930 & 20151128 & 0\\\\\n",
       "\t yvj6zyBUaqdbUQSrKsrZ+xNDVM62knauSZJzakS9OW4= & 39 & 30 & 149 & 149 & 1 & 20150930 & 20151121 & 0\\\\\n",
       "\t KN7I82kjY0Tn76Ny95ncqBUVbO7b8AXrOPqZutKpxIM= & 21 & 30 & 149 & 149 & 1 & 20150930 & 20151107 & 0\\\\\n",
       "\\end{tabular}\n"
      ],
      "text/markdown": [
       "\n",
       "A data.table: 6 × 9\n",
       "\n",
       "| msno &lt;chr&gt; | payment_method_id &lt;int&gt; | payment_plan_days &lt;int&gt; | plan_list_price &lt;int&gt; | actual_amount_paid &lt;int&gt; | is_auto_renew &lt;int&gt; | transaction_date &lt;int&gt; | membership_expire_date &lt;int&gt; | is_cancel &lt;int&gt; |\n",
       "|---|---|---|---|---|---|---|---|---|\n",
       "| YyO+tlZtAXYXoZhNr3Vg3+dfVQvrBVGO8j1mfqe4ZHc= | 41 | 30 | 129 | 129 | 1 | 20150930 | 20151101 | 0 |\n",
       "| AZtu6Wl0gPojrEQYB8Q3vBSmE2wnZ3hi1FbK1rQQ0A4= | 41 | 30 | 149 | 149 | 1 | 20150930 | 20151031 | 0 |\n",
       "| UkDFI97Qb6+s2LWcijVVv4rMAsORbVDT2wNXF0aVbns= | 41 | 30 | 129 | 129 | 1 | 20150930 | 20160427 | 0 |\n",
       "| M1C56ijxozNaGD0t2h68PnH2xtx5iO5iR2MVYQB6nBI= | 39 | 30 | 149 | 149 | 1 | 20150930 | 20151128 | 0 |\n",
       "| yvj6zyBUaqdbUQSrKsrZ+xNDVM62knauSZJzakS9OW4= | 39 | 30 | 149 | 149 | 1 | 20150930 | 20151121 | 0 |\n",
       "| KN7I82kjY0Tn76Ny95ncqBUVbO7b8AXrOPqZutKpxIM= | 21 | 30 | 149 | 149 | 1 | 20150930 | 20151107 | 0 |\n",
       "\n"
      ],
      "text/plain": [
       "  msno                                         payment_method_id\n",
       "1 YyO+tlZtAXYXoZhNr3Vg3+dfVQvrBVGO8j1mfqe4ZHc= 41               \n",
       "2 AZtu6Wl0gPojrEQYB8Q3vBSmE2wnZ3hi1FbK1rQQ0A4= 41               \n",
       "3 UkDFI97Qb6+s2LWcijVVv4rMAsORbVDT2wNXF0aVbns= 41               \n",
       "4 M1C56ijxozNaGD0t2h68PnH2xtx5iO5iR2MVYQB6nBI= 39               \n",
       "5 yvj6zyBUaqdbUQSrKsrZ+xNDVM62knauSZJzakS9OW4= 39               \n",
       "6 KN7I82kjY0Tn76Ny95ncqBUVbO7b8AXrOPqZutKpxIM= 21               \n",
       "  payment_plan_days plan_list_price actual_amount_paid is_auto_renew\n",
       "1 30                129             129                1            \n",
       "2 30                149             149                1            \n",
       "3 30                129             129                1            \n",
       "4 30                149             149                1            \n",
       "5 30                149             149                1            \n",
       "6 30                149             149                1            \n",
       "  transaction_date membership_expire_date is_cancel\n",
       "1 20150930         20151101               0        \n",
       "2 20150930         20151031               0        \n",
       "3 20150930         20160427               0        \n",
       "4 20150930         20151128               0        \n",
       "5 20150930         20151121               0        \n",
       "6 20150930         20151107               0        "
      ]
     },
     "metadata": {},
     "output_type": "display_data"
    }
   ],
   "source": [
    "transactions <- fread(paste0(folder,'transactions.csv'))\n",
    "#transactions_v2 <- fread(paste0(folder,'transactions_v2.csv')) #March transactions\n",
    "\n",
    "transactions <- rbind(transactions,fread(paste0(folder,'transactions_v2.csv')))\n",
    "head(transactions)"
   ]
  },
  {
   "cell_type": "code",
   "execution_count": 10,
   "metadata": {},
   "outputs": [
    {
     "data": {
      "text/html": [
       "<ol class=list-inline>\n",
       "\t<li>22978755</li>\n",
       "\t<li>9</li>\n",
       "</ol>\n"
      ],
      "text/latex": [
       "\\begin{enumerate*}\n",
       "\\item 22978755\n",
       "\\item 9\n",
       "\\end{enumerate*}\n"
      ],
      "text/markdown": [
       "1. 22978755\n",
       "2. 9\n",
       "\n",
       "\n"
      ],
      "text/plain": [
       "[1] 22978755        9"
      ]
     },
     "metadata": {},
     "output_type": "display_data"
    },
    {
     "data": {
      "text/html": [
       "2426143"
      ],
      "text/latex": [
       "2426143"
      ],
      "text/markdown": [
       "2426143"
      ],
      "text/plain": [
       "[1] 2426143"
      ]
     },
     "metadata": {},
     "output_type": "display_data"
    }
   ],
   "source": [
    "#Checking rows and duplicates\n",
    "\n",
    "dim(transactions) #22,978,755 rows\n",
    "#length(unique(transactions$msno)) #2,426,143 unique users -> data must be aggregated"
   ]
  },
  {
   "cell_type": "markdown",
   "metadata": {},
   "source": [
    "### Datamart Creation"
   ]
  }
 ],
 "metadata": {
  "kernelspec": {
   "display_name": "R",
   "language": "R",
   "name": "ir"
  },
  "language_info": {
   "codemirror_mode": "r",
   "file_extension": ".r",
   "mimetype": "text/x-r-source",
   "name": "R",
   "pygments_lexer": "r",
   "version": "3.6.2"
  }
 },
 "nbformat": 4,
 "nbformat_minor": 4
}
